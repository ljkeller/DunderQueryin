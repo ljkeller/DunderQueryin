{
 "cells": [
  {
   "cell_type": "code",
   "execution_count": 6,
   "id": "6352ed5d",
   "metadata": {},
   "outputs": [],
   "source": [
    "from fastai.text.all import *\n",
    "from pathlib import Path\n",
    "\n",
    "pd.options.display.max_rows = 20\n",
    "pd.options.display.max_columns = 8\n",
    "%config InteractiveShell.ast_node_interactivity='last_expr_or_assign'"
   ]
  },
  {
   "cell_type": "code",
   "execution_count": 7,
   "id": "b85ff437",
   "metadata": {},
   "outputs": [
    {
     "data": {
      "text/plain": [
       "'1.13.1+cu117'"
      ]
     },
     "execution_count": 7,
     "metadata": {},
     "output_type": "execute_result"
    }
   ],
   "source": [
    "torch.__version__"
   ]
  },
  {
   "cell_type": "code",
   "execution_count": 8,
   "id": "342a8145",
   "metadata": {},
   "outputs": [
    {
     "data": {
      "text/plain": [
       "True"
      ]
     },
     "execution_count": 8,
     "metadata": {},
     "output_type": "execute_result"
    }
   ],
   "source": [
    "torch.cuda.is_available()"
   ]
  },
  {
   "cell_type": "code",
   "execution_count": 10,
   "id": "3ad50a6e",
   "metadata": {},
   "outputs": [
    {
     "data": {
      "text/html": [
       "<div>\n",
       "<style scoped>\n",
       "    .dataframe tbody tr th:only-of-type {\n",
       "        vertical-align: middle;\n",
       "    }\n",
       "\n",
       "    .dataframe tbody tr th {\n",
       "        vertical-align: top;\n",
       "    }\n",
       "\n",
       "    .dataframe thead th {\n",
       "        text-align: right;\n",
       "    }\n",
       "</style>\n",
       "<table border=\"1\" class=\"dataframe\">\n",
       "  <thead>\n",
       "    <tr style=\"text-align: right;\">\n",
       "      <th></th>\n",
       "      <th>season</th>\n",
       "      <th>episode</th>\n",
       "      <th>scene</th>\n",
       "      <th>line_text</th>\n",
       "      <th>speaker</th>\n",
       "      <th>deleted</th>\n",
       "    </tr>\n",
       "  </thead>\n",
       "  <tbody>\n",
       "    <tr>\n",
       "      <th>0</th>\n",
       "      <td>7</td>\n",
       "      <td>24</td>\n",
       "      <td>8</td>\n",
       "      <td>[conducting interview] Your paper experience is very interesting. Do you think you could use that experience to inform decisions here?</td>\n",
       "      <td>Jim</td>\n",
       "      <td>False</td>\n",
       "    </tr>\n",
       "    <tr>\n",
       "      <th>1</th>\n",
       "      <td>9</td>\n",
       "      <td>10</td>\n",
       "      <td>27</td>\n",
       "      <td>I'm not gonna lie. Lye!</td>\n",
       "      <td>Dwight</td>\n",
       "      <td>False</td>\n",
       "    </tr>\n",
       "    <tr>\n",
       "      <th>2</th>\n",
       "      <td>9</td>\n",
       "      <td>9</td>\n",
       "      <td>27</td>\n",
       "      <td>Take a bowl and pass it down.</td>\n",
       "      <td>Dwight</td>\n",
       "      <td>False</td>\n",
       "    </tr>\n",
       "    <tr>\n",
       "      <th>3</th>\n",
       "      <td>3</td>\n",
       "      <td>15</td>\n",
       "      <td>25</td>\n",
       "      <td>It's a miracle.</td>\n",
       "      <td>Dwight</td>\n",
       "      <td>False</td>\n",
       "    </tr>\n",
       "    <tr>\n",
       "      <th>4</th>\n",
       "      <td>7</td>\n",
       "      <td>1</td>\n",
       "      <td>1</td>\n",
       "      <td>This is how you build a business. This is how you make it in this country.</td>\n",
       "      <td>Ryan</td>\n",
       "      <td>False</td>\n",
       "    </tr>\n",
       "    <tr>\n",
       "      <th>...</th>\n",
       "      <td>...</td>\n",
       "      <td>...</td>\n",
       "      <td>...</td>\n",
       "      <td>...</td>\n",
       "      <td>...</td>\n",
       "      <td>...</td>\n",
       "    </tr>\n",
       "    <tr>\n",
       "      <th>44370</th>\n",
       "      <td>3</td>\n",
       "      <td>5</td>\n",
       "      <td>41</td>\n",
       "      <td>I don't know. It felt far.</td>\n",
       "      <td>Pam</td>\n",
       "      <td>False</td>\n",
       "    </tr>\n",
       "    <tr>\n",
       "      <th>44371</th>\n",
       "      <td>3</td>\n",
       "      <td>10</td>\n",
       "      <td>43</td>\n",
       "      <td>Excuse me [tries to take away meat with chopsticks] Ah, un guard. [Fights with chopsticks and laughs] Family style.</td>\n",
       "      <td>Michael</td>\n",
       "      <td>False</td>\n",
       "    </tr>\n",
       "    <tr>\n",
       "      <th>44372</th>\n",
       "      <td>5</td>\n",
       "      <td>23</td>\n",
       "      <td>19</td>\n",
       "      <td>I never went to Thailand.</td>\n",
       "      <td>Ryan</td>\n",
       "      <td>False</td>\n",
       "    </tr>\n",
       "    <tr>\n",
       "      <th>44373</th>\n",
       "      <td>3</td>\n",
       "      <td>4</td>\n",
       "      <td>1</td>\n",
       "      <td>[breathless] All right.  Okay. [goes back down pretend stairs, crawls on belly to the kitchen for the coffee]</td>\n",
       "      <td>Michael</td>\n",
       "      <td>False</td>\n",
       "    </tr>\n",
       "    <tr>\n",
       "      <th>44374</th>\n",
       "      <td>8</td>\n",
       "      <td>4</td>\n",
       "      <td>47</td>\n",
       "      <td>Hey everybody, I'm gonna leave and I just wanted to say I'm really sorry.</td>\n",
       "      <td>Andy</td>\n",
       "      <td>False</td>\n",
       "    </tr>\n",
       "  </tbody>\n",
       "</table>\n",
       "<p>44375 rows × 6 columns</p>\n",
       "</div>"
      ],
      "text/plain": [
       "       season  episode  scene  \\\n",
       "0           7       24      8   \n",
       "1           9       10     27   \n",
       "2           9        9     27   \n",
       "3           3       15     25   \n",
       "4           7        1      1   \n",
       "...       ...      ...    ...   \n",
       "44370       3        5     41   \n",
       "44371       3       10     43   \n",
       "44372       5       23     19   \n",
       "44373       3        4      1   \n",
       "44374       8        4     47   \n",
       "\n",
       "                                                                                                                                    line_text  \\\n",
       "0      [conducting interview] Your paper experience is very interesting. Do you think you could use that experience to inform decisions here?   \n",
       "1                                                                                                                     I'm not gonna lie. Lye!   \n",
       "2                                                                                                               Take a bowl and pass it down.   \n",
       "3                                                                                                                             It's a miracle.   \n",
       "4                                                                  This is how you build a business. This is how you make it in this country.   \n",
       "...                                                                                                                                       ...   \n",
       "44370                                                                                                              I don't know. It felt far.   \n",
       "44371                     Excuse me [tries to take away meat with chopsticks] Ah, un guard. [Fights with chopsticks and laughs] Family style.   \n",
       "44372                                                                                                               I never went to Thailand.   \n",
       "44373                           [breathless] All right.  Okay. [goes back down pretend stairs, crawls on belly to the kitchen for the coffee]   \n",
       "44374                                                               Hey everybody, I'm gonna leave and I just wanted to say I'm really sorry.   \n",
       "\n",
       "       speaker  deleted  \n",
       "0          Jim    False  \n",
       "1       Dwight    False  \n",
       "2       Dwight    False  \n",
       "3       Dwight    False  \n",
       "4         Ryan    False  \n",
       "...        ...      ...  \n",
       "44370      Pam    False  \n",
       "44371  Michael    False  \n",
       "44372     Ryan    False  \n",
       "44373  Michael    False  \n",
       "44374     Andy    False  \n",
       "\n",
       "[44375 rows x 6 columns]"
      ]
     },
     "execution_count": 10,
     "metadata": {},
     "output_type": "execute_result"
    }
   ],
   "source": [
    "path_top21 =  Path('../data/train21_shuffled.csv')\n",
    "df = pd.read_csv(path_top21)"
   ]
  },
  {
   "cell_type": "code",
   "execution_count": 11,
   "id": "0aea5b9b",
   "metadata": {},
   "outputs": [
    {
     "data": {
      "text/html": [
       "<div>\n",
       "<style scoped>\n",
       "    .dataframe tbody tr th:only-of-type {\n",
       "        vertical-align: middle;\n",
       "    }\n",
       "\n",
       "    .dataframe tbody tr th {\n",
       "        vertical-align: top;\n",
       "    }\n",
       "\n",
       "    .dataframe thead th {\n",
       "        text-align: right;\n",
       "    }\n",
       "</style>\n",
       "<table border=\"1\" class=\"dataframe\">\n",
       "  <thead>\n",
       "    <tr style=\"text-align: right;\">\n",
       "      <th></th>\n",
       "      <th>season</th>\n",
       "      <th>episode</th>\n",
       "      <th>scene</th>\n",
       "      <th>line_text</th>\n",
       "      <th>speaker</th>\n",
       "      <th>deleted</th>\n",
       "    </tr>\n",
       "  </thead>\n",
       "  <tbody>\n",
       "    <tr>\n",
       "      <th>0</th>\n",
       "      <td>7</td>\n",
       "      <td>24</td>\n",
       "      <td>8</td>\n",
       "      <td>[conducting interview] Your paper experience is very interesting. Do you think you could use that experience to inform decisions here?</td>\n",
       "      <td>Jim</td>\n",
       "      <td>False</td>\n",
       "    </tr>\n",
       "    <tr>\n",
       "      <th>1</th>\n",
       "      <td>9</td>\n",
       "      <td>10</td>\n",
       "      <td>27</td>\n",
       "      <td>I'm not gonna lie. Lye!</td>\n",
       "      <td>Dwight</td>\n",
       "      <td>False</td>\n",
       "    </tr>\n",
       "    <tr>\n",
       "      <th>2</th>\n",
       "      <td>9</td>\n",
       "      <td>9</td>\n",
       "      <td>27</td>\n",
       "      <td>Take a bowl and pass it down.</td>\n",
       "      <td>Dwight</td>\n",
       "      <td>False</td>\n",
       "    </tr>\n",
       "    <tr>\n",
       "      <th>3</th>\n",
       "      <td>3</td>\n",
       "      <td>15</td>\n",
       "      <td>25</td>\n",
       "      <td>It's a miracle.</td>\n",
       "      <td>Dwight</td>\n",
       "      <td>False</td>\n",
       "    </tr>\n",
       "    <tr>\n",
       "      <th>4</th>\n",
       "      <td>7</td>\n",
       "      <td>1</td>\n",
       "      <td>1</td>\n",
       "      <td>This is how you build a business. This is how you make it in this country.</td>\n",
       "      <td>Ryan</td>\n",
       "      <td>False</td>\n",
       "    </tr>\n",
       "    <tr>\n",
       "      <th>...</th>\n",
       "      <td>...</td>\n",
       "      <td>...</td>\n",
       "      <td>...</td>\n",
       "      <td>...</td>\n",
       "      <td>...</td>\n",
       "      <td>...</td>\n",
       "    </tr>\n",
       "    <tr>\n",
       "      <th>14995</th>\n",
       "      <td>4</td>\n",
       "      <td>3</td>\n",
       "      <td>9</td>\n",
       "      <td>Waste of time.  The website's going to win.</td>\n",
       "      <td>Angela</td>\n",
       "      <td>False</td>\n",
       "    </tr>\n",
       "    <tr>\n",
       "      <th>14996</th>\n",
       "      <td>7</td>\n",
       "      <td>23</td>\n",
       "      <td>1</td>\n",
       "      <td>No, you can't get flowers for someone who's in a coma. They'll wilt before he wakes up.</td>\n",
       "      <td>Dwight</td>\n",
       "      <td>False</td>\n",
       "    </tr>\n",
       "    <tr>\n",
       "      <th>14997</th>\n",
       "      <td>5</td>\n",
       "      <td>24</td>\n",
       "      <td>30</td>\n",
       "      <td>Challenge.</td>\n",
       "      <td>Creed</td>\n",
       "      <td>False</td>\n",
       "    </tr>\n",
       "    <tr>\n",
       "      <th>14998</th>\n",
       "      <td>6</td>\n",
       "      <td>17</td>\n",
       "      <td>17</td>\n",
       "      <td>Are you serious?</td>\n",
       "      <td>Darryl</td>\n",
       "      <td>False</td>\n",
       "    </tr>\n",
       "    <tr>\n",
       "      <th>14999</th>\n",
       "      <td>3</td>\n",
       "      <td>8</td>\n",
       "      <td>66</td>\n",
       "      <td>Ha, that's why I wore this shirt.</td>\n",
       "      <td>Andy</td>\n",
       "      <td>False</td>\n",
       "    </tr>\n",
       "  </tbody>\n",
       "</table>\n",
       "<p>15000 rows × 6 columns</p>\n",
       "</div>"
      ],
      "text/plain": [
       "       season  episode  scene  \\\n",
       "0           7       24      8   \n",
       "1           9       10     27   \n",
       "2           9        9     27   \n",
       "3           3       15     25   \n",
       "4           7        1      1   \n",
       "...       ...      ...    ...   \n",
       "14995       4        3      9   \n",
       "14996       7       23      1   \n",
       "14997       5       24     30   \n",
       "14998       6       17     17   \n",
       "14999       3        8     66   \n",
       "\n",
       "                                                                                                                                    line_text  \\\n",
       "0      [conducting interview] Your paper experience is very interesting. Do you think you could use that experience to inform decisions here?   \n",
       "1                                                                                                                     I'm not gonna lie. Lye!   \n",
       "2                                                                                                               Take a bowl and pass it down.   \n",
       "3                                                                                                                             It's a miracle.   \n",
       "4                                                                  This is how you build a business. This is how you make it in this country.   \n",
       "...                                                                                                                                       ...   \n",
       "14995                                                                                             Waste of time.  The website's going to win.   \n",
       "14996                                                 No, you can't get flowers for someone who's in a coma. They'll wilt before he wakes up.   \n",
       "14997                                                                                                                              Challenge.   \n",
       "14998                                                                                                                        Are you serious?   \n",
       "14999                                                                                                       Ha, that's why I wore this shirt.   \n",
       "\n",
       "      speaker  deleted  \n",
       "0         Jim    False  \n",
       "1      Dwight    False  \n",
       "2      Dwight    False  \n",
       "3      Dwight    False  \n",
       "4        Ryan    False  \n",
       "...       ...      ...  \n",
       "14995  Angela    False  \n",
       "14996  Dwight    False  \n",
       "14997   Creed    False  \n",
       "14998  Darryl    False  \n",
       "14999    Andy    False  \n",
       "\n",
       "[15000 rows x 6 columns]"
      ]
     },
     "execution_count": 11,
     "metadata": {},
     "output_type": "execute_result"
    }
   ],
   "source": [
    "df_reduced = df.iloc[:15000]"
   ]
  },
  {
   "cell_type": "code",
   "execution_count": 12,
   "id": "2920a0b3",
   "metadata": {},
   "outputs": [
    {
     "data": {
      "text/plain": [
       "<Axes: >"
      ]
     },
     "execution_count": 12,
     "metadata": {},
     "output_type": "execute_result"
    },
    {
     "data": {
      "image/png": "[encoded data removed]",
      "text/plain": [
       "<Figure size 640x480 with 1 Axes>"
      ]
     },
     "metadata": {},
     "output_type": "display_data"
    }
   ],
   "source": [
    "df_reduced['speaker'].value_counts().plot(kind='bar')"
   ]
  },
  {
   "cell_type": "code",
   "execution_count": 13,
   "id": "dcdaea1a",
   "metadata": {},
   "outputs": [
    {
     "data": {
      "text/plain": [
       "3392"
      ]
     },
     "execution_count": 13,
     "metadata": {},
     "output_type": "execute_result"
    }
   ],
   "source": [
    "max_dialog = df_reduced['speaker'].value_counts().max()"
   ]
  },
  {
   "cell_type": "code",
   "execution_count": 14,
   "id": "8e2e61bc",
   "metadata": {},
   "outputs": [
    {
     "data": {
      "text/html": [
       "<div>\n",
       "<style scoped>\n",
       "    .dataframe tbody tr th:only-of-type {\n",
       "        vertical-align: middle;\n",
       "    }\n",
       "\n",
       "    .dataframe tbody tr th {\n",
       "        vertical-align: top;\n",
       "    }\n",
       "\n",
       "    .dataframe thead th {\n",
       "        text-align: right;\n",
       "    }\n",
       "</style>\n",
       "<table border=\"1\" class=\"dataframe\">\n",
       "  <thead>\n",
       "    <tr style=\"text-align: right;\">\n",
       "      <th></th>\n",
       "      <th>season</th>\n",
       "      <th>episode</th>\n",
       "      <th>scene</th>\n",
       "      <th>line_text</th>\n",
       "      <th>speaker</th>\n",
       "      <th>deleted</th>\n",
       "    </tr>\n",
       "  </thead>\n",
       "  <tbody>\n",
       "    <tr>\n",
       "      <th>0</th>\n",
       "      <td>7</td>\n",
       "      <td>24</td>\n",
       "      <td>8</td>\n",
       "      <td>[conducting interview] Your paper experience is very interesting. Do you think you could use that experience to inform decisions here?</td>\n",
       "      <td>Jim</td>\n",
       "      <td>False</td>\n",
       "    </tr>\n",
       "    <tr>\n",
       "      <th>1</th>\n",
       "      <td>9</td>\n",
       "      <td>10</td>\n",
       "      <td>27</td>\n",
       "      <td>I'm not gonna lie. Lye!</td>\n",
       "      <td>Dwight</td>\n",
       "      <td>False</td>\n",
       "    </tr>\n",
       "    <tr>\n",
       "      <th>2</th>\n",
       "      <td>9</td>\n",
       "      <td>9</td>\n",
       "      <td>27</td>\n",
       "      <td>Take a bowl and pass it down.</td>\n",
       "      <td>Dwight</td>\n",
       "      <td>False</td>\n",
       "    </tr>\n",
       "    <tr>\n",
       "      <th>3</th>\n",
       "      <td>3</td>\n",
       "      <td>15</td>\n",
       "      <td>25</td>\n",
       "      <td>It's a miracle.</td>\n",
       "      <td>Dwight</td>\n",
       "      <td>False</td>\n",
       "    </tr>\n",
       "    <tr>\n",
       "      <th>4</th>\n",
       "      <td>7</td>\n",
       "      <td>1</td>\n",
       "      <td>1</td>\n",
       "      <td>This is how you build a business. This is how you make it in this country.</td>\n",
       "      <td>Ryan</td>\n",
       "      <td>False</td>\n",
       "    </tr>\n",
       "    <tr>\n",
       "      <th>...</th>\n",
       "      <td>...</td>\n",
       "      <td>...</td>\n",
       "      <td>...</td>\n",
       "      <td>...</td>\n",
       "      <td>...</td>\n",
       "      <td>...</td>\n",
       "    </tr>\n",
       "    <tr>\n",
       "      <th>922</th>\n",
       "      <td>6</td>\n",
       "      <td>6</td>\n",
       "      <td>10</td>\n",
       "      <td>What did I do?</td>\n",
       "      <td>Toby</td>\n",
       "      <td>False</td>\n",
       "    </tr>\n",
       "    <tr>\n",
       "      <th>10015</th>\n",
       "      <td>6</td>\n",
       "      <td>24</td>\n",
       "      <td>17</td>\n",
       "      <td>Write your own damn novel.</td>\n",
       "      <td>Toby</td>\n",
       "      <td>False</td>\n",
       "    </tr>\n",
       "    <tr>\n",
       "      <th>4263</th>\n",
       "      <td>8</td>\n",
       "      <td>17</td>\n",
       "      <td>11</td>\n",
       "      <td>Me?</td>\n",
       "      <td>Toby</td>\n",
       "      <td>False</td>\n",
       "    </tr>\n",
       "    <tr>\n",
       "      <th>5136</th>\n",
       "      <td>7</td>\n",
       "      <td>11</td>\n",
       "      <td>15</td>\n",
       "      <td>Yeah, uh, she'll be starting next week. If you have any questions about the transition, just let me know.</td>\n",
       "      <td>Toby</td>\n",
       "      <td>False</td>\n",
       "    </tr>\n",
       "    <tr>\n",
       "      <th>9059</th>\n",
       "      <td>4</td>\n",
       "      <td>14</td>\n",
       "      <td>75</td>\n",
       "      <td>[hands Meredith his camera] This one right here.</td>\n",
       "      <td>Toby</td>\n",
       "      <td>False</td>\n",
       "    </tr>\n",
       "  </tbody>\n",
       "</table>\n",
       "<p>70827 rows × 6 columns</p>\n",
       "</div>"
      ],
      "text/plain": [
       "       season  episode  scene  \\\n",
       "0           7       24      8   \n",
       "1           9       10     27   \n",
       "2           9        9     27   \n",
       "3           3       15     25   \n",
       "4           7        1      1   \n",
       "...       ...      ...    ...   \n",
       "922         6        6     10   \n",
       "10015       6       24     17   \n",
       "4263        8       17     11   \n",
       "5136        7       11     15   \n",
       "9059        4       14     75   \n",
       "\n",
       "                                                                                                                                    line_text  \\\n",
       "0      [conducting interview] Your paper experience is very interesting. Do you think you could use that experience to inform decisions here?   \n",
       "1                                                                                                                     I'm not gonna lie. Lye!   \n",
       "2                                                                                                               Take a bowl and pass it down.   \n",
       "3                                                                                                                             It's a miracle.   \n",
       "4                                                                  This is how you build a business. This is how you make it in this country.   \n",
       "...                                                                                                                                       ...   \n",
       "922                                                                                                                            What did I do?   \n",
       "10015                                                                                                              Write your own damn novel.   \n",
       "4263                                                                                                                                      Me?   \n",
       "5136                                Yeah, uh, she'll be starting next week. If you have any questions about the transition, just let me know.   \n",
       "9059                                                                                         [hands Meredith his camera] This one right here.   \n",
       "\n",
       "      speaker  deleted  \n",
       "0         Jim    False  \n",
       "1      Dwight    False  \n",
       "2      Dwight    False  \n",
       "3      Dwight    False  \n",
       "4        Ryan    False  \n",
       "...       ...      ...  \n",
       "922      Toby    False  \n",
       "10015    Toby    False  \n",
       "4263     Toby    False  \n",
       "5136     Toby    False  \n",
       "9059     Toby    False  \n",
       "\n",
       "[70827 rows x 6 columns]"
      ]
     },
     "execution_count": 14,
     "metadata": {},
     "output_type": "execute_result"
    }
   ],
   "source": [
    "import random\n",
    "\n",
    "dfs_oversampled = [df_reduced]\n",
    "for _, group in df_reduced.groupby('speaker'):\n",
    "    rand_mult = random.uniform(0.85, 1.15)\n",
    "    sample_amt_to_max = max_dialog - len(group)\n",
    "    dfs_oversampled.append(group.sample(int(sample_amt_to_max * rand_mult), replace=True))\n",
    "df_reduced = pd.concat(dfs_oversampled)"
   ]
  },
  {
   "cell_type": "code",
   "execution_count": 15,
   "id": "9ef04eba",
   "metadata": {},
   "outputs": [
    {
     "data": {
      "text/plain": [
       "<Axes: >"
      ]
     },
     "execution_count": 15,
     "metadata": {},
     "output_type": "execute_result"
    },
    {
     "data": {
      "image/png": "[encoded data removed]",
      "text/plain": [
       "<Figure size 640x480 with 1 Axes>"
      ]
     },
     "metadata": {},
     "output_type": "display_data"
    }
   ],
   "source": [
    "df_reduced['speaker'].value_counts().plot(kind='bar')"
   ]
  },
  {
   "cell_type": "code",
   "execution_count": 16,
   "id": "cd9cba6f",
   "metadata": {},
   "outputs": [
    {
     "data": {
      "text/html": [
       "\n",
       "<style>\n",
       "    /* Turns off some styling */\n",
       "    progress {\n",
       "        /* gets rid of default border in Firefox and Opera. */\n",
       "        border: none;\n",
       "        /* Needs to be in here for Safari polyfill so background images work as expected. */\n",
       "        background-size: auto;\n",
       "    }\n",
       "    progress:not([value]), progress:not([value])::-webkit-progress-bar {\n",
       "        background: repeating-linear-gradient(45deg, #7e7e7e, #7e7e7e 10px, #5c5c5c 10px, #5c5c5c 20px);\n",
       "    }\n",
       "    .progress-bar-interrupted, .progress-bar-interrupted::-webkit-progress-bar {\n",
       "        background: #F44336;\n",
       "    }\n",
       "</style>\n"
      ],
      "text/plain": [
       "<IPython.core.display.HTML object>"
      ]
     },
     "metadata": {},
     "output_type": "display_data"
    },
    {
     "data": {
      "text/html": [],
      "text/plain": [
       "<IPython.core.display.HTML object>"
      ]
     },
     "metadata": {},
     "output_type": "display_data"
    },
    {
     "data": {
      "text/html": [
       "<table border=\"1\" class=\"dataframe\">\n",
       "  <thead>\n",
       "    <tr style=\"text-align: right;\">\n",
       "      <th></th>\n",
       "      <th>text</th>\n",
       "      <th>category</th>\n",
       "    </tr>\n",
       "  </thead>\n",
       "  <tbody>\n",
       "    <tr>\n",
       "      <th>0</th>\n",
       "      <td>xxbos xxmaj i 've really learned from the xxunk . xxmaj the great xxunk , xxmaj drew xxmaj xxunk , xxmaj ryan xxmaj xxunk , uh , the xxmaj xxunk guy not so much . xxmaj he 's more the signing , xxmaj wayne xxmaj xxunk . xxmaj um , xxmaj robin xxmaj williams . xxmaj oh , man , would i love to go head - to - head with him . xxmaj oh ! xxmaj that would be exciting . [ as xxmaj robin xxmaj williams ] ' hi . xxmaj i 'm xxmaj xxunk from xxmaj xxunk . ' xxmaj well , xxmaj i 'm xxmaj xxunk from xxmaj xxunk . xxmaj xxunk , xxunk . xxmaj xxunk , xxunk . [ as xxmaj robin xxmaj williams ] ' that 's xxmaj good morning , xxmaj xxunk ! ' xxmaj well , hello to you . xxmaj</td>\n",
       "      <td>Michael</td>\n",
       "    </tr>\n",
       "    <tr>\n",
       "      <th>1</th>\n",
       "      <td>xxbos xxmaj all these people are walking around and they 're happy and their lives are just going along , ignorance is bliss . xxmaj but if they knew what was xxunk on the other side of that xxunk that xxunk monster . [ imitating monster ] ' i 'm gon na get you , downsizing . ' xxmaj no . xxmaj they would n't … xxmaj they 'd freak . xxmaj and xxmaj i 'm not going to play xxmaj god . xxmaj they look to me for support . xxmaj and they look to me for guidance and leadership . xxmaj and i think if i could lie to them and it serves them , then that 's what xxmaj i 'm going to do .</td>\n",
       "      <td>Michael</td>\n",
       "    </tr>\n",
       "    <tr>\n",
       "      <th>2</th>\n",
       "      <td>xxbos [ cats meowing in background][on nanny - cam ] xxmaj where is that bad cat ? xxmaj oh , you know who you are . xxmaj excuse me , xxmaj petals , xxmaj i 'm looking for xxmaj mr . xxmaj ash . xxmaj he 's a bad cat . xxmaj bad , bad cat . xxmaj do you hear me ? xxmaj bad . xxmaj yeah , you were bad . xxmaj no , you look at me when i talk to you . xxmaj do you hear me , xxmaj mr . xxmaj ash ? xxmaj you look at me . 'cause xxmaj i 'm talking to you right now .</td>\n",
       "      <td>Angela</td>\n",
       "    </tr>\n",
       "    <tr>\n",
       "      <th>3</th>\n",
       "      <td>xxbos xxmaj hey everyone . xxmaj hi . xxmaj quite an afternoon , huh ? xxmaj cathartic in a way . xxmaj i 'm glad i got to share it with you . xxmaj it makes you think about what 's really important . [ pam hands xxmaj jim a note ] xxmaj it 's not about showing you 're in charge or flexing some sort of authority . xxmaj it 's about forgiveness . xxmaj and yes , xxmaj i 'm talking about you three in this desk clump right here . i think that , if you were to apologize to me , then i would revoke your suspension .</td>\n",
       "      <td>Gabe</td>\n",
       "    </tr>\n",
       "    <tr>\n",
       "      <th>4</th>\n",
       "      <td>xxbos xxmaj hey everyone . xxmaj hi . xxmaj quite an afternoon , huh ? xxmaj cathartic in a way . xxmaj i 'm glad i got to share it with you . xxmaj it makes you think about what 's really important . [ pam hands xxmaj jim a note ] xxmaj it 's not about showing you 're in charge or flexing some sort of authority . xxmaj it 's about forgiveness . xxmaj and yes , xxmaj i 'm talking about you three in this desk clump right here . i think that , if you were to apologize to me , then i would revoke your suspension .</td>\n",
       "      <td>Gabe</td>\n",
       "    </tr>\n",
       "    <tr>\n",
       "      <th>5</th>\n",
       "      <td>xxbos xxmaj hey everyone . xxmaj hi . xxmaj quite an afternoon , huh ? xxmaj cathartic in a way . xxmaj i 'm glad i got to share it with you . xxmaj it makes you think about what 's really important . [ pam hands xxmaj jim a note ] xxmaj it 's not about showing you 're in charge or flexing some sort of authority . xxmaj it 's about forgiveness . xxmaj and yes , xxmaj i 'm talking about you three in this desk clump right here . i think that , if you were to apologize to me , then i would revoke your suspension .</td>\n",
       "      <td>Gabe</td>\n",
       "    </tr>\n",
       "    <tr>\n",
       "      <th>6</th>\n",
       "      <td>xxbos xxmaj or maybe there 's a xxmaj god . i do n't know . i mean , it 's just not a guy with a long white beard . [ erin looks shocked ] xxmaj or it could be . i mean , it 's possible that that is exactly what - what xxmaj god is . xxmaj but for all of the disbelief [ phone rings ] i believe in us . i believe in love . xxmaj you have made me believe that for all of the hokum [ phone continues ringing ] out … there … uh , do we not have voicemail ?</td>\n",
       "      <td>Gabe</td>\n",
       "    </tr>\n",
       "    <tr>\n",
       "      <th>7</th>\n",
       "      <td>xxbos xxmaj it 's been a weird week since we found out i had to transfer . xxmaj michael wanted me to quit and get some job here in xxmaj scranton , and i said ' well , why do n't you quit and get some job in xxmaj nashua ? ' xxmaj and he said ' i asked you first . ' xxmaj and i said ' first ! ' at the same time he did . xxmaj and then i said ' jinx . ' xxmaj and then we never talked about it again and have n't been back to the conversation . xxmaj so …</td>\n",
       "      <td>Holly</td>\n",
       "    </tr>\n",
       "    <tr>\n",
       "      <th>8</th>\n",
       "      <td>xxbos xxmaj or maybe there 's a xxmaj god . i do n't know . i mean , it 's just not a guy with a long white beard . [ erin looks shocked ] xxmaj or it could be . i mean , it 's possible that that is exactly what - what xxmaj god is . xxmaj but for all of the disbelief [ phone rings ] i believe in us . i believe in love . xxmaj you have made me believe that for all of the hokum [ phone continues ringing ] out … there … uh , do we not have voicemail ?</td>\n",
       "      <td>Gabe</td>\n",
       "    </tr>\n",
       "  </tbody>\n",
       "</table>"
      ],
      "text/plain": [
       "<IPython.core.display.HTML object>"
      ]
     },
     "metadata": {},
     "output_type": "display_data"
    }
   ],
   "source": [
    "dls = TextDataLoaders.from_df(df_reduced, text_col='line_text', label_col='speaker', shuffle_train=True)\n",
    "dls.show_batch()"
   ]
  },
  {
   "cell_type": "code",
   "execution_count": 17,
   "id": "536fb377",
   "metadata": {},
   "outputs": [
    {
     "data": {
      "text/html": [
       "\n",
       "<style>\n",
       "    /* Turns off some styling */\n",
       "    progress {\n",
       "        /* gets rid of default border in Firefox and Opera. */\n",
       "        border: none;\n",
       "        /* Needs to be in here for Safari polyfill so background images work as expected. */\n",
       "        background-size: auto;\n",
       "    }\n",
       "    progress:not([value]), progress:not([value])::-webkit-progress-bar {\n",
       "        background: repeating-linear-gradient(45deg, #7e7e7e, #7e7e7e 10px, #5c5c5c 10px, #5c5c5c 20px);\n",
       "    }\n",
       "    .progress-bar-interrupted, .progress-bar-interrupted::-webkit-progress-bar {\n",
       "        background: #F44336;\n",
       "    }\n",
       "</style>\n"
      ],
      "text/plain": [
       "<IPython.core.display.HTML object>"
      ]
     },
     "metadata": {},
     "output_type": "display_data"
    },
    {
     "data": {
      "text/html": [],
      "text/plain": [
       "<IPython.core.display.HTML object>"
      ]
     },
     "metadata": {},
     "output_type": "display_data"
    },
    {
     "data": {
      "text/plain": [
       "0.01"
      ]
     },
     "execution_count": 17,
     "metadata": {},
     "output_type": "execute_result"
    },
    {
     "data": {
      "image/png": "[encoded data removed]",
      "text/plain": [
       "<Figure size 640x480 with 1 Axes>"
      ]
     },
     "metadata": {},
     "output_type": "display_data"
    }
   ],
   "source": [
    "learner = text_classifier_learner(dls, AWD_LSTM, drop_mult=0.75, metrics=accuracy)\n",
    "learner.lr_find()\n",
    "# learner.fine_tune(10, 1e-2)\n",
    "suggestedLR = 1e-2"
   ]
  },
  {
   "cell_type": "code",
   "execution_count": 18,
   "id": "5f781aa3",
   "metadata": {},
   "outputs": [
    {
     "data": {
      "text/html": [
       "\n",
       "<style>\n",
       "    /* Turns off some styling */\n",
       "    progress {\n",
       "        /* gets rid of default border in Firefox and Opera. */\n",
       "        border: none;\n",
       "        /* Needs to be in here for Safari polyfill so background images work as expected. */\n",
       "        background-size: auto;\n",
       "    }\n",
       "    progress:not([value]), progress:not([value])::-webkit-progress-bar {\n",
       "        background: repeating-linear-gradient(45deg, #7e7e7e, #7e7e7e 10px, #5c5c5c 10px, #5c5c5c 20px);\n",
       "    }\n",
       "    .progress-bar-interrupted, .progress-bar-interrupted::-webkit-progress-bar {\n",
       "        background: #F44336;\n",
       "    }\n",
       "</style>\n"
      ],
      "text/plain": [
       "<IPython.core.display.HTML object>"
      ]
     },
     "metadata": {},
     "output_type": "display_data"
    },
    {
     "data": {
      "text/html": [
       "<table border=\"1\" class=\"dataframe\">\n",
       "  <thead>\n",
       "    <tr style=\"text-align: left;\">\n",
       "      <th>epoch</th>\n",
       "      <th>train_loss</th>\n",
       "      <th>valid_loss</th>\n",
       "      <th>accuracy</th>\n",
       "      <th>time</th>\n",
       "    </tr>\n",
       "  </thead>\n",
       "  <tbody>\n",
       "    <tr>\n",
       "      <td>0</td>\n",
       "      <td>2.997085</td>\n",
       "      <td>2.944643</td>\n",
       "      <td>0.109566</td>\n",
       "      <td>00:13</td>\n",
       "    </tr>\n",
       "  </tbody>\n",
       "</table>"
      ],
      "text/plain": [
       "<IPython.core.display.HTML object>"
      ]
     },
     "metadata": {},
     "output_type": "display_data"
    },
    {
     "data": {
      "text/html": [
       "\n",
       "<style>\n",
       "    /* Turns off some styling */\n",
       "    progress {\n",
       "        /* gets rid of default border in Firefox and Opera. */\n",
       "        border: none;\n",
       "        /* Needs to be in here for Safari polyfill so background images work as expected. */\n",
       "        background-size: auto;\n",
       "    }\n",
       "    progress:not([value]), progress:not([value])::-webkit-progress-bar {\n",
       "        background: repeating-linear-gradient(45deg, #7e7e7e, #7e7e7e 10px, #5c5c5c 10px, #5c5c5c 20px);\n",
       "    }\n",
       "    .progress-bar-interrupted, .progress-bar-interrupted::-webkit-progress-bar {\n",
       "        background: #F44336;\n",
       "    }\n",
       "</style>\n"
      ],
      "text/plain": [
       "<IPython.core.display.HTML object>"
      ]
     },
     "metadata": {},
     "output_type": "display_data"
    },
    {
     "data": {
      "text/html": [
       "<table border=\"1\" class=\"dataframe\">\n",
       "  <thead>\n",
       "    <tr style=\"text-align: left;\">\n",
       "      <th>epoch</th>\n",
       "      <th>train_loss</th>\n",
       "      <th>valid_loss</th>\n",
       "      <th>accuracy</th>\n",
       "      <th>time</th>\n",
       "    </tr>\n",
       "  </thead>\n",
       "  <tbody>\n",
       "    <tr>\n",
       "      <td>0</td>\n",
       "      <td>2.691037</td>\n",
       "      <td>2.478860</td>\n",
       "      <td>0.285775</td>\n",
       "      <td>00:26</td>\n",
       "    </tr>\n",
       "    <tr>\n",
       "      <td>1</td>\n",
       "      <td>2.244871</td>\n",
       "      <td>1.880924</td>\n",
       "      <td>0.451394</td>\n",
       "      <td>00:26</td>\n",
       "    </tr>\n",
       "    <tr>\n",
       "      <td>2</td>\n",
       "      <td>1.905898</td>\n",
       "      <td>1.476056</td>\n",
       "      <td>0.565549</td>\n",
       "      <td>00:26</td>\n",
       "    </tr>\n",
       "    <tr>\n",
       "      <td>3</td>\n",
       "      <td>1.625578</td>\n",
       "      <td>1.177383</td>\n",
       "      <td>0.646170</td>\n",
       "      <td>00:26</td>\n",
       "    </tr>\n",
       "    <tr>\n",
       "      <td>4</td>\n",
       "      <td>1.305157</td>\n",
       "      <td>0.967953</td>\n",
       "      <td>0.701377</td>\n",
       "      <td>00:26</td>\n",
       "    </tr>\n",
       "    <tr>\n",
       "      <td>5</td>\n",
       "      <td>1.152467</td>\n",
       "      <td>0.804145</td>\n",
       "      <td>0.746417</td>\n",
       "      <td>00:26</td>\n",
       "    </tr>\n",
       "    <tr>\n",
       "      <td>6</td>\n",
       "      <td>0.983540</td>\n",
       "      <td>0.730263</td>\n",
       "      <td>0.765196</td>\n",
       "      <td>00:26</td>\n",
       "    </tr>\n",
       "    <tr>\n",
       "      <td>7</td>\n",
       "      <td>0.828718</td>\n",
       "      <td>0.653462</td>\n",
       "      <td>0.789552</td>\n",
       "      <td>00:26</td>\n",
       "    </tr>\n",
       "    <tr>\n",
       "      <td>8</td>\n",
       "      <td>0.798782</td>\n",
       "      <td>0.614725</td>\n",
       "      <td>0.810095</td>\n",
       "      <td>00:26</td>\n",
       "    </tr>\n",
       "    <tr>\n",
       "      <td>9</td>\n",
       "      <td>0.666334</td>\n",
       "      <td>0.559146</td>\n",
       "      <td>0.822944</td>\n",
       "      <td>00:27</td>\n",
       "    </tr>\n",
       "    <tr>\n",
       "      <td>10</td>\n",
       "      <td>0.569403</td>\n",
       "      <td>0.537088</td>\n",
       "      <td>0.834028</td>\n",
       "      <td>00:27</td>\n",
       "    </tr>\n",
       "    <tr>\n",
       "      <td>11</td>\n",
       "      <td>0.602011</td>\n",
       "      <td>0.505495</td>\n",
       "      <td>0.841864</td>\n",
       "      <td>00:27</td>\n",
       "    </tr>\n",
       "    <tr>\n",
       "      <td>12</td>\n",
       "      <td>0.587660</td>\n",
       "      <td>0.475421</td>\n",
       "      <td>0.850759</td>\n",
       "      <td>00:27</td>\n",
       "    </tr>\n",
       "    <tr>\n",
       "      <td>13</td>\n",
       "      <td>0.428530</td>\n",
       "      <td>0.486480</td>\n",
       "      <td>0.853865</td>\n",
       "      <td>00:27</td>\n",
       "    </tr>\n",
       "    <tr>\n",
       "      <td>14</td>\n",
       "      <td>0.481822</td>\n",
       "      <td>0.457516</td>\n",
       "      <td>0.860854</td>\n",
       "      <td>00:26</td>\n",
       "    </tr>\n",
       "    <tr>\n",
       "      <td>15</td>\n",
       "      <td>0.454679</td>\n",
       "      <td>0.459379</td>\n",
       "      <td>0.861278</td>\n",
       "      <td>00:26</td>\n",
       "    </tr>\n",
       "    <tr>\n",
       "      <td>16</td>\n",
       "      <td>0.405562</td>\n",
       "      <td>0.456175</td>\n",
       "      <td>0.866008</td>\n",
       "      <td>00:26</td>\n",
       "    </tr>\n",
       "    <tr>\n",
       "      <td>17</td>\n",
       "      <td>0.437140</td>\n",
       "      <td>0.456097</td>\n",
       "      <td>0.866078</td>\n",
       "      <td>00:26</td>\n",
       "    </tr>\n",
       "    <tr>\n",
       "      <td>18</td>\n",
       "      <td>0.411469</td>\n",
       "      <td>0.449840</td>\n",
       "      <td>0.867702</td>\n",
       "      <td>00:27</td>\n",
       "    </tr>\n",
       "    <tr>\n",
       "      <td>19</td>\n",
       "      <td>0.361334</td>\n",
       "      <td>0.453238</td>\n",
       "      <td>0.870526</td>\n",
       "      <td>00:26</td>\n",
       "    </tr>\n",
       "    <tr>\n",
       "      <td>20</td>\n",
       "      <td>0.410535</td>\n",
       "      <td>0.449721</td>\n",
       "      <td>0.869114</td>\n",
       "      <td>00:26</td>\n",
       "    </tr>\n",
       "    <tr>\n",
       "      <td>21</td>\n",
       "      <td>0.317641</td>\n",
       "      <td>0.450925</td>\n",
       "      <td>0.872008</td>\n",
       "      <td>00:26</td>\n",
       "    </tr>\n",
       "    <tr>\n",
       "      <td>22</td>\n",
       "      <td>0.303144</td>\n",
       "      <td>0.448594</td>\n",
       "      <td>0.872008</td>\n",
       "      <td>00:26</td>\n",
       "    </tr>\n",
       "    <tr>\n",
       "      <td>23</td>\n",
       "      <td>0.394178</td>\n",
       "      <td>0.446741</td>\n",
       "      <td>0.871514</td>\n",
       "      <td>00:26</td>\n",
       "    </tr>\n",
       "    <tr>\n",
       "      <td>24</td>\n",
       "      <td>0.285604</td>\n",
       "      <td>0.449971</td>\n",
       "      <td>0.870808</td>\n",
       "      <td>00:27</td>\n",
       "    </tr>\n",
       "  </tbody>\n",
       "</table>"
      ],
      "text/plain": [
       "<IPython.core.display.HTML object>"
      ]
     },
     "metadata": {},
     "output_type": "display_data"
    }
   ],
   "source": [
    "learner.fine_tune(25, suggestedLR)"
   ]
  },
  {
   "cell_type": "code",
   "execution_count": 19,
   "id": "ca555d48",
   "metadata": {},
   "outputs": [
    {
     "data": {
      "text/html": [
       "\n",
       "<style>\n",
       "    /* Turns off some styling */\n",
       "    progress {\n",
       "        /* gets rid of default border in Firefox and Opera. */\n",
       "        border: none;\n",
       "        /* Needs to be in here for Safari polyfill so background images work as expected. */\n",
       "        background-size: auto;\n",
       "    }\n",
       "    progress:not([value]), progress:not([value])::-webkit-progress-bar {\n",
       "        background: repeating-linear-gradient(45deg, #7e7e7e, #7e7e7e 10px, #5c5c5c 10px, #5c5c5c 20px);\n",
       "    }\n",
       "    .progress-bar-interrupted, .progress-bar-interrupted::-webkit-progress-bar {\n",
       "        background: #F44336;\n",
       "    }\n",
       "</style>\n"
      ],
      "text/plain": [
       "<IPython.core.display.HTML object>"
      ]
     },
     "metadata": {},
     "output_type": "display_data"
    },
    {
     "data": {
      "text/html": [],
      "text/plain": [
       "<IPython.core.display.HTML object>"
      ]
     },
     "metadata": {},
     "output_type": "display_data"
    },
    {
     "data": {
      "text/html": [
       "\n",
       "<style>\n",
       "    /* Turns off some styling */\n",
       "    progress {\n",
       "        /* gets rid of default border in Firefox and Opera. */\n",
       "        border: none;\n",
       "        /* Needs to be in here for Safari polyfill so background images work as expected. */\n",
       "        background-size: auto;\n",
       "    }\n",
       "    progress:not([value]), progress:not([value])::-webkit-progress-bar {\n",
       "        background: repeating-linear-gradient(45deg, #7e7e7e, #7e7e7e 10px, #5c5c5c 10px, #5c5c5c 20px);\n",
       "    }\n",
       "    .progress-bar-interrupted, .progress-bar-interrupted::-webkit-progress-bar {\n",
       "        background: #F44336;\n",
       "    }\n",
       "</style>\n"
      ],
      "text/plain": [
       "<IPython.core.display.HTML object>"
      ]
     },
     "metadata": {},
     "output_type": "display_data"
    },
    {
     "data": {
      "text/html": [],
      "text/plain": [
       "<IPython.core.display.HTML object>"
      ]
     },
     "metadata": {},
     "output_type": "display_data"
    },
    {
     "data": {
      "image/png": "[encoded data removed]",
      "text/plain": [
       "<Figure size 640x480 with 1 Axes>"
      ]
     },
     "metadata": {},
     "output_type": "display_data"
    }
   ],
   "source": [
    "interp = ClassificationInterpretation.from_learner(learner)\n",
    "interp.plot_confusion_matrix()"
   ]
  },
  {
   "cell_type": "code",
   "execution_count": 20,
   "id": "dc5570a2",
   "metadata": {},
   "outputs": [
    {
     "data": {
      "text/html": [
       "\n",
       "<style>\n",
       "    /* Turns off some styling */\n",
       "    progress {\n",
       "        /* gets rid of default border in Firefox and Opera. */\n",
       "        border: none;\n",
       "        /* Needs to be in here for Safari polyfill so background images work as expected. */\n",
       "        background-size: auto;\n",
       "    }\n",
       "    progress:not([value]), progress:not([value])::-webkit-progress-bar {\n",
       "        background: repeating-linear-gradient(45deg, #7e7e7e, #7e7e7e 10px, #5c5c5c 10px, #5c5c5c 20px);\n",
       "    }\n",
       "    .progress-bar-interrupted, .progress-bar-interrupted::-webkit-progress-bar {\n",
       "        background: #F44336;\n",
       "    }\n",
       "</style>\n"
      ],
      "text/plain": [
       "<IPython.core.display.HTML object>"
      ]
     },
     "metadata": {},
     "output_type": "display_data"
    },
    {
     "data": {
      "text/html": [
       "<table border=\"1\" class=\"dataframe\">\n",
       "  <thead>\n",
       "    <tr style=\"text-align: left;\">\n",
       "      <th>epoch</th>\n",
       "      <th>train_loss</th>\n",
       "      <th>valid_loss</th>\n",
       "      <th>accuracy</th>\n",
       "      <th>time</th>\n",
       "    </tr>\n",
       "  </thead>\n",
       "  <tbody>\n",
       "    <tr>\n",
       "      <td>0</td>\n",
       "      <td>0.342198</td>\n",
       "      <td>0.485213</td>\n",
       "      <td>0.866502</td>\n",
       "      <td>00:16</td>\n",
       "    </tr>\n",
       "  </tbody>\n",
       "</table>"
      ],
      "text/plain": [
       "<IPython.core.display.HTML object>"
      ]
     },
     "metadata": {},
     "output_type": "display_data"
    },
    {
     "data": {
      "text/html": [
       "\n",
       "<style>\n",
       "    /* Turns off some styling */\n",
       "    progress {\n",
       "        /* gets rid of default border in Firefox and Opera. */\n",
       "        border: none;\n",
       "        /* Needs to be in here for Safari polyfill so background images work as expected. */\n",
       "        background-size: auto;\n",
       "    }\n",
       "    progress:not([value]), progress:not([value])::-webkit-progress-bar {\n",
       "        background: repeating-linear-gradient(45deg, #7e7e7e, #7e7e7e 10px, #5c5c5c 10px, #5c5c5c 20px);\n",
       "    }\n",
       "    .progress-bar-interrupted, .progress-bar-interrupted::-webkit-progress-bar {\n",
       "        background: #F44336;\n",
       "    }\n",
       "</style>\n"
      ],
      "text/plain": [
       "<IPython.core.display.HTML object>"
      ]
     },
     "metadata": {},
     "output_type": "display_data"
    },
    {
     "data": {
      "text/html": [
       "<table border=\"1\" class=\"dataframe\">\n",
       "  <thead>\n",
       "    <tr style=\"text-align: left;\">\n",
       "      <th>epoch</th>\n",
       "      <th>train_loss</th>\n",
       "      <th>valid_loss</th>\n",
       "      <th>accuracy</th>\n",
       "      <th>time</th>\n",
       "    </tr>\n",
       "  </thead>\n",
       "  <tbody>\n",
       "    <tr>\n",
       "      <td>0</td>\n",
       "      <td>0.396766</td>\n",
       "      <td>0.457418</td>\n",
       "      <td>0.869679</td>\n",
       "      <td>00:26</td>\n",
       "    </tr>\n",
       "    <tr>\n",
       "      <td>1</td>\n",
       "      <td>0.466863</td>\n",
       "      <td>0.458969</td>\n",
       "      <td>0.866008</td>\n",
       "      <td>00:26</td>\n",
       "    </tr>\n",
       "    <tr>\n",
       "      <td>2</td>\n",
       "      <td>0.471619</td>\n",
       "      <td>0.465793</td>\n",
       "      <td>0.866573</td>\n",
       "      <td>00:26</td>\n",
       "    </tr>\n",
       "    <tr>\n",
       "      <td>3</td>\n",
       "      <td>0.434474</td>\n",
       "      <td>0.478354</td>\n",
       "      <td>0.866926</td>\n",
       "      <td>00:26</td>\n",
       "    </tr>\n",
       "    <tr>\n",
       "      <td>4</td>\n",
       "      <td>0.398038</td>\n",
       "      <td>0.473626</td>\n",
       "      <td>0.867631</td>\n",
       "      <td>00:26</td>\n",
       "    </tr>\n",
       "    <tr>\n",
       "      <td>5</td>\n",
       "      <td>0.353315</td>\n",
       "      <td>0.476384</td>\n",
       "      <td>0.869679</td>\n",
       "      <td>00:26</td>\n",
       "    </tr>\n",
       "    <tr>\n",
       "      <td>6</td>\n",
       "      <td>0.297821</td>\n",
       "      <td>0.475976</td>\n",
       "      <td>0.871161</td>\n",
       "      <td>00:26</td>\n",
       "    </tr>\n",
       "    <tr>\n",
       "      <td>7</td>\n",
       "      <td>0.389086</td>\n",
       "      <td>0.472698</td>\n",
       "      <td>0.872008</td>\n",
       "      <td>00:27</td>\n",
       "    </tr>\n",
       "    <tr>\n",
       "      <td>8</td>\n",
       "      <td>0.389309</td>\n",
       "      <td>0.477398</td>\n",
       "      <td>0.872008</td>\n",
       "      <td>00:26</td>\n",
       "    </tr>\n",
       "    <tr>\n",
       "      <td>9</td>\n",
       "      <td>0.233322</td>\n",
       "      <td>0.484576</td>\n",
       "      <td>0.871514</td>\n",
       "      <td>00:27</td>\n",
       "    </tr>\n",
       "  </tbody>\n",
       "</table>"
      ],
      "text/plain": [
       "<IPython.core.display.HTML object>"
      ]
     },
     "metadata": {},
     "output_type": "display_data"
    }
   ],
   "source": [
    "learner.fine_tune(10, 1e-2)"
   ]
  },
  {
   "cell_type": "code",
   "execution_count": 21,
   "id": "4c38f41a",
   "metadata": {},
   "outputs": [
    {
     "data": {
      "text/html": [
       "\n",
       "<style>\n",
       "    /* Turns off some styling */\n",
       "    progress {\n",
       "        /* gets rid of default border in Firefox and Opera. */\n",
       "        border: none;\n",
       "        /* Needs to be in here for Safari polyfill so background images work as expected. */\n",
       "        background-size: auto;\n",
       "    }\n",
       "    progress:not([value]), progress:not([value])::-webkit-progress-bar {\n",
       "        background: repeating-linear-gradient(45deg, #7e7e7e, #7e7e7e 10px, #5c5c5c 10px, #5c5c5c 20px);\n",
       "    }\n",
       "    .progress-bar-interrupted, .progress-bar-interrupted::-webkit-progress-bar {\n",
       "        background: #F44336;\n",
       "    }\n",
       "</style>\n"
      ],
      "text/plain": [
       "<IPython.core.display.HTML object>"
      ]
     },
     "metadata": {},
     "output_type": "display_data"
    },
    {
     "data": {
      "text/html": [],
      "text/plain": [
       "<IPython.core.display.HTML object>"
      ]
     },
     "metadata": {},
     "output_type": "display_data"
    },
    {
     "data": {
      "image/png": "[encoded data removed]",
      "text/plain": [
       "<Figure size 640x480 with 1 Axes>"
      ]
     },
     "metadata": {},
     "output_type": "display_data"
    }
   ],
   "source": [
    "interp.plot_confusion_matrix()"
   ]
  },
  {
   "cell_type": "code",
   "execution_count": 22,
   "id": "4eb77107",
   "metadata": {},
   "outputs": [
    {
     "data": {
      "text/html": [
       "<table border=\"1\" class=\"dataframe\">\n",
       "  <thead>\n",
       "    <tr style=\"text-align: right;\">\n",
       "      <th></th>\n",
       "      <th>text</th>\n",
       "      <th>category</th>\n",
       "    </tr>\n",
       "  </thead>\n",
       "  <tbody>\n",
       "    <tr>\n",
       "      <th>0</th>\n",
       "      <td>xxbos xxmaj i 've really learned from the xxunk . xxmaj the great xxunk , xxmaj drew xxmaj xxunk , xxmaj ryan xxmaj xxunk , uh , the xxmaj xxunk guy not so much . xxmaj he 's more the signing , xxmaj wayne xxmaj xxunk . xxmaj um , xxmaj robin xxmaj williams . xxmaj oh , man , would i love to go head - to - head with him . xxmaj oh ! xxmaj that would be exciting . [ as xxmaj robin xxmaj williams ] ' hi . xxmaj i 'm xxmaj xxunk from xxmaj xxunk . ' xxmaj well , xxmaj i 'm xxmaj xxunk from xxmaj xxunk . xxmaj xxunk , xxunk . xxmaj xxunk , xxunk . [ as xxmaj robin xxmaj williams ] ' that 's xxmaj good morning , xxmaj xxunk ! ' xxmaj well , hello to you . xxmaj</td>\n",
       "      <td>Michael</td>\n",
       "    </tr>\n",
       "    <tr>\n",
       "      <th>1</th>\n",
       "      <td>xxbos xxmaj it 's ok . xxmaj we 're having fun . xxmaj it 's not actually the first time xxmaj i 've been embarrassed by a pond . xxmaj in high school , the girls volleyball team always used to xxunk me into the frozen lake . xxmaj four years in a row . xxmaj oh … it was freezing . [ jim signals for making to stop ] xxmaj no . xxmaj no . xxmaj no . xxmaj oh , this is even worse . [ michael begins to lose his cool ] xxmaj couple weeks ago i went to get a new xxunk and i wanted on of those packages where you have , you know , the xxunk the five- the friends and family thing and the guys was like , ' who are your 5 friends ? ' and xxmaj i 'm , like ,</td>\n",
       "      <td>Michael</td>\n",
       "    </tr>\n",
       "    <tr>\n",
       "      <th>2</th>\n",
       "      <td>xxbos xxmaj tonight is the xxmaj dundies , the xxunk employee awards night here at xxmaj dunder xxmaj mifflin . [ holds up a trophy of a business man ] xxmaj and this is everybody 's favorite day . xxmaj everybody looks forward to it , because , you know , a lot of the people here do n't get trophies , very often . xxmaj like xxmaj meredith or xxmaj kevin , i mean , who 's gon na give xxmaj kevin an award ? xxmaj xxunk ' xxmaj donuts ? xxmaj plus , bonus , it 's really , really funny . xxmaj so xxup i , you know , an employee will go home , and he 'll tell his neighbor , ' hey , did you get an award ? ' xxmaj and the neighbor will say , ' no man . i mean , i</td>\n",
       "      <td>Michael</td>\n",
       "    </tr>\n",
       "    <tr>\n",
       "      <th>3</th>\n",
       "      <td>xxbos i have n't heard anything , but i bet xxmaj jim got the job . i mean , why would n't he ? xxmaj he 's totally qualified , and smart , everyone loves him … and , if he never comes back again … that 's xxup ok . xxmaj we 're friends . xxmaj and xxmaj i 'm sure we 'll stay friends . xxmaj we just , we never got the timing right . xxmaj you know ? i shot him down , and then he did the same to me , and … xxmaj but you know what ? xxmaj it 's xxup ok . xxmaj i 'm totally fine . xxmaj everything is gon na be totally xxrep 3 - [ jim walks in ]</td>\n",
       "      <td>Pam</td>\n",
       "    </tr>\n",
       "    <tr>\n",
       "      <th>4</th>\n",
       "      <td>xxbos i am talking about freedom , about choice . xxmaj america , i do n't think you need to worry . xxmaj because if you want to beat xxmaj china you will . xxmaj if you do n't , that 's fine . xxmaj that my friend , is your xxunk . xxmaj y'know , a lot of people say if you dig long enough and hard enough you will get to xxmaj china , and that may be the true , but what they do n't tell you is that if you dig long enough and hard enough in a conversation , you get to a friend . xxmaj so here is to conversation .</td>\n",
       "      <td>Michael</td>\n",
       "    </tr>\n",
       "    <tr>\n",
       "      <th>5</th>\n",
       "      <td>xxbos i do n't demand justice often . xxmaj i 'm not like xxmaj angela , who calls a lawyer every time someone watches a youtube video of animals doing it . xxmaj but , someone should get fired over this , right ? xxmaj val 's no help . xxmaj andy 's gone . xxmaj jim 's out . i just feel like xxmaj i 'm on my own here . [ boom microphone bumps her head , she smiles ] i mean , xxup ok , not completely on my own . xxmaj but , in terms of people who can do something . xxmaj thank you , xxmaj brian .</td>\n",
       "      <td>Pam</td>\n",
       "    </tr>\n",
       "    <tr>\n",
       "      <th>6</th>\n",
       "      <td>xxbos xxmaj hey everyone . xxmaj hi . xxmaj quite an afternoon , huh ? xxmaj cathartic in a way . xxmaj i 'm glad i got to share it with you . xxmaj it makes you think about what 's really important . [ pam hands xxmaj jim a note ] xxmaj it 's not about showing you 're in charge or flexing some sort of authority . xxmaj it 's about forgiveness . xxmaj and yes , xxmaj i 'm talking about you three in this desk clump right here . i think that , if you were to apologize to me , then i would revoke your suspension .</td>\n",
       "      <td>Gabe</td>\n",
       "    </tr>\n",
       "    <tr>\n",
       "      <th>7</th>\n",
       "      <td>xxbos xxmaj dammit ! xxmaj dammit , god . [ to xxmaj pete ] xxmaj sorry . xxmaj yeah xxmaj i 'm fine . xxmaj i 'm fine . i got mad . xxmaj cause i do n't like losing . xxmaj i 'm just gonna- xxmaj sorry xxmaj i 'm mad ! xxmaj i 'm mad , xxmaj i 'm really mad . i wanted to win . xxmaj we were gon na win a lot of money , i was gon na buy you a sweater . xxmaj it 's stupid . xxmaj just the whole contest is stupid . xxmaj that 's how it feels .</td>\n",
       "      <td>Erin</td>\n",
       "    </tr>\n",
       "    <tr>\n",
       "      <th>8</th>\n",
       "      <td>xxbos xxmaj or maybe there 's a xxmaj god . i do n't know . i mean , it 's just not a guy with a long white beard . [ erin looks shocked ] xxmaj or it could be . i mean , it 's possible that that is exactly what - what xxmaj god is . xxmaj but for all of the disbelief [ phone rings ] i believe in us . i believe in love . xxmaj you have made me believe that for all of the hokum [ phone continues ringing ] out … there … uh , do we not have voicemail ?</td>\n",
       "      <td>Gabe</td>\n",
       "    </tr>\n",
       "  </tbody>\n",
       "</table>"
      ],
      "text/plain": [
       "<IPython.core.display.HTML object>"
      ]
     },
     "metadata": {},
     "output_type": "display_data"
    }
   ],
   "source": [
    "dls.show_batch()"
   ]
  },
  {
   "cell_type": "code",
   "execution_count": 23,
   "id": "5b3c407a",
   "metadata": {},
   "outputs": [
    {
     "data": {
      "text/html": [
       "\n",
       "<style>\n",
       "    /* Turns off some styling */\n",
       "    progress {\n",
       "        /* gets rid of default border in Firefox and Opera. */\n",
       "        border: none;\n",
       "        /* Needs to be in here for Safari polyfill so background images work as expected. */\n",
       "        background-size: auto;\n",
       "    }\n",
       "    progress:not([value]), progress:not([value])::-webkit-progress-bar {\n",
       "        background: repeating-linear-gradient(45deg, #7e7e7e, #7e7e7e 10px, #5c5c5c 10px, #5c5c5c 20px);\n",
       "    }\n",
       "    .progress-bar-interrupted, .progress-bar-interrupted::-webkit-progress-bar {\n",
       "        background: #F44336;\n",
       "    }\n",
       "</style>\n"
      ],
      "text/plain": [
       "<IPython.core.display.HTML object>"
      ]
     },
     "metadata": {},
     "output_type": "display_data"
    },
    {
     "data": {
      "text/html": [],
      "text/plain": [
       "<IPython.core.display.HTML object>"
      ]
     },
     "metadata": {},
     "output_type": "display_data"
    },
    {
     "data": {
      "text/plain": [
       "('Jan',\n",
       " tensor(8),\n",
       " tensor([5.8442e-03, 6.1580e-03, 2.7385e-04, 1.7859e-04, 1.4361e-02, 3.9943e-03,\n",
       "         2.4212e-04, 1.6268e-03, 4.2474e-01, 5.3731e-02, 4.7216e-03, 1.9260e-02,\n",
       "         3.5333e-05, 1.7201e-01, 2.5708e-04, 3.3294e-04, 3.4225e-02, 2.2228e-01,\n",
       "         1.2403e-05, 1.4315e-04, 3.5578e-02]))"
      ]
     },
     "execution_count": 23,
     "metadata": {},
     "output_type": "execute_result"
    }
   ],
   "source": [
    "learner.predict(\"dwight try to help him down\")"
   ]
  },
  {
   "cell_type": "code",
   "execution_count": 24,
   "id": "d37bd30b",
   "metadata": {},
   "outputs": [
    {
     "data": {
      "text/html": [
       "\n",
       "<style>\n",
       "    /* Turns off some styling */\n",
       "    progress {\n",
       "        /* gets rid of default border in Firefox and Opera. */\n",
       "        border: none;\n",
       "        /* Needs to be in here for Safari polyfill so background images work as expected. */\n",
       "        background-size: auto;\n",
       "    }\n",
       "    progress:not([value]), progress:not([value])::-webkit-progress-bar {\n",
       "        background: repeating-linear-gradient(45deg, #7e7e7e, #7e7e7e 10px, #5c5c5c 10px, #5c5c5c 20px);\n",
       "    }\n",
       "    .progress-bar-interrupted, .progress-bar-interrupted::-webkit-progress-bar {\n",
       "        background: #F44336;\n",
       "    }\n",
       "</style>\n"
      ],
      "text/plain": [
       "<IPython.core.display.HTML object>"
      ]
     },
     "metadata": {},
     "output_type": "display_data"
    },
    {
     "data": {
      "text/html": [],
      "text/plain": [
       "<IPython.core.display.HTML object>"
      ]
     },
     "metadata": {},
     "output_type": "display_data"
    },
    {
     "data": {
      "text/html": [
       "<table border=\"1\" class=\"dataframe\">\n",
       "  <thead>\n",
       "    <tr style=\"text-align: right;\">\n",
       "      <th></th>\n",
       "      <th>text</th>\n",
       "      <th>category</th>\n",
       "      <th>category_</th>\n",
       "    </tr>\n",
       "  </thead>\n",
       "  <tbody>\n",
       "    <tr>\n",
       "      <th>0</th>\n",
       "      <td>xxbos xxmaj look , i am not a xxunk . i ca n't … i ca n't dress like xxmaj donald xxmaj trump dresses . i have to stay within the parameters of my budget . i ca n't shop at a fancy xxmaj xxunk xxunk . i buy my xxunk the old fashioned way . i buy them from discount stores … or on ebay . xxmaj and when i found out that xxmaj xxunk was having a midnight xxunk sale , i ran , not walked , as per the instructions on the xxunk . xxmaj and i got there , and when the doors opened , all of these women ran to this one xxunk . xxmaj and i did too . xxmaj and i grabbed this suit . xxmaj and a woman , sort of a , i do n't know , xxmaj xxunk xxmaj elliot</td>\n",
       "      <td>Michael</td>\n",
       "      <td>Michael</td>\n",
       "    </tr>\n",
       "    <tr>\n",
       "      <th>1</th>\n",
       "      <td>xxbos xxmaj finally . xxmaj right ? xxmaj ok , xxmaj phyllis you must be exhausted from standing on those xxunk . xxmaj why do n't you have a seat ? [ phyllis sits ] xxmaj let 's all xxunk at xxmaj phyllis . [ everyone claps ] xxmaj ok ! [ in xxmaj michael xxmaj clump voice ] xxmaj when xxmaj michael xxmaj clump wants to remind you [ normal voice ] that corporate … their idea , yes , was to xxunk you to lose weight , but more xxunk what this whole thing is about , this contest is really about being healthy . xxmaj and in order to be healthy , you have to eat , xxmaj kelly . xxmaj kelly . [ xxunk down in front of xxmaj kelly , xxmaj dwight tries to help him down , xxmaj michael shouts xxunk at him ]</td>\n",
       "      <td>Michael</td>\n",
       "      <td>Michael</td>\n",
       "    </tr>\n",
       "    <tr>\n",
       "      <th>2</th>\n",
       "      <td>xxbos xxmaj hey , hey , hey , hey , hey , hey , hey , hey xxup it guy . xxmaj here 's the story , champ . xxmaj none of us have spent a lot of time getting to know you , okay ? xxmaj we liked the last guy , xxmaj xxunk , because he kept to himself , and we also thought he might have been a terrorist . xxmaj you know what , xxmaj i 'm going to leave you with one other thought . xxmaj inner city kids use computers for two things , games and porn . xxmaj so good luck wasting your life , lurch .</td>\n",
       "      <td>Dwight</td>\n",
       "      <td>Dwight</td>\n",
       "    </tr>\n",
       "    <tr>\n",
       "      <th>3</th>\n",
       "      <td>xxbos xxmaj hey everyone . xxmaj hi . xxmaj quite an afternoon , huh ? xxmaj cathartic in a way . xxmaj i 'm glad i got to share it with you . xxmaj it makes you think about what 's really important . [ pam hands xxmaj jim a note ] xxmaj it 's not about showing you 're in charge or flexing some sort of authority . xxmaj it 's about forgiveness . xxmaj and yes , xxmaj i 'm talking about you three in this desk clump right here . i think that , if you were to apologize to me , then i would revoke your suspension .</td>\n",
       "      <td>Gabe</td>\n",
       "      <td>Gabe</td>\n",
       "    </tr>\n",
       "    <tr>\n",
       "      <th>4</th>\n",
       "      <td>xxbos xxmaj hey everyone . xxmaj hi . xxmaj quite an afternoon , huh ? xxmaj cathartic in a way . xxmaj i 'm glad i got to share it with you . xxmaj it makes you think about what 's really important . [ pam hands xxmaj jim a note ] xxmaj it 's not about showing you 're in charge or flexing some sort of authority . xxmaj it 's about forgiveness . xxmaj and yes , xxmaj i 'm talking about you three in this desk clump right here . i think that , if you were to apologize to me , then i would revoke your suspension .</td>\n",
       "      <td>Gabe</td>\n",
       "      <td>Gabe</td>\n",
       "    </tr>\n",
       "    <tr>\n",
       "      <th>5</th>\n",
       "      <td>xxbos xxmaj hey everyone . xxmaj hi . xxmaj quite an afternoon , huh ? xxmaj cathartic in a way . xxmaj i 'm glad i got to share it with you . xxmaj it makes you think about what 's really important . [ pam hands xxmaj jim a note ] xxmaj it 's not about showing you 're in charge or flexing some sort of authority . xxmaj it 's about forgiveness . xxmaj and yes , xxmaj i 'm talking about you three in this desk clump right here . i think that , if you were to apologize to me , then i would revoke your suspension .</td>\n",
       "      <td>Gabe</td>\n",
       "      <td>Gabe</td>\n",
       "    </tr>\n",
       "    <tr>\n",
       "      <th>6</th>\n",
       "      <td>xxbos xxmaj hey everyone . xxmaj hi . xxmaj quite an afternoon , huh ? xxmaj cathartic in a way . xxmaj i 'm glad i got to share it with you . xxmaj it makes you think about what 's really important . [ pam hands xxmaj jim a note ] xxmaj it 's not about showing you 're in charge or flexing some sort of authority . xxmaj it 's about forgiveness . xxmaj and yes , xxmaj i 'm talking about you three in this desk clump right here . i think that , if you were to apologize to me , then i would revoke your suspension .</td>\n",
       "      <td>Gabe</td>\n",
       "      <td>Gabe</td>\n",
       "    </tr>\n",
       "    <tr>\n",
       "      <th>7</th>\n",
       "      <td>xxbos xxmaj when you 're a kid , you picture a pilot kinda like this [ imitates plane noises while steering wildly ] xxmaj but then you learn that 's crashing the plane . xxmaj the right way to do it is more like this . [ calmly pulls imaginary steering back and forth ] xxmaj or better yet , like this . [ takes hands off imaginary wheel ] xxmaj now that xxmaj i 'm manager , i think about that a lot . i let xxmaj dwight run the meetings , i let good people do good work and i stay out of the way .</td>\n",
       "      <td>Andy</td>\n",
       "      <td>Andy</td>\n",
       "    </tr>\n",
       "    <tr>\n",
       "      <th>8</th>\n",
       "      <td>xxbos [ on phone ] xxmaj so you have 40 boxes going out , and i will deliver those personally in a xxmaj xxunk . xxmaj very good , nice doing business with you . xxmaj thank you . [ hangs up ] xxmaj yes ! [ chuckles ] xxmaj oh , yeah ! xxmaj read it and xxunk . xxmaj oh ! xxmaj oh , look at that ! [ puts post - it on xxmaj phyllis ' forehead ] xxmaj look at me , xxmaj phyllis ! xxmaj oh , what is that ? xxmaj that 's my sale ! [ humming then dancing xxunk ]</td>\n",
       "      <td>Michael</td>\n",
       "      <td>Michael</td>\n",
       "    </tr>\n",
       "  </tbody>\n",
       "</table>"
      ],
      "text/plain": [
       "<IPython.core.display.HTML object>"
      ]
     },
     "metadata": {},
     "output_type": "display_data"
    }
   ],
   "source": [
    "learner.show_results()"
   ]
  },
  {
   "cell_type": "code",
   "execution_count": 25,
   "id": "f7bdf1d2",
   "metadata": {},
   "outputs": [
    {
     "data": {
      "text/html": [
       "\n",
       "<style>\n",
       "    /* Turns off some styling */\n",
       "    progress {\n",
       "        /* gets rid of default border in Firefox and Opera. */\n",
       "        border: none;\n",
       "        /* Needs to be in here for Safari polyfill so background images work as expected. */\n",
       "        background-size: auto;\n",
       "    }\n",
       "    progress:not([value]), progress:not([value])::-webkit-progress-bar {\n",
       "        background: repeating-linear-gradient(45deg, #7e7e7e, #7e7e7e 10px, #5c5c5c 10px, #5c5c5c 20px);\n",
       "    }\n",
       "    .progress-bar-interrupted, .progress-bar-interrupted::-webkit-progress-bar {\n",
       "        background: #F44336;\n",
       "    }\n",
       "</style>\n"
      ],
      "text/plain": [
       "<IPython.core.display.HTML object>"
      ]
     },
     "metadata": {},
     "output_type": "display_data"
    },
    {
     "data": {
      "text/html": [],
      "text/plain": [
       "<IPython.core.display.HTML object>"
      ]
     },
     "metadata": {},
     "output_type": "display_data"
    },
    {
     "data": {
      "text/plain": [
       "('Michael',\n",
       " tensor(13),\n",
       " tensor([2.2454e-04, 2.4613e-04, 4.6839e-05, 2.8063e-04, 9.5604e-04, 1.6492e-04,\n",
       "         3.9396e-06, 1.7633e-06, 3.5561e-03, 1.9874e-02, 2.5445e-04, 1.5824e-05,\n",
       "         1.7761e-06, 9.5955e-01, 7.2792e-06, 9.3409e-05, 1.2940e-02, 6.8988e-05,\n",
       "         1.6365e-03, 1.6060e-05, 6.3151e-05]))"
      ]
     },
     "execution_count": 25,
     "metadata": {},
     "output_type": "execute_result"
    }
   ],
   "source": [
    "learner.predict(\"hes totally qualified, and smart, everyone loves him\")"
   ]
  },
  {
   "cell_type": "code",
   "execution_count": 26,
   "id": "7b5e48e8",
   "metadata": {},
   "outputs": [],
   "source": [
    "# learner.save('35epoch_all_lines')\n",
    "# learner.export('35epoch_15000_lines')"
   ]
  },
  {
   "cell_type": "code",
   "execution_count": null,
   "id": "60df474f",
   "metadata": {},
   "outputs": [],
   "source": []
  }
 ],
 "metadata": {
  "kernelspec": {
   "display_name": "Python 3 (ipykernel)",
   "language": "python",
   "name": "python3"
  },
  "language_info": {
   "codemirror_mode": {
    "name": "ipython",
    "version": 3
   },
   "file_extension": ".py",
   "mimetype": "text/x-python",
   "name": "python",
   "nbconvert_exporter": "python",
   "pygments_lexer": "ipython3",
   "version": "3.10.9"
  }
 },
 "nbformat": 4,
 "nbformat_minor": 5
}
