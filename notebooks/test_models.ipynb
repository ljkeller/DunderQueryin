{
 "cells": [
  {
   "cell_type": "code",
   "execution_count": 1,
   "id": "8447ea30",
   "metadata": {},
   "outputs": [],
   "source": [
    "from fastai.text.all import *\n",
    "from fastai.text.learner import *\n",
    "from pathlib import Path\n",
    "\n",
    "pd.options.display.max_rows = 20\n",
    "pd.options.display.max_columns = 8\n",
    "%config InteractiveShell.ast_node_interactivity='last_expr_or_assign'"
   ]
  },
  {
   "cell_type": "code",
   "execution_count": 2,
   "id": "ef4f2944",
   "metadata": {},
   "outputs": [
    {
     "data": {
      "text/plain": [
       "<fastai.text.learner.TextLearner at 0x7f82d9d4b700>"
      ]
     },
     "execution_count": 2,
     "metadata": {},
     "output_type": "execute_result"
    }
   ],
   "source": [
    "learner = load_learner('/home/lucaskeller/code/ai/weights/best/ULMFit_train_test_oversampled_30_epoch', cpu=False)"
   ]
  },
  {
   "cell_type": "code",
   "execution_count": 3,
   "id": "08d115eb",
   "metadata": {
    "scrolled": false
   },
   "outputs": [
    {
     "data": {
      "text/html": [
       "<div>\n",
       "<style scoped>\n",
       "    .dataframe tbody tr th:only-of-type {\n",
       "        vertical-align: middle;\n",
       "    }\n",
       "\n",
       "    .dataframe tbody tr th {\n",
       "        vertical-align: top;\n",
       "    }\n",
       "\n",
       "    .dataframe thead th {\n",
       "        text-align: right;\n",
       "    }\n",
       "</style>\n",
       "<table border=\"1\" class=\"dataframe\">\n",
       "  <thead>\n",
       "    <tr style=\"text-align: right;\">\n",
       "      <th></th>\n",
       "      <th>season</th>\n",
       "      <th>episode</th>\n",
       "      <th>scene</th>\n",
       "      <th>line_text</th>\n",
       "      <th>speaker</th>\n",
       "      <th>deleted</th>\n",
       "    </tr>\n",
       "  </thead>\n",
       "  <tbody>\n",
       "    <tr>\n",
       "      <th>0</th>\n",
       "      <td>3</td>\n",
       "      <td>16</td>\n",
       "      <td>29</td>\n",
       "      <td>Don't hurt that bat, Creed! It's a living thing with feelings and a family!</td>\n",
       "      <td>Kelly</td>\n",
       "      <td>False</td>\n",
       "    </tr>\n",
       "    <tr>\n",
       "      <th>1</th>\n",
       "      <td>7</td>\n",
       "      <td>7</td>\n",
       "      <td>27</td>\n",
       "      <td>I cancelled my plans to come to this thing, and they repay me with this?</td>\n",
       "      <td>Kevin</td>\n",
       "      <td>False</td>\n",
       "    </tr>\n",
       "    <tr>\n",
       "      <th>2</th>\n",
       "      <td>8</td>\n",
       "      <td>13</td>\n",
       "      <td>25</td>\n",
       "      <td>Oh, yes. Oh, what a beautiful child. Prominent forehead, short arms, tiny nose. You will lead millions... [whispers] willingly, or as slaves.</td>\n",
       "      <td>Dwight</td>\n",
       "      <td>False</td>\n",
       "    </tr>\n",
       "    <tr>\n",
       "      <th>3</th>\n",
       "      <td>2</td>\n",
       "      <td>17</td>\n",
       "      <td>18</td>\n",
       "      <td>Brad Pitt. Also there will be no bonuses.</td>\n",
       "      <td>Dwight</td>\n",
       "      <td>False</td>\n",
       "    </tr>\n",
       "    <tr>\n",
       "      <th>4</th>\n",
       "      <td>5</td>\n",
       "      <td>4</td>\n",
       "      <td>32</td>\n",
       "      <td>Okay, alright. Hey, you know what? I would appreciate it if people would stop storming off the stage.</td>\n",
       "      <td>Michael</td>\n",
       "      <td>False</td>\n",
       "    </tr>\n",
       "    <tr>\n",
       "      <th>...</th>\n",
       "      <td>...</td>\n",
       "      <td>...</td>\n",
       "      <td>...</td>\n",
       "      <td>...</td>\n",
       "      <td>...</td>\n",
       "      <td>...</td>\n",
       "    </tr>\n",
       "    <tr>\n",
       "      <th>7827</th>\n",
       "      <td>9</td>\n",
       "      <td>7</td>\n",
       "      <td>32</td>\n",
       "      <td>Yeah.</td>\n",
       "      <td>Pam</td>\n",
       "      <td>False</td>\n",
       "    </tr>\n",
       "    <tr>\n",
       "      <th>7828</th>\n",
       "      <td>4</td>\n",
       "      <td>3</td>\n",
       "      <td>25</td>\n",
       "      <td>Alright.  Well fight it out amongst yourselves.  I was thinking Pammy but boys night out is also good.</td>\n",
       "      <td>Michael</td>\n",
       "      <td>False</td>\n",
       "    </tr>\n",
       "    <tr>\n",
       "      <th>7829</th>\n",
       "      <td>7</td>\n",
       "      <td>8</td>\n",
       "      <td>19</td>\n",
       "      <td>Rachel.</td>\n",
       "      <td>Kelly</td>\n",
       "      <td>False</td>\n",
       "    </tr>\n",
       "    <tr>\n",
       "      <th>7830</th>\n",
       "      <td>8</td>\n",
       "      <td>21</td>\n",
       "      <td>19</td>\n",
       "      <td>[chuckling] Okay.</td>\n",
       "      <td>Andy</td>\n",
       "      <td>False</td>\n",
       "    </tr>\n",
       "    <tr>\n",
       "      <th>7831</th>\n",
       "      <td>2</td>\n",
       "      <td>8</td>\n",
       "      <td>43</td>\n",
       "      <td>Next suggestion.</td>\n",
       "      <td>Dwight</td>\n",
       "      <td>True</td>\n",
       "    </tr>\n",
       "  </tbody>\n",
       "</table>\n",
       "<p>7832 rows × 6 columns</p>\n",
       "</div>"
      ],
      "text/plain": [
       "      season  episode  scene  \\\n",
       "0          3       16     29   \n",
       "1          7        7     27   \n",
       "2          8       13     25   \n",
       "3          2       17     18   \n",
       "4          5        4     32   \n",
       "...      ...      ...    ...   \n",
       "7827       9        7     32   \n",
       "7828       4        3     25   \n",
       "7829       7        8     19   \n",
       "7830       8       21     19   \n",
       "7831       2        8     43   \n",
       "\n",
       "                                                                                                                                          line_text  \\\n",
       "0                                                                       Don't hurt that bat, Creed! It's a living thing with feelings and a family!   \n",
       "1                                                                          I cancelled my plans to come to this thing, and they repay me with this?   \n",
       "2     Oh, yes. Oh, what a beautiful child. Prominent forehead, short arms, tiny nose. You will lead millions... [whispers] willingly, or as slaves.   \n",
       "3                                                                                                         Brad Pitt. Also there will be no bonuses.   \n",
       "4                                             Okay, alright. Hey, you know what? I would appreciate it if people would stop storming off the stage.   \n",
       "...                                                                                                                                             ...   \n",
       "7827                                                                                                                                          Yeah.   \n",
       "7828                                         Alright.  Well fight it out amongst yourselves.  I was thinking Pammy but boys night out is also good.   \n",
       "7829                                                                                                                                        Rachel.   \n",
       "7830                                                                                                                              [chuckling] Okay.   \n",
       "7831                                                                                                                               Next suggestion.   \n",
       "\n",
       "      speaker  deleted  \n",
       "0       Kelly    False  \n",
       "1       Kevin    False  \n",
       "2      Dwight    False  \n",
       "3      Dwight    False  \n",
       "4     Michael    False  \n",
       "...       ...      ...  \n",
       "7827      Pam    False  \n",
       "7828  Michael    False  \n",
       "7829    Kelly    False  \n",
       "7830     Andy    False  \n",
       "7831   Dwight     True  \n",
       "\n",
       "[7832 rows x 6 columns]"
      ]
     },
     "execution_count": 3,
     "metadata": {},
     "output_type": "execute_result"
    }
   ],
   "source": [
    "df_test = pd.read_csv('../data/test21_shuffled.csv')"
   ]
  },
  {
   "cell_type": "code",
   "execution_count": 4,
   "id": "8eb6a1bb",
   "metadata": {},
   "outputs": [
    {
     "data": {
      "text/html": [
       "\n",
       "<style>\n",
       "    /* Turns off some styling */\n",
       "    progress {\n",
       "        /* gets rid of default border in Firefox and Opera. */\n",
       "        border: none;\n",
       "        /* Needs to be in here for Safari polyfill so background images work as expected. */\n",
       "        background-size: auto;\n",
       "    }\n",
       "    progress:not([value]), progress:not([value])::-webkit-progress-bar {\n",
       "        background: repeating-linear-gradient(45deg, #7e7e7e, #7e7e7e 10px, #5c5c5c 10px, #5c5c5c 20px);\n",
       "    }\n",
       "    .progress-bar-interrupted, .progress-bar-interrupted::-webkit-progress-bar {\n",
       "        background: #F44336;\n",
       "    }\n",
       "</style>\n"
      ],
      "text/plain": [
       "<IPython.core.display.HTML object>"
      ]
     },
     "metadata": {},
     "output_type": "display_data"
    },
    {
     "data": {
      "text/html": [],
      "text/plain": [
       "<IPython.core.display.HTML object>"
      ]
     },
     "metadata": {},
     "output_type": "display_data"
    },
    {
     "data": {
      "text/plain": [
       "<fastai.data.core.DataLoaders at 0x7f82b58fa8c0>"
      ]
     },
     "execution_count": 4,
     "metadata": {},
     "output_type": "execute_result"
    }
   ],
   "source": [
    "dl_test = TextDataLoaders.from_df(df_test, text_col='line_text', label_col='speaker', shuffled=False, vocab=learner.dls.vocab)"
   ]
  },
  {
   "cell_type": "code",
   "execution_count": 5,
   "id": "58efd556",
   "metadata": {
    "scrolled": true
   },
   "outputs": [
    {
     "data": {
      "text/html": [
       "<table border=\"1\" class=\"dataframe\">\n",
       "  <thead>\n",
       "    <tr style=\"text-align: right;\">\n",
       "      <th></th>\n",
       "      <th>text</th>\n",
       "      <th>category</th>\n",
       "    </tr>\n",
       "  </thead>\n",
       "  <tbody>\n",
       "    <tr>\n",
       "      <th>0</th>\n",
       "      <td>xxbos [ runs over after walking over fire xxunk ] xxmaj hey ! i want to say something . xxmaj i 've been trying to be more honest lately and i just need to say a few things . i did the coal walk ! xxmaj just , i did it ! xxmaj michael , you could n't even do that . xxmaj maybe i should be your boss ? xxmaj wow , i feel really good right now . xxmaj why did n't any of you come to my art show ? i invited all of you . xxmaj that really xxunk . xxmaj it 's like sometimes some of you act like i do n't even exist . [ turns and looks directly at xxmaj jim ] xxmaj jim , i called off my wedding because of you . xxmaj and now we 're not even friends .</td>\n",
       "      <td>Pam</td>\n",
       "    </tr>\n",
       "    <tr>\n",
       "      <th>1</th>\n",
       "      <td>xxbos xxmaj you may be asking yourself , ' what am i doing on a xxunk ? ' xxmaj well , i thought xxmaj i 'd xxunk here for a while , xxunk some xxunk , and then move on with my day . xxmaj not ! xxmaj here 's the plan . xxmaj dwight , is going to gather all of the office workers and all of the warehouse guys , we 're going to have another safety xxunk . xxmaj only this time , where 's xxmaj michael ? xxmaj oh my xxmaj god ! xxmaj he is on the roof ! xxmaj now i have got their attention . i … tell them , about the cold hard facts of depression . xxmaj and then i say , ' hey ! xxmaj you ever seen a suicide ? ' xxmaj and i jump . xxmaj and they</td>\n",
       "      <td>Michael</td>\n",
       "    </tr>\n",
       "    <tr>\n",
       "      <th>2</th>\n",
       "      <td>xxbos xxmaj well xxmaj i 'm sure that you must all have very , very busy xxunk , so i appreciate you meeting with us here today . xxmaj what this is is a business that i have worked toward my entire life . xxmaj hey ! [ snaps in front of sleeping old man ] i have xxunk what i believe to be the most exciting , xxunk - after talent in the industry today . xxmaj ladies and gentlemen , i present to you the dream team . xxmaj from our very own xxmaj scranton , xxmaj pennsylvania - xxmaj pam xxmaj beesly . xxmaj pretty xxmaj pam is always xxunk for the stars and xxunk , she may just surprise us all and grab one . xxmaj meet xxmaj xxunk . xxmaj from his xxunk xxunk as a - stay standing - from his xxunk xxunk as</td>\n",
       "      <td>Michael</td>\n",
       "    </tr>\n",
       "    <tr>\n",
       "      <th>3</th>\n",
       "      <td>xxbos xxmaj xxunk . xxmaj okay . xxmaj all right . xxmaj it 's time to be boss . xxmaj it 's time to motivate . xxmaj let 's blow some xxunk here . xxmaj okay , guys , guys , cool it . xxmaj everybody , dunder - mifflin xxmaj scranton employees , xxmaj brenda , i have some very , very xxunk news i need to tell everybody right now . xxmaj listen up . xxmaj the ship is xxunk ! xxmaj okay ? xxmaj we 're going down , right now . xxmaj just wrap your heads around the xxunk of that . xxmaj shh , please ! xxmaj everybody , it 's my turn now , okay ? xxmaj xxunk xxmaj jack is gone . xxmaj in five minutes , this ship is going to be at the bottom of the lake ! xxmaj and there</td>\n",
       "      <td>Michael</td>\n",
       "    </tr>\n",
       "    <tr>\n",
       "      <th>4</th>\n",
       "      <td>xxbos i had promised xxmaj carol a romantic evening on the town . xxmaj um , i wanted to take her on this spooky hay ride thing , but it was like seventy dollars a person , and she 's allergic to hay . xxmaj so i said , ' pop a xxmaj xxunk , and i will spot you the seventy bucks , ' and she 's like ' i do n't like to xxunk money or take xxunk xxunk . ' xxmaj and xxmaj i 'm like , ' well you 're really not gon na like what i xxunk in your drink last night . ' xxmaj and she 's like , ' what the hell are you talking about ? ' xxmaj and xxmaj i 'm like , ' i 'm kidding . i did n't put a roof … ' [ xxunk himself up ]</td>\n",
       "      <td>Michael</td>\n",
       "    </tr>\n",
       "    <tr>\n",
       "      <th>5</th>\n",
       "      <td>xxbos i am going to throw you this ball . xxmaj when you catch the ball , i want you to say the name of a person very important to you , somebody really special who died , and then i want you to say how they died , and you may cry if you like , that is xxunk . xxmaj let me just start . xxmaj let me show you how this works . i catch the ball . i lost xxmaj ed xxmaj truck . xxmaj and … it feels like somebody took my heart and dropped it into a xxunk of xxunk tears … and at the same time , somebody else is xxunk my xxunk in the crotch with a frozen xxunk … and then a third guy walks in and starts punching me in the grief xxunk … and xxmaj i 'm crying ,</td>\n",
       "      <td>Michael</td>\n",
       "    </tr>\n",
       "    <tr>\n",
       "      <th>6</th>\n",
       "      <td>xxbos [ walks into xxmaj xxunk office , xxunk the top of the pen that he xxunk in xxmaj jim 's pen xxunk which has a bug in it , pushes play ] [ jim 's voice ] ' we have our high quality xxunk pound bond , our xxunk xxunk pound bond , or our … ' [ pauses recording ] xxmaj i 've got eight hours of this . xxmaj of course i wanted xxmaj jim to find the mallard , make him feel safe . xxmaj did you really think i would put my xxunk listening device in a wooden mallard ? xxmaj i 'm not insane . [ starts the recording again ] ' … 65 pound cover stock , which is the xxunk paper that will still xxunk xxunk through your xxunk printer . '</td>\n",
       "      <td>Dwight</td>\n",
       "    </tr>\n",
       "    <tr>\n",
       "      <th>7</th>\n",
       "      <td>xxbos xxmaj ah . xxmaj all right . i came here today because i promised you tuition and tuition is very valuable . xxmaj but you know what 's xxunk is xxunk . xxmaj you know what that is ? xxmaj that is the xxunk to know when something is about to happen . xxmaj does anybody out there have xxunk ? xxmaj know what 's gon na happen next ? xxmaj nobody ? xxmaj okay , you 're going to make me say it . xxmaj all right , i am so proud of all of you . xxmaj xxunk , and xxmaj xxunk , and xxmaj xxunk , and xxmaj xxunk , and xxmaj xxunk , and xxmaj xxunk and xxmaj xxunk , and … xxmaj i 'm sorry , okay , sorry xxunk , your name ?</td>\n",
       "      <td>Michael</td>\n",
       "    </tr>\n",
       "    <tr>\n",
       "      <th>8</th>\n",
       "      <td>xxbos xxmaj how many of you have at one time gone to xxmaj toby to xxunk about another employee ? [ looks at all the employees , most of xxunk raise their hands ] xxmaj and … did you get what you wanted , or were you xxunk listened to , you forget about your problem , and you move on ? [ employees xxunk ' xxunk listen to and xxunk … ' ] xxmaj that is xxunk ! i love this place … and it xxunk me to see all of the xxunk xxunk … [ sighs ] xxmaj okay , today we are going to get everything out of these files and into the open , where it can be xxunk . xxmaj alright , how about the xxmaj phyllis / xxmaj angela xxunk ?</td>\n",
       "      <td>Michael</td>\n",
       "    </tr>\n",
       "  </tbody>\n",
       "</table>"
      ],
      "text/plain": [
       "<IPython.core.display.HTML object>"
      ]
     },
     "metadata": {},
     "output_type": "display_data"
    }
   ],
   "source": [
    "dl_test.show_batch()"
   ]
  },
  {
   "cell_type": "code",
   "execution_count": 6,
   "id": "aaf0d28a",
   "metadata": {},
   "outputs": [
    {
     "data": {
      "text/html": [
       "\n",
       "<style>\n",
       "    /* Turns off some styling */\n",
       "    progress {\n",
       "        /* gets rid of default border in Firefox and Opera. */\n",
       "        border: none;\n",
       "        /* Needs to be in here for Safari polyfill so background images work as expected. */\n",
       "        background-size: auto;\n",
       "    }\n",
       "    progress:not([value]), progress:not([value])::-webkit-progress-bar {\n",
       "        background: repeating-linear-gradient(45deg, #7e7e7e, #7e7e7e 10px, #5c5c5c 10px, #5c5c5c 20px);\n",
       "    }\n",
       "    .progress-bar-interrupted, .progress-bar-interrupted::-webkit-progress-bar {\n",
       "        background: #F44336;\n",
       "    }\n",
       "</style>\n"
      ],
      "text/plain": [
       "<IPython.core.display.HTML object>"
      ]
     },
     "metadata": {},
     "output_type": "display_data"
    },
    {
     "data": {
      "text/html": [],
      "text/plain": [
       "<IPython.core.display.HTML object>"
      ]
     },
     "metadata": {},
     "output_type": "display_data"
    },
    {
     "data": {
      "text/plain": [
       "(tensor([[1.9748e-01, 1.6208e-03, 3.4234e-05,  ..., 3.5269e-03, 2.4520e-02,\n",
       "          5.2525e-03],\n",
       "         [4.3521e-03, 1.1670e-03, 1.9047e-04,  ..., 6.4782e-04, 2.5925e-06,\n",
       "          4.8559e-05],\n",
       "         [5.0538e-03, 2.6081e-06, 1.0902e-09,  ..., 1.6600e-07, 1.4115e-07,\n",
       "          2.6411e-07],\n",
       "         ...,\n",
       "         [4.0242e-03, 1.3277e-02, 1.0784e-02,  ..., 1.2981e-03, 2.0108e-03,\n",
       "          9.7722e-04],\n",
       "         [9.8535e-04, 1.1247e-04, 2.1159e-05,  ..., 8.3033e-04, 2.5602e-07,\n",
       "          4.2552e-06],\n",
       "         [1.5209e-02, 3.4057e-03, 1.4970e-05,  ..., 7.1255e-02, 5.5368e-04,\n",
       "          2.0852e-04]]),\n",
       " tensor([ 2, 11, 13,  ...,  0,  4, 16]))"
      ]
     },
     "execution_count": 6,
     "metadata": {},
     "output_type": "execute_result"
    }
   ],
   "source": [
    "preds = learner.get_preds(dl=dl_test.train)"
   ]
  },
  {
   "cell_type": "code",
   "execution_count": 7,
   "id": "3eef1ae6",
   "metadata": {},
   "outputs": [
    {
     "data": {
      "text/plain": [
       "TensorBase(0.1617)"
      ]
     },
     "execution_count": 7,
     "metadata": {},
     "output_type": "execute_result"
    }
   ],
   "source": [
    "accuracy(preds[0], preds[1])"
   ]
  },
  {
   "cell_type": "code",
   "execution_count": 8,
   "id": "713cd92d",
   "metadata": {},
   "outputs": [
    {
     "data": {
      "text/html": [
       "\n",
       "<style>\n",
       "    /* Turns off some styling */\n",
       "    progress {\n",
       "        /* gets rid of default border in Firefox and Opera. */\n",
       "        border: none;\n",
       "        /* Needs to be in here for Safari polyfill so background images work as expected. */\n",
       "        background-size: auto;\n",
       "    }\n",
       "    progress:not([value]), progress:not([value])::-webkit-progress-bar {\n",
       "        background: repeating-linear-gradient(45deg, #7e7e7e, #7e7e7e 10px, #5c5c5c 10px, #5c5c5c 20px);\n",
       "    }\n",
       "    .progress-bar-interrupted, .progress-bar-interrupted::-webkit-progress-bar {\n",
       "        background: #F44336;\n",
       "    }\n",
       "</style>\n"
      ],
      "text/plain": [
       "<IPython.core.display.HTML object>"
      ]
     },
     "metadata": {},
     "output_type": "display_data"
    },
    {
     "data": {
      "text/html": [],
      "text/plain": [
       "<IPython.core.display.HTML object>"
      ]
     },
     "metadata": {},
     "output_type": "display_data"
    },
    {
     "data": {
      "text/plain": [
       "TensorBase(0.1539)"
      ]
     },
     "execution_count": 8,
     "metadata": {},
     "output_type": "execute_result"
    }
   ],
   "source": [
    "preds = learner.get_preds(dl=dl_test.valid)\n",
    "accuracy(preds[0], preds[1])"
   ]
  },
  {
   "cell_type": "code",
   "execution_count": 9,
   "id": "5ed985ff",
   "metadata": {},
   "outputs": [
    {
     "data": {
      "text/html": [
       "\n",
       "<style>\n",
       "    /* Turns off some styling */\n",
       "    progress {\n",
       "        /* gets rid of default border in Firefox and Opera. */\n",
       "        border: none;\n",
       "        /* Needs to be in here for Safari polyfill so background images work as expected. */\n",
       "        background-size: auto;\n",
       "    }\n",
       "    progress:not([value]), progress:not([value])::-webkit-progress-bar {\n",
       "        background: repeating-linear-gradient(45deg, #7e7e7e, #7e7e7e 10px, #5c5c5c 10px, #5c5c5c 20px);\n",
       "    }\n",
       "    .progress-bar-interrupted, .progress-bar-interrupted::-webkit-progress-bar {\n",
       "        background: #F44336;\n",
       "    }\n",
       "</style>\n"
      ],
      "text/plain": [
       "<IPython.core.display.HTML object>"
      ]
     },
     "metadata": {},
     "output_type": "display_data"
    },
    {
     "data": {
      "text/html": [],
      "text/plain": [
       "<IPython.core.display.HTML object>"
      ]
     },
     "metadata": {},
     "output_type": "display_data"
    },
    {
     "data": {
      "text/plain": [
       "('Dwight',\n",
       " tensor(4),\n",
       " tensor([4.4067e-08, 1.9779e-07, 1.4753e-08, 7.3811e-07, 9.9991e-01, 1.3979e-06,\n",
       "         7.6203e-11, 1.0005e-08, 5.1318e-08, 8.9002e-06, 8.4859e-10, 5.7138e-07,\n",
       "         7.8453e-09, 7.4016e-05, 1.2424e-06, 3.4112e-08, 1.3977e-06, 8.6221e-07,\n",
       "         6.5508e-07, 1.1363e-07, 9.5186e-07]))"
      ]
     },
     "execution_count": 9,
     "metadata": {},
     "output_type": "execute_result"
    }
   ],
   "source": [
    "learner.predict('Oh, yes. Oh, what a beautiful child. Prominent forehead, short arms, tiny nose. You will lead millions... [whispers] willingly, or as slaves.\t')"
   ]
  },
  {
   "cell_type": "code",
   "execution_count": 10,
   "id": "88f78a38",
   "metadata": {},
   "outputs": [
    {
     "data": {
      "text/plain": [
       "0        True\n",
       "1        True\n",
       "2        True\n",
       "3        True\n",
       "4        True\n",
       "        ...  \n",
       "7827    False\n",
       "7828     True\n",
       "7829    False\n",
       "7830    False\n",
       "7831    False\n",
       "Name: line_text, Length: 7832, dtype: bool"
      ]
     },
     "execution_count": 10,
     "metadata": {},
     "output_type": "execute_result"
    }
   ],
   "source": [
    "mask = (df_test['line_text'].str.count(' ') > 4)"
   ]
  },
  {
   "cell_type": "code",
   "execution_count": 11,
   "id": "8b9a9058",
   "metadata": {},
   "outputs": [
    {
     "data": {
      "text/html": [
       "<div>\n",
       "<style scoped>\n",
       "    .dataframe tbody tr th:only-of-type {\n",
       "        vertical-align: middle;\n",
       "    }\n",
       "\n",
       "    .dataframe tbody tr th {\n",
       "        vertical-align: top;\n",
       "    }\n",
       "\n",
       "    .dataframe thead th {\n",
       "        text-align: right;\n",
       "    }\n",
       "</style>\n",
       "<table border=\"1\" class=\"dataframe\">\n",
       "  <thead>\n",
       "    <tr style=\"text-align: right;\">\n",
       "      <th></th>\n",
       "      <th>season</th>\n",
       "      <th>episode</th>\n",
       "      <th>scene</th>\n",
       "      <th>line_text</th>\n",
       "      <th>speaker</th>\n",
       "      <th>deleted</th>\n",
       "    </tr>\n",
       "  </thead>\n",
       "  <tbody>\n",
       "    <tr>\n",
       "      <th>0</th>\n",
       "      <td>3</td>\n",
       "      <td>16</td>\n",
       "      <td>29</td>\n",
       "      <td>Don't hurt that bat, Creed! It's a living thing with feelings and a family!</td>\n",
       "      <td>Kelly</td>\n",
       "      <td>False</td>\n",
       "    </tr>\n",
       "    <tr>\n",
       "      <th>1</th>\n",
       "      <td>7</td>\n",
       "      <td>7</td>\n",
       "      <td>27</td>\n",
       "      <td>I cancelled my plans to come to this thing, and they repay me with this?</td>\n",
       "      <td>Kevin</td>\n",
       "      <td>False</td>\n",
       "    </tr>\n",
       "    <tr>\n",
       "      <th>2</th>\n",
       "      <td>8</td>\n",
       "      <td>13</td>\n",
       "      <td>25</td>\n",
       "      <td>Oh, yes. Oh, what a beautiful child. Prominent forehead, short arms, tiny nose. You will lead millions... [whispers] willingly, or as slaves.</td>\n",
       "      <td>Dwight</td>\n",
       "      <td>False</td>\n",
       "    </tr>\n",
       "    <tr>\n",
       "      <th>3</th>\n",
       "      <td>2</td>\n",
       "      <td>17</td>\n",
       "      <td>18</td>\n",
       "      <td>Brad Pitt. Also there will be no bonuses.</td>\n",
       "      <td>Dwight</td>\n",
       "      <td>False</td>\n",
       "    </tr>\n",
       "    <tr>\n",
       "      <th>4</th>\n",
       "      <td>5</td>\n",
       "      <td>4</td>\n",
       "      <td>32</td>\n",
       "      <td>Okay, alright. Hey, you know what? I would appreciate it if people would stop storming off the stage.</td>\n",
       "      <td>Michael</td>\n",
       "      <td>False</td>\n",
       "    </tr>\n",
       "    <tr>\n",
       "      <th>...</th>\n",
       "      <td>...</td>\n",
       "      <td>...</td>\n",
       "      <td>...</td>\n",
       "      <td>...</td>\n",
       "      <td>...</td>\n",
       "      <td>...</td>\n",
       "    </tr>\n",
       "    <tr>\n",
       "      <th>7818</th>\n",
       "      <td>3</td>\n",
       "      <td>16</td>\n",
       "      <td>25</td>\n",
       "      <td>Oh, thank God. I have such a headache from that glare.</td>\n",
       "      <td>Jim</td>\n",
       "      <td>False</td>\n",
       "    </tr>\n",
       "    <tr>\n",
       "      <th>7819</th>\n",
       "      <td>4</td>\n",
       "      <td>4</td>\n",
       "      <td>35</td>\n",
       "      <td>I am going with the vanilla crisp this evening.</td>\n",
       "      <td>Michael</td>\n",
       "      <td>False</td>\n",
       "    </tr>\n",
       "    <tr>\n",
       "      <th>7823</th>\n",
       "      <td>2</td>\n",
       "      <td>14</td>\n",
       "      <td>14</td>\n",
       "      <td>[barely stifling laughter] It wasn't me.  Um... it wasn't me. [regaining composure] It was not me.</td>\n",
       "      <td>Ryan</td>\n",
       "      <td>False</td>\n",
       "    </tr>\n",
       "    <tr>\n",
       "      <th>7825</th>\n",
       "      <td>2</td>\n",
       "      <td>5</td>\n",
       "      <td>34</td>\n",
       "      <td>Okay, well... I already picked you. And you know that. So, unless I just go through with this, you're always gonna look at me as the guy who almost fired you.</td>\n",
       "      <td>Michael</td>\n",
       "      <td>False</td>\n",
       "    </tr>\n",
       "    <tr>\n",
       "      <th>7828</th>\n",
       "      <td>4</td>\n",
       "      <td>3</td>\n",
       "      <td>25</td>\n",
       "      <td>Alright.  Well fight it out amongst yourselves.  I was thinking Pammy but boys night out is also good.</td>\n",
       "      <td>Michael</td>\n",
       "      <td>False</td>\n",
       "    </tr>\n",
       "  </tbody>\n",
       "</table>\n",
       "<p>3754 rows × 6 columns</p>\n",
       "</div>"
      ],
      "text/plain": [
       "      season  episode  scene  \\\n",
       "0          3       16     29   \n",
       "1          7        7     27   \n",
       "2          8       13     25   \n",
       "3          2       17     18   \n",
       "4          5        4     32   \n",
       "...      ...      ...    ...   \n",
       "7818       3       16     25   \n",
       "7819       4        4     35   \n",
       "7823       2       14     14   \n",
       "7825       2        5     34   \n",
       "7828       4        3     25   \n",
       "\n",
       "                                                                                                                                                           line_text  \\\n",
       "0                                                                                        Don't hurt that bat, Creed! It's a living thing with feelings and a family!   \n",
       "1                                                                                           I cancelled my plans to come to this thing, and they repay me with this?   \n",
       "2                      Oh, yes. Oh, what a beautiful child. Prominent forehead, short arms, tiny nose. You will lead millions... [whispers] willingly, or as slaves.   \n",
       "3                                                                                                                          Brad Pitt. Also there will be no bonuses.   \n",
       "4                                                              Okay, alright. Hey, you know what? I would appreciate it if people would stop storming off the stage.   \n",
       "...                                                                                                                                                              ...   \n",
       "7818                                                                                                          Oh, thank God. I have such a headache from that glare.   \n",
       "7819                                                                                                                 I am going with the vanilla crisp this evening.   \n",
       "7823                                                              [barely stifling laughter] It wasn't me.  Um... it wasn't me. [regaining composure] It was not me.   \n",
       "7825  Okay, well... I already picked you. And you know that. So, unless I just go through with this, you're always gonna look at me as the guy who almost fired you.   \n",
       "7828                                                          Alright.  Well fight it out amongst yourselves.  I was thinking Pammy but boys night out is also good.   \n",
       "\n",
       "      speaker  deleted  \n",
       "0       Kelly    False  \n",
       "1       Kevin    False  \n",
       "2      Dwight    False  \n",
       "3      Dwight    False  \n",
       "4     Michael    False  \n",
       "...       ...      ...  \n",
       "7818      Jim    False  \n",
       "7819  Michael    False  \n",
       "7823     Ryan    False  \n",
       "7825  Michael    False  \n",
       "7828  Michael    False  \n",
       "\n",
       "[3754 rows x 6 columns]"
      ]
     },
     "execution_count": 11,
     "metadata": {},
     "output_type": "execute_result"
    }
   ],
   "source": [
    "# Keep only entries with 5 or more words\n",
    "df_filtered = df_test[df_test['line_text'].str.count(' ') > 6]"
   ]
  },
  {
   "cell_type": "code",
   "execution_count": 12,
   "id": "0a4915df",
   "metadata": {},
   "outputs": [
    {
     "data": {
      "text/html": [
       "<div>\n",
       "<style scoped>\n",
       "    .dataframe tbody tr th:only-of-type {\n",
       "        vertical-align: middle;\n",
       "    }\n",
       "\n",
       "    .dataframe tbody tr th {\n",
       "        vertical-align: top;\n",
       "    }\n",
       "\n",
       "    .dataframe thead th {\n",
       "        text-align: right;\n",
       "    }\n",
       "</style>\n",
       "<table border=\"1\" class=\"dataframe\">\n",
       "  <thead>\n",
       "    <tr style=\"text-align: right;\">\n",
       "      <th></th>\n",
       "      <th>index</th>\n",
       "      <th>season</th>\n",
       "      <th>episode</th>\n",
       "      <th>scene</th>\n",
       "      <th>line_text</th>\n",
       "      <th>speaker</th>\n",
       "      <th>deleted</th>\n",
       "    </tr>\n",
       "  </thead>\n",
       "  <tbody>\n",
       "    <tr>\n",
       "      <th>0</th>\n",
       "      <td>0</td>\n",
       "      <td>3</td>\n",
       "      <td>16</td>\n",
       "      <td>29</td>\n",
       "      <td>Don't hurt that bat, Creed! It's a living thing with feelings and a family!</td>\n",
       "      <td>Kelly</td>\n",
       "      <td>False</td>\n",
       "    </tr>\n",
       "    <tr>\n",
       "      <th>1</th>\n",
       "      <td>1</td>\n",
       "      <td>7</td>\n",
       "      <td>7</td>\n",
       "      <td>27</td>\n",
       "      <td>I cancelled my plans to come to this thing, and they repay me with this?</td>\n",
       "      <td>Kevin</td>\n",
       "      <td>False</td>\n",
       "    </tr>\n",
       "    <tr>\n",
       "      <th>2</th>\n",
       "      <td>2</td>\n",
       "      <td>8</td>\n",
       "      <td>13</td>\n",
       "      <td>25</td>\n",
       "      <td>Oh, yes. Oh, what a beautiful child. Prominent forehead, short arms, tiny nose. You will lead millions... [whispers] willingly, or as slaves.</td>\n",
       "      <td>Dwight</td>\n",
       "      <td>False</td>\n",
       "    </tr>\n",
       "    <tr>\n",
       "      <th>3</th>\n",
       "      <td>3</td>\n",
       "      <td>2</td>\n",
       "      <td>17</td>\n",
       "      <td>18</td>\n",
       "      <td>Brad Pitt. Also there will be no bonuses.</td>\n",
       "      <td>Dwight</td>\n",
       "      <td>False</td>\n",
       "    </tr>\n",
       "    <tr>\n",
       "      <th>4</th>\n",
       "      <td>4</td>\n",
       "      <td>5</td>\n",
       "      <td>4</td>\n",
       "      <td>32</td>\n",
       "      <td>Okay, alright. Hey, you know what? I would appreciate it if people would stop storming off the stage.</td>\n",
       "      <td>Michael</td>\n",
       "      <td>False</td>\n",
       "    </tr>\n",
       "    <tr>\n",
       "      <th>...</th>\n",
       "      <td>...</td>\n",
       "      <td>...</td>\n",
       "      <td>...</td>\n",
       "      <td>...</td>\n",
       "      <td>...</td>\n",
       "      <td>...</td>\n",
       "      <td>...</td>\n",
       "    </tr>\n",
       "    <tr>\n",
       "      <th>3749</th>\n",
       "      <td>7818</td>\n",
       "      <td>3</td>\n",
       "      <td>16</td>\n",
       "      <td>25</td>\n",
       "      <td>Oh, thank God. I have such a headache from that glare.</td>\n",
       "      <td>Jim</td>\n",
       "      <td>False</td>\n",
       "    </tr>\n",
       "    <tr>\n",
       "      <th>3750</th>\n",
       "      <td>7819</td>\n",
       "      <td>4</td>\n",
       "      <td>4</td>\n",
       "      <td>35</td>\n",
       "      <td>I am going with the vanilla crisp this evening.</td>\n",
       "      <td>Michael</td>\n",
       "      <td>False</td>\n",
       "    </tr>\n",
       "    <tr>\n",
       "      <th>3751</th>\n",
       "      <td>7823</td>\n",
       "      <td>2</td>\n",
       "      <td>14</td>\n",
       "      <td>14</td>\n",
       "      <td>[barely stifling laughter] It wasn't me.  Um... it wasn't me. [regaining composure] It was not me.</td>\n",
       "      <td>Ryan</td>\n",
       "      <td>False</td>\n",
       "    </tr>\n",
       "    <tr>\n",
       "      <th>3752</th>\n",
       "      <td>7825</td>\n",
       "      <td>2</td>\n",
       "      <td>5</td>\n",
       "      <td>34</td>\n",
       "      <td>Okay, well... I already picked you. And you know that. So, unless I just go through with this, you're always gonna look at me as the guy who almost fired you.</td>\n",
       "      <td>Michael</td>\n",
       "      <td>False</td>\n",
       "    </tr>\n",
       "    <tr>\n",
       "      <th>3753</th>\n",
       "      <td>7828</td>\n",
       "      <td>4</td>\n",
       "      <td>3</td>\n",
       "      <td>25</td>\n",
       "      <td>Alright.  Well fight it out amongst yourselves.  I was thinking Pammy but boys night out is also good.</td>\n",
       "      <td>Michael</td>\n",
       "      <td>False</td>\n",
       "    </tr>\n",
       "  </tbody>\n",
       "</table>\n",
       "<p>3754 rows × 7 columns</p>\n",
       "</div>"
      ],
      "text/plain": [
       "      index  season  episode  scene  \\\n",
       "0         0       3       16     29   \n",
       "1         1       7        7     27   \n",
       "2         2       8       13     25   \n",
       "3         3       2       17     18   \n",
       "4         4       5        4     32   \n",
       "...     ...     ...      ...    ...   \n",
       "3749   7818       3       16     25   \n",
       "3750   7819       4        4     35   \n",
       "3751   7823       2       14     14   \n",
       "3752   7825       2        5     34   \n",
       "3753   7828       4        3     25   \n",
       "\n",
       "                                                                                                                                                           line_text  \\\n",
       "0                                                                                        Don't hurt that bat, Creed! It's a living thing with feelings and a family!   \n",
       "1                                                                                           I cancelled my plans to come to this thing, and they repay me with this?   \n",
       "2                      Oh, yes. Oh, what a beautiful child. Prominent forehead, short arms, tiny nose. You will lead millions... [whispers] willingly, or as slaves.   \n",
       "3                                                                                                                          Brad Pitt. Also there will be no bonuses.   \n",
       "4                                                              Okay, alright. Hey, you know what? I would appreciate it if people would stop storming off the stage.   \n",
       "...                                                                                                                                                              ...   \n",
       "3749                                                                                                          Oh, thank God. I have such a headache from that glare.   \n",
       "3750                                                                                                                 I am going with the vanilla crisp this evening.   \n",
       "3751                                                              [barely stifling laughter] It wasn't me.  Um... it wasn't me. [regaining composure] It was not me.   \n",
       "3752  Okay, well... I already picked you. And you know that. So, unless I just go through with this, you're always gonna look at me as the guy who almost fired you.   \n",
       "3753                                                          Alright.  Well fight it out amongst yourselves.  I was thinking Pammy but boys night out is also good.   \n",
       "\n",
       "      speaker  deleted  \n",
       "0       Kelly    False  \n",
       "1       Kevin    False  \n",
       "2      Dwight    False  \n",
       "3      Dwight    False  \n",
       "4     Michael    False  \n",
       "...       ...      ...  \n",
       "3749      Jim    False  \n",
       "3750  Michael    False  \n",
       "3751     Ryan    False  \n",
       "3752  Michael    False  \n",
       "3753  Michael    False  \n",
       "\n",
       "[3754 rows x 7 columns]"
      ]
     },
     "execution_count": 12,
     "metadata": {},
     "output_type": "execute_result"
    }
   ],
   "source": [
    "df_filtered.reset_index()"
   ]
  },
  {
   "cell_type": "code",
   "execution_count": 13,
   "id": "b62a4162",
   "metadata": {},
   "outputs": [
    {
     "data": {
      "text/html": [
       "\n",
       "<style>\n",
       "    /* Turns off some styling */\n",
       "    progress {\n",
       "        /* gets rid of default border in Firefox and Opera. */\n",
       "        border: none;\n",
       "        /* Needs to be in here for Safari polyfill so background images work as expected. */\n",
       "        background-size: auto;\n",
       "    }\n",
       "    progress:not([value]), progress:not([value])::-webkit-progress-bar {\n",
       "        background: repeating-linear-gradient(45deg, #7e7e7e, #7e7e7e 10px, #5c5c5c 10px, #5c5c5c 20px);\n",
       "    }\n",
       "    .progress-bar-interrupted, .progress-bar-interrupted::-webkit-progress-bar {\n",
       "        background: #F44336;\n",
       "    }\n",
       "</style>\n"
      ],
      "text/plain": [
       "<IPython.core.display.HTML object>"
      ]
     },
     "metadata": {},
     "output_type": "display_data"
    },
    {
     "data": {
      "text/html": [],
      "text/plain": [
       "<IPython.core.display.HTML object>"
      ]
     },
     "metadata": {},
     "output_type": "display_data"
    },
    {
     "data": {
      "text/plain": [
       "<fastai.data.core.DataLoaders at 0x7f82b7234a00>"
      ]
     },
     "execution_count": 13,
     "metadata": {},
     "output_type": "execute_result"
    }
   ],
   "source": [
    "dl = TextDataLoaders.from_df(df_filtered, text_col='line_text', label_col='speaker', shuffled=False, vocab=learner.dls.vocab)"
   ]
  },
  {
   "cell_type": "code",
   "execution_count": 14,
   "id": "9ff89a5e",
   "metadata": {},
   "outputs": [
    {
     "data": {
      "text/html": [
       "\n",
       "<style>\n",
       "    /* Turns off some styling */\n",
       "    progress {\n",
       "        /* gets rid of default border in Firefox and Opera. */\n",
       "        border: none;\n",
       "        /* Needs to be in here for Safari polyfill so background images work as expected. */\n",
       "        background-size: auto;\n",
       "    }\n",
       "    progress:not([value]), progress:not([value])::-webkit-progress-bar {\n",
       "        background: repeating-linear-gradient(45deg, #7e7e7e, #7e7e7e 10px, #5c5c5c 10px, #5c5c5c 20px);\n",
       "    }\n",
       "    .progress-bar-interrupted, .progress-bar-interrupted::-webkit-progress-bar {\n",
       "        background: #F44336;\n",
       "    }\n",
       "</style>\n"
      ],
      "text/plain": [
       "<IPython.core.display.HTML object>"
      ]
     },
     "metadata": {},
     "output_type": "display_data"
    },
    {
     "data": {
      "text/html": [],
      "text/plain": [
       "<IPython.core.display.HTML object>"
      ]
     },
     "metadata": {},
     "output_type": "display_data"
    },
    {
     "data": {
      "text/plain": [
       "(tensor([[1.1629e-02, 5.3055e-03, 1.3334e-04,  ..., 1.1480e-01, 3.2469e-06,\n",
       "          1.2545e-04],\n",
       "         [1.8471e-02, 5.9615e-05, 3.9180e-05,  ..., 6.6213e-05, 4.7140e-06,\n",
       "          1.7398e-03],\n",
       "         [2.1760e-04, 3.5902e-07, 1.6347e-10,  ..., 1.1647e-07, 2.8765e-09,\n",
       "          7.1963e-08],\n",
       "         ...,\n",
       "         [6.2465e-03, 1.1102e-02, 3.6835e-04,  ..., 1.1259e-04, 3.6839e-04,\n",
       "          9.5913e-06],\n",
       "         [1.7162e-01, 5.5871e-04, 1.7017e-03,  ..., 3.4905e-03, 6.3345e-05,\n",
       "          9.9341e-05],\n",
       "         [6.9046e-02, 8.2463e-04, 4.5290e-04,  ..., 1.3753e-02, 4.9179e-04,\n",
       "          8.4830e-04]]),\n",
       " tensor([19,  0,  0,  ..., 12, 16,  4]))"
      ]
     },
     "execution_count": 14,
     "metadata": {},
     "output_type": "execute_result"
    }
   ],
   "source": [
    "preds = learner.get_preds(dl=dl.train)"
   ]
  },
  {
   "cell_type": "code",
   "execution_count": 15,
   "id": "58773521",
   "metadata": {},
   "outputs": [
    {
     "data": {
      "text/plain": [
       "TensorBase(0.1731)"
      ]
     },
     "execution_count": 15,
     "metadata": {},
     "output_type": "execute_result"
    }
   ],
   "source": [
    "accuracy(preds[0], preds[1])"
   ]
  },
  {
   "cell_type": "code",
   "execution_count": 16,
   "id": "12fe669d",
   "metadata": {},
   "outputs": [
    {
     "data": {
      "text/html": [
       "\n",
       "<style>\n",
       "    /* Turns off some styling */\n",
       "    progress {\n",
       "        /* gets rid of default border in Firefox and Opera. */\n",
       "        border: none;\n",
       "        /* Needs to be in here for Safari polyfill so background images work as expected. */\n",
       "        background-size: auto;\n",
       "    }\n",
       "    progress:not([value]), progress:not([value])::-webkit-progress-bar {\n",
       "        background: repeating-linear-gradient(45deg, #7e7e7e, #7e7e7e 10px, #5c5c5c 10px, #5c5c5c 20px);\n",
       "    }\n",
       "    .progress-bar-interrupted, .progress-bar-interrupted::-webkit-progress-bar {\n",
       "        background: #F44336;\n",
       "    }\n",
       "</style>\n"
      ],
      "text/plain": [
       "<IPython.core.display.HTML object>"
      ]
     },
     "metadata": {},
     "output_type": "display_data"
    },
    {
     "data": {
      "text/html": [],
      "text/plain": [
       "<IPython.core.display.HTML object>"
      ]
     },
     "metadata": {},
     "output_type": "display_data"
    },
    {
     "data": {
      "text/plain": [
       "(tensor([[3.3033e-03, 2.0669e-03, 7.9685e-05,  ..., 2.2725e-03, 8.6738e-05,\n",
       "          8.9889e-04],\n",
       "         [8.4435e-01, 3.0799e-04, 4.4742e-05,  ..., 8.8665e-04, 5.0135e-04,\n",
       "          3.7243e-05],\n",
       "         [6.6733e-02, 1.3490e-02, 3.5752e-05,  ..., 1.8618e-03, 2.2087e-03,\n",
       "          1.5414e-04],\n",
       "         ...,\n",
       "         [1.3099e-04, 1.3850e-05, 2.0774e-07,  ..., 8.0100e-06, 2.2871e-06,\n",
       "          1.7566e-06],\n",
       "         [3.9832e-04, 2.7727e-03, 8.1915e-04,  ..., 1.0669e-02, 1.8748e-04,\n",
       "          3.0934e-02],\n",
       "         [6.3393e-02, 1.2515e-03, 1.5675e-04,  ..., 6.2199e-04, 3.0606e-05,\n",
       "          1.6649e-04]]),\n",
       " tensor([ 9,  0,  1, 13, 15,  9, 13, 16, 13, 15,  0,  0,  4, 13,  9,  4, 13,  1,\n",
       "          0, 20, 14, 13,  9,  9, 11,  4, 13, 13, 13, 13, 13,  9, 13, 13,  4, 16,\n",
       "          9, 13,  7,  0,  4,  6,  4,  8, 13,  9, 13,  4,  0, 13,  0, 16,  9,  4,\n",
       "         17, 16, 16,  4,  4,  9,  3, 20,  4,  0,  0, 18,  0,  4, 13, 13, 13, 13,\n",
       "          9,  0, 13, 13, 16, 12,  1,  1, 13,  0,  0, 13, 13,  0,  4,  0,  4,  4,\n",
       "         13, 13, 13, 11, 16, 13, 16, 13, 13,  0,  9,  6, 13,  4, 16, 16,  9,  3,\n",
       "          4,  9, 10,  0,  9, 13,  5, 18,  9,  1, 13,  9, 13,  6, 16,  9, 13, 13,\n",
       "          9, 13, 13, 11, 13,  0, 17,  4, 17, 13,  0,  9,  0, 13,  4,  1, 13,  4,\n",
       "         16,  1, 16,  9, 13, 13,  9, 13,  9, 17,  4,  2,  4, 13, 16,  0,  9,  4,\n",
       "         16,  9,  0, 13, 13, 15, 16, 13, 16, 13,  0, 13,  4, 15,  9,  6,  0,  9,\n",
       "          0, 13, 11, 13, 16, 16,  9,  4, 13, 18, 13, 16,  9,  9, 11,  5,  9, 13,\n",
       "          4, 18, 13,  1,  0,  7, 15,  9,  4, 17, 17,  2, 15,  4,  9, 13, 13, 16,\n",
       "          0, 15, 19, 15, 13,  4,  4,  4, 13,  0,  0,  9,  9, 15,  5, 11,  9,  9,\n",
       "         13,  9, 20, 13,  8, 15,  4, 10,  4, 10, 13, 13, 13,  4,  4, 13, 16, 13,\n",
       "         13, 13,  4,  4, 13, 18,  8,  4, 16, 16, 10, 15,  9,  0,  4, 16, 13, 20,\n",
       "         13,  4, 16,  4, 16,  5,  9, 13, 13,  4,  4, 13, 16,  9,  2,  4,  4, 13,\n",
       "         18,  0, 13, 11, 13,  3, 13,  4,  1, 16,  0,  4, 11, 17,  4,  0,  5,  9,\n",
       "         13, 18, 13,  9,  8,  4, 13, 16,  0,  0,  9,  0, 10, 13, 14,  5,  4,  4,\n",
       "         11,  9, 20, 13,  4, 13,  8,  3,  9,  0,  5,  4, 13, 13,  9, 13, 11, 13,\n",
       "          4, 11,  4,  4, 16, 13, 14, 18, 11,  4, 16, 13, 13,  0,  4,  4, 13, 17,\n",
       "          4, 13, 13,  4,  4, 16,  9, 13, 13,  4,  9, 13,  4, 20,  7, 13,  4,  9,\n",
       "         13,  6, 13, 13, 16, 13,  5,  9,  1, 13,  9, 10,  9, 13,  7,  4,  9,  4,\n",
       "          4, 13,  4, 17,  9,  9,  4,  2,  0,  8,  0,  3,  0,  7,  4, 13,  0,  9,\n",
       "         13, 11, 16, 19,  6,  9, 20, 13,  4,  9, 18, 16, 10, 13,  4,  4,  9, 11,\n",
       "          0, 16, 13, 16,  9, 16,  9,  0,  4,  9,  4,  1, 13,  9,  0, 16, 18, 16,\n",
       "         12,  0, 13,  0,  3,  9,  5,  9,  0,  0,  4, 13,  4,  4, 13, 16, 13, 13,\n",
       "          5,  4, 13, 13, 13, 13, 15,  5,  6, 20,  5, 16, 17,  9, 13,  0, 11, 10,\n",
       "         16,  9, 13,  4, 11, 13, 13, 13,  4, 20,  6, 16,  9,  3,  4, 16,  0,  0,\n",
       "         13,  4, 19,  4, 13, 13, 13,  4,  9, 13, 13, 13, 16,  0,  9, 16, 10,  7,\n",
       "         13,  8, 14,  4, 18,  9, 13,  9, 18,  5,  0,  4,  9, 13, 16,  4,  4,  5,\n",
       "         20,  8,  4, 13,  1, 13,  3,  9, 13, 13,  4, 13, 16,  4, 10, 16, 13,  1,\n",
       "         18, 17,  4, 16,  4, 13,  4, 13, 15,  9,  9, 13,  0,  4, 15,  9, 13, 16,\n",
       "         15, 13,  0,  3,  9, 13, 18,  9, 10,  7, 16, 11,  9, 13,  2, 20,  4,  4,\n",
       "         13, 13, 18, 16,  3,  5,  4,  4,  4,  4, 18, 13,  4,  4, 13, 20,  3,  4,\n",
       "          1,  0, 16, 13,  4,  9,  9, 13,  4,  4,  6,  4, 16, 13, 18,  7, 13,  4,\n",
       "          9,  4,  3, 16, 13, 16, 13, 13, 16,  4, 16,  9, 20,  9,  9,  4, 10,  0,\n",
       "          4,  9, 13,  9, 16,  9,  4, 15,  9, 13, 13,  5, 13,  4,  0, 16,  9, 13,\n",
       "         13,  4, 16,  4, 13,  0, 13, 14, 16, 11, 13,  9, 11,  4,  4, 13,  9, 13,\n",
       "          9, 13, 13,  9, 13,  9,  9, 13, 20, 13,  1,  9,  4, 13,  9,  9,  9, 13,\n",
       "          8,  4, 20, 13,  9, 16, 16,  4, 13,  4, 16, 16, 20, 10,  9, 13,  1,  6,\n",
       "          4, 14, 16, 18,  4, 16,  9, 14,  9,  4,  4,  9, 16,  3, 13,  4, 13,  4,\n",
       "          9, 16,  9,  4, 13, 13, 17,  2,  9,  9, 16,  0]))"
      ]
     },
     "execution_count": 16,
     "metadata": {},
     "output_type": "execute_result"
    }
   ],
   "source": [
    "preds = learner.get_preds(dl=dl.valid)"
   ]
  },
  {
   "cell_type": "code",
   "execution_count": 17,
   "id": "c4b260b2",
   "metadata": {},
   "outputs": [
    {
     "data": {
      "text/plain": [
       "TensorBase(0.1760)"
      ]
     },
     "execution_count": 17,
     "metadata": {},
     "output_type": "execute_result"
    }
   ],
   "source": [
    "accuracy(preds[0], preds[1])"
   ]
  },
  {
   "cell_type": "code",
   "execution_count": null,
   "id": "ed87e250",
   "metadata": {},
   "outputs": [],
   "source": []
  }
 ],
 "metadata": {
  "kernelspec": {
   "display_name": "Python 3 (ipykernel)",
   "language": "python",
   "name": "python3"
  },
  "language_info": {
   "codemirror_mode": {
    "name": "ipython",
    "version": 3
   },
   "file_extension": ".py",
   "mimetype": "text/x-python",
   "name": "python",
   "nbconvert_exporter": "python",
   "pygments_lexer": "ipython3",
   "version": "3.10.9"
  }
 },
 "nbformat": 4,
 "nbformat_minor": 5
}
