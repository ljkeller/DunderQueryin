{
 "cells": [
  {
   "cell_type": "code",
   "execution_count": 37,
   "id": "6352ed5d",
   "metadata": {},
   "outputs": [],
   "source": [
    "from fastai.text.all import *\n",
    "from pathlib import Path\n",
    "import random\n",
    "\n",
    "pd.options.display.max_rows = 20\n",
    "pd.options.display.max_columns = 8\n",
    "%config InteractiveShell.ast_node_interactivity='last_expr_or_assign'"
   ]
  },
  {
   "cell_type": "code",
   "execution_count": 38,
   "id": "22282b1b",
   "metadata": {},
   "outputs": [],
   "source": [
    "def get_oversampled_df(data_path):\n",
    "    df = pd.read_csv(data_path)\n",
    "\n",
    "    max_dialog = df['speaker'].value_counts().max()\n",
    "\n",
    "    dfs_oversampled = [df]\n",
    "    for _, group in df.groupby('speaker'):\n",
    "        rand_mult = random.uniform(0.85, 1.15)\n",
    "        sample_amt_to_max = max_dialog - len(group)\n",
    "        dfs_oversampled.append(group.sample(int(sample_amt_to_max * rand_mult), replace=True))\n",
    "    return pd.concat(dfs_oversampled)"
   ]
  },
  {
   "cell_type": "code",
   "execution_count": 39,
   "id": "60df474f",
   "metadata": {},
   "outputs": [
    {
     "data": {
      "text/plain": [
       "<Axes: >"
      ]
     },
     "execution_count": 39,
     "metadata": {},
     "output_type": "execute_result"
    },
    {
     "data": {
      "image/png": "[encoded data removed]",
      "text/plain": [
       "<Figure size 640x480 with 1 Axes>"
      ]
     },
     "metadata": {},
     "output_type": "display_data"
    }
   ],
   "source": [
    "data_path = Path('../data/train21_shuffled.csv')\n",
    "df = pd.read_csv(data_path)\n",
    "\n",
    "df['speaker'].value_counts().plot(kind='bar')\n"
   ]
  },
  {
   "cell_type": "code",
   "execution_count": 40,
   "id": "db045cbc",
   "metadata": {},
   "outputs": [
    {
     "data": {
      "text/html": [
       "\n",
       "<style>\n",
       "    /* Turns off some styling */\n",
       "    progress {\n",
       "        /* gets rid of default border in Firefox and Opera. */\n",
       "        border: none;\n",
       "        /* Needs to be in here for Safari polyfill so background images work as expected. */\n",
       "        background-size: auto;\n",
       "    }\n",
       "    progress:not([value]), progress:not([value])::-webkit-progress-bar {\n",
       "        background: repeating-linear-gradient(45deg, #7e7e7e, #7e7e7e 10px, #5c5c5c 10px, #5c5c5c 20px);\n",
       "    }\n",
       "    .progress-bar-interrupted, .progress-bar-interrupted::-webkit-progress-bar {\n",
       "        background: #F44336;\n",
       "    }\n",
       "</style>\n"
      ],
      "text/plain": [
       "<IPython.core.display.HTML object>"
      ]
     },
     "metadata": {},
     "output_type": "display_data"
    },
    {
     "data": {
      "text/html": [],
      "text/plain": [
       "<IPython.core.display.HTML object>"
      ]
     },
     "metadata": {},
     "output_type": "display_data"
    },
    {
     "data": {
      "text/plain": [
       "<fastai.data.core.DataLoaders at 0x7f8330055e40>"
      ]
     },
     "execution_count": 40,
     "metadata": {},
     "output_type": "execute_result"
    }
   ],
   "source": [
    "dls_lm = TextDataLoaders.from_df(df, text_col='line_text', is_lm=True, valid_pct=0.1, shuffle=True)"
   ]
  },
  {
   "cell_type": "code",
   "execution_count": 41,
   "id": "8ebc1376",
   "metadata": {},
   "outputs": [
    {
     "data": {
      "text/html": [
       "<table border=\"1\" class=\"dataframe\">\n",
       "  <thead>\n",
       "    <tr style=\"text-align: right;\">\n",
       "      <th></th>\n",
       "      <th>text</th>\n",
       "      <th>text_</th>\n",
       "    </tr>\n",
       "  </thead>\n",
       "  <tbody>\n",
       "    <tr>\n",
       "      <th>0</th>\n",
       "      <td>xxbos xxmaj the city of xxmaj xxunk . xxbos xxmaj man , what is taking xxmaj toby so long ? xxbos xxmaj for - okay , okay here 's what xxmaj i 'm gon na do . xxmaj i 'm going to write 4 checks for $ 1 , xxrep 3 0 each . xxmaj i 'm going to date them one year apart . xxmaj now , you are to use</td>\n",
       "      <td>xxmaj the city of xxmaj xxunk . xxbos xxmaj man , what is taking xxmaj toby so long ? xxbos xxmaj for - okay , okay here 's what xxmaj i 'm gon na do . xxmaj i 'm going to write 4 checks for $ 1 , xxrep 3 0 each . xxmaj i 'm going to date them one year apart . xxmaj now , you are to use one</td>\n",
       "    </tr>\n",
       "    <tr>\n",
       "      <th>1</th>\n",
       "      <td>xxbos xxmaj yes . xxbos [ raises hand ] i want to . xxbos xxmaj better theory . xxmaj this is her ex - boyfriend and they went through some kind of painful breakup . xxbos xxmaj then make him pitch to you . xxbos xxmaj nope . xxmaj totally private . xxmaj you can say whatever is in your heart . [ jan hangs up ] xxbos xxmaj i 'd like</td>\n",
       "      <td>xxmaj yes . xxbos [ raises hand ] i want to . xxbos xxmaj better theory . xxmaj this is her ex - boyfriend and they went through some kind of painful breakup . xxbos xxmaj then make him pitch to you . xxbos xxmaj nope . xxmaj totally private . xxmaj you can say whatever is in your heart . [ jan hangs up ] xxbos xxmaj i 'd like everybody</td>\n",
       "    </tr>\n",
       "    <tr>\n",
       "      <th>2</th>\n",
       "      <td>did you already , um , forward to a whole bunch of people ? xxbos [ raises hand ] xxmaj conference room ? xxbos xxmaj you mean the clients you stole from us . xxbos xxmaj chicken fight ! xxbos xxmaj good . xxbos xxmaj ok . xxmaj erin i think you know xxmaj i 've been dating someone . xxbos xxmaj marry me xxmaj holly . xxbos xxmaj yeah , they</td>\n",
       "      <td>you already , um , forward to a whole bunch of people ? xxbos [ raises hand ] xxmaj conference room ? xxbos xxmaj you mean the clients you stole from us . xxbos xxmaj chicken fight ! xxbos xxmaj good . xxbos xxmaj ok . xxmaj erin i think you know xxmaj i 've been dating someone . xxbos xxmaj marry me xxmaj holly . xxbos xxmaj yeah , they do</td>\n",
       "    </tr>\n",
       "    <tr>\n",
       "      <th>3</th>\n",
       "      <td>we just hold off with the human pyramids for a while ? xxbos xxmaj and you are ' xxbos xxmaj um , yes . xxmaj throw them away in the recycling bin . xxbos xxmaj really ? xxbos xxmaj michael . [ michael throws xxmaj phyllis ' keys under the car . ] xxbos xxmaj so i just lean over this thing and then you 'll add the water special effect later</td>\n",
       "      <td>just hold off with the human pyramids for a while ? xxbos xxmaj and you are ' xxbos xxmaj um , yes . xxmaj throw them away in the recycling bin . xxbos xxmaj really ? xxbos xxmaj michael . [ michael throws xxmaj phyllis ' keys under the car . ] xxbos xxmaj so i just lean over this thing and then you 'll add the water special effect later ?</td>\n",
       "    </tr>\n",
       "    <tr>\n",
       "      <th>4</th>\n",
       "      <td>it weigh ? xxbos [ points to smoke ] xxmaj oh , my xxmaj god ! xxmaj uh , xxmaj oh my xxmaj god ! xxbos [ through phone ] xxmaj it 's been so long since xxmaj i 've been with adults . i am so excited to see everybody . xxmaj creed , xxmaj ryan . xxmaj oh my xxmaj god , xxmaj stanley ! xxmaj stanley 's going to</td>\n",
       "      <td>weigh ? xxbos [ points to smoke ] xxmaj oh , my xxmaj god ! xxmaj uh , xxmaj oh my xxmaj god ! xxbos [ through phone ] xxmaj it 's been so long since xxmaj i 've been with adults . i am so excited to see everybody . xxmaj creed , xxmaj ryan . xxmaj oh my xxmaj god , xxmaj stanley ! xxmaj stanley 's going to be</td>\n",
       "    </tr>\n",
       "    <tr>\n",
       "      <th>5</th>\n",
       "      <td>too big for her lap . xxbos xxmaj again ? xxmaj we do that every year . xxbos i had to . i needed defense . xxbos xxmaj uh , you know what ? i think that this … uh , this is probably a misunderstanding . xxbos xxmaj what ? xxbos xxmaj the purse girl hits everything on my xxunk . xxmaj xxunk skin . xxmaj straight teeth . xxmaj curly</td>\n",
       "      <td>big for her lap . xxbos xxmaj again ? xxmaj we do that every year . xxbos i had to . i needed defense . xxbos xxmaj uh , you know what ? i think that this … uh , this is probably a misunderstanding . xxbos xxmaj what ? xxbos xxmaj the purse girl hits everything on my xxunk . xxmaj xxunk skin . xxmaj straight teeth . xxmaj curly hair</td>\n",
       "    </tr>\n",
       "    <tr>\n",
       "      <th>6</th>\n",
       "      <td>then turn those into xxunk , maybe do some … splash frames . [ laughs ] i do n't know what xxmaj i 'm talking about but xxmaj i 'm excited . xxbos i ca n't get a fire pit . i have two babies . xxbos xxmaj no , i did n't . i took back my chair that you took from me , but i did n't take your chair</td>\n",
       "      <td>turn those into xxunk , maybe do some … splash frames . [ laughs ] i do n't know what xxmaj i 'm talking about but xxmaj i 'm excited . xxbos i ca n't get a fire pit . i have two babies . xxbos xxmaj no , i did n't . i took back my chair that you took from me , but i did n't take your chair .</td>\n",
       "    </tr>\n",
       "    <tr>\n",
       "      <th>7</th>\n",
       "      <td>mose have nightmares ? xxbos xxmaj live and let live . xxbos [ seated ] xxmaj ok . xxmaj ok . xxmaj how 'bout this ? [ xxunk , waves , sits back down ] xxbos xxmaj yes . xxbos xxmaj of course . xxbos i ca n't get down . xxbos xxup ok ! xxbos xxmaj well , stop trying to xxunk me with a sharp thing . xxbos xxmaj what</td>\n",
       "      <td>have nightmares ? xxbos xxmaj live and let live . xxbos [ seated ] xxmaj ok . xxmaj ok . xxmaj how 'bout this ? [ xxunk , waves , sits back down ] xxbos xxmaj yes . xxbos xxmaj of course . xxbos i ca n't get down . xxbos xxup ok ! xxbos xxmaj well , stop trying to xxunk me with a sharp thing . xxbos xxmaj what ?</td>\n",
       "    </tr>\n",
       "    <tr>\n",
       "      <th>8</th>\n",
       "      <td>xxmaj hmm . xxmaj hmm . [ leaves ] xxbos i went with the people i thought would put the best face on the company . xxbos xxmaj you had something important to tell me ? xxbos xxmaj you said that we could come to you if we had any questions . xxbos xxmaj super . xxbos xxmaj ready ? xxbos xxmaj come on , xxmaj stanley ! xxmaj okay . xxmaj</td>\n",
       "      <td>hmm . xxmaj hmm . [ leaves ] xxbos i went with the people i thought would put the best face on the company . xxbos xxmaj you had something important to tell me ? xxbos xxmaj you said that we could come to you if we had any questions . xxbos xxmaj super . xxbos xxmaj ready ? xxbos xxmaj come on , xxmaj stanley ! xxmaj okay . xxmaj we</td>\n",
       "    </tr>\n",
       "  </tbody>\n",
       "</table>"
      ],
      "text/plain": [
       "<IPython.core.display.HTML object>"
      ]
     },
     "metadata": {},
     "output_type": "display_data"
    }
   ],
   "source": [
    "dls_lm.show_batch()"
   ]
  },
  {
   "cell_type": "code",
   "execution_count": 42,
   "id": "b8148321",
   "metadata": {},
   "outputs": [
    {
     "data": {
      "text/plain": [
       "<fastai.text.learner.LMLearner at 0x7f82fcf56b00>"
      ]
     },
     "execution_count": 42,
     "metadata": {},
     "output_type": "execute_result"
    }
   ],
   "source": [
    "data_dir = Path('../data')\n",
    "learn = language_model_learner(dls_lm, AWD_LSTM, metrics=[accuracy, Perplexity()], wd=0.1, path=data_dir)"
   ]
  },
  {
   "cell_type": "code",
   "execution_count": 43,
   "id": "bbdc4b36",
   "metadata": {},
   "outputs": [
    {
     "data": {
      "text/html": [
       "\n",
       "<style>\n",
       "    /* Turns off some styling */\n",
       "    progress {\n",
       "        /* gets rid of default border in Firefox and Opera. */\n",
       "        border: none;\n",
       "        /* Needs to be in here for Safari polyfill so background images work as expected. */\n",
       "        background-size: auto;\n",
       "    }\n",
       "    progress:not([value]), progress:not([value])::-webkit-progress-bar {\n",
       "        background: repeating-linear-gradient(45deg, #7e7e7e, #7e7e7e 10px, #5c5c5c 10px, #5c5c5c 20px);\n",
       "    }\n",
       "    .progress-bar-interrupted, .progress-bar-interrupted::-webkit-progress-bar {\n",
       "        background: #F44336;\n",
       "    }\n",
       "</style>\n"
      ],
      "text/plain": [
       "<IPython.core.display.HTML object>"
      ]
     },
     "metadata": {},
     "output_type": "display_data"
    },
    {
     "data": {
      "text/html": [
       "<table border=\"1\" class=\"dataframe\">\n",
       "  <thead>\n",
       "    <tr style=\"text-align: left;\">\n",
       "      <th>epoch</th>\n",
       "      <th>train_loss</th>\n",
       "      <th>valid_loss</th>\n",
       "      <th>accuracy</th>\n",
       "      <th>perplexity</th>\n",
       "      <th>time</th>\n",
       "    </tr>\n",
       "  </thead>\n",
       "  <tbody>\n",
       "    <tr>\n",
       "      <td>0</td>\n",
       "      <td>3.976534</td>\n",
       "      <td>3.509052</td>\n",
       "      <td>0.312032</td>\n",
       "      <td>33.416561</td>\n",
       "      <td>00:25</td>\n",
       "    </tr>\n",
       "    <tr>\n",
       "      <td>1</td>\n",
       "      <td>3.627972</td>\n",
       "      <td>3.416544</td>\n",
       "      <td>0.321774</td>\n",
       "      <td>30.463963</td>\n",
       "      <td>00:25</td>\n",
       "    </tr>\n",
       "    <tr>\n",
       "      <td>2</td>\n",
       "      <td>3.504795</td>\n",
       "      <td>3.389803</td>\n",
       "      <td>0.327565</td>\n",
       "      <td>29.660120</td>\n",
       "      <td>00:25</td>\n",
       "    </tr>\n",
       "    <tr>\n",
       "      <td>3</td>\n",
       "      <td>3.429511</td>\n",
       "      <td>3.366713</td>\n",
       "      <td>0.330215</td>\n",
       "      <td>28.983110</td>\n",
       "      <td>00:25</td>\n",
       "    </tr>\n",
       "    <tr>\n",
       "      <td>4</td>\n",
       "      <td>3.374247</td>\n",
       "      <td>3.361649</td>\n",
       "      <td>0.330832</td>\n",
       "      <td>28.836699</td>\n",
       "      <td>00:25</td>\n",
       "    </tr>\n",
       "  </tbody>\n",
       "</table>"
      ],
      "text/plain": [
       "<IPython.core.display.HTML object>"
      ]
     },
     "metadata": {},
     "output_type": "display_data"
    }
   ],
   "source": [
    "learn.fit_one_cycle(5, 1e-2)"
   ]
  },
  {
   "cell_type": "code",
   "execution_count": 44,
   "id": "5e8893ea",
   "metadata": {},
   "outputs": [
    {
     "data": {
      "text/html": [
       "\n",
       "<style>\n",
       "    /* Turns off some styling */\n",
       "    progress {\n",
       "        /* gets rid of default border in Firefox and Opera. */\n",
       "        border: none;\n",
       "        /* Needs to be in here for Safari polyfill so background images work as expected. */\n",
       "        background-size: auto;\n",
       "    }\n",
       "    progress:not([value]), progress:not([value])::-webkit-progress-bar {\n",
       "        background: repeating-linear-gradient(45deg, #7e7e7e, #7e7e7e 10px, #5c5c5c 10px, #5c5c5c 20px);\n",
       "    }\n",
       "    .progress-bar-interrupted, .progress-bar-interrupted::-webkit-progress-bar {\n",
       "        background: #F44336;\n",
       "    }\n",
       "</style>\n"
      ],
      "text/plain": [
       "<IPython.core.display.HTML object>"
      ]
     },
     "metadata": {},
     "output_type": "display_data"
    },
    {
     "data": {
      "text/html": [
       "<table border=\"1\" class=\"dataframe\">\n",
       "  <thead>\n",
       "    <tr style=\"text-align: left;\">\n",
       "      <th>epoch</th>\n",
       "      <th>train_loss</th>\n",
       "      <th>valid_loss</th>\n",
       "      <th>accuracy</th>\n",
       "      <th>perplexity</th>\n",
       "      <th>time</th>\n",
       "    </tr>\n",
       "  </thead>\n",
       "  <tbody>\n",
       "    <tr>\n",
       "      <td>0</td>\n",
       "      <td>3.402158</td>\n",
       "      <td>3.393936</td>\n",
       "      <td>0.325852</td>\n",
       "      <td>29.782938</td>\n",
       "      <td>00:25</td>\n",
       "    </tr>\n",
       "    <tr>\n",
       "      <td>1</td>\n",
       "      <td>3.447440</td>\n",
       "      <td>3.393872</td>\n",
       "      <td>0.327565</td>\n",
       "      <td>29.781042</td>\n",
       "      <td>00:25</td>\n",
       "    </tr>\n",
       "    <tr>\n",
       "      <td>2</td>\n",
       "      <td>3.391063</td>\n",
       "      <td>3.379286</td>\n",
       "      <td>0.327885</td>\n",
       "      <td>29.349810</td>\n",
       "      <td>00:25</td>\n",
       "    </tr>\n",
       "    <tr>\n",
       "      <td>3</td>\n",
       "      <td>3.338911</td>\n",
       "      <td>3.361836</td>\n",
       "      <td>0.330661</td>\n",
       "      <td>28.842110</td>\n",
       "      <td>00:25</td>\n",
       "    </tr>\n",
       "    <tr>\n",
       "      <td>4</td>\n",
       "      <td>3.293164</td>\n",
       "      <td>3.358517</td>\n",
       "      <td>0.331289</td>\n",
       "      <td>28.746540</td>\n",
       "      <td>00:25</td>\n",
       "    </tr>\n",
       "  </tbody>\n",
       "</table>"
      ],
      "text/plain": [
       "<IPython.core.display.HTML object>"
      ]
     },
     "metadata": {},
     "output_type": "display_data"
    }
   ],
   "source": [
    "learn.fit_one_cycle(5, 1e-2)"
   ]
  },
  {
   "cell_type": "code",
   "execution_count": 45,
   "id": "05e94f25",
   "metadata": {},
   "outputs": [],
   "source": [
    "learn.save_encoder('finetuned_10epoch_raw_data')"
   ]
  },
  {
   "cell_type": "code",
   "execution_count": 50,
   "id": "6d3241cc",
   "metadata": {},
   "outputs": [
    {
     "data": {
      "text/html": [
       "\n",
       "<style>\n",
       "    /* Turns off some styling */\n",
       "    progress {\n",
       "        /* gets rid of default border in Firefox and Opera. */\n",
       "        border: none;\n",
       "        /* Needs to be in here for Safari polyfill so background images work as expected. */\n",
       "        background-size: auto;\n",
       "    }\n",
       "    progress:not([value]), progress:not([value])::-webkit-progress-bar {\n",
       "        background: repeating-linear-gradient(45deg, #7e7e7e, #7e7e7e 10px, #5c5c5c 10px, #5c5c5c 20px);\n",
       "    }\n",
       "    .progress-bar-interrupted, .progress-bar-interrupted::-webkit-progress-bar {\n",
       "        background: #F44336;\n",
       "    }\n",
       "</style>\n"
      ],
      "text/plain": [
       "<IPython.core.display.HTML object>"
      ]
     },
     "metadata": {},
     "output_type": "display_data"
    },
    {
     "data": {
      "text/html": [],
      "text/plain": [
       "<IPython.core.display.HTML object>"
      ]
     },
     "metadata": {},
     "output_type": "display_data"
    },
    {
     "data": {
      "text/plain": [
       "<fastai.data.core.DataLoaders at 0x7f8250ec4280>"
      ]
     },
     "execution_count": 50,
     "metadata": {},
     "output_type": "execute_result"
    }
   ],
   "source": [
    "df_oversampled = get_oversampled_df(data_path)\n",
    "dls_clas = TextDataLoaders.from_df(df_oversampled, text_col='line_text', label_col='speaker', shuffle_train=True, text_vocab=dls_lm.vocab)"
   ]
  },
  {
   "cell_type": "code",
   "execution_count": 51,
   "id": "5cee25ec",
   "metadata": {},
   "outputs": [
    {
     "data": {
      "text/html": [
       "<table border=\"1\" class=\"dataframe\">\n",
       "  <thead>\n",
       "    <tr style=\"text-align: right;\">\n",
       "      <th></th>\n",
       "      <th>text</th>\n",
       "      <th>category</th>\n",
       "    </tr>\n",
       "  </thead>\n",
       "  <tbody>\n",
       "    <tr>\n",
       "      <th>0</th>\n",
       "      <td>xxbos xxmaj i 've really learned from the xxunk . xxmaj the great xxunk , xxmaj drew xxmaj xxunk , xxmaj ryan xxmaj xxunk , uh , the xxmaj xxunk guy not so much . xxmaj he 's more the signing , xxmaj wayne xxmaj xxunk . xxmaj um , xxmaj robin xxmaj williams . xxmaj oh , man , would i love to go head - to - head with him . xxmaj oh ! xxmaj that would be exciting . [ as xxmaj robin xxmaj williams ] ' hi . xxmaj i 'm xxmaj xxunk from xxmaj xxunk . ' xxmaj well , xxmaj i 'm xxmaj xxunk from xxmaj xxunk . xxmaj nanoo , nanoo . xxmaj xxunk , xxunk . [ as xxmaj robin xxmaj williams ] ' that 's xxmaj good morning , xxmaj vietnam ! ' xxmaj well , hello to you . xxmaj</td>\n",
       "      <td>Michael</td>\n",
       "    </tr>\n",
       "    <tr>\n",
       "      <th>1</th>\n",
       "      <td>xxbos xxmaj no . xxmaj no , that is not all . xxmaj let me tell you what real life is like . xxmaj the men dry up , and the nights get lonely . xxmaj the only calls on your machine are for collection xxunk about that pair of motorcycle boots you never even wore . xxmaj you xxunk your old high school boyfriend online , go to his daughter 's soccer games , and make a scene . xxmaj you buy a diamond ring for yourself , wear it on your right hand , and tell yourself , you 're all you need . xxmaj one day , you 're alone , tired . xxmaj at your feet , a dying bird . xxmaj but where did it come from ? xxmaj why did you kill it ? xxmaj is it because in some strange way it is</td>\n",
       "      <td>Nellie</td>\n",
       "    </tr>\n",
       "    <tr>\n",
       "      <th>2</th>\n",
       "      <td>xxbos xxmaj well , uh , okay . xxmaj um . xxmaj it 's really great to be here tonight , with the xxmaj ferris wheel , the band , and the low sunlight . xxmaj i 'm gon na miss you all when i go to xxmaj costa xxmaj rica , and if i keep drinking beer like this , xxmaj i 'm gon na have to take a leak - a. [ laughter from audience , xxmaj michael looks at camera xxunk ] xxmaj look , on a more personal note , i just want to say thanks , you know , no matter what was going on in my life , you know , my divorce , or the xxunk battle , or that thing with my sister , it was just nice knowing i had a , a xxunk place to come to where …</td>\n",
       "      <td>Toby</td>\n",
       "    </tr>\n",
       "    <tr>\n",
       "      <th>3</th>\n",
       "      <td>xxbos [ to xxmaj andy ] i talked to corporate . xxmaj turns out there have been 12 reports of xxunk printers . xxmaj out of 400 , xxrep 3 0 . [ smiles ] xxmaj we 've xxunk . xxmaj every time it 's been user error . xxmaj they block the xxunk or something , i do n't know . xxmaj that 's why we have the fine print . xxmaj thank you for bringing this to our attention . xxmaj so xxmaj i 'd like to reward you for that . [ pulls out gift card ] xxmaj that 's god for five bucks at xxmaj dunkin ' xxmaj donuts . xxmaj any xxmaj dunkin ' xxmaj donuts . [ andy looks over at xxmaj darryl and xxmaj darryl motions for xxmaj andy to go to him ]</td>\n",
       "      <td>Gabe</td>\n",
       "    </tr>\n",
       "    <tr>\n",
       "      <th>4</th>\n",
       "      <td>xxbos xxmaj oui , xxmaj oui , xxmaj monsieur . xxmaj from the xxmaj xxunk region , a nice firm xxunk . xxmaj also from the great state of xxmaj xxunk , an aged xxunk . xxmaj here you will find a xxunk style spread which has xxunk nicely with the air to form a light xxunk which i think you 'll find both challenging and delicious . xxmaj at that point , i would recommend you take a trip south of the border to the great state of xxmaj xxunk where you will find this fine xxmaj xxunk xxmaj cheese dressing . xxmaj if i may be so bold , it 's a lot of fun to let the xxunk take a little swim in the xxunk cheese . xxmaj bon appetit .</td>\n",
       "      <td>Andy</td>\n",
       "    </tr>\n",
       "    <tr>\n",
       "      <th>5</th>\n",
       "      <td>xxbos [ crying ] i ca n't do this . xxmaj all the xxunk are gon na be different there . xxmaj i 'm not gon na be able to find my shows . xxmaj i 'm not going to start improv at level one , and i do n't think my xxunk will transfer . xxmaj ugh , and you know what ? i just figured out where i was supposed to go to vote . [ picks xxmaj world 's xxmaj best xxmaj boss mug out of the xxunk and puts it back on his desk ] i got ta call her , and xxmaj i 'm going to tell her , that i can not come . [ dials on his phone ]</td>\n",
       "      <td>Michael</td>\n",
       "    </tr>\n",
       "    <tr>\n",
       "      <th>6</th>\n",
       "      <td>xxbos xxmaj last night was crazy . xxmaj xxunk ? xxmaj yeah . xxmaj he did a donut in a parking lot in front of a cop . xxmaj and then he yells , ' hey cop , you like donuts ? ' then we drive off . xxmaj no , he just stayed there . [ pam goes to sit in a chair in the corner . ] i want that new phone . xxmaj no , the other one . xxmaj no the other one . xxmaj no , you know which one xxmaj i 'm talking about it 's the one , the one with the awesome xxunk . [ more bathroom noises ] xxmaj no , not that one .</td>\n",
       "      <td>Ryan</td>\n",
       "    </tr>\n",
       "    <tr>\n",
       "      <th>7</th>\n",
       "      <td>xxbos xxmaj okay , part of the problem was that xxmaj toby talked at you . xxmaj now , i am going to talk with you . xxmaj first off , i want you to be comfortable , because you really ca n't xxunk if you 're all tight and buttoned up . xxmaj so , guys , loosen your ties , just take your xxunk off if you want . xxmaj ladies , let your hair down . xxmaj you know what ? xxmaj even take your shoes off . i wanna get personal and i want you all to really open up . xxmaj and i want you to know that anything and everything can be said .</td>\n",
       "      <td>Michael</td>\n",
       "    </tr>\n",
       "    <tr>\n",
       "      <th>8</th>\n",
       "      <td>xxbos xxmaj when i said that i wanted to have kids , and you said , you wanted me to have a vasectomy , what did i do ? xxmaj and then when you said that you might want to have kids and i was n't so sure , xxmaj who had the vasectomy xxunk ? xxmaj and then when you said you xxunk did n't want to have kids , who had it xxunk back ? xxmaj snip snap ! xxmaj snip snap ! xxmaj snip snap ! i did . xxmaj you have no idea the physical xxunk , that three xxunk have on a person . xxmaj and i bought this condo to fill with children .</td>\n",
       "      <td>Michael</td>\n",
       "    </tr>\n",
       "  </tbody>\n",
       "</table>"
      ],
      "text/plain": [
       "<IPython.core.display.HTML object>"
      ]
     },
     "metadata": {},
     "output_type": "display_data"
    }
   ],
   "source": [
    "dls_clas.show_batch()"
   ]
  },
  {
   "cell_type": "code",
   "execution_count": 54,
   "id": "bb35f7bf",
   "metadata": {},
   "outputs": [
    {
     "data": {
      "text/plain": [
       "<fastai.text.learner.TextLearner at 0x7f81bd6ef220>"
      ]
     },
     "execution_count": 54,
     "metadata": {},
     "output_type": "execute_result"
    }
   ],
   "source": [
    "learn = text_classifier_learner(dls_clas, AWD_LSTM, metrics=accuracy, drop_mult=0.5, path=data_dir)"
   ]
  },
  {
   "cell_type": "code",
   "execution_count": 55,
   "id": "88069061",
   "metadata": {},
   "outputs": [
    {
     "data": {
      "text/plain": [
       "<fastai.text.learner.TextLearner at 0x7f81bd6ef220>"
      ]
     },
     "execution_count": 55,
     "metadata": {},
     "output_type": "execute_result"
    }
   ],
   "source": [
    "learn.load_encoder('finetuned_10epoch_raw_data')"
   ]
  },
  {
   "cell_type": "markdown",
   "id": "b20e00ee",
   "metadata": {},
   "source": [
    "Use discriminative learning and gradual unfreezing to benefit from the LM fine tuning"
   ]
  },
  {
   "cell_type": "code",
   "execution_count": 56,
   "id": "47941e7c",
   "metadata": {},
   "outputs": [
    {
     "data": {
      "text/html": [
       "\n",
       "<style>\n",
       "    /* Turns off some styling */\n",
       "    progress {\n",
       "        /* gets rid of default border in Firefox and Opera. */\n",
       "        border: none;\n",
       "        /* Needs to be in here for Safari polyfill so background images work as expected. */\n",
       "        background-size: auto;\n",
       "    }\n",
       "    progress:not([value]), progress:not([value])::-webkit-progress-bar {\n",
       "        background: repeating-linear-gradient(45deg, #7e7e7e, #7e7e7e 10px, #5c5c5c 10px, #5c5c5c 20px);\n",
       "    }\n",
       "    .progress-bar-interrupted, .progress-bar-interrupted::-webkit-progress-bar {\n",
       "        background: #F44336;\n",
       "    }\n",
       "</style>\n"
      ],
      "text/plain": [
       "<IPython.core.display.HTML object>"
      ]
     },
     "metadata": {},
     "output_type": "display_data"
    },
    {
     "data": {
      "text/html": [
       "<table border=\"1\" class=\"dataframe\">\n",
       "  <thead>\n",
       "    <tr style=\"text-align: left;\">\n",
       "      <th>epoch</th>\n",
       "      <th>train_loss</th>\n",
       "      <th>valid_loss</th>\n",
       "      <th>accuracy</th>\n",
       "      <th>time</th>\n",
       "    </tr>\n",
       "  </thead>\n",
       "  <tbody>\n",
       "    <tr>\n",
       "      <td>0</td>\n",
       "      <td>2.858639</td>\n",
       "      <td>2.824856</td>\n",
       "      <td>0.167565</td>\n",
       "      <td>00:38</td>\n",
       "    </tr>\n",
       "  </tbody>\n",
       "</table>"
      ],
      "text/plain": [
       "<IPython.core.display.HTML object>"
      ]
     },
     "metadata": {},
     "output_type": "display_data"
    }
   ],
   "source": [
    "learn.fit_one_cycle(1, 2e-2)"
   ]
  },
  {
   "cell_type": "code",
   "execution_count": 57,
   "id": "d3b7931e",
   "metadata": {},
   "outputs": [
    {
     "data": {
      "text/html": [
       "\n",
       "<style>\n",
       "    /* Turns off some styling */\n",
       "    progress {\n",
       "        /* gets rid of default border in Firefox and Opera. */\n",
       "        border: none;\n",
       "        /* Needs to be in here for Safari polyfill so background images work as expected. */\n",
       "        background-size: auto;\n",
       "    }\n",
       "    progress:not([value]), progress:not([value])::-webkit-progress-bar {\n",
       "        background: repeating-linear-gradient(45deg, #7e7e7e, #7e7e7e 10px, #5c5c5c 10px, #5c5c5c 20px);\n",
       "    }\n",
       "    .progress-bar-interrupted, .progress-bar-interrupted::-webkit-progress-bar {\n",
       "        background: #F44336;\n",
       "    }\n",
       "</style>\n"
      ],
      "text/plain": [
       "<IPython.core.display.HTML object>"
      ]
     },
     "metadata": {},
     "output_type": "display_data"
    },
    {
     "data": {
      "text/html": [
       "<table border=\"1\" class=\"dataframe\">\n",
       "  <thead>\n",
       "    <tr style=\"text-align: left;\">\n",
       "      <th>epoch</th>\n",
       "      <th>train_loss</th>\n",
       "      <th>valid_loss</th>\n",
       "      <th>accuracy</th>\n",
       "      <th>time</th>\n",
       "    </tr>\n",
       "  </thead>\n",
       "  <tbody>\n",
       "    <tr>\n",
       "      <td>0</td>\n",
       "      <td>2.273873</td>\n",
       "      <td>1.996141</td>\n",
       "      <td>0.413717</td>\n",
       "      <td>00:43</td>\n",
       "    </tr>\n",
       "  </tbody>\n",
       "</table>"
      ],
      "text/plain": [
       "<IPython.core.display.HTML object>"
      ]
     },
     "metadata": {},
     "output_type": "display_data"
    }
   ],
   "source": [
    "learn.freeze_to(-2)\n",
    "learn.fit_one_cycle(1, slice(1e-2/(2.6**4), 1e-2))"
   ]
  },
  {
   "cell_type": "code",
   "execution_count": 58,
   "id": "5320c4b3",
   "metadata": {},
   "outputs": [
    {
     "data": {
      "text/html": [
       "\n",
       "<style>\n",
       "    /* Turns off some styling */\n",
       "    progress {\n",
       "        /* gets rid of default border in Firefox and Opera. */\n",
       "        border: none;\n",
       "        /* Needs to be in here for Safari polyfill so background images work as expected. */\n",
       "        background-size: auto;\n",
       "    }\n",
       "    progress:not([value]), progress:not([value])::-webkit-progress-bar {\n",
       "        background: repeating-linear-gradient(45deg, #7e7e7e, #7e7e7e 10px, #5c5c5c 10px, #5c5c5c 20px);\n",
       "    }\n",
       "    .progress-bar-interrupted, .progress-bar-interrupted::-webkit-progress-bar {\n",
       "        background: #F44336;\n",
       "    }\n",
       "</style>\n"
      ],
      "text/plain": [
       "<IPython.core.display.HTML object>"
      ]
     },
     "metadata": {},
     "output_type": "display_data"
    },
    {
     "data": {
      "text/html": [
       "<table border=\"1\" class=\"dataframe\">\n",
       "  <thead>\n",
       "    <tr style=\"text-align: left;\">\n",
       "      <th>epoch</th>\n",
       "      <th>train_loss</th>\n",
       "      <th>valid_loss</th>\n",
       "      <th>accuracy</th>\n",
       "      <th>time</th>\n",
       "    </tr>\n",
       "  </thead>\n",
       "  <tbody>\n",
       "    <tr>\n",
       "      <td>0</td>\n",
       "      <td>1.723844</td>\n",
       "      <td>1.341638</td>\n",
       "      <td>0.598730</td>\n",
       "      <td>01:02</td>\n",
       "    </tr>\n",
       "  </tbody>\n",
       "</table>"
      ],
      "text/plain": [
       "<IPython.core.display.HTML object>"
      ]
     },
     "metadata": {},
     "output_type": "display_data"
    }
   ],
   "source": [
    "learn.freeze_to(-3)\n",
    "learn.fit_one_cycle(1, slice(5e-3/(2.6**4), 5e-3))"
   ]
  },
  {
   "cell_type": "code",
   "execution_count": 59,
   "id": "8c75e4b5",
   "metadata": {},
   "outputs": [
    {
     "data": {
      "text/html": [
       "\n",
       "<style>\n",
       "    /* Turns off some styling */\n",
       "    progress {\n",
       "        /* gets rid of default border in Firefox and Opera. */\n",
       "        border: none;\n",
       "        /* Needs to be in here for Safari polyfill so background images work as expected. */\n",
       "        background-size: auto;\n",
       "    }\n",
       "    progress:not([value]), progress:not([value])::-webkit-progress-bar {\n",
       "        background: repeating-linear-gradient(45deg, #7e7e7e, #7e7e7e 10px, #5c5c5c 10px, #5c5c5c 20px);\n",
       "    }\n",
       "    .progress-bar-interrupted, .progress-bar-interrupted::-webkit-progress-bar {\n",
       "        background: #F44336;\n",
       "    }\n",
       "</style>\n"
      ],
      "text/plain": [
       "<IPython.core.display.HTML object>"
      ]
     },
     "metadata": {},
     "output_type": "display_data"
    },
    {
     "data": {
      "text/html": [
       "<table border=\"1\" class=\"dataframe\">\n",
       "  <thead>\n",
       "    <tr style=\"text-align: left;\">\n",
       "      <th>epoch</th>\n",
       "      <th>train_loss</th>\n",
       "      <th>valid_loss</th>\n",
       "      <th>accuracy</th>\n",
       "      <th>time</th>\n",
       "    </tr>\n",
       "  </thead>\n",
       "  <tbody>\n",
       "    <tr>\n",
       "      <td>0</td>\n",
       "      <td>1.471472</td>\n",
       "      <td>1.125690</td>\n",
       "      <td>0.659868</td>\n",
       "      <td>01:20</td>\n",
       "    </tr>\n",
       "    <tr>\n",
       "      <td>1</td>\n",
       "      <td>1.299848</td>\n",
       "      <td>1.039159</td>\n",
       "      <td>0.684808</td>\n",
       "      <td>01:20</td>\n",
       "    </tr>\n",
       "  </tbody>\n",
       "</table>"
      ],
      "text/plain": [
       "<IPython.core.display.HTML object>"
      ]
     },
     "metadata": {},
     "output_type": "display_data"
    }
   ],
   "source": [
    "learn.unfreeze()\n",
    "learn.fit_one_cycle(2, slice(1e-3/(2.6**4),1e-3))"
   ]
  },
  {
   "cell_type": "code",
   "execution_count": 60,
   "id": "05cc62d2",
   "metadata": {},
   "outputs": [
    {
     "data": {
      "text/plain": [
       "Path('../data/models/gradual_unfreeze.pth')"
      ]
     },
     "execution_count": 60,
     "metadata": {},
     "output_type": "execute_result"
    }
   ],
   "source": [
    "learn.save('gradual_unfreeze')"
   ]
  },
  {
   "cell_type": "code",
   "execution_count": 61,
   "id": "d8ed0490",
   "metadata": {},
   "outputs": [
    {
     "data": {
      "text/html": [
       "\n",
       "<style>\n",
       "    /* Turns off some styling */\n",
       "    progress {\n",
       "        /* gets rid of default border in Firefox and Opera. */\n",
       "        border: none;\n",
       "        /* Needs to be in here for Safari polyfill so background images work as expected. */\n",
       "        background-size: auto;\n",
       "    }\n",
       "    progress:not([value]), progress:not([value])::-webkit-progress-bar {\n",
       "        background: repeating-linear-gradient(45deg, #7e7e7e, #7e7e7e 10px, #5c5c5c 10px, #5c5c5c 20px);\n",
       "    }\n",
       "    .progress-bar-interrupted, .progress-bar-interrupted::-webkit-progress-bar {\n",
       "        background: #F44336;\n",
       "    }\n",
       "</style>\n"
      ],
      "text/plain": [
       "<IPython.core.display.HTML object>"
      ]
     },
     "metadata": {},
     "output_type": "display_data"
    },
    {
     "data": {
      "text/html": [
       "<table border=\"1\" class=\"dataframe\">\n",
       "  <thead>\n",
       "    <tr style=\"text-align: left;\">\n",
       "      <th>epoch</th>\n",
       "      <th>train_loss</th>\n",
       "      <th>valid_loss</th>\n",
       "      <th>accuracy</th>\n",
       "      <th>time</th>\n",
       "    </tr>\n",
       "  </thead>\n",
       "  <tbody>\n",
       "    <tr>\n",
       "      <td>0</td>\n",
       "      <td>1.379189</td>\n",
       "      <td>1.041239</td>\n",
       "      <td>0.681337</td>\n",
       "      <td>00:47</td>\n",
       "    </tr>\n",
       "  </tbody>\n",
       "</table>"
      ],
      "text/plain": [
       "<IPython.core.display.HTML object>"
      ]
     },
     "metadata": {},
     "output_type": "display_data"
    },
    {
     "data": {
      "text/html": [
       "\n",
       "<style>\n",
       "    /* Turns off some styling */\n",
       "    progress {\n",
       "        /* gets rid of default border in Firefox and Opera. */\n",
       "        border: none;\n",
       "        /* Needs to be in here for Safari polyfill so background images work as expected. */\n",
       "        background-size: auto;\n",
       "    }\n",
       "    progress:not([value]), progress:not([value])::-webkit-progress-bar {\n",
       "        background: repeating-linear-gradient(45deg, #7e7e7e, #7e7e7e 10px, #5c5c5c 10px, #5c5c5c 20px);\n",
       "    }\n",
       "    .progress-bar-interrupted, .progress-bar-interrupted::-webkit-progress-bar {\n",
       "        background: #F44336;\n",
       "    }\n",
       "</style>\n"
      ],
      "text/plain": [
       "<IPython.core.display.HTML object>"
      ]
     },
     "metadata": {},
     "output_type": "display_data"
    },
    {
     "data": {
      "text/html": [
       "<table border=\"1\" class=\"dataframe\">\n",
       "  <thead>\n",
       "    <tr style=\"text-align: left;\">\n",
       "      <th>epoch</th>\n",
       "      <th>train_loss</th>\n",
       "      <th>valid_loss</th>\n",
       "      <th>accuracy</th>\n",
       "      <th>time</th>\n",
       "    </tr>\n",
       "  </thead>\n",
       "  <tbody>\n",
       "    <tr>\n",
       "      <td>0</td>\n",
       "      <td>1.212348</td>\n",
       "      <td>0.922801</td>\n",
       "      <td>0.715366</td>\n",
       "      <td>01:19</td>\n",
       "    </tr>\n",
       "    <tr>\n",
       "      <td>1</td>\n",
       "      <td>1.124359</td>\n",
       "      <td>0.832202</td>\n",
       "      <td>0.739140</td>\n",
       "      <td>01:20</td>\n",
       "    </tr>\n",
       "    <tr>\n",
       "      <td>2</td>\n",
       "      <td>0.984608</td>\n",
       "      <td>0.768485</td>\n",
       "      <td>0.760403</td>\n",
       "      <td>01:19</td>\n",
       "    </tr>\n",
       "    <tr>\n",
       "      <td>3</td>\n",
       "      <td>0.802514</td>\n",
       "      <td>0.691501</td>\n",
       "      <td>0.783378</td>\n",
       "      <td>01:19</td>\n",
       "    </tr>\n",
       "    <tr>\n",
       "      <td>4</td>\n",
       "      <td>0.753672</td>\n",
       "      <td>0.605773</td>\n",
       "      <td>0.806696</td>\n",
       "      <td>01:19</td>\n",
       "    </tr>\n",
       "    <tr>\n",
       "      <td>5</td>\n",
       "      <td>0.645452</td>\n",
       "      <td>0.569023</td>\n",
       "      <td>0.819691</td>\n",
       "      <td>01:17</td>\n",
       "    </tr>\n",
       "    <tr>\n",
       "      <td>6</td>\n",
       "      <td>0.535576</td>\n",
       "      <td>0.521517</td>\n",
       "      <td>0.832755</td>\n",
       "      <td>01:17</td>\n",
       "    </tr>\n",
       "    <tr>\n",
       "      <td>7</td>\n",
       "      <td>0.442816</td>\n",
       "      <td>0.508448</td>\n",
       "      <td>0.838670</td>\n",
       "      <td>01:17</td>\n",
       "    </tr>\n",
       "    <tr>\n",
       "      <td>8</td>\n",
       "      <td>0.477323</td>\n",
       "      <td>0.505606</td>\n",
       "      <td>0.842507</td>\n",
       "      <td>01:17</td>\n",
       "    </tr>\n",
       "    <tr>\n",
       "      <td>9</td>\n",
       "      <td>0.539282</td>\n",
       "      <td>0.498451</td>\n",
       "      <td>0.844882</td>\n",
       "      <td>01:17</td>\n",
       "    </tr>\n",
       "  </tbody>\n",
       "</table>"
      ],
      "text/plain": [
       "<IPython.core.display.HTML object>"
      ]
     },
     "metadata": {},
     "output_type": "display_data"
    }
   ],
   "source": [
    "learn.fine_tune(10, 1e-2)"
   ]
  },
  {
   "cell_type": "code",
   "execution_count": 62,
   "id": "bd1e9a14",
   "metadata": {},
   "outputs": [
    {
     "data": {
      "text/html": [
       "\n",
       "<style>\n",
       "    /* Turns off some styling */\n",
       "    progress {\n",
       "        /* gets rid of default border in Firefox and Opera. */\n",
       "        border: none;\n",
       "        /* Needs to be in here for Safari polyfill so background images work as expected. */\n",
       "        background-size: auto;\n",
       "    }\n",
       "    progress:not([value]), progress:not([value])::-webkit-progress-bar {\n",
       "        background: repeating-linear-gradient(45deg, #7e7e7e, #7e7e7e 10px, #5c5c5c 10px, #5c5c5c 20px);\n",
       "    }\n",
       "    .progress-bar-interrupted, .progress-bar-interrupted::-webkit-progress-bar {\n",
       "        background: #F44336;\n",
       "    }\n",
       "</style>\n"
      ],
      "text/plain": [
       "<IPython.core.display.HTML object>"
      ]
     },
     "metadata": {},
     "output_type": "display_data"
    },
    {
     "data": {
      "text/html": [
       "<table border=\"1\" class=\"dataframe\">\n",
       "  <thead>\n",
       "    <tr style=\"text-align: left;\">\n",
       "      <th>epoch</th>\n",
       "      <th>train_loss</th>\n",
       "      <th>valid_loss</th>\n",
       "      <th>accuracy</th>\n",
       "      <th>time</th>\n",
       "    </tr>\n",
       "  </thead>\n",
       "  <tbody>\n",
       "    <tr>\n",
       "      <td>0</td>\n",
       "      <td>0.566147</td>\n",
       "      <td>0.519057</td>\n",
       "      <td>0.837300</td>\n",
       "      <td>00:48</td>\n",
       "    </tr>\n",
       "  </tbody>\n",
       "</table>"
      ],
      "text/plain": [
       "<IPython.core.display.HTML object>"
      ]
     },
     "metadata": {},
     "output_type": "display_data"
    },
    {
     "data": {
      "text/html": [
       "\n",
       "<style>\n",
       "    /* Turns off some styling */\n",
       "    progress {\n",
       "        /* gets rid of default border in Firefox and Opera. */\n",
       "        border: none;\n",
       "        /* Needs to be in here for Safari polyfill so background images work as expected. */\n",
       "        background-size: auto;\n",
       "    }\n",
       "    progress:not([value]), progress:not([value])::-webkit-progress-bar {\n",
       "        background: repeating-linear-gradient(45deg, #7e7e7e, #7e7e7e 10px, #5c5c5c 10px, #5c5c5c 20px);\n",
       "    }\n",
       "    .progress-bar-interrupted, .progress-bar-interrupted::-webkit-progress-bar {\n",
       "        background: #F44336;\n",
       "    }\n",
       "</style>\n"
      ],
      "text/plain": [
       "<IPython.core.display.HTML object>"
      ]
     },
     "metadata": {},
     "output_type": "display_data"
    },
    {
     "data": {
      "text/html": [
       "<table border=\"1\" class=\"dataframe\">\n",
       "  <thead>\n",
       "    <tr style=\"text-align: left;\">\n",
       "      <th>epoch</th>\n",
       "      <th>train_loss</th>\n",
       "      <th>valid_loss</th>\n",
       "      <th>accuracy</th>\n",
       "      <th>time</th>\n",
       "    </tr>\n",
       "  </thead>\n",
       "  <tbody>\n",
       "    <tr>\n",
       "      <td>0</td>\n",
       "      <td>0.618788</td>\n",
       "      <td>0.512606</td>\n",
       "      <td>0.839926</td>\n",
       "      <td>01:19</td>\n",
       "    </tr>\n",
       "    <tr>\n",
       "      <td>1</td>\n",
       "      <td>0.477238</td>\n",
       "      <td>0.528741</td>\n",
       "      <td>0.839880</td>\n",
       "      <td>01:19</td>\n",
       "    </tr>\n",
       "    <tr>\n",
       "      <td>2</td>\n",
       "      <td>0.546472</td>\n",
       "      <td>0.538952</td>\n",
       "      <td>0.835153</td>\n",
       "      <td>01:19</td>\n",
       "    </tr>\n",
       "    <tr>\n",
       "      <td>3</td>\n",
       "      <td>0.557759</td>\n",
       "      <td>0.532016</td>\n",
       "      <td>0.838053</td>\n",
       "      <td>01:20</td>\n",
       "    </tr>\n",
       "    <tr>\n",
       "      <td>4</td>\n",
       "      <td>0.507332</td>\n",
       "      <td>0.528189</td>\n",
       "      <td>0.842826</td>\n",
       "      <td>01:20</td>\n",
       "    </tr>\n",
       "    <tr>\n",
       "      <td>5</td>\n",
       "      <td>0.479780</td>\n",
       "      <td>0.515114</td>\n",
       "      <td>0.845658</td>\n",
       "      <td>01:20</td>\n",
       "    </tr>\n",
       "    <tr>\n",
       "      <td>6</td>\n",
       "      <td>0.401412</td>\n",
       "      <td>0.505492</td>\n",
       "      <td>0.850477</td>\n",
       "      <td>01:20</td>\n",
       "    </tr>\n",
       "    <tr>\n",
       "      <td>7</td>\n",
       "      <td>0.437480</td>\n",
       "      <td>0.515497</td>\n",
       "      <td>0.852784</td>\n",
       "      <td>01:23</td>\n",
       "    </tr>\n",
       "    <tr>\n",
       "      <td>8</td>\n",
       "      <td>0.341165</td>\n",
       "      <td>0.512568</td>\n",
       "      <td>0.854543</td>\n",
       "      <td>01:20</td>\n",
       "    </tr>\n",
       "    <tr>\n",
       "      <td>9</td>\n",
       "      <td>0.335571</td>\n",
       "      <td>0.513160</td>\n",
       "      <td>0.854246</td>\n",
       "      <td>01:21</td>\n",
       "    </tr>\n",
       "  </tbody>\n",
       "</table>"
      ],
      "text/plain": [
       "<IPython.core.display.HTML object>"
      ]
     },
     "metadata": {},
     "output_type": "display_data"
    }
   ],
   "source": [
    "learn.fine_tune(10, 1e-2)"
   ]
  },
  {
   "cell_type": "code",
   "execution_count": null,
   "id": "6fe63297",
   "metadata": {},
   "outputs": [],
   "source": []
  },
  {
   "cell_type": "code",
   "execution_count": 63,
   "id": "f0cf6503",
   "metadata": {},
   "outputs": [
    {
     "data": {
      "text/html": [
       "\n",
       "<style>\n",
       "    /* Turns off some styling */\n",
       "    progress {\n",
       "        /* gets rid of default border in Firefox and Opera. */\n",
       "        border: none;\n",
       "        /* Needs to be in here for Safari polyfill so background images work as expected. */\n",
       "        background-size: auto;\n",
       "    }\n",
       "    progress:not([value]), progress:not([value])::-webkit-progress-bar {\n",
       "        background: repeating-linear-gradient(45deg, #7e7e7e, #7e7e7e 10px, #5c5c5c 10px, #5c5c5c 20px);\n",
       "    }\n",
       "    .progress-bar-interrupted, .progress-bar-interrupted::-webkit-progress-bar {\n",
       "        background: #F44336;\n",
       "    }\n",
       "</style>\n"
      ],
      "text/plain": [
       "<IPython.core.display.HTML object>"
      ]
     },
     "metadata": {},
     "output_type": "display_data"
    },
    {
     "data": {
      "text/html": [
       "<table border=\"1\" class=\"dataframe\">\n",
       "  <thead>\n",
       "    <tr style=\"text-align: left;\">\n",
       "      <th>epoch</th>\n",
       "      <th>train_loss</th>\n",
       "      <th>valid_loss</th>\n",
       "      <th>accuracy</th>\n",
       "      <th>time</th>\n",
       "    </tr>\n",
       "  </thead>\n",
       "  <tbody>\n",
       "    <tr>\n",
       "      <td>0</td>\n",
       "      <td>0.375447</td>\n",
       "      <td>0.546352</td>\n",
       "      <td>0.847006</td>\n",
       "      <td>00:49</td>\n",
       "    </tr>\n",
       "  </tbody>\n",
       "</table>"
      ],
      "text/plain": [
       "<IPython.core.display.HTML object>"
      ]
     },
     "metadata": {},
     "output_type": "display_data"
    },
    {
     "data": {
      "text/html": [
       "\n",
       "<style>\n",
       "    /* Turns off some styling */\n",
       "    progress {\n",
       "        /* gets rid of default border in Firefox and Opera. */\n",
       "        border: none;\n",
       "        /* Needs to be in here for Safari polyfill so background images work as expected. */\n",
       "        background-size: auto;\n",
       "    }\n",
       "    progress:not([value]), progress:not([value])::-webkit-progress-bar {\n",
       "        background: repeating-linear-gradient(45deg, #7e7e7e, #7e7e7e 10px, #5c5c5c 10px, #5c5c5c 20px);\n",
       "    }\n",
       "    .progress-bar-interrupted, .progress-bar-interrupted::-webkit-progress-bar {\n",
       "        background: #F44336;\n",
       "    }\n",
       "</style>\n"
      ],
      "text/plain": [
       "<IPython.core.display.HTML object>"
      ]
     },
     "metadata": {},
     "output_type": "display_data"
    },
    {
     "data": {
      "text/html": [
       "<table border=\"1\" class=\"dataframe\">\n",
       "  <thead>\n",
       "    <tr style=\"text-align: left;\">\n",
       "      <th>epoch</th>\n",
       "      <th>train_loss</th>\n",
       "      <th>valid_loss</th>\n",
       "      <th>accuracy</th>\n",
       "      <th>time</th>\n",
       "    </tr>\n",
       "  </thead>\n",
       "  <tbody>\n",
       "    <tr>\n",
       "      <td>0</td>\n",
       "      <td>0.497221</td>\n",
       "      <td>0.536701</td>\n",
       "      <td>0.848764</td>\n",
       "      <td>01:19</td>\n",
       "    </tr>\n",
       "    <tr>\n",
       "      <td>1</td>\n",
       "      <td>0.484544</td>\n",
       "      <td>0.542147</td>\n",
       "      <td>0.848056</td>\n",
       "      <td>01:20</td>\n",
       "    </tr>\n",
       "    <tr>\n",
       "      <td>2</td>\n",
       "      <td>0.490150</td>\n",
       "      <td>0.532574</td>\n",
       "      <td>0.848627</td>\n",
       "      <td>01:20</td>\n",
       "    </tr>\n",
       "    <tr>\n",
       "      <td>3</td>\n",
       "      <td>0.468272</td>\n",
       "      <td>0.518920</td>\n",
       "      <td>0.853835</td>\n",
       "      <td>01:20</td>\n",
       "    </tr>\n",
       "    <tr>\n",
       "      <td>4</td>\n",
       "      <td>0.359040</td>\n",
       "      <td>0.521633</td>\n",
       "      <td>0.854451</td>\n",
       "      <td>01:20</td>\n",
       "    </tr>\n",
       "  </tbody>\n",
       "</table>"
      ],
      "text/plain": [
       "<IPython.core.display.HTML object>"
      ]
     },
     "metadata": {},
     "output_type": "display_data"
    }
   ],
   "source": [
    "learn.fine_tune(5, 1e-2)"
   ]
  },
  {
   "cell_type": "code",
   "execution_count": 65,
   "id": "06d19c4b",
   "metadata": {},
   "outputs": [],
   "source": [
    "learn.export('ULMFit_train_oversampled_30_epoch')"
   ]
  },
  {
   "cell_type": "code",
   "execution_count": 66,
   "id": "f5410f29",
   "metadata": {},
   "outputs": [
    {
     "data": {
      "text/html": [
       "\n",
       "<style>\n",
       "    /* Turns off some styling */\n",
       "    progress {\n",
       "        /* gets rid of default border in Firefox and Opera. */\n",
       "        border: none;\n",
       "        /* Needs to be in here for Safari polyfill so background images work as expected. */\n",
       "        background-size: auto;\n",
       "    }\n",
       "    progress:not([value]), progress:not([value])::-webkit-progress-bar {\n",
       "        background: repeating-linear-gradient(45deg, #7e7e7e, #7e7e7e 10px, #5c5c5c 10px, #5c5c5c 20px);\n",
       "    }\n",
       "    .progress-bar-interrupted, .progress-bar-interrupted::-webkit-progress-bar {\n",
       "        background: #F44336;\n",
       "    }\n",
       "</style>\n"
      ],
      "text/plain": [
       "<IPython.core.display.HTML object>"
      ]
     },
     "metadata": {},
     "output_type": "display_data"
    },
    {
     "data": {
      "text/html": [],
      "text/plain": [
       "<IPython.core.display.HTML object>"
      ]
     },
     "metadata": {},
     "output_type": "display_data"
    },
    {
     "data": {
      "text/plain": [
       "<fastai.interpret.ClassificationInterpretation at 0x7f82df966e30>"
      ]
     },
     "execution_count": 66,
     "metadata": {},
     "output_type": "execute_result"
    }
   ],
   "source": [
    "interp = ClassificationInterpretation.from_learner(learn)"
   ]
  },
  {
   "cell_type": "code",
   "execution_count": 68,
   "id": "cefa1f54",
   "metadata": {},
   "outputs": [
    {
     "data": {
      "text/html": [
       "\n",
       "<style>\n",
       "    /* Turns off some styling */\n",
       "    progress {\n",
       "        /* gets rid of default border in Firefox and Opera. */\n",
       "        border: none;\n",
       "        /* Needs to be in here for Safari polyfill so background images work as expected. */\n",
       "        background-size: auto;\n",
       "    }\n",
       "    progress:not([value]), progress:not([value])::-webkit-progress-bar {\n",
       "        background: repeating-linear-gradient(45deg, #7e7e7e, #7e7e7e 10px, #5c5c5c 10px, #5c5c5c 20px);\n",
       "    }\n",
       "    .progress-bar-interrupted, .progress-bar-interrupted::-webkit-progress-bar {\n",
       "        background: #F44336;\n",
       "    }\n",
       "</style>\n"
      ],
      "text/plain": [
       "<IPython.core.display.HTML object>"
      ]
     },
     "metadata": {},
     "output_type": "display_data"
    },
    {
     "data": {
      "text/html": [],
      "text/plain": [
       "<IPython.core.display.HTML object>"
      ]
     },
     "metadata": {},
     "output_type": "display_data"
    },
    {
     "data": {
      "image/png": "[encoded data removed]",
      "text/plain": [
       "<Figure size 640x480 with 1 Axes>"
      ]
     },
     "metadata": {},
     "output_type": "display_data"
    }
   ],
   "source": [
    "interp.plot_confusion_matrix()"
   ]
  },
  {
   "cell_type": "code",
   "execution_count": 70,
   "id": "e9174704",
   "metadata": {},
   "outputs": [
    {
     "data": {
      "text/html": [
       "\n",
       "<style>\n",
       "    /* Turns off some styling */\n",
       "    progress {\n",
       "        /* gets rid of default border in Firefox and Opera. */\n",
       "        border: none;\n",
       "        /* Needs to be in here for Safari polyfill so background images work as expected. */\n",
       "        background-size: auto;\n",
       "    }\n",
       "    progress:not([value]), progress:not([value])::-webkit-progress-bar {\n",
       "        background: repeating-linear-gradient(45deg, #7e7e7e, #7e7e7e 10px, #5c5c5c 10px, #5c5c5c 20px);\n",
       "    }\n",
       "    .progress-bar-interrupted, .progress-bar-interrupted::-webkit-progress-bar {\n",
       "        background: #F44336;\n",
       "    }\n",
       "</style>\n"
      ],
      "text/plain": [
       "<IPython.core.display.HTML object>"
      ]
     },
     "metadata": {},
     "output_type": "display_data"
    },
    {
     "data": {
      "text/html": [],
      "text/plain": [
       "<IPython.core.display.HTML object>"
      ]
     },
     "metadata": {},
     "output_type": "display_data"
    },
    {
     "data": {
      "text/html": [
       "<table border=\"1\" class=\"dataframe\">\n",
       "  <thead>\n",
       "    <tr style=\"text-align: right;\">\n",
       "      <th></th>\n",
       "      <th>text</th>\n",
       "      <th>category</th>\n",
       "      <th>category_</th>\n",
       "    </tr>\n",
       "  </thead>\n",
       "  <tbody>\n",
       "    <tr>\n",
       "      <th>0</th>\n",
       "      <td>xxbos xxmaj yes . xxmaj actually , i have . i have been on a hunting trip . i shot a deer in the leg . i had to … i had to hit him , i had to hit him with a shovel for about an hour , so he … xxmaj that 's good eating , though . xxmaj xxunk 's very xxunk . xxmaj it 's hard to watch , though . xxmaj it 's hard to … xxmaj it 's hard to hit another living thing in the face with a shovel for about an hour . xxmaj that … i have n't been hunting since then . xxup i , i … 'cause that 's , you know , where 's the joy in that ? xxmaj where 's the … xxmaj there 's no sport , really . xxmaj especially when you 're the</td>\n",
       "      <td>Michael</td>\n",
       "      <td>Michael</td>\n",
       "    </tr>\n",
       "    <tr>\n",
       "      <th>1</th>\n",
       "      <td>xxbos [ answering phone ] xxmaj this is xxmaj angela . xxmaj oh . xxmaj hello , xxmaj miss xxmaj xxunk . xxmaj uh , how can i help you ? xxmaj did my rent check not clear ? xxmaj because i just transferred another $ 25 to that account . xxmaj so if there 's a problem it 's clearly on your end . xxmaj xxunk . xxmaj oh . xxmaj oh , okay . xxmaj good . xxmaj then … um ' what is this about ? xxmaj no , no . xxmaj hey , hey ! xxmaj no , you are out of line xxmaj miss xxmaj xxunk . xxmaj no , no you are . xxmaj no you are ! xxmaj xxunk ? xxmaj fine ! i did n't want to live in that xxunk anyway ! xxmaj listen , i get my security deposit back</td>\n",
       "      <td>Angela</td>\n",
       "      <td>Angela</td>\n",
       "    </tr>\n",
       "    <tr>\n",
       "      <th>2</th>\n",
       "      <td>xxbos xxmaj well , uh , okay . xxmaj um . xxmaj it 's really great to be here tonight , with the xxmaj ferris wheel , the band , and the low sunlight . xxmaj i 'm gon na miss you all when i go to xxmaj costa xxmaj rica , and if i keep drinking beer like this , xxmaj i 'm gon na have to take a leak - a. [ laughter from audience , xxmaj michael looks at camera xxunk ] xxmaj look , on a more personal note , i just want to say thanks , you know , no matter what was going on in my life , you know , my divorce , or the xxunk battle , or that thing with my sister , it was just nice knowing i had a , a xxunk place to come to where …</td>\n",
       "      <td>Toby</td>\n",
       "      <td>Toby</td>\n",
       "    </tr>\n",
       "    <tr>\n",
       "      <th>3</th>\n",
       "      <td>xxbos [ to xxmaj andy ] i talked to corporate . xxmaj turns out there have been 12 reports of xxunk printers . xxmaj out of 400 , xxrep 3 0 . [ smiles ] xxmaj we 've xxunk . xxmaj every time it 's been user error . xxmaj they block the xxunk or something , i do n't know . xxmaj that 's why we have the fine print . xxmaj thank you for bringing this to our attention . xxmaj so xxmaj i 'd like to reward you for that . [ pulls out gift card ] xxmaj that 's god for five bucks at xxmaj dunkin ' xxmaj donuts . xxmaj any xxmaj dunkin ' xxmaj donuts . [ andy looks over at xxmaj darryl and xxmaj darryl motions for xxmaj andy to go to him ]</td>\n",
       "      <td>Gabe</td>\n",
       "      <td>Gabe</td>\n",
       "    </tr>\n",
       "    <tr>\n",
       "      <th>4</th>\n",
       "      <td>xxbos xxmaj xxunk and xxmaj mary are seated watching the show . [ in xxmaj lincoln voice ] xxmaj oh xxmaj mary this is wonderful ' xxmaj ok xxmaj mary stop your xxunk . xxmaj i 'll be quiet . [ aside to the audience ] i need her like i need a hole in the head ! [ scattered chuckles from the crowd ] [ gabe raises his hand with a finger pointed in the shape of a gun to his head ] xxup bang ! xxmaj ooh [ gabe falls to the ground and the crowd claps , xxmaj gabe picks up the xxmaj lincoln hat , bows , runs to the crowd and xxunk it back for his pink ' dm does xxup xxunk ' hat and runs off ]</td>\n",
       "      <td>Gabe</td>\n",
       "      <td>Gabe</td>\n",
       "    </tr>\n",
       "    <tr>\n",
       "      <th>5</th>\n",
       "      <td>xxbos xxmaj this is awesome . [ cell phone rings ] xxmaj sorry . xxmaj hi , xxmaj gabe . xxmaj yeah , i just stopped by xxmaj andy 's cast party to say hi to everyone . xxmaj oh , sure , i can pick you up some soup . xxmaj what do you want ? xxmaj that 's xxunk , xxmaj gabe . xxmaj okay , i - i'll see you soup . [ hangs up ] xxmaj okay , i have to go . xxmaj thank you so much . xxmaj this is so much fun , and xxmaj i 'm really sorry that i missed your play , but next time xxmaj i 'll be there . xxmaj or here . xxmaj right here , i promise .</td>\n",
       "      <td>Erin</td>\n",
       "      <td>Erin</td>\n",
       "    </tr>\n",
       "    <tr>\n",
       "      <th>6</th>\n",
       "      <td>xxbos [ plays the recorder ] xxmaj that was xxmaj xxunk . a traditional xxmaj english xxmaj xxunk about the xxunk xxmaj xxunk xxmaj xxunk . xxmaj and now , a very special treat … a book my xxmaj xxunk used to read me when i was a kid . xxmaj this is a very special story , it 's called xxmaj xxunk , by xxmaj xxunk xxmaj xxunk from xxunk . [ reading from book ] xxmaj the great tall xxunk always comes to little girls that suck their thumbs xxrep 3 - are you listening , xxmaj sasha ? xxmaj right ? xxmaj and ' xxunk they dream when he 's about , he takes his great sharp scissors out , and then cuts their thumbs clean off !</td>\n",
       "      <td>Dwight</td>\n",
       "      <td>Dwight</td>\n",
       "    </tr>\n",
       "    <tr>\n",
       "      <th>7</th>\n",
       "      <td>xxbos i am attracted to weird , wrong men . i dated a violent karate instructor and then an xxunk xxunk . xxmaj life has been complicated . xxmaj i 've made some decisions that xxmaj i 'm not proud of ; my marriage , being xxunk xxunk with my family . i orgasm fairly easily . xxmaj michael was kind of like my dirty secret , you know , having sex with him , oh i was just turned on by my own xxunk . xxmaj um , why , anyway , i was told by somebody recently that i respect that xxmaj i 'm old enough to have a mature relationship , and that 's what this whole evening is about and i have high hopes .</td>\n",
       "      <td>Jan</td>\n",
       "      <td>Jan</td>\n",
       "    </tr>\n",
       "    <tr>\n",
       "      <th>8</th>\n",
       "      <td>xxbos xxmaj oh . xxmaj is n't he terrible ? xxmaj may xxup i ? xxmaj here 's the thing . xxmaj umm … xxmaj mema , i think you just need to chill out about this whole xxmaj pam getting pregnant thing . xxmaj it 's not xxunk anymore . xxmaj it 's modern day . xxmaj and women have sex before marriage and i think we need to celebrate that . xxmaj and i know in your day she would be considered a whore but , now , women go out and they have sex and they get wild and they take their tops off and they have pictures taken of them and we need to xxunk them . xxmaj that 's part of life .</td>\n",
       "      <td>Michael</td>\n",
       "      <td>Michael</td>\n",
       "    </tr>\n",
       "  </tbody>\n",
       "</table>"
      ],
      "text/plain": [
       "<IPython.core.display.HTML object>"
      ]
     },
     "metadata": {},
     "output_type": "display_data"
    }
   ],
   "source": [
    "learn.show_results()"
   ]
  },
  {
   "cell_type": "code",
   "execution_count": 79,
   "id": "a770f7b7",
   "metadata": {},
   "outputs": [
    {
     "data": {
      "text/html": [
       "\n",
       "<style>\n",
       "    /* Turns off some styling */\n",
       "    progress {\n",
       "        /* gets rid of default border in Firefox and Opera. */\n",
       "        border: none;\n",
       "        /* Needs to be in here for Safari polyfill so background images work as expected. */\n",
       "        background-size: auto;\n",
       "    }\n",
       "    progress:not([value]), progress:not([value])::-webkit-progress-bar {\n",
       "        background: repeating-linear-gradient(45deg, #7e7e7e, #7e7e7e 10px, #5c5c5c 10px, #5c5c5c 20px);\n",
       "    }\n",
       "    .progress-bar-interrupted, .progress-bar-interrupted::-webkit-progress-bar {\n",
       "        background: #F44336;\n",
       "    }\n",
       "</style>\n"
      ],
      "text/plain": [
       "<IPython.core.display.HTML object>"
      ]
     },
     "metadata": {},
     "output_type": "display_data"
    },
    {
     "data": {
      "text/html": [],
      "text/plain": [
       "<IPython.core.display.HTML object>"
      ]
     },
     "metadata": {},
     "output_type": "display_data"
    },
    {
     "data": {
      "text/plain": [
       "('Kevin',\n",
       " tensor(11),\n",
       " tensor([5.7813e-02, 1.4340e-04, 2.0838e-03, 2.2418e-03, 1.8366e-02, 1.2175e-03,\n",
       "         7.3574e-04, 2.1196e-03, 9.9496e-04, 1.5417e-02, 2.7751e-02, 6.1350e-01,\n",
       "         1.1828e-03, 1.2733e-01, 1.6898e-04, 3.1880e-04, 9.9527e-02, 3.3881e-04,\n",
       "         1.7241e-03, 1.3479e-02, 1.3544e-02]))"
      ]
     },
     "execution_count": 79,
     "metadata": {},
     "output_type": "execute_result"
    }
   ],
   "source": [
    "learn.predict('I wanna eat hot dogs on the beach')"
   ]
  },
  {
   "cell_type": "code",
   "execution_count": null,
   "id": "a4bfbbc8",
   "metadata": {},
   "outputs": [],
   "source": []
  }
 ],
 "metadata": {
  "kernelspec": {
   "display_name": "Python 3 (ipykernel)",
   "language": "python",
   "name": "python3"
  },
  "language_info": {
   "codemirror_mode": {
    "name": "ipython",
    "version": 3
   },
   "file_extension": ".py",
   "mimetype": "text/x-python",
   "name": "python",
   "nbconvert_exporter": "python",
   "pygments_lexer": "ipython3",
   "version": "3.10.9"
  }
 },
 "nbformat": 4,
 "nbformat_minor": 5
}
