{
 "cells": [
  {
   "cell_type": "code",
   "execution_count": 1,
   "id": "6352ed5d",
   "metadata": {},
   "outputs": [],
   "source": [
    "from fastai.text.all import *\n",
    "from pathlib import Path\n",
    "import random\n",
    "seed = 1\n",
    "np.random.default_rng(seed)\n",
    "\n",
    "pd.options.display.max_rows = 20\n",
    "pd.options.display.max_columns = 8\n",
    "%config InteractiveShell.ast_node_interactivity='last_expr_or_assign'"
   ]
  },
  {
   "cell_type": "code",
   "execution_count": 2,
   "id": "22282b1b",
   "metadata": {},
   "outputs": [],
   "source": [
    "# use kwargs??\n",
    "def get_oversampled_dls(data_path, seed=1, noise_limit=0.15, text_vocab=None):\n",
    "    df = pd.read_csv(data_path)\n",
    "    \n",
    "    dls = TextDataLoaders.from_df(df, text_col='line_text', label_col='speaker', valid_pct=0.1, shuffle=True, seed=seed, text_vocab=text_vocab)\n",
    "    \n",
    "    df_train = dls.train.items\n",
    "    max_dialog = df_train['speaker'].value_counts().max()\n",
    "\n",
    "    dfs_oversampled = [df_train]\n",
    "    for _, group in df_train.groupby('speaker'):\n",
    "        rand_mult = random.uniform(1.0-noise_limit, 1.0 + noise_limit)\n",
    "        sample_amt_to_max = max_dialog - len(group)\n",
    "        dfs_oversampled.append(group.sample(int(sample_amt_to_max * rand_mult), replace=True))\n",
    "        \n",
    "    dls.train.items = pd.concat(dfs_oversampled)\n",
    "    return dls"
   ]
  },
  {
   "cell_type": "code",
   "execution_count": 3,
   "id": "60df474f",
   "metadata": {},
   "outputs": [
    {
     "data": {
      "text/plain": [
       "<Axes: >"
      ]
     },
     "execution_count": 3,
     "metadata": {},
     "output_type": "execute_result"
    },
    {
     "data": {
      "image/png": "[encoded data removed]",
      "text/plain": [
       "<Figure size 640x480 with 1 Axes>"
      ]
     },
     "metadata": {},
     "output_type": "display_data"
    }
   ],
   "source": [
    "data_path = Path('../data/train21_shuffled.csv')\n",
    "df = pd.read_csv(data_path)\n",
    "\n",
    "df['speaker'].value_counts().plot(kind='bar')\n"
   ]
  },
  {
   "cell_type": "code",
   "execution_count": 4,
   "id": "db045cbc",
   "metadata": {},
   "outputs": [
    {
     "data": {
      "text/html": [
       "\n",
       "<style>\n",
       "    /* Turns off some styling */\n",
       "    progress {\n",
       "        /* gets rid of default border in Firefox and Opera. */\n",
       "        border: none;\n",
       "        /* Needs to be in here for Safari polyfill so background images work as expected. */\n",
       "        background-size: auto;\n",
       "    }\n",
       "    progress:not([value]), progress:not([value])::-webkit-progress-bar {\n",
       "        background: repeating-linear-gradient(45deg, #7e7e7e, #7e7e7e 10px, #5c5c5c 10px, #5c5c5c 20px);\n",
       "    }\n",
       "    .progress-bar-interrupted, .progress-bar-interrupted::-webkit-progress-bar {\n",
       "        background: #F44336;\n",
       "    }\n",
       "</style>\n"
      ],
      "text/plain": [
       "<IPython.core.display.HTML object>"
      ]
     },
     "metadata": {},
     "output_type": "display_data"
    },
    {
     "data": {
      "text/html": [],
      "text/plain": [
       "<IPython.core.display.HTML object>"
      ]
     },
     "metadata": {},
     "output_type": "display_data"
    },
    {
     "data": {
      "text/plain": [
       "<fastai.data.core.DataLoaders at 0x7f14d0188130>"
      ]
     },
     "execution_count": 4,
     "metadata": {},
     "output_type": "execute_result"
    }
   ],
   "source": [
    "dls_lm = TextDataLoaders.from_df(df, text_col='line_text', is_lm=True, valid_pct=0.1, shuffle=True, seed=seed)"
   ]
  },
  {
   "cell_type": "code",
   "execution_count": 5,
   "id": "8ebc1376",
   "metadata": {},
   "outputs": [
    {
     "data": {
      "text/html": [
       "<table border=\"1\" class=\"dataframe\">\n",
       "  <thead>\n",
       "    <tr style=\"text-align: right;\">\n",
       "      <th></th>\n",
       "      <th>text</th>\n",
       "      <th>text_</th>\n",
       "    </tr>\n",
       "  </thead>\n",
       "  <tbody>\n",
       "    <tr>\n",
       "      <th>0</th>\n",
       "      <td>xxbos xxmaj yes , i am taking xxmaj andy hunting after work . xxmaj not long ago we were sexual xxunk . i used to hate him , hate him , hate him , hate him . i studied him , to figure out why i hated him so much . xxmaj but that xxunk into a very real friendship , as these things often do . xxbos xxmaj that really works</td>\n",
       "      <td>xxmaj yes , i am taking xxmaj andy hunting after work . xxmaj not long ago we were sexual xxunk . i used to hate him , hate him , hate him , hate him . i studied him , to figure out why i hated him so much . xxmaj but that xxunk into a very real friendship , as these things often do . xxbos xxmaj that really works .</td>\n",
       "    </tr>\n",
       "    <tr>\n",
       "      <th>1</th>\n",
       "      <td>best time . xxmaj and you know what ? xxmaj now it 's over . xxmaj back to work everyone . xxmaj you too xxmaj andy . xxbos xxmaj ah , so when did you set up shop ? xxbos [ gabe is still standing in front of xxmaj michael 's desk ] xxmaj and you , why are you still here . xxbos xxmaj xxunk , it was n't the way</td>\n",
       "      <td>time . xxmaj and you know what ? xxmaj now it 's over . xxmaj back to work everyone . xxmaj you too xxmaj andy . xxbos xxmaj ah , so when did you set up shop ? xxbos [ gabe is still standing in front of xxmaj michael 's desk ] xxmaj and you , why are you still here . xxbos xxmaj xxunk , it was n't the way he</td>\n",
       "    </tr>\n",
       "    <tr>\n",
       "      <th>2</th>\n",
       "      <td>on the shoulder as he 's walking by her ] xxmaj see you next xxmaj christmas . xxbos xxmaj what do you think is on it ? xxbos i do n't know any of those . xxbos xxmaj no , xxmaj i 'm not . xxmaj i 'm staying on the bus . xxmaj i 'm already on the bus . xxmaj i 'm going . xxbos xxmaj what are you talking</td>\n",
       "      <td>the shoulder as he 's walking by her ] xxmaj see you next xxmaj christmas . xxbos xxmaj what do you think is on it ? xxbos i do n't know any of those . xxbos xxmaj no , xxmaj i 'm not . xxmaj i 'm staying on the bus . xxmaj i 'm already on the bus . xxmaj i 'm going . xxbos xxmaj what are you talking about</td>\n",
       "    </tr>\n",
       "    <tr>\n",
       "      <th>3</th>\n",
       "      <td>of an idea right now so xxbos xxmaj we 're kind of a dynamic xxunk . xxmaj or xxunk . [ points to xxmaj pam 's tummy ] xxbos xxmaj yes . xxmaj thank you . xxmaj let 's answer that question . xxbos [ laughs ] xxmaj you 're a good kid . xxmaj you know what ? xxmaj it gets bigger once you 're in there . xxmaj enjoy it</td>\n",
       "      <td>an idea right now so xxbos xxmaj we 're kind of a dynamic xxunk . xxmaj or xxunk . [ points to xxmaj pam 's tummy ] xxbos xxmaj yes . xxmaj thank you . xxmaj let 's answer that question . xxbos [ laughs ] xxmaj you 're a good kid . xxmaj you know what ? xxmaj it gets bigger once you 're in there . xxmaj enjoy it .</td>\n",
       "    </tr>\n",
       "    <tr>\n",
       "      <th>4</th>\n",
       "      <td>i mean , what kind of quality of life do we have there ? xxbos xxmaj it 's beautiful . xxbos xxmaj yes you do , xxmaj ryan xxmaj xxunk xxmaj howard . xxmaj you called me stupid . xxbos i xxunk a listening device into the belly of the mallard . xxmaj now i can xxunk xxmaj jim , trap xxmaj jim , and destroy xxmaj jim , just like in</td>\n",
       "      <td>mean , what kind of quality of life do we have there ? xxbos xxmaj it 's beautiful . xxbos xxmaj yes you do , xxmaj ryan xxmaj xxunk xxmaj howard . xxmaj you called me stupid . xxbos i xxunk a listening device into the belly of the mallard . xxmaj now i can xxunk xxmaj jim , trap xxmaj jim , and destroy xxmaj jim , just like in the</td>\n",
       "    </tr>\n",
       "    <tr>\n",
       "      <th>5</th>\n",
       "      <td>of this smelling like a rose . xxmaj i 've been on my best behavior for nine years . xxmaj if it was n't for the cameras , i would 've done some truly vulgar crap . xxbos xxmaj hey guys , getting psyched for the party ? xxmaj ryan ? xxmaj can i count on you to wear an xxunk xxunk outfit ? xxbos xxmaj alright . xxmaj oscar , got</td>\n",
       "      <td>this smelling like a rose . xxmaj i 've been on my best behavior for nine years . xxmaj if it was n't for the cameras , i would 've done some truly vulgar crap . xxbos xxmaj hey guys , getting psyched for the party ? xxmaj ryan ? xxmaj can i count on you to wear an xxunk xxunk outfit ? xxbos xxmaj alright . xxmaj oscar , got big</td>\n",
       "    </tr>\n",
       "    <tr>\n",
       "      <th>6</th>\n",
       "      <td>the construction at xxup w.b . xxmaj jones , half of us have to park in the satellite lot . xxbos xxmaj thank you . xxmaj did you get all dark meat like i like ? xxbos [ groans ] xxmaj and then watching it back right afterward to improve my form . xxbos [ in video of xxmaj michael as a kid ] i hate you ! xxbos [ in video</td>\n",
       "      <td>construction at xxup w.b . xxmaj jones , half of us have to park in the satellite lot . xxbos xxmaj thank you . xxmaj did you get all dark meat like i like ? xxbos [ groans ] xxmaj and then watching it back right afterward to improve my form . xxbos [ in video of xxmaj michael as a kid ] i hate you ! xxbos [ in video ]</td>\n",
       "    </tr>\n",
       "    <tr>\n",
       "      <th>7</th>\n",
       "      <td>tell you later . xxbos [ points to xxmaj jim ] xxmaj will do . [ points to xxmaj michael ] xxmaj wo n't do . xxbos xxmaj ugh ! xxmaj okay , you know what ? xxmaj fine . i will xxunk my phone to go to my office phone . [ presses buttons on his cell phone ] xxmaj done . xxbos xxmaj oh , you know what ? xxmaj</td>\n",
       "      <td>you later . xxbos [ points to xxmaj jim ] xxmaj will do . [ points to xxmaj michael ] xxmaj wo n't do . xxbos xxmaj ugh ! xxmaj okay , you know what ? xxmaj fine . i will xxunk my phone to go to my office phone . [ presses buttons on his cell phone ] xxmaj done . xxbos xxmaj oh , you know what ? xxmaj this</td>\n",
       "    </tr>\n",
       "    <tr>\n",
       "      <th>8</th>\n",
       "      <td>god ! xxbos xxmaj maybe we should n't play due to the circumstances . xxbos xxmaj what ? xxmaj shirts on or off ? xxbos [ giggles ] xxmaj snot . xxmaj sorry , it sounded like you said it 's snot . i am so sorry . xxbos xxmaj no , i got it . xxmaj easy does it , everyone . xxmaj nobody even take a breath . xxbos i</td>\n",
       "      <td>! xxbos xxmaj maybe we should n't play due to the circumstances . xxbos xxmaj what ? xxmaj shirts on or off ? xxbos [ giggles ] xxmaj snot . xxmaj sorry , it sounded like you said it 's snot . i am so sorry . xxbos xxmaj no , i got it . xxmaj easy does it , everyone . xxmaj nobody even take a breath . xxbos i cooked</td>\n",
       "    </tr>\n",
       "  </tbody>\n",
       "</table>"
      ],
      "text/plain": [
       "<IPython.core.display.HTML object>"
      ]
     },
     "metadata": {},
     "output_type": "display_data"
    }
   ],
   "source": [
    "dls_lm.show_batch()"
   ]
  },
  {
   "cell_type": "markdown",
   "id": "be160da2",
   "metadata": {},
   "source": [
    "### From fine tuning, it appears that drop_mult around 0.3, with wd=0.1 or lower is most approapriate for this dataset / language model"
   ]
  },
  {
   "cell_type": "code",
   "execution_count": 6,
   "id": "3c2c824f",
   "metadata": {},
   "outputs": [
    {
     "data": {
      "text/html": [
       "\n",
       "<style>\n",
       "    /* Turns off some styling */\n",
       "    progress {\n",
       "        /* gets rid of default border in Firefox and Opera. */\n",
       "        border: none;\n",
       "        /* Needs to be in here for Safari polyfill so background images work as expected. */\n",
       "        background-size: auto;\n",
       "    }\n",
       "    progress:not([value]), progress:not([value])::-webkit-progress-bar {\n",
       "        background: repeating-linear-gradient(45deg, #7e7e7e, #7e7e7e 10px, #5c5c5c 10px, #5c5c5c 20px);\n",
       "    }\n",
       "    .progress-bar-interrupted, .progress-bar-interrupted::-webkit-progress-bar {\n",
       "        background: #F44336;\n",
       "    }\n",
       "</style>\n"
      ],
      "text/plain": [
       "<IPython.core.display.HTML object>"
      ]
     },
     "metadata": {},
     "output_type": "display_data"
    },
    {
     "data": {
      "text/html": [
       "<table border=\"1\" class=\"dataframe\">\n",
       "  <thead>\n",
       "    <tr style=\"text-align: left;\">\n",
       "      <th>epoch</th>\n",
       "      <th>train_loss</th>\n",
       "      <th>valid_loss</th>\n",
       "      <th>accuracy</th>\n",
       "      <th>perplexity</th>\n",
       "      <th>time</th>\n",
       "    </tr>\n",
       "  </thead>\n",
       "  <tbody>\n",
       "    <tr>\n",
       "      <td>0</td>\n",
       "      <td>3.871405</td>\n",
       "      <td>3.501014</td>\n",
       "      <td>0.315494</td>\n",
       "      <td>33.149040</td>\n",
       "      <td>00:26</td>\n",
       "    </tr>\n",
       "    <tr>\n",
       "      <td>1</td>\n",
       "      <td>3.434039</td>\n",
       "      <td>3.355489</td>\n",
       "      <td>0.331441</td>\n",
       "      <td>28.659630</td>\n",
       "      <td>00:26</td>\n",
       "    </tr>\n",
       "    <tr>\n",
       "      <td>2</td>\n",
       "      <td>3.302881</td>\n",
       "      <td>3.321810</td>\n",
       "      <td>0.334657</td>\n",
       "      <td>27.710468</td>\n",
       "      <td>00:27</td>\n",
       "    </tr>\n",
       "    <tr>\n",
       "      <td>3</td>\n",
       "      <td>3.202095</td>\n",
       "      <td>3.308969</td>\n",
       "      <td>0.334190</td>\n",
       "      <td>27.356894</td>\n",
       "      <td>00:27</td>\n",
       "    </tr>\n",
       "    <tr>\n",
       "      <td>4</td>\n",
       "      <td>3.127404</td>\n",
       "      <td>3.294722</td>\n",
       "      <td>0.339382</td>\n",
       "      <td>26.969912</td>\n",
       "      <td>00:26</td>\n",
       "    </tr>\n",
       "    <tr>\n",
       "      <td>5</td>\n",
       "      <td>3.048661</td>\n",
       "      <td>3.287625</td>\n",
       "      <td>0.339757</td>\n",
       "      <td>26.779196</td>\n",
       "      <td>00:27</td>\n",
       "    </tr>\n",
       "    <tr>\n",
       "      <td>6</td>\n",
       "      <td>2.993125</td>\n",
       "      <td>3.285322</td>\n",
       "      <td>0.340468</td>\n",
       "      <td>26.717585</td>\n",
       "      <td>00:26</td>\n",
       "    </tr>\n",
       "    <tr>\n",
       "      <td>7</td>\n",
       "      <td>2.959414</td>\n",
       "      <td>3.285556</td>\n",
       "      <td>0.340611</td>\n",
       "      <td>26.723835</td>\n",
       "      <td>00:27</td>\n",
       "    </tr>\n",
       "  </tbody>\n",
       "</table>"
      ],
      "text/plain": [
       "<IPython.core.display.HTML object>"
      ]
     },
     "metadata": {},
     "output_type": "display_data"
    }
   ],
   "source": [
    "data_dir = Path('../data')\n",
    "learn = language_model_learner(dls_lm, AWD_LSTM, metrics=[accuracy, Perplexity()], drop_mult=0.3, wd=0.1, path=data_dir)\n",
    "learn.fit_one_cycle(8, 1e-2)"
   ]
  },
  {
   "cell_type": "code",
   "execution_count": 7,
   "id": "b9389a71",
   "metadata": {
    "scrolled": false
   },
   "outputs": [],
   "source": [
    "# data_dir = Path('../data')\n",
    "# scaling_factor=0.2\n",
    "\n",
    "# for i in range(10):\n",
    "#     dm = 0.1 + i*scaling_factor\n",
    "    \n",
    "#     print(f'Drop mult: {dm}')\n",
    "#     learn = language_model_learner(dls_lm, AWD_LSTM, metrics=[accuracy, Perplexity()], drop_mult=dm, path=data_dir)\n",
    "    \n",
    "#     learn.fit_one_cycle(5, 1e-2)\n",
    "\n",
    "# data_dir = Path('../data')\n",
    "# scaling_factor=0.1\n",
    "\n",
    "# for i in range(9):\n",
    "#     reg = 0.1 + i*scaling_factor\n",
    "    \n",
    "#     print(f'Regularization: {reg}')\n",
    "#     learn = language_model_learner(dls_lm, AWD_LSTM, metrics=[accuracy, Perplexity()], drop_mult=0.3, wd=reg, path=data_dir)\n",
    "    \n",
    "#     learn.fit_one_cycle(5, 1e-2)"
   ]
  },
  {
   "cell_type": "code",
   "execution_count": 8,
   "id": "05e94f25",
   "metadata": {},
   "outputs": [],
   "source": [
    "encoder_fp = 'tmp_encoder_tst'\n",
    "learn.save_encoder(encoder_fp)"
   ]
  },
  {
   "cell_type": "code",
   "execution_count": 9,
   "id": "6d3241cc",
   "metadata": {},
   "outputs": [
    {
     "data": {
      "text/html": [
       "\n",
       "<style>\n",
       "    /* Turns off some styling */\n",
       "    progress {\n",
       "        /* gets rid of default border in Firefox and Opera. */\n",
       "        border: none;\n",
       "        /* Needs to be in here for Safari polyfill so background images work as expected. */\n",
       "        background-size: auto;\n",
       "    }\n",
       "    progress:not([value]), progress:not([value])::-webkit-progress-bar {\n",
       "        background: repeating-linear-gradient(45deg, #7e7e7e, #7e7e7e 10px, #5c5c5c 10px, #5c5c5c 20px);\n",
       "    }\n",
       "    .progress-bar-interrupted, .progress-bar-interrupted::-webkit-progress-bar {\n",
       "        background: #F44336;\n",
       "    }\n",
       "</style>\n"
      ],
      "text/plain": [
       "<IPython.core.display.HTML object>"
      ]
     },
     "metadata": {},
     "output_type": "display_data"
    },
    {
     "data": {
      "text/html": [],
      "text/plain": [
       "<IPython.core.display.HTML object>"
      ]
     },
     "metadata": {},
     "output_type": "display_data"
    },
    {
     "data": {
      "text/plain": [
       "<fastai.data.core.DataLoaders at 0x7f152551b100>"
      ]
     },
     "execution_count": 9,
     "metadata": {},
     "output_type": "execute_result"
    }
   ],
   "source": [
    "dls_clas = get_oversampled_dls(data_path, seed=seed, text_vocab=dls_lm.vocab)"
   ]
  },
  {
   "cell_type": "code",
   "execution_count": 10,
   "id": "70d50740",
   "metadata": {},
   "outputs": [
    {
     "data": {
      "text/plain": [
       "<Axes: title={'center': 'Train Distribution'}>"
      ]
     },
     "execution_count": 10,
     "metadata": {},
     "output_type": "execute_result"
    },
    {
     "data": {
      "image/png": "[encoded data removed]",
      "text/plain": [
       "<Figure size 640x480 with 1 Axes>"
      ]
     },
     "metadata": {},
     "output_type": "display_data"
    }
   ],
   "source": [
    "dls_clas.train.items['speaker'].value_counts().plot(kind='bar', title='Train Distribution')"
   ]
  },
  {
   "cell_type": "code",
   "execution_count": 11,
   "id": "dac8f014",
   "metadata": {},
   "outputs": [
    {
     "data": {
      "text/plain": [
       "<Axes: title={'center': 'Validation Distribution'}>"
      ]
     },
     "execution_count": 11,
     "metadata": {},
     "output_type": "execute_result"
    },
    {
     "data": {
      "image/png": "[encoded data removed]",
      "text/plain": [
       "<Figure size 640x480 with 1 Axes>"
      ]
     },
     "metadata": {},
     "output_type": "display_data"
    }
   ],
   "source": [
    "dls_clas.valid.items['speaker'].value_counts().plot(kind='bar', title='Validation Distribution')"
   ]
  },
  {
   "cell_type": "code",
   "execution_count": 12,
   "id": "5cee25ec",
   "metadata": {},
   "outputs": [
    {
     "data": {
      "text/html": [
       "<table border=\"1\" class=\"dataframe\">\n",
       "  <thead>\n",
       "    <tr style=\"text-align: right;\">\n",
       "      <th></th>\n",
       "      <th>text</th>\n",
       "      <th>category</th>\n",
       "    </tr>\n",
       "  </thead>\n",
       "  <tbody>\n",
       "    <tr>\n",
       "      <th>0</th>\n",
       "      <td>xxbos xxmaj i 've really learned from the xxunk . xxmaj the great xxunk , xxmaj drew xxmaj xxunk , xxmaj ryan xxmaj xxunk , uh , the xxmaj xxunk guy not so much . xxmaj he 's more the signing , xxmaj wayne xxmaj xxunk . xxmaj um , xxmaj robin xxmaj williams . xxmaj oh , man , would i love to go head - to - head with him . xxmaj oh ! xxmaj that would be exciting . [ as xxmaj robin xxmaj williams ] ' hi . xxmaj i 'm xxmaj xxunk from xxmaj xxunk . ' xxmaj well , xxmaj i 'm xxmaj xxunk from xxmaj xxunk . xxmaj nanoo , nanoo . xxmaj xxunk , xxunk . [ as xxmaj robin xxmaj williams ] ' that 's xxmaj good morning , xxmaj vietnam ! ' xxmaj well , hello to you . xxmaj</td>\n",
       "      <td>Michael</td>\n",
       "    </tr>\n",
       "    <tr>\n",
       "      <th>1</th>\n",
       "      <td>xxbos xxmaj ah , look at me . xxmaj i 'm huge in wilkes - barre . xxmaj performing xxunk , xxmaj michael xxmaj scott . xxmaj not comedy fans here , which is fine because not having a sense of humor is just as fine as having one . xxmaj questions ? xxmaj comment ? xxmaj ca n't see you , but i know that you 're not breathing . i know you 're breathing . xxmaj is this on ? xxmaj hello ? ' well , is n't that … xxmaj well , is n't that special ? ' ' jell - o pudding . ' xxmaj bill xxmaj cosby . i think xxmaj bill xxmaj cosby said it best when he talked about his brother and all of the fun he … xxmaj all the great things they did together as kids . xxmaj and there was</td>\n",
       "      <td>Michael</td>\n",
       "    </tr>\n",
       "    <tr>\n",
       "      <th>2</th>\n",
       "      <td>xxbos i know we have to register as a xxunk sexual relationship with xxup hr . xxmaj my question : do i do it as the man ? xxmaj does she do it as my superior ? i do n't know . xxmaj that leads to other issues that we may have in our relationship . xxmaj it 's , uh , [ phone rings ] xxmaj excuse me . xxmaj hello ? xxmaj hi ! xxmaj just talking about you . xxmaj the camera ? xxmaj no . xxmaj uh huh . xxmaj how 's traffic ? i miss you . xxmaj what . xxmaj ok . xxmaj well , if it was a mistake , it was a wonderful mistake . xxmaj no . [ to camera ] xxmaj would you excuse me ? [ to xxmaj jan ] xxmaj no , i did not xxunk get you</td>\n",
       "      <td>Michael</td>\n",
       "    </tr>\n",
       "    <tr>\n",
       "      <th>3</th>\n",
       "      <td>xxbos [ to the camera ] xxmaj can you get her ? xxmaj she 's right there . [ camera zooms in on xxmaj meredith at here desk ] xxmaj that is xxmaj meredith , the birthday girl . xxmaj and this … is xxmaj meredith 's card . xxmaj happy bird - day . [ laughs ] xxmaj um , let 's see . xxmaj jim , xxmaj jim wrote , ' meredith , i heard you 're turning xxunk , but , come on , you 're an accountant . xxmaj just fudge the numbers . ' xxmaj not bad , pretty funny , i do n't appreciate xxunk corporate fraud though . xxmaj uh , here 's the thing . xxmaj whatever i write here has to be really , really funny . xxmaj because people out there are expecting it . xxmaj i 've already set</td>\n",
       "      <td>Michael</td>\n",
       "    </tr>\n",
       "    <tr>\n",
       "      <th>4</th>\n",
       "      <td>xxbos xxmaj that 's crazy . xxmaj that 's crazy talk ! xxmaj meredith ! xxmaj the xxmaj xxunk , xxunk ' with suppliers ! xxmaj hoo - ooh ! xxmaj wow ! xxmaj what time we got ? [ checks watch ] xxmaj you know what ? xxmaj that 's a good place to end it . xxmaj right there . xxmaj this , i think , was a great ethics seminar . xxmaj she has given us a lot of wonderful things to think about . xxmaj right … what is wrong . xxmaj who 's to say ? xxmaj really . xxmaj in the end . i mean because it is … xxunk . xxmaj but , let 's give her a round of applause . xxmaj holly , everybody . xxmaj holly ! xxmaj get back to work . [ everyone applauds , then leaves ]</td>\n",
       "      <td>Michael</td>\n",
       "    </tr>\n",
       "    <tr>\n",
       "      <th>5</th>\n",
       "      <td>xxbos xxmaj no , not xxmaj harry xxmaj potter . … xxmaj there are no movies in prison . xxmaj this is my point ! xxmaj you guys got it soft , and cushy ! xxmaj this place is freaking awesome ! xxmaj the people are awesome ! xxmaj your boss is nice ! xxmaj everyone seems to get along ! xxmaj people are xxunk ! xxmaj people who … have jumped to xxunk can redeem themselves ! xxmaj nobody is nobody 's bitch . i hope that this scared you . xxmaj and from me , xxmaj prison xxmaj mike , to you , i just wanna thank you for listening to me . xxmaj letting me be a part of your life today . 'cause you got a good life ! you got a good life . a good life . [ turns around , takes xxunk off</td>\n",
       "      <td>Michael</td>\n",
       "    </tr>\n",
       "    <tr>\n",
       "      <th>6</th>\n",
       "      <td>xxbos i do n't know , it could be any number of people . xxmaj it could be a xxunk . xxmaj it could be an old person . xxmaj it could be a xxunk - xxunk . xxmaj or , it could be … a xxmaj bruce xxmaj springsteen fan - what ? xxmaj who said that ? i did . xxmaj why did i say that ? xxmaj oh , i think you know why i said that . i think it is very xxunk . i think it goes without saying . xxmaj bear with me . xxmaj there 's a point there . xxmaj but what is the point ? i do n't understand what he 's saying . xxmaj it seems a little xxunk . xxmaj it seems a little xxunk . xxmaj well , it 's not a little xxunk there 's actually something</td>\n",
       "      <td>Michael</td>\n",
       "    </tr>\n",
       "    <tr>\n",
       "      <th>7</th>\n",
       "      <td>xxbos xxmaj just- xxmaj people ! xxmaj i 'm not going anywhere . xxmaj soon , my core will get strong again and when that happens xxmaj i 'll be able to- xxmaj head rush ! xxmaj ah ! xxmaj can someone please help me ? [ kevin shuts door ] xxup i- xxmaj hey ! xxmaj i 'm not going anywhere ! xxmaj i 'll be right here ! xxmaj oh that 's not good . [ oscars computer reads : xxmaj coming this xxmaj may : xxmaj the xxmaj office : xxmaj an xxmaj american xxmaj workplace . xxmaj ten years in the making , a look at the lives and loves of an average xxmaj american small business office . ] xxmaj hey guys ! xxmaj i 've got twenty bucks for anyone who will help me . xxmaj kevin , would you like a pizza ?</td>\n",
       "      <td>Oscar</td>\n",
       "    </tr>\n",
       "    <tr>\n",
       "      <th>8</th>\n",
       "      <td>xxbos [ andy plus two voices on the phone singing ] xxmaj if you change your mind , xxmaj i 'll be first in line . xxmaj honey , xxmaj i 'm still free , take a chance on me . xxmaj if you need me let me know , gon na be around . xxmaj if you got no place to go , if you 're feeling down . xxmaj if your all alone when the pretty birds have xxunk , honey xxmaj i 'm still free , take a chance on me . xxmaj gon na do my very best , and that ai n't no lie , if you put me to the test , if you let me try . xxmaj take a chance on me , that 's all i ask of you xxmaj angela . xxmaj take a chance on me .</td>\n",
       "      <td>Andy</td>\n",
       "    </tr>\n",
       "  </tbody>\n",
       "</table>"
      ],
      "text/plain": [
       "<IPython.core.display.HTML object>"
      ]
     },
     "metadata": {},
     "output_type": "display_data"
    }
   ],
   "source": [
    "dls_clas.show_batch()"
   ]
  },
  {
   "cell_type": "code",
   "execution_count": 13,
   "id": "bb35f7bf",
   "metadata": {},
   "outputs": [
    {
     "data": {
      "text/plain": [
       "<fastai.text.learner.TextLearner at 0x7f1525481840>"
      ]
     },
     "execution_count": 13,
     "metadata": {},
     "output_type": "execute_result"
    }
   ],
   "source": [
    "learn = text_classifier_learner(dls_clas, AWD_LSTM, metrics=accuracy, drop_mult=0.5, path=data_dir)"
   ]
  },
  {
   "cell_type": "code",
   "execution_count": 14,
   "id": "88069061",
   "metadata": {},
   "outputs": [
    {
     "data": {
      "text/plain": [
       "<fastai.text.learner.TextLearner at 0x7f1525481840>"
      ]
     },
     "execution_count": 14,
     "metadata": {},
     "output_type": "execute_result"
    }
   ],
   "source": [
    "learn.load_encoder(encoder_fp)"
   ]
  },
  {
   "cell_type": "markdown",
   "id": "b20e00ee",
   "metadata": {},
   "source": [
    "Use discriminative learning and gradual unfreezing to benefit from the LM fine tuning"
   ]
  },
  {
   "cell_type": "code",
   "execution_count": 15,
   "id": "47941e7c",
   "metadata": {},
   "outputs": [
    {
     "data": {
      "text/html": [
       "\n",
       "<style>\n",
       "    /* Turns off some styling */\n",
       "    progress {\n",
       "        /* gets rid of default border in Firefox and Opera. */\n",
       "        border: none;\n",
       "        /* Needs to be in here for Safari polyfill so background images work as expected. */\n",
       "        background-size: auto;\n",
       "    }\n",
       "    progress:not([value]), progress:not([value])::-webkit-progress-bar {\n",
       "        background: repeating-linear-gradient(45deg, #7e7e7e, #7e7e7e 10px, #5c5c5c 10px, #5c5c5c 20px);\n",
       "    }\n",
       "    .progress-bar-interrupted, .progress-bar-interrupted::-webkit-progress-bar {\n",
       "        background: #F44336;\n",
       "    }\n",
       "</style>\n"
      ],
      "text/plain": [
       "<IPython.core.display.HTML object>"
      ]
     },
     "metadata": {},
     "output_type": "display_data"
    },
    {
     "data": {
      "text/html": [
       "<table border=\"1\" class=\"dataframe\">\n",
       "  <thead>\n",
       "    <tr style=\"text-align: left;\">\n",
       "      <th>epoch</th>\n",
       "      <th>train_loss</th>\n",
       "      <th>valid_loss</th>\n",
       "      <th>accuracy</th>\n",
       "      <th>time</th>\n",
       "    </tr>\n",
       "  </thead>\n",
       "  <tbody>\n",
       "    <tr>\n",
       "      <td>0</td>\n",
       "      <td>2.478391</td>\n",
       "      <td>2.499838</td>\n",
       "      <td>0.250620</td>\n",
       "      <td>00:10</td>\n",
       "    </tr>\n",
       "  </tbody>\n",
       "</table>"
      ],
      "text/plain": [
       "<IPython.core.display.HTML object>"
      ]
     },
     "metadata": {},
     "output_type": "display_data"
    }
   ],
   "source": [
    "learn.fit_one_cycle(1, 2e-2)"
   ]
  },
  {
   "cell_type": "code",
   "execution_count": 16,
   "id": "d3b7931e",
   "metadata": {},
   "outputs": [
    {
     "data": {
      "text/html": [
       "\n",
       "<style>\n",
       "    /* Turns off some styling */\n",
       "    progress {\n",
       "        /* gets rid of default border in Firefox and Opera. */\n",
       "        border: none;\n",
       "        /* Needs to be in here for Safari polyfill so background images work as expected. */\n",
       "        background-size: auto;\n",
       "    }\n",
       "    progress:not([value]), progress:not([value])::-webkit-progress-bar {\n",
       "        background: repeating-linear-gradient(45deg, #7e7e7e, #7e7e7e 10px, #5c5c5c 10px, #5c5c5c 20px);\n",
       "    }\n",
       "    .progress-bar-interrupted, .progress-bar-interrupted::-webkit-progress-bar {\n",
       "        background: #F44336;\n",
       "    }\n",
       "</style>\n"
      ],
      "text/plain": [
       "<IPython.core.display.HTML object>"
      ]
     },
     "metadata": {},
     "output_type": "display_data"
    },
    {
     "data": {
      "text/html": [
       "<table border=\"1\" class=\"dataframe\">\n",
       "  <thead>\n",
       "    <tr style=\"text-align: left;\">\n",
       "      <th>epoch</th>\n",
       "      <th>train_loss</th>\n",
       "      <th>valid_loss</th>\n",
       "      <th>accuracy</th>\n",
       "      <th>time</th>\n",
       "    </tr>\n",
       "  </thead>\n",
       "  <tbody>\n",
       "    <tr>\n",
       "      <td>0</td>\n",
       "      <td>2.513089</td>\n",
       "      <td>2.462336</td>\n",
       "      <td>0.255578</td>\n",
       "      <td>00:11</td>\n",
       "    </tr>\n",
       "  </tbody>\n",
       "</table>"
      ],
      "text/plain": [
       "<IPython.core.display.HTML object>"
      ]
     },
     "metadata": {},
     "output_type": "display_data"
    }
   ],
   "source": [
    "learn.freeze_to(-2)\n",
    "learn.fit_one_cycle(1, slice(1e-2/(2.6**4), 1e-2))"
   ]
  },
  {
   "cell_type": "code",
   "execution_count": 17,
   "id": "5320c4b3",
   "metadata": {},
   "outputs": [
    {
     "data": {
      "text/html": [
       "\n",
       "<style>\n",
       "    /* Turns off some styling */\n",
       "    progress {\n",
       "        /* gets rid of default border in Firefox and Opera. */\n",
       "        border: none;\n",
       "        /* Needs to be in here for Safari polyfill so background images work as expected. */\n",
       "        background-size: auto;\n",
       "    }\n",
       "    progress:not([value]), progress:not([value])::-webkit-progress-bar {\n",
       "        background: repeating-linear-gradient(45deg, #7e7e7e, #7e7e7e 10px, #5c5c5c 10px, #5c5c5c 20px);\n",
       "    }\n",
       "    .progress-bar-interrupted, .progress-bar-interrupted::-webkit-progress-bar {\n",
       "        background: #F44336;\n",
       "    }\n",
       "</style>\n"
      ],
      "text/plain": [
       "<IPython.core.display.HTML object>"
      ]
     },
     "metadata": {},
     "output_type": "display_data"
    },
    {
     "data": {
      "text/html": [
       "<table border=\"1\" class=\"dataframe\">\n",
       "  <thead>\n",
       "    <tr style=\"text-align: left;\">\n",
       "      <th>epoch</th>\n",
       "      <th>train_loss</th>\n",
       "      <th>valid_loss</th>\n",
       "      <th>accuracy</th>\n",
       "      <th>time</th>\n",
       "    </tr>\n",
       "  </thead>\n",
       "  <tbody>\n",
       "    <tr>\n",
       "      <td>0</td>\n",
       "      <td>2.443269</td>\n",
       "      <td>2.418790</td>\n",
       "      <td>0.256930</td>\n",
       "      <td>00:16</td>\n",
       "    </tr>\n",
       "  </tbody>\n",
       "</table>"
      ],
      "text/plain": [
       "<IPython.core.display.HTML object>"
      ]
     },
     "metadata": {},
     "output_type": "display_data"
    }
   ],
   "source": [
    "learn.freeze_to(-3)\n",
    "learn.fit_one_cycle(1, slice(5e-3/(2.6**4), 5e-3))"
   ]
  },
  {
   "cell_type": "code",
   "execution_count": 18,
   "id": "8c75e4b5",
   "metadata": {},
   "outputs": [
    {
     "data": {
      "text/html": [
       "\n",
       "<style>\n",
       "    /* Turns off some styling */\n",
       "    progress {\n",
       "        /* gets rid of default border in Firefox and Opera. */\n",
       "        border: none;\n",
       "        /* Needs to be in here for Safari polyfill so background images work as expected. */\n",
       "        background-size: auto;\n",
       "    }\n",
       "    progress:not([value]), progress:not([value])::-webkit-progress-bar {\n",
       "        background: repeating-linear-gradient(45deg, #7e7e7e, #7e7e7e 10px, #5c5c5c 10px, #5c5c5c 20px);\n",
       "    }\n",
       "    .progress-bar-interrupted, .progress-bar-interrupted::-webkit-progress-bar {\n",
       "        background: #F44336;\n",
       "    }\n",
       "</style>\n"
      ],
      "text/plain": [
       "<IPython.core.display.HTML object>"
      ]
     },
     "metadata": {},
     "output_type": "display_data"
    },
    {
     "data": {
      "text/html": [
       "<table border=\"1\" class=\"dataframe\">\n",
       "  <thead>\n",
       "    <tr style=\"text-align: left;\">\n",
       "      <th>epoch</th>\n",
       "      <th>train_loss</th>\n",
       "      <th>valid_loss</th>\n",
       "      <th>accuracy</th>\n",
       "      <th>time</th>\n",
       "    </tr>\n",
       "  </thead>\n",
       "  <tbody>\n",
       "    <tr>\n",
       "      <td>0</td>\n",
       "      <td>2.402121</td>\n",
       "      <td>2.401050</td>\n",
       "      <td>0.270453</td>\n",
       "      <td>00:20</td>\n",
       "    </tr>\n",
       "    <tr>\n",
       "      <td>1</td>\n",
       "      <td>2.333467</td>\n",
       "      <td>2.390826</td>\n",
       "      <td>0.278792</td>\n",
       "      <td>00:20</td>\n",
       "    </tr>\n",
       "  </tbody>\n",
       "</table>"
      ],
      "text/plain": [
       "<IPython.core.display.HTML object>"
      ]
     },
     "metadata": {},
     "output_type": "display_data"
    }
   ],
   "source": [
    "learn.unfreeze()\n",
    "learn.fit_one_cycle(2, slice(1e-3/(2.6**4),1e-3))"
   ]
  },
  {
   "cell_type": "code",
   "execution_count": 19,
   "id": "05cc62d2",
   "metadata": {},
   "outputs": [
    {
     "data": {
      "text/plain": [
       "Path('../data/models/ULMFit_test_model.pth')"
      ]
     },
     "execution_count": 19,
     "metadata": {},
     "output_type": "execute_result"
    }
   ],
   "source": [
    "learn.save('ULMFit_test_model')"
   ]
  },
  {
   "cell_type": "code",
   "execution_count": 20,
   "id": "d8ed0490",
   "metadata": {},
   "outputs": [
    {
     "data": {
      "text/html": [
       "\n",
       "<style>\n",
       "    /* Turns off some styling */\n",
       "    progress {\n",
       "        /* gets rid of default border in Firefox and Opera. */\n",
       "        border: none;\n",
       "        /* Needs to be in here for Safari polyfill so background images work as expected. */\n",
       "        background-size: auto;\n",
       "    }\n",
       "    progress:not([value]), progress:not([value])::-webkit-progress-bar {\n",
       "        background: repeating-linear-gradient(45deg, #7e7e7e, #7e7e7e 10px, #5c5c5c 10px, #5c5c5c 20px);\n",
       "    }\n",
       "    .progress-bar-interrupted, .progress-bar-interrupted::-webkit-progress-bar {\n",
       "        background: #F44336;\n",
       "    }\n",
       "</style>\n"
      ],
      "text/plain": [
       "<IPython.core.display.HTML object>"
      ]
     },
     "metadata": {},
     "output_type": "display_data"
    },
    {
     "data": {
      "text/html": [
       "<table border=\"1\" class=\"dataframe\">\n",
       "  <thead>\n",
       "    <tr style=\"text-align: left;\">\n",
       "      <th>epoch</th>\n",
       "      <th>train_loss</th>\n",
       "      <th>valid_loss</th>\n",
       "      <th>accuracy</th>\n",
       "      <th>time</th>\n",
       "    </tr>\n",
       "  </thead>\n",
       "  <tbody>\n",
       "    <tr>\n",
       "      <td>0</td>\n",
       "      <td>2.351223</td>\n",
       "      <td>2.429719</td>\n",
       "      <td>0.270678</td>\n",
       "      <td>00:12</td>\n",
       "    </tr>\n",
       "  </tbody>\n",
       "</table>"
      ],
      "text/plain": [
       "<IPython.core.display.HTML object>"
      ]
     },
     "metadata": {},
     "output_type": "display_data"
    },
    {
     "data": {
      "text/html": [
       "\n",
       "<style>\n",
       "    /* Turns off some styling */\n",
       "    progress {\n",
       "        /* gets rid of default border in Firefox and Opera. */\n",
       "        border: none;\n",
       "        /* Needs to be in here for Safari polyfill so background images work as expected. */\n",
       "        background-size: auto;\n",
       "    }\n",
       "    progress:not([value]), progress:not([value])::-webkit-progress-bar {\n",
       "        background: repeating-linear-gradient(45deg, #7e7e7e, #7e7e7e 10px, #5c5c5c 10px, #5c5c5c 20px);\n",
       "    }\n",
       "    .progress-bar-interrupted, .progress-bar-interrupted::-webkit-progress-bar {\n",
       "        background: #F44336;\n",
       "    }\n",
       "</style>\n"
      ],
      "text/plain": [
       "<IPython.core.display.HTML object>"
      ]
     },
     "metadata": {},
     "output_type": "display_data"
    },
    {
     "data": {
      "text/html": [
       "<table border=\"1\" class=\"dataframe\">\n",
       "  <thead>\n",
       "    <tr style=\"text-align: left;\">\n",
       "      <th>epoch</th>\n",
       "      <th>train_loss</th>\n",
       "      <th>valid_loss</th>\n",
       "      <th>accuracy</th>\n",
       "      <th>time</th>\n",
       "    </tr>\n",
       "  </thead>\n",
       "  <tbody>\n",
       "    <tr>\n",
       "      <td>0</td>\n",
       "      <td>2.357284</td>\n",
       "      <td>2.388829</td>\n",
       "      <td>0.282849</td>\n",
       "      <td>00:20</td>\n",
       "    </tr>\n",
       "    <tr>\n",
       "      <td>1</td>\n",
       "      <td>2.378249</td>\n",
       "      <td>2.373971</td>\n",
       "      <td>0.274961</td>\n",
       "      <td>00:19</td>\n",
       "    </tr>\n",
       "    <tr>\n",
       "      <td>2</td>\n",
       "      <td>2.270756</td>\n",
       "      <td>2.376346</td>\n",
       "      <td>0.286906</td>\n",
       "      <td>00:20</td>\n",
       "    </tr>\n",
       "    <tr>\n",
       "      <td>3</td>\n",
       "      <td>2.123556</td>\n",
       "      <td>2.415519</td>\n",
       "      <td>0.291188</td>\n",
       "      <td>00:19</td>\n",
       "    </tr>\n",
       "    <tr>\n",
       "      <td>4</td>\n",
       "      <td>1.948817</td>\n",
       "      <td>2.453851</td>\n",
       "      <td>0.292991</td>\n",
       "      <td>00:20</td>\n",
       "    </tr>\n",
       "  </tbody>\n",
       "</table>"
      ],
      "text/plain": [
       "<IPython.core.display.HTML object>"
      ]
     },
     "metadata": {},
     "output_type": "display_data"
    }
   ],
   "source": [
    "learn.fine_tune(5, 1e-2)"
   ]
  },
  {
   "cell_type": "code",
   "execution_count": 21,
   "id": "53a8e198",
   "metadata": {},
   "outputs": [],
   "source": [
    "learn.export('ULMFit_test_export')"
   ]
  },
  {
   "cell_type": "markdown",
   "id": "be5291ad",
   "metadata": {},
   "source": [
    "### Training beyond this point appears to overfit"
   ]
  },
  {
   "cell_type": "code",
   "execution_count": 22,
   "id": "f5410f29",
   "metadata": {},
   "outputs": [
    {
     "data": {
      "text/html": [
       "\n",
       "<style>\n",
       "    /* Turns off some styling */\n",
       "    progress {\n",
       "        /* gets rid of default border in Firefox and Opera. */\n",
       "        border: none;\n",
       "        /* Needs to be in here for Safari polyfill so background images work as expected. */\n",
       "        background-size: auto;\n",
       "    }\n",
       "    progress:not([value]), progress:not([value])::-webkit-progress-bar {\n",
       "        background: repeating-linear-gradient(45deg, #7e7e7e, #7e7e7e 10px, #5c5c5c 10px, #5c5c5c 20px);\n",
       "    }\n",
       "    .progress-bar-interrupted, .progress-bar-interrupted::-webkit-progress-bar {\n",
       "        background: #F44336;\n",
       "    }\n",
       "</style>\n"
      ],
      "text/plain": [
       "<IPython.core.display.HTML object>"
      ]
     },
     "metadata": {},
     "output_type": "display_data"
    },
    {
     "data": {
      "text/html": [],
      "text/plain": [
       "<IPython.core.display.HTML object>"
      ]
     },
     "metadata": {},
     "output_type": "display_data"
    },
    {
     "data": {
      "text/plain": [
       "<fastai.interpret.ClassificationInterpretation at 0x7f152a0bfe50>"
      ]
     },
     "execution_count": 22,
     "metadata": {},
     "output_type": "execute_result"
    }
   ],
   "source": [
    "interp = ClassificationInterpretation.from_learner(learn)"
   ]
  },
  {
   "cell_type": "code",
   "execution_count": 23,
   "id": "cefa1f54",
   "metadata": {},
   "outputs": [
    {
     "data": {
      "text/html": [
       "\n",
       "<style>\n",
       "    /* Turns off some styling */\n",
       "    progress {\n",
       "        /* gets rid of default border in Firefox and Opera. */\n",
       "        border: none;\n",
       "        /* Needs to be in here for Safari polyfill so background images work as expected. */\n",
       "        background-size: auto;\n",
       "    }\n",
       "    progress:not([value]), progress:not([value])::-webkit-progress-bar {\n",
       "        background: repeating-linear-gradient(45deg, #7e7e7e, #7e7e7e 10px, #5c5c5c 10px, #5c5c5c 20px);\n",
       "    }\n",
       "    .progress-bar-interrupted, .progress-bar-interrupted::-webkit-progress-bar {\n",
       "        background: #F44336;\n",
       "    }\n",
       "</style>\n"
      ],
      "text/plain": [
       "<IPython.core.display.HTML object>"
      ]
     },
     "metadata": {},
     "output_type": "display_data"
    },
    {
     "data": {
      "text/html": [],
      "text/plain": [
       "<IPython.core.display.HTML object>"
      ]
     },
     "metadata": {},
     "output_type": "display_data"
    },
    {
     "data": {
      "image/png": "[encoded data removed]",
      "text/plain": [
       "<Figure size 640x480 with 1 Axes>"
      ]
     },
     "metadata": {},
     "output_type": "display_data"
    }
   ],
   "source": [
    "interp.plot_confusion_matrix()"
   ]
  },
  {
   "cell_type": "code",
   "execution_count": 24,
   "id": "e9174704",
   "metadata": {},
   "outputs": [
    {
     "data": {
      "text/html": [
       "\n",
       "<style>\n",
       "    /* Turns off some styling */\n",
       "    progress {\n",
       "        /* gets rid of default border in Firefox and Opera. */\n",
       "        border: none;\n",
       "        /* Needs to be in here for Safari polyfill so background images work as expected. */\n",
       "        background-size: auto;\n",
       "    }\n",
       "    progress:not([value]), progress:not([value])::-webkit-progress-bar {\n",
       "        background: repeating-linear-gradient(45deg, #7e7e7e, #7e7e7e 10px, #5c5c5c 10px, #5c5c5c 20px);\n",
       "    }\n",
       "    .progress-bar-interrupted, .progress-bar-interrupted::-webkit-progress-bar {\n",
       "        background: #F44336;\n",
       "    }\n",
       "</style>\n"
      ],
      "text/plain": [
       "<IPython.core.display.HTML object>"
      ]
     },
     "metadata": {},
     "output_type": "display_data"
    },
    {
     "data": {
      "text/html": [],
      "text/plain": [
       "<IPython.core.display.HTML object>"
      ]
     },
     "metadata": {},
     "output_type": "display_data"
    },
    {
     "data": {
      "text/html": [
       "<table border=\"1\" class=\"dataframe\">\n",
       "  <thead>\n",
       "    <tr style=\"text-align: right;\">\n",
       "      <th></th>\n",
       "      <th>text</th>\n",
       "      <th>category</th>\n",
       "      <th>category_</th>\n",
       "    </tr>\n",
       "  </thead>\n",
       "  <tbody>\n",
       "    <tr>\n",
       "      <th>0</th>\n",
       "      <td>xxbos xxmaj toby actually gets xxunk from his ex - wife because she makes more , so that 's kind of embarrassing . xxmaj not that xxmaj i 'd mind , but it would never happen to me because i would make the marriage work . xxmaj people seem to like him because they think he 's one of us , but he 's not . xxmaj he 's this weird xxunk who just tells people , ' do n't do this , do n't do that . xxmaj hire this person for this reason . ' i would complain about him , but who would i go to , to complain about xxmaj toby ? xxmaj toby . xxmaj bias . xxmaj and what does he do about that ? xxmaj nothing . xxmaj because he 's xxmaj toby . xxmaj what kind of name is that ? xxmaj</td>\n",
       "      <td>Michael</td>\n",
       "      <td>Michael</td>\n",
       "    </tr>\n",
       "    <tr>\n",
       "      <th>1</th>\n",
       "      <td>xxbos g xxrep 5 o d morning , xxunk - nashua ! xxmaj sales . xxmaj sales is what xxunk us together , today . xxmaj how do we deal with clients who say , ' frankly , my dear , i do n't give a damn … about paper ' and get them to ' show us the money ! ' xxmaj well , we are going to find out today . xxmaj show of hands . xxmaj how many of you are salesmen ? xxmaj let 's see the salesmen . [ some raise their hands ] xxmaj oh , okay . xxmaj well i know what the rest of you are thinking . xxmaj wow , yuck . xxmaj salesmen are the worst ! xxmaj they are awful . xxmaj they are so arrogant . xxmaj they think the whole place xxunk around them . xxmaj handsome</td>\n",
       "      <td>Michael</td>\n",
       "      <td>Michael</td>\n",
       "    </tr>\n",
       "    <tr>\n",
       "      <th>2</th>\n",
       "      <td>xxbos i did n't watch the whole documentary . xxmaj after a few episodes , it was too painful . i kept wanting to scream at xxmaj pam . xxmaj it took me so long to do so many important things . xxmaj it 's just hard to accept that i spent so many years being less happy than i could have been . xxmaj jim was 5 feet from my desk and it took me four years to get to him . xxmaj it 'd be great if people saw this documentary and learned from my mistakes . xxmaj not that xxmaj i 'm a tragic person . xxmaj i 'm really happy now . xxmaj xxunk would xxunk make my heart xxunk if someone out there saw this and she said to herself ' be strong , trust yourself , love yourself . xxmaj xxunk your fears .</td>\n",
       "      <td>Pam</td>\n",
       "      <td>Jim</td>\n",
       "    </tr>\n",
       "    <tr>\n",
       "      <th>3</th>\n",
       "      <td>xxbos xxup ok everybody , listen up . xxmaj thank you for coming . xxmaj before we get started i wanted to say a few words about this deadly disease called rabies . xxmaj and xxmaj i 'd like you to take a look into the face of rabies . [ turns around a picture of xxmaj meredith in the hospital ] xxmaj that should scare you . xxmaj it scares me . xxmaj you people need to xxunk yourselves . xxmaj myth : 3 xxmaj americans every year die from rabies . xxmaj fact : 4 xxmaj americans every year die from rabies . xxmaj how many of you know someone who has been xxunk or affected by rabies ? xxmaj show of hands . xxmaj one , two , three … too many to count . xxmaj it is truly the silent killer . xxmaj no , it</td>\n",
       "      <td>Michael</td>\n",
       "      <td>Dwight</td>\n",
       "    </tr>\n",
       "    <tr>\n",
       "      <th>4</th>\n",
       "      <td>xxbos i understand . xxmaj it 's in a blind spot because xxmaj i 'm trained in several martial arts and one of them , uh , includes , uh , an awareness that the xxunk bring , uh , of anything on all sides of you . xxmaj it could be behind you or whatever . xxmaj this is directly in a blind spot , so xxmaj i 'm trained to respond xxunk to something right above my head . [ new take ] xxmaj this now i have an eye on . xxmaj you see , it 's on my xxunk and if i needed to block it , attack it , stop it somehow . [ does a martial arts move with his hands ] i could come right out . i mean , i know you 're doing your job , but … xxmaj documentary xxmaj</td>\n",
       "      <td>Dwight</td>\n",
       "      <td>Dwight</td>\n",
       "    </tr>\n",
       "    <tr>\n",
       "      <th>5</th>\n",
       "      <td>xxbos xxmaj toby has been leaving radon xxunk everywhere , like he owns the place . xxmaj the first time i threw mine away , i thought it was an ant trap . [ finds radon kit in between his blinds in his office ] xxmaj but i figured xxmaj i 'd rather live with ants than with his creepy little disc . [ throws it away ] xxmaj the second time … i thought it was one of those , you know , those things you turn over and it xxunk . [ finds another radon kit on top of his cabinet ] xxmaj like a cow thing . xxmaj but upon closer xxunk , it was another ant trap , so i threw it away . xxmaj and the third time … i did it out of spite . [ takes radon kit from the top of the</td>\n",
       "      <td>Michael</td>\n",
       "      <td>Dwight</td>\n",
       "    </tr>\n",
       "    <tr>\n",
       "      <th>6</th>\n",
       "      <td>xxbos xxmaj oui , xxmaj oui , xxmaj monsieur . xxmaj from the xxmaj xxunk region , a nice firm xxunk . xxmaj also from the great state of xxmaj xxunk , an aged xxunk . xxmaj here you will find a xxunk style spread which has xxunk nicely with the air to form a light xxunk which i think you 'll find both challenging and delicious . xxmaj at that point , i would recommend you take a trip south of the border to the great state of xxmaj xxunk where you will find this fine xxmaj xxunk xxmaj cheese dressing . xxmaj if i may be so bold , it 's a lot of fun to let the xxunk take a little swim in the xxunk cheese . xxmaj bon appetit .</td>\n",
       "      <td>Andy</td>\n",
       "      <td>Dwight</td>\n",
       "    </tr>\n",
       "    <tr>\n",
       "      <th>7</th>\n",
       "      <td>xxbos xxmaj um , listen . xxmaj jan xxmaj levinson is coming in today , and she is in the xxunk stages of her pregnancy - the child of which i have a xxunk interest . xxmaj it 's all kind of weird . xxmaj anyway , she is incredibly … fat and enormous right now - extremely unattractive . xxmaj and you are , on the other hand , one of the more attractive people in the office . xxmaj so , while she 's here i am going to be acting kind of cold to you . xxmaj and i am doing this to pay respect to her xxunk feelings . xxmaj and xxmaj i 'm treating xxmaj ryan the same way .</td>\n",
       "      <td>Michael</td>\n",
       "      <td>Michael</td>\n",
       "    </tr>\n",
       "    <tr>\n",
       "      <th>8</th>\n",
       "      <td>xxbos [ on phone , leaving a message ] xxmaj hey , xxmaj ryan , it 's xxmaj jim . xxmaj look man , i do n't know what 's gotten into you lately , but you know what ? i really do n't care , because you 're trying to get rid of me . xxmaj and i bet you do n't think i care enough about this job to actually fight back , but you 're wrong , because i do , and i will . xxmaj so you can keep trying to push me out of this place , but guess what ? xxmaj i 'm not going anywhere . [ hangs up and exhales sharply ]</td>\n",
       "      <td>Jim</td>\n",
       "      <td>Dwight</td>\n",
       "    </tr>\n",
       "  </tbody>\n",
       "</table>"
      ],
      "text/plain": [
       "<IPython.core.display.HTML object>"
      ]
     },
     "metadata": {},
     "output_type": "display_data"
    }
   ],
   "source": [
    "learn.show_results()"
   ]
  },
  {
   "cell_type": "code",
   "execution_count": 25,
   "id": "a770f7b7",
   "metadata": {},
   "outputs": [
    {
     "data": {
      "text/html": [
       "\n",
       "<style>\n",
       "    /* Turns off some styling */\n",
       "    progress {\n",
       "        /* gets rid of default border in Firefox and Opera. */\n",
       "        border: none;\n",
       "        /* Needs to be in here for Safari polyfill so background images work as expected. */\n",
       "        background-size: auto;\n",
       "    }\n",
       "    progress:not([value]), progress:not([value])::-webkit-progress-bar {\n",
       "        background: repeating-linear-gradient(45deg, #7e7e7e, #7e7e7e 10px, #5c5c5c 10px, #5c5c5c 20px);\n",
       "    }\n",
       "    .progress-bar-interrupted, .progress-bar-interrupted::-webkit-progress-bar {\n",
       "        background: #F44336;\n",
       "    }\n",
       "</style>\n"
      ],
      "text/plain": [
       "<IPython.core.display.HTML object>"
      ]
     },
     "metadata": {},
     "output_type": "display_data"
    },
    {
     "data": {
      "text/html": [],
      "text/plain": [
       "<IPython.core.display.HTML object>"
      ]
     },
     "metadata": {},
     "output_type": "display_data"
    },
    {
     "data": {
      "text/plain": [
       "('Kevin',\n",
       " tensor(11),\n",
       " tensor([0.0208, 0.0208, 0.0175, 0.0417, 0.0132, 0.1279, 0.0011, 0.0032, 0.0004,\n",
       "         0.0066, 0.0378, 0.2543, 0.2218, 0.0205, 0.0005, 0.0134, 0.0734, 0.0835,\n",
       "         0.0170, 0.0193, 0.0055]))"
      ]
     },
     "execution_count": 25,
     "metadata": {},
     "output_type": "execute_result"
    }
   ],
   "source": [
    "learn.predict('I wanna eat hot dogs on the beach')"
   ]
  },
  {
   "cell_type": "code",
   "execution_count": 26,
   "id": "a4bfbbc8",
   "metadata": {},
   "outputs": [
    {
     "data": {
      "text/html": [
       "<div>\n",
       "<style scoped>\n",
       "    .dataframe tbody tr th:only-of-type {\n",
       "        vertical-align: middle;\n",
       "    }\n",
       "\n",
       "    .dataframe tbody tr th {\n",
       "        vertical-align: top;\n",
       "    }\n",
       "\n",
       "    .dataframe thead th {\n",
       "        text-align: right;\n",
       "    }\n",
       "</style>\n",
       "<table border=\"1\" class=\"dataframe\">\n",
       "  <thead>\n",
       "    <tr style=\"text-align: right;\">\n",
       "      <th></th>\n",
       "      <th>season</th>\n",
       "      <th>episode</th>\n",
       "      <th>scene</th>\n",
       "      <th>line_text</th>\n",
       "      <th>speaker</th>\n",
       "      <th>deleted</th>\n",
       "    </tr>\n",
       "  </thead>\n",
       "  <tbody>\n",
       "    <tr>\n",
       "      <th>0</th>\n",
       "      <td>3</td>\n",
       "      <td>16</td>\n",
       "      <td>29</td>\n",
       "      <td>Don't hurt that bat, Creed! It's a living thing with feelings and a family!</td>\n",
       "      <td>Kelly</td>\n",
       "      <td>False</td>\n",
       "    </tr>\n",
       "    <tr>\n",
       "      <th>1</th>\n",
       "      <td>7</td>\n",
       "      <td>7</td>\n",
       "      <td>27</td>\n",
       "      <td>I cancelled my plans to come to this thing, and they repay me with this?</td>\n",
       "      <td>Kevin</td>\n",
       "      <td>False</td>\n",
       "    </tr>\n",
       "    <tr>\n",
       "      <th>2</th>\n",
       "      <td>8</td>\n",
       "      <td>13</td>\n",
       "      <td>25</td>\n",
       "      <td>Oh, yes. Oh, what a beautiful child. Prominent forehead, short arms, tiny nose. You will lead millions... [whispers] willingly, or as slaves.</td>\n",
       "      <td>Dwight</td>\n",
       "      <td>False</td>\n",
       "    </tr>\n",
       "    <tr>\n",
       "      <th>3</th>\n",
       "      <td>2</td>\n",
       "      <td>17</td>\n",
       "      <td>18</td>\n",
       "      <td>Brad Pitt. Also there will be no bonuses.</td>\n",
       "      <td>Dwight</td>\n",
       "      <td>False</td>\n",
       "    </tr>\n",
       "    <tr>\n",
       "      <th>4</th>\n",
       "      <td>5</td>\n",
       "      <td>4</td>\n",
       "      <td>32</td>\n",
       "      <td>Okay, alright. Hey, you know what? I would appreciate it if people would stop storming off the stage.</td>\n",
       "      <td>Michael</td>\n",
       "      <td>False</td>\n",
       "    </tr>\n",
       "    <tr>\n",
       "      <th>...</th>\n",
       "      <td>...</td>\n",
       "      <td>...</td>\n",
       "      <td>...</td>\n",
       "      <td>...</td>\n",
       "      <td>...</td>\n",
       "      <td>...</td>\n",
       "    </tr>\n",
       "    <tr>\n",
       "      <th>7827</th>\n",
       "      <td>9</td>\n",
       "      <td>7</td>\n",
       "      <td>32</td>\n",
       "      <td>Yeah.</td>\n",
       "      <td>Pam</td>\n",
       "      <td>False</td>\n",
       "    </tr>\n",
       "    <tr>\n",
       "      <th>7828</th>\n",
       "      <td>4</td>\n",
       "      <td>3</td>\n",
       "      <td>25</td>\n",
       "      <td>Alright.  Well fight it out amongst yourselves.  I was thinking Pammy but boys night out is also good.</td>\n",
       "      <td>Michael</td>\n",
       "      <td>False</td>\n",
       "    </tr>\n",
       "    <tr>\n",
       "      <th>7829</th>\n",
       "      <td>7</td>\n",
       "      <td>8</td>\n",
       "      <td>19</td>\n",
       "      <td>Rachel.</td>\n",
       "      <td>Kelly</td>\n",
       "      <td>False</td>\n",
       "    </tr>\n",
       "    <tr>\n",
       "      <th>7830</th>\n",
       "      <td>8</td>\n",
       "      <td>21</td>\n",
       "      <td>19</td>\n",
       "      <td>[chuckling] Okay.</td>\n",
       "      <td>Andy</td>\n",
       "      <td>False</td>\n",
       "    </tr>\n",
       "    <tr>\n",
       "      <th>7831</th>\n",
       "      <td>2</td>\n",
       "      <td>8</td>\n",
       "      <td>43</td>\n",
       "      <td>Next suggestion.</td>\n",
       "      <td>Dwight</td>\n",
       "      <td>True</td>\n",
       "    </tr>\n",
       "  </tbody>\n",
       "</table>\n",
       "<p>7832 rows × 6 columns</p>\n",
       "</div>"
      ],
      "text/plain": [
       "      season  episode  scene  \\\n",
       "0          3       16     29   \n",
       "1          7        7     27   \n",
       "2          8       13     25   \n",
       "3          2       17     18   \n",
       "4          5        4     32   \n",
       "...      ...      ...    ...   \n",
       "7827       9        7     32   \n",
       "7828       4        3     25   \n",
       "7829       7        8     19   \n",
       "7830       8       21     19   \n",
       "7831       2        8     43   \n",
       "\n",
       "                                                                                                                                          line_text  \\\n",
       "0                                                                       Don't hurt that bat, Creed! It's a living thing with feelings and a family!   \n",
       "1                                                                          I cancelled my plans to come to this thing, and they repay me with this?   \n",
       "2     Oh, yes. Oh, what a beautiful child. Prominent forehead, short arms, tiny nose. You will lead millions... [whispers] willingly, or as slaves.   \n",
       "3                                                                                                         Brad Pitt. Also there will be no bonuses.   \n",
       "4                                             Okay, alright. Hey, you know what? I would appreciate it if people would stop storming off the stage.   \n",
       "...                                                                                                                                             ...   \n",
       "7827                                                                                                                                          Yeah.   \n",
       "7828                                         Alright.  Well fight it out amongst yourselves.  I was thinking Pammy but boys night out is also good.   \n",
       "7829                                                                                                                                        Rachel.   \n",
       "7830                                                                                                                              [chuckling] Okay.   \n",
       "7831                                                                                                                               Next suggestion.   \n",
       "\n",
       "      speaker  deleted  \n",
       "0       Kelly    False  \n",
       "1       Kevin    False  \n",
       "2      Dwight    False  \n",
       "3      Dwight    False  \n",
       "4     Michael    False  \n",
       "...       ...      ...  \n",
       "7827      Pam    False  \n",
       "7828  Michael    False  \n",
       "7829    Kelly    False  \n",
       "7830     Andy    False  \n",
       "7831   Dwight     True  \n",
       "\n",
       "[7832 rows x 6 columns]"
      ]
     },
     "execution_count": 26,
     "metadata": {},
     "output_type": "execute_result"
    }
   ],
   "source": [
    "df_test = pd.read_csv(data_dir/'test21_shuffled.csv')"
   ]
  },
  {
   "cell_type": "code",
   "execution_count": 27,
   "id": "762b39cb",
   "metadata": {},
   "outputs": [
    {
     "data": {
      "text/html": [
       "\n",
       "<style>\n",
       "    /* Turns off some styling */\n",
       "    progress {\n",
       "        /* gets rid of default border in Firefox and Opera. */\n",
       "        border: none;\n",
       "        /* Needs to be in here for Safari polyfill so background images work as expected. */\n",
       "        background-size: auto;\n",
       "    }\n",
       "    progress:not([value]), progress:not([value])::-webkit-progress-bar {\n",
       "        background: repeating-linear-gradient(45deg, #7e7e7e, #7e7e7e 10px, #5c5c5c 10px, #5c5c5c 20px);\n",
       "    }\n",
       "    .progress-bar-interrupted, .progress-bar-interrupted::-webkit-progress-bar {\n",
       "        background: #F44336;\n",
       "    }\n",
       "</style>\n"
      ],
      "text/plain": [
       "<IPython.core.display.HTML object>"
      ]
     },
     "metadata": {},
     "output_type": "display_data"
    },
    {
     "data": {
      "text/html": [],
      "text/plain": [
       "<IPython.core.display.HTML object>"
      ]
     },
     "metadata": {},
     "output_type": "display_data"
    },
    {
     "data": {
      "text/plain": [
       "<fastai.data.core.DataLoaders at 0x7f1522c79db0>"
      ]
     },
     "execution_count": 27,
     "metadata": {},
     "output_type": "execute_result"
    }
   ],
   "source": [
    "dls_test = TextDataLoaders.from_df(df_test, label_col='speaker', text_col='line_text', shuffled=False, vocab=learn.dls.vocab)"
   ]
  },
  {
   "cell_type": "code",
   "execution_count": 28,
   "id": "a762b93e",
   "metadata": {},
   "outputs": [
    {
     "data": {
      "text/html": [
       "\n",
       "<style>\n",
       "    /* Turns off some styling */\n",
       "    progress {\n",
       "        /* gets rid of default border in Firefox and Opera. */\n",
       "        border: none;\n",
       "        /* Needs to be in here for Safari polyfill so background images work as expected. */\n",
       "        background-size: auto;\n",
       "    }\n",
       "    progress:not([value]), progress:not([value])::-webkit-progress-bar {\n",
       "        background: repeating-linear-gradient(45deg, #7e7e7e, #7e7e7e 10px, #5c5c5c 10px, #5c5c5c 20px);\n",
       "    }\n",
       "    .progress-bar-interrupted, .progress-bar-interrupted::-webkit-progress-bar {\n",
       "        background: #F44336;\n",
       "    }\n",
       "</style>\n"
      ],
      "text/plain": [
       "<IPython.core.display.HTML object>"
      ]
     },
     "metadata": {},
     "output_type": "display_data"
    },
    {
     "data": {
      "text/html": [],
      "text/plain": [
       "<IPython.core.display.HTML object>"
      ]
     },
     "metadata": {},
     "output_type": "display_data"
    },
    {
     "data": {
      "text/plain": [
       "TensorBase(0.1969)"
      ]
     },
     "execution_count": 28,
     "metadata": {},
     "output_type": "execute_result"
    }
   ],
   "source": [
    "preds = learn.get_preds(dl=dls_test.train)\n",
    "accuracy(preds[0], preds[1])"
   ]
  },
  {
   "cell_type": "code",
   "execution_count": 29,
   "id": "15ae1283",
   "metadata": {},
   "outputs": [
    {
     "data": {
      "text/html": [
       "\n",
       "<style>\n",
       "    /* Turns off some styling */\n",
       "    progress {\n",
       "        /* gets rid of default border in Firefox and Opera. */\n",
       "        border: none;\n",
       "        /* Needs to be in here for Safari polyfill so background images work as expected. */\n",
       "        background-size: auto;\n",
       "    }\n",
       "    progress:not([value]), progress:not([value])::-webkit-progress-bar {\n",
       "        background: repeating-linear-gradient(45deg, #7e7e7e, #7e7e7e 10px, #5c5c5c 10px, #5c5c5c 20px);\n",
       "    }\n",
       "    .progress-bar-interrupted, .progress-bar-interrupted::-webkit-progress-bar {\n",
       "        background: #F44336;\n",
       "    }\n",
       "</style>\n"
      ],
      "text/plain": [
       "<IPython.core.display.HTML object>"
      ]
     },
     "metadata": {},
     "output_type": "display_data"
    },
    {
     "data": {
      "text/html": [],
      "text/plain": [
       "<IPython.core.display.HTML object>"
      ]
     },
     "metadata": {},
     "output_type": "display_data"
    },
    {
     "data": {
      "text/plain": [
       "TensorBase(0.1980)"
      ]
     },
     "execution_count": 29,
     "metadata": {},
     "output_type": "execute_result"
    }
   ],
   "source": [
    "preds = learn.get_preds(dl=dls_test.valid)\n",
    "accuracy(preds[0], preds[1])"
   ]
  },
  {
   "cell_type": "code",
   "execution_count": 30,
   "id": "9b93913b",
   "metadata": {},
   "outputs": [
    {
     "data": {
      "text/html": [
       "<div>\n",
       "<style scoped>\n",
       "    .dataframe tbody tr th:only-of-type {\n",
       "        vertical-align: middle;\n",
       "    }\n",
       "\n",
       "    .dataframe tbody tr th {\n",
       "        vertical-align: top;\n",
       "    }\n",
       "\n",
       "    .dataframe thead th {\n",
       "        text-align: right;\n",
       "    }\n",
       "</style>\n",
       "<table border=\"1\" class=\"dataframe\">\n",
       "  <thead>\n",
       "    <tr style=\"text-align: right;\">\n",
       "      <th></th>\n",
       "      <th>index</th>\n",
       "      <th>season</th>\n",
       "      <th>episode</th>\n",
       "      <th>scene</th>\n",
       "      <th>line_text</th>\n",
       "      <th>speaker</th>\n",
       "      <th>deleted</th>\n",
       "    </tr>\n",
       "  </thead>\n",
       "  <tbody>\n",
       "    <tr>\n",
       "      <th>0</th>\n",
       "      <td>0</td>\n",
       "      <td>3</td>\n",
       "      <td>16</td>\n",
       "      <td>29</td>\n",
       "      <td>Don't hurt that bat, Creed! It's a living thing with feelings and a family!</td>\n",
       "      <td>Kelly</td>\n",
       "      <td>False</td>\n",
       "    </tr>\n",
       "    <tr>\n",
       "      <th>1</th>\n",
       "      <td>1</td>\n",
       "      <td>7</td>\n",
       "      <td>7</td>\n",
       "      <td>27</td>\n",
       "      <td>I cancelled my plans to come to this thing, and they repay me with this?</td>\n",
       "      <td>Kevin</td>\n",
       "      <td>False</td>\n",
       "    </tr>\n",
       "    <tr>\n",
       "      <th>2</th>\n",
       "      <td>2</td>\n",
       "      <td>8</td>\n",
       "      <td>13</td>\n",
       "      <td>25</td>\n",
       "      <td>Oh, yes. Oh, what a beautiful child. Prominent forehead, short arms, tiny nose. You will lead millions... [whispers] willingly, or as slaves.</td>\n",
       "      <td>Dwight</td>\n",
       "      <td>False</td>\n",
       "    </tr>\n",
       "    <tr>\n",
       "      <th>3</th>\n",
       "      <td>3</td>\n",
       "      <td>2</td>\n",
       "      <td>17</td>\n",
       "      <td>18</td>\n",
       "      <td>Brad Pitt. Also there will be no bonuses.</td>\n",
       "      <td>Dwight</td>\n",
       "      <td>False</td>\n",
       "    </tr>\n",
       "    <tr>\n",
       "      <th>4</th>\n",
       "      <td>4</td>\n",
       "      <td>5</td>\n",
       "      <td>4</td>\n",
       "      <td>32</td>\n",
       "      <td>Okay, alright. Hey, you know what? I would appreciate it if people would stop storming off the stage.</td>\n",
       "      <td>Michael</td>\n",
       "      <td>False</td>\n",
       "    </tr>\n",
       "    <tr>\n",
       "      <th>...</th>\n",
       "      <td>...</td>\n",
       "      <td>...</td>\n",
       "      <td>...</td>\n",
       "      <td>...</td>\n",
       "      <td>...</td>\n",
       "      <td>...</td>\n",
       "      <td>...</td>\n",
       "    </tr>\n",
       "    <tr>\n",
       "      <th>5229</th>\n",
       "      <td>7823</td>\n",
       "      <td>2</td>\n",
       "      <td>14</td>\n",
       "      <td>14</td>\n",
       "      <td>[barely stifling laughter] It wasn't me.  Um... it wasn't me. [regaining composure] It was not me.</td>\n",
       "      <td>Ryan</td>\n",
       "      <td>False</td>\n",
       "    </tr>\n",
       "    <tr>\n",
       "      <th>5230</th>\n",
       "      <td>7824</td>\n",
       "      <td>4</td>\n",
       "      <td>1</td>\n",
       "      <td>18</td>\n",
       "      <td>I wouldn't put it past her.</td>\n",
       "      <td>Angela</td>\n",
       "      <td>False</td>\n",
       "    </tr>\n",
       "    <tr>\n",
       "      <th>5231</th>\n",
       "      <td>7825</td>\n",
       "      <td>2</td>\n",
       "      <td>5</td>\n",
       "      <td>34</td>\n",
       "      <td>Okay, well... I already picked you. And you know that. So, unless I just go through with this, you're always gonna look at me as the guy who almost fired you.</td>\n",
       "      <td>Michael</td>\n",
       "      <td>False</td>\n",
       "    </tr>\n",
       "    <tr>\n",
       "      <th>5232</th>\n",
       "      <td>7826</td>\n",
       "      <td>9</td>\n",
       "      <td>19</td>\n",
       "      <td>33</td>\n",
       "      <td>Oof. Always hurts to hear that one.</td>\n",
       "      <td>Meredith</td>\n",
       "      <td>False</td>\n",
       "    </tr>\n",
       "    <tr>\n",
       "      <th>5233</th>\n",
       "      <td>7828</td>\n",
       "      <td>4</td>\n",
       "      <td>3</td>\n",
       "      <td>25</td>\n",
       "      <td>Alright.  Well fight it out amongst yourselves.  I was thinking Pammy but boys night out is also good.</td>\n",
       "      <td>Michael</td>\n",
       "      <td>False</td>\n",
       "    </tr>\n",
       "  </tbody>\n",
       "</table>\n",
       "<p>5234 rows × 7 columns</p>\n",
       "</div>"
      ],
      "text/plain": [
       "      index  season  episode  scene  \\\n",
       "0         0       3       16     29   \n",
       "1         1       7        7     27   \n",
       "2         2       8       13     25   \n",
       "3         3       2       17     18   \n",
       "4         4       5        4     32   \n",
       "...     ...     ...      ...    ...   \n",
       "5229   7823       2       14     14   \n",
       "5230   7824       4        1     18   \n",
       "5231   7825       2        5     34   \n",
       "5232   7826       9       19     33   \n",
       "5233   7828       4        3     25   \n",
       "\n",
       "                                                                                                                                                           line_text  \\\n",
       "0                                                                                        Don't hurt that bat, Creed! It's a living thing with feelings and a family!   \n",
       "1                                                                                           I cancelled my plans to come to this thing, and they repay me with this?   \n",
       "2                      Oh, yes. Oh, what a beautiful child. Prominent forehead, short arms, tiny nose. You will lead millions... [whispers] willingly, or as slaves.   \n",
       "3                                                                                                                          Brad Pitt. Also there will be no bonuses.   \n",
       "4                                                              Okay, alright. Hey, you know what? I would appreciate it if people would stop storming off the stage.   \n",
       "...                                                                                                                                                              ...   \n",
       "5229                                                              [barely stifling laughter] It wasn't me.  Um... it wasn't me. [regaining composure] It was not me.   \n",
       "5230                                                                                                                                     I wouldn't put it past her.   \n",
       "5231  Okay, well... I already picked you. And you know that. So, unless I just go through with this, you're always gonna look at me as the guy who almost fired you.   \n",
       "5232                                                                                                                             Oof. Always hurts to hear that one.   \n",
       "5233                                                          Alright.  Well fight it out amongst yourselves.  I was thinking Pammy but boys night out is also good.   \n",
       "\n",
       "       speaker  deleted  \n",
       "0        Kelly    False  \n",
       "1        Kevin    False  \n",
       "2       Dwight    False  \n",
       "3       Dwight    False  \n",
       "4      Michael    False  \n",
       "...        ...      ...  \n",
       "5229      Ryan    False  \n",
       "5230    Angela    False  \n",
       "5231   Michael    False  \n",
       "5232  Meredith    False  \n",
       "5233   Michael    False  \n",
       "\n",
       "[5234 rows x 7 columns]"
      ]
     },
     "execution_count": 30,
     "metadata": {},
     "output_type": "execute_result"
    }
   ],
   "source": [
    "mask = (df_test['line_text'].str.count(' ') > 4)\n",
    "df_filtered = df_test[df_test['line_text'].str.count(' ') >= 4]\n",
    "df_filtered.reset_index()"
   ]
  },
  {
   "cell_type": "code",
   "execution_count": 31,
   "id": "6098b572",
   "metadata": {},
   "outputs": [
    {
     "data": {
      "text/html": [
       "\n",
       "<style>\n",
       "    /* Turns off some styling */\n",
       "    progress {\n",
       "        /* gets rid of default border in Firefox and Opera. */\n",
       "        border: none;\n",
       "        /* Needs to be in here for Safari polyfill so background images work as expected. */\n",
       "        background-size: auto;\n",
       "    }\n",
       "    progress:not([value]), progress:not([value])::-webkit-progress-bar {\n",
       "        background: repeating-linear-gradient(45deg, #7e7e7e, #7e7e7e 10px, #5c5c5c 10px, #5c5c5c 20px);\n",
       "    }\n",
       "    .progress-bar-interrupted, .progress-bar-interrupted::-webkit-progress-bar {\n",
       "        background: #F44336;\n",
       "    }\n",
       "</style>\n"
      ],
      "text/plain": [
       "<IPython.core.display.HTML object>"
      ]
     },
     "metadata": {},
     "output_type": "display_data"
    },
    {
     "data": {
      "text/html": [],
      "text/plain": [
       "<IPython.core.display.HTML object>"
      ]
     },
     "metadata": {},
     "output_type": "display_data"
    },
    {
     "data": {
      "text/plain": [
       "<fastai.data.core.DataLoaders at 0x7f14f79ea380>"
      ]
     },
     "execution_count": 31,
     "metadata": {},
     "output_type": "execute_result"
    }
   ],
   "source": [
    "dls_test = TextDataLoaders.from_df(df_filtered, text_col='line_text', label_col='speaker', shuffled=False, vocab=learn.dls.vocab)"
   ]
  },
  {
   "cell_type": "code",
   "execution_count": 32,
   "id": "08c49454",
   "metadata": {},
   "outputs": [
    {
     "data": {
      "text/html": [
       "\n",
       "<style>\n",
       "    /* Turns off some styling */\n",
       "    progress {\n",
       "        /* gets rid of default border in Firefox and Opera. */\n",
       "        border: none;\n",
       "        /* Needs to be in here for Safari polyfill so background images work as expected. */\n",
       "        background-size: auto;\n",
       "    }\n",
       "    progress:not([value]), progress:not([value])::-webkit-progress-bar {\n",
       "        background: repeating-linear-gradient(45deg, #7e7e7e, #7e7e7e 10px, #5c5c5c 10px, #5c5c5c 20px);\n",
       "    }\n",
       "    .progress-bar-interrupted, .progress-bar-interrupted::-webkit-progress-bar {\n",
       "        background: #F44336;\n",
       "    }\n",
       "</style>\n"
      ],
      "text/plain": [
       "<IPython.core.display.HTML object>"
      ]
     },
     "metadata": {},
     "output_type": "display_data"
    },
    {
     "data": {
      "text/html": [],
      "text/plain": [
       "<IPython.core.display.HTML object>"
      ]
     },
     "metadata": {},
     "output_type": "display_data"
    },
    {
     "data": {
      "text/plain": [
       "TensorBase(0.2135)"
      ]
     },
     "execution_count": 32,
     "metadata": {},
     "output_type": "execute_result"
    }
   ],
   "source": [
    "preds = learn.get_preds(dl=dls_test.train)\n",
    "accuracy(preds[0], preds[1])"
   ]
  },
  {
   "cell_type": "code",
   "execution_count": 33,
   "id": "0d11c6ca",
   "metadata": {},
   "outputs": [
    {
     "data": {
      "text/html": [
       "\n",
       "<style>\n",
       "    /* Turns off some styling */\n",
       "    progress {\n",
       "        /* gets rid of default border in Firefox and Opera. */\n",
       "        border: none;\n",
       "        /* Needs to be in here for Safari polyfill so background images work as expected. */\n",
       "        background-size: auto;\n",
       "    }\n",
       "    progress:not([value]), progress:not([value])::-webkit-progress-bar {\n",
       "        background: repeating-linear-gradient(45deg, #7e7e7e, #7e7e7e 10px, #5c5c5c 10px, #5c5c5c 20px);\n",
       "    }\n",
       "    .progress-bar-interrupted, .progress-bar-interrupted::-webkit-progress-bar {\n",
       "        background: #F44336;\n",
       "    }\n",
       "</style>\n"
      ],
      "text/plain": [
       "<IPython.core.display.HTML object>"
      ]
     },
     "metadata": {},
     "output_type": "display_data"
    },
    {
     "data": {
      "text/html": [],
      "text/plain": [
       "<IPython.core.display.HTML object>"
      ]
     },
     "metadata": {},
     "output_type": "display_data"
    },
    {
     "data": {
      "text/plain": [
       "TensorBase(0.1883)"
      ]
     },
     "execution_count": 33,
     "metadata": {},
     "output_type": "execute_result"
    }
   ],
   "source": [
    "preds = learn.get_preds(dl=dls_test.valid)\n",
    "accuracy(preds[0], preds[1])"
   ]
  },
  {
   "cell_type": "code",
   "execution_count": null,
   "id": "c85932ee",
   "metadata": {},
   "outputs": [],
   "source": []
  }
 ],
 "metadata": {
  "kernelspec": {
   "display_name": "Python 3 (ipykernel)",
   "language": "python",
   "name": "python3"
  },
  "language_info": {
   "codemirror_mode": {
    "name": "ipython",
    "version": 3
   },
   "file_extension": ".py",
   "mimetype": "text/x-python",
   "name": "python",
   "nbconvert_exporter": "python",
   "pygments_lexer": "ipython3",
   "version": "3.10.9"
  }
 },
 "nbformat": 4,
 "nbformat_minor": 5
}
