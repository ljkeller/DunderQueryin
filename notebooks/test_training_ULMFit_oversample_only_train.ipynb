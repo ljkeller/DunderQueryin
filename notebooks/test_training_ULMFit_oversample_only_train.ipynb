{
 "cells": [
  {
   "cell_type": "code",
   "execution_count": 1,
   "id": "6352ed5d",
   "metadata": {},
   "outputs": [],
   "source": [
    "from fastai.text.all import *\n",
    "from pathlib import Path\n",
    "import random\n",
    "seed = 1\n",
    "np.random.default_rng(seed)\n",
    "\n",
    "pd.options.display.max_rows = 20\n",
    "pd.options.display.max_columns = 8\n",
    "%config InteractiveShell.ast_node_interactivity='last_expr_or_assign'"
   ]
  },
  {
   "cell_type": "code",
   "execution_count": 2,
   "id": "22282b1b",
   "metadata": {},
   "outputs": [],
   "source": [
    "# use kwargs??\n",
    "def get_oversampled_dls(data_path, seed=1, noise_limit=0.15, text_vocab=None):\n",
    "    df = pd.read_csv(data_path)\n",
    "    \n",
    "    dls = TextDataLoaders.from_df(df, text_col='line_text', label_col='speaker', valid_pct=0.1, shuffle=True, seed=seed, text_vocab=text_vocab)\n",
    "    \n",
    "    df_train = dls.train.items\n",
    "    max_dialog = df_train['speaker'].value_counts().max()\n",
    "\n",
    "    dfs_oversampled = [df_train]\n",
    "    for _, group in df_train.groupby('speaker'):\n",
    "        rand_mult = random.uniform(1.0-noise_limit, 1.0 + noise_limit)\n",
    "        sample_amt_to_max = max_dialog - len(group)\n",
    "        dfs_oversampled.append(group.sample(int(sample_amt_to_max * rand_mult), replace=True))\n",
    "        \n",
    "    dls.train.items = pd.concat(dfs_oversampled)\n",
    "    return dls"
   ]
  },
  {
   "cell_type": "code",
   "execution_count": 3,
   "id": "60df474f",
   "metadata": {},
   "outputs": [
    {
     "data": {
      "text/plain": [
       "<Axes: >"
      ]
     },
     "execution_count": 3,
     "metadata": {},
     "output_type": "execute_result"
    },
    {
     "data": {
      "image/png": "[encoded data removed]",
      "text/plain": [
       "<Figure size 640x480 with 1 Axes>"
      ]
     },
     "metadata": {},
     "output_type": "display_data"
    }
   ],
   "source": [
    "data_path = Path('../data/train21_shuffled.csv')\n",
    "df = pd.read_csv(data_path)\n",
    "\n",
    "df['speaker'].value_counts().plot(kind='bar')\n"
   ]
  },
  {
   "cell_type": "code",
   "execution_count": 4,
   "id": "db045cbc",
   "metadata": {},
   "outputs": [
    {
     "data": {
      "text/html": [
       "\n",
       "<style>\n",
       "    /* Turns off some styling */\n",
       "    progress {\n",
       "        /* gets rid of default border in Firefox and Opera. */\n",
       "        border: none;\n",
       "        /* Needs to be in here for Safari polyfill so background images work as expected. */\n",
       "        background-size: auto;\n",
       "    }\n",
       "    progress:not([value]), progress:not([value])::-webkit-progress-bar {\n",
       "        background: repeating-linear-gradient(45deg, #7e7e7e, #7e7e7e 10px, #5c5c5c 10px, #5c5c5c 20px);\n",
       "    }\n",
       "    .progress-bar-interrupted, .progress-bar-interrupted::-webkit-progress-bar {\n",
       "        background: #F44336;\n",
       "    }\n",
       "</style>\n"
      ],
      "text/plain": [
       "<IPython.core.display.HTML object>"
      ]
     },
     "metadata": {},
     "output_type": "display_data"
    },
    {
     "data": {
      "text/html": [],
      "text/plain": [
       "<IPython.core.display.HTML object>"
      ]
     },
     "metadata": {},
     "output_type": "display_data"
    },
    {
     "data": {
      "text/plain": [
       "<fastai.data.core.DataLoaders at 0x7f396c98ef20>"
      ]
     },
     "execution_count": 4,
     "metadata": {},
     "output_type": "execute_result"
    }
   ],
   "source": [
    "dls_lm = TextDataLoaders.from_df(df, text_col='line_text', is_lm=True, valid_pct=0.1, shuffle=True, seed=seed)"
   ]
  },
  {
   "cell_type": "code",
   "execution_count": 5,
   "id": "8ebc1376",
   "metadata": {},
   "outputs": [
    {
     "data": {
      "text/html": [
       "<table border=\"1\" class=\"dataframe\">\n",
       "  <thead>\n",
       "    <tr style=\"text-align: right;\">\n",
       "      <th></th>\n",
       "      <th>text</th>\n",
       "      <th>text_</th>\n",
       "    </tr>\n",
       "  </thead>\n",
       "  <tbody>\n",
       "    <tr>\n",
       "      <th>0</th>\n",
       "      <td>xxbos xxmaj remember that xxmaj halloween party you took me to once ? xxmaj the one where i started crying as soon as i walked in and i did n't stop crying ? xxbos xxmaj hi xxmaj michael ! xxbos xxmaj me mechanic not speak xxmaj english . xxmaj but he know what me mean when me say ' car no go ' , and we best friends . xxmaj so me</td>\n",
       "      <td>xxmaj remember that xxmaj halloween party you took me to once ? xxmaj the one where i started crying as soon as i walked in and i did n't stop crying ? xxbos xxmaj hi xxmaj michael ! xxbos xxmaj me mechanic not speak xxmaj english . xxmaj but he know what me mean when me say ' car no go ' , and we best friends . xxmaj so me think</td>\n",
       "    </tr>\n",
       "    <tr>\n",
       "      <th>1</th>\n",
       "      <td>remember ? xxmaj angela . xxmaj no . xxbos xxmaj cool . xxbos xxmaj the numbers are correct , xxmaj michael . xxbos xxmaj holy wow , that 's a big one . xxmaj alright , pencils down everyone , we got lice ! xxbos xxmaj go on . xxmaj have a nap . xxmaj lie down right here . xxmaj there 's a blanket in here . i used it earlier</td>\n",
       "      <td>? xxmaj angela . xxmaj no . xxbos xxmaj cool . xxbos xxmaj the numbers are correct , xxmaj michael . xxbos xxmaj holy wow , that 's a big one . xxmaj alright , pencils down everyone , we got lice ! xxbos xxmaj go on . xxmaj have a nap . xxmaj lie down right here . xxmaj there 's a blanket in here . i used it earlier myself</td>\n",
       "    </tr>\n",
       "    <tr>\n",
       "      <th>2</th>\n",
       "      <td>, xxunk , c'm on ! xxmaj come on ! xxmaj come on . xxbos xxmaj vikram does n't have my people skills . xxbos xxmaj what ? xxbos xxmaj ok , [ lifts up cooked foot ] what does this look like to you xxmaj stanley ? ! xxbos xxmaj oh , xxmaj pam ! xxmaj toby says such nice things about you . xxbos xxmaj ugh . xxbos xxmaj animation</td>\n",
       "      <td>xxunk , c'm on ! xxmaj come on ! xxmaj come on . xxbos xxmaj vikram does n't have my people skills . xxbos xxmaj what ? xxbos xxmaj ok , [ lifts up cooked foot ] what does this look like to you xxmaj stanley ? ! xxbos xxmaj oh , xxmaj pam ! xxmaj toby says such nice things about you . xxbos xxmaj ugh . xxbos xxmaj animation ?</td>\n",
       "    </tr>\n",
       "    <tr>\n",
       "      <th>3</th>\n",
       "      <td>xxmaj nope we 're not brothers . xxbos xxmaj oh , no , so close . xxmaj oh . xxmaj no , we ca n't do that . xxmaj we ca n't do this . xxmaj ohh . xxbos xxmaj maybe i could sit in on this one with you ? xxmaj you know , that way i can cover you in case you need to xxunk or you just want another</td>\n",
       "      <td>nope we 're not brothers . xxbos xxmaj oh , no , so close . xxmaj oh . xxmaj no , we ca n't do that . xxmaj we ca n't do this . xxmaj ohh . xxbos xxmaj maybe i could sit in on this one with you ? xxmaj you know , that way i can cover you in case you need to xxunk or you just want another opinion</td>\n",
       "    </tr>\n",
       "    <tr>\n",
       "      <th>4</th>\n",
       "      <td>a decision even . xxbos xxmaj what no , wait ! xxmaj you said you were gon na help us ! xxbos xxmaj is this the same grill you grilled your foot on ? xxbos xxmaj nellie , xxmaj i 'm sorry , but i do n't feel comfortable being evaluated by someone i do n't know . xxbos xxmaj jelly beans . xxbos xxmaj yeah i asked the bus driver to</td>\n",
       "      <td>decision even . xxbos xxmaj what no , wait ! xxmaj you said you were gon na help us ! xxbos xxmaj is this the same grill you grilled your foot on ? xxbos xxmaj nellie , xxmaj i 'm sorry , but i do n't feel comfortable being evaluated by someone i do n't know . xxbos xxmaj jelly beans . xxbos xxmaj yeah i asked the bus driver to lock</td>\n",
       "    </tr>\n",
       "    <tr>\n",
       "      <th>5</th>\n",
       "      <td>i call with my magic sales fingers ? [ michael 's phone rings ] xxmaj michael xxmaj scott , head of sales . xxbos xxmaj what ? xxmaj why are we- xxbos xxmaj can i have everyone 's attention please ? xxmaj phyllis , xxmaj oscar , xxmaj ryan , who 's supposed to be dead , can i ask you all a question ? xxmaj do you all know what it</td>\n",
       "      <td>call with my magic sales fingers ? [ michael 's phone rings ] xxmaj michael xxmaj scott , head of sales . xxbos xxmaj what ? xxmaj why are we- xxbos xxmaj can i have everyone 's attention please ? xxmaj phyllis , xxmaj oscar , xxmaj ryan , who 's supposed to be dead , can i ask you all a question ? xxmaj do you all know what it 's</td>\n",
       "    </tr>\n",
       "    <tr>\n",
       "      <th>6</th>\n",
       "      <td>kevin and the xxmaj zits . xxbos xxmaj our prices are the only thing keeping us in business . xxbos i ca n't finish . i feel so weak , i just … xxbos xxmaj toby , come on . xxmaj let 's go . xxbos xxmaj loyalty is exactly right . xxbos [ to xxmaj jim ] a single piece of pepperoni please . xxbos xxmaj you 're actually talking a</td>\n",
       "      <td>and the xxmaj zits . xxbos xxmaj our prices are the only thing keeping us in business . xxbos i ca n't finish . i feel so weak , i just … xxbos xxmaj toby , come on . xxmaj let 's go . xxbos xxmaj loyalty is exactly right . xxbos [ to xxmaj jim ] a single piece of pepperoni please . xxbos xxmaj you 're actually talking a lot</td>\n",
       "    </tr>\n",
       "    <tr>\n",
       "      <th>7</th>\n",
       "      <td>. xxbos xxmaj no , of course you ca n't go . xxmaj we have n't even started this horrible process of … okay , xxmaj creed . i need to let somebody go today . xxmaj they told me i need to let somebody go . xxmaj and as much as i think you 're a great guy , and i like you , you 're … you 're , goodbye</td>\n",
       "      <td>xxbos xxmaj no , of course you ca n't go . xxmaj we have n't even started this horrible process of … okay , xxmaj creed . i need to let somebody go today . xxmaj they told me i need to let somebody go . xxmaj and as much as i think you 're a great guy , and i like you , you 're … you 're , goodbye .</td>\n",
       "    </tr>\n",
       "    <tr>\n",
       "      <th>8</th>\n",
       "      <td>xxunk annoyed ] xxrep 3 3 , xxrep 3 0 times xxunk than the xxmaj earth , … xxbos xxmaj yes xxbos [ xxunk on xxmaj dwight , looks at camera ] xxmaj you 're welcome . xxbos xxmaj thank you . xxmaj oh , thank you very much . xxmaj appreciate it . xxbos xxmaj as a farmer , i know that when an animal is sick , sometimes the right</td>\n",
       "      <td>annoyed ] xxrep 3 3 , xxrep 3 0 times xxunk than the xxmaj earth , … xxbos xxmaj yes xxbos [ xxunk on xxmaj dwight , looks at camera ] xxmaj you 're welcome . xxbos xxmaj thank you . xxmaj oh , thank you very much . xxmaj appreciate it . xxbos xxmaj as a farmer , i know that when an animal is sick , sometimes the right thing</td>\n",
       "    </tr>\n",
       "  </tbody>\n",
       "</table>"
      ],
      "text/plain": [
       "<IPython.core.display.HTML object>"
      ]
     },
     "metadata": {},
     "output_type": "display_data"
    }
   ],
   "source": [
    "dls_lm.show_batch()"
   ]
  },
  {
   "cell_type": "markdown",
   "id": "be160da2",
   "metadata": {},
   "source": [
    "### From fine tuning, it appears that drop_mult around 0.3, with wd=0.1 or lower is most approapriate for this dataset / language model"
   ]
  },
  {
   "cell_type": "code",
   "execution_count": 6,
   "id": "3c2c824f",
   "metadata": {},
   "outputs": [
    {
     "data": {
      "text/html": [
       "\n",
       "<style>\n",
       "    /* Turns off some styling */\n",
       "    progress {\n",
       "        /* gets rid of default border in Firefox and Opera. */\n",
       "        border: none;\n",
       "        /* Needs to be in here for Safari polyfill so background images work as expected. */\n",
       "        background-size: auto;\n",
       "    }\n",
       "    progress:not([value]), progress:not([value])::-webkit-progress-bar {\n",
       "        background: repeating-linear-gradient(45deg, #7e7e7e, #7e7e7e 10px, #5c5c5c 10px, #5c5c5c 20px);\n",
       "    }\n",
       "    .progress-bar-interrupted, .progress-bar-interrupted::-webkit-progress-bar {\n",
       "        background: #F44336;\n",
       "    }\n",
       "</style>\n"
      ],
      "text/plain": [
       "<IPython.core.display.HTML object>"
      ]
     },
     "metadata": {},
     "output_type": "display_data"
    },
    {
     "data": {
      "text/html": [
       "<table border=\"1\" class=\"dataframe\">\n",
       "  <thead>\n",
       "    <tr style=\"text-align: left;\">\n",
       "      <th>epoch</th>\n",
       "      <th>train_loss</th>\n",
       "      <th>valid_loss</th>\n",
       "      <th>accuracy</th>\n",
       "      <th>perplexity</th>\n",
       "      <th>time</th>\n",
       "    </tr>\n",
       "  </thead>\n",
       "  <tbody>\n",
       "    <tr>\n",
       "      <td>0</td>\n",
       "      <td>3.875723</td>\n",
       "      <td>3.495511</td>\n",
       "      <td>0.316049</td>\n",
       "      <td>32.967133</td>\n",
       "      <td>00:26</td>\n",
       "    </tr>\n",
       "    <tr>\n",
       "      <td>1</td>\n",
       "      <td>3.437058</td>\n",
       "      <td>3.355901</td>\n",
       "      <td>0.330187</td>\n",
       "      <td>28.671432</td>\n",
       "      <td>00:25</td>\n",
       "    </tr>\n",
       "    <tr>\n",
       "      <td>2</td>\n",
       "      <td>3.295083</td>\n",
       "      <td>3.323213</td>\n",
       "      <td>0.334437</td>\n",
       "      <td>27.749369</td>\n",
       "      <td>00:25</td>\n",
       "    </tr>\n",
       "    <tr>\n",
       "      <td>3</td>\n",
       "      <td>3.201227</td>\n",
       "      <td>3.308441</td>\n",
       "      <td>0.336618</td>\n",
       "      <td>27.342457</td>\n",
       "      <td>00:25</td>\n",
       "    </tr>\n",
       "    <tr>\n",
       "      <td>4</td>\n",
       "      <td>3.130705</td>\n",
       "      <td>3.294459</td>\n",
       "      <td>0.338803</td>\n",
       "      <td>26.962812</td>\n",
       "      <td>00:25</td>\n",
       "    </tr>\n",
       "    <tr>\n",
       "      <td>5</td>\n",
       "      <td>3.057043</td>\n",
       "      <td>3.287009</td>\n",
       "      <td>0.340724</td>\n",
       "      <td>26.762703</td>\n",
       "      <td>00:25</td>\n",
       "    </tr>\n",
       "    <tr>\n",
       "      <td>6</td>\n",
       "      <td>2.994414</td>\n",
       "      <td>3.285241</td>\n",
       "      <td>0.341524</td>\n",
       "      <td>26.715431</td>\n",
       "      <td>00:25</td>\n",
       "    </tr>\n",
       "    <tr>\n",
       "      <td>7</td>\n",
       "      <td>2.955525</td>\n",
       "      <td>3.285059</td>\n",
       "      <td>0.341043</td>\n",
       "      <td>26.710552</td>\n",
       "      <td>00:25</td>\n",
       "    </tr>\n",
       "  </tbody>\n",
       "</table>"
      ],
      "text/plain": [
       "<IPython.core.display.HTML object>"
      ]
     },
     "metadata": {},
     "output_type": "display_data"
    }
   ],
   "source": [
    "data_dir = Path('../data')\n",
    "learn = language_model_learner(dls_lm, AWD_LSTM, metrics=[accuracy, Perplexity()], drop_mult=0.3, wd=0.1, path=data_dir)\n",
    "learn.fit_one_cycle(8, 1e-2)"
   ]
  },
  {
   "cell_type": "code",
   "execution_count": 7,
   "id": "b9389a71",
   "metadata": {
    "scrolled": false
   },
   "outputs": [],
   "source": [
    "# data_dir = Path('../data')\n",
    "# scaling_factor=0.2\n",
    "\n",
    "# for i in range(10):\n",
    "#     dm = 0.1 + i*scaling_factor\n",
    "    \n",
    "#     print(f'Drop mult: {dm}')\n",
    "#     learn = language_model_learner(dls_lm, AWD_LSTM, metrics=[accuracy, Perplexity()], drop_mult=dm, path=data_dir)\n",
    "    \n",
    "#     learn.fit_one_cycle(5, 1e-2)\n",
    "\n",
    "# data_dir = Path('../data')\n",
    "# scaling_factor=0.1\n",
    "\n",
    "# for i in range(9):\n",
    "#     reg = 0.1 + i*scaling_factor\n",
    "    \n",
    "#     print(f'Regularization: {reg}')\n",
    "#     learn = language_model_learner(dls_lm, AWD_LSTM, metrics=[accuracy, Perplexity()], drop_mult=0.3, wd=reg, path=data_dir)\n",
    "    \n",
    "#     learn.fit_one_cycle(5, 1e-2)"
   ]
  },
  {
   "cell_type": "code",
   "execution_count": 8,
   "id": "05e94f25",
   "metadata": {},
   "outputs": [],
   "source": [
    "encoder_fp = 'tmp_encoder_tst'\n",
    "learn.save_encoder(encoder_fp)"
   ]
  },
  {
   "cell_type": "code",
   "execution_count": 10,
   "id": "6d3241cc",
   "metadata": {},
   "outputs": [
    {
     "data": {
      "text/html": [
       "\n",
       "<style>\n",
       "    /* Turns off some styling */\n",
       "    progress {\n",
       "        /* gets rid of default border in Firefox and Opera. */\n",
       "        border: none;\n",
       "        /* Needs to be in here for Safari polyfill so background images work as expected. */\n",
       "        background-size: auto;\n",
       "    }\n",
       "    progress:not([value]), progress:not([value])::-webkit-progress-bar {\n",
       "        background: repeating-linear-gradient(45deg, #7e7e7e, #7e7e7e 10px, #5c5c5c 10px, #5c5c5c 20px);\n",
       "    }\n",
       "    .progress-bar-interrupted, .progress-bar-interrupted::-webkit-progress-bar {\n",
       "        background: #F44336;\n",
       "    }\n",
       "</style>\n"
      ],
      "text/plain": [
       "<IPython.core.display.HTML object>"
      ]
     },
     "metadata": {},
     "output_type": "display_data"
    },
    {
     "data": {
      "text/html": [],
      "text/plain": [
       "<IPython.core.display.HTML object>"
      ]
     },
     "metadata": {},
     "output_type": "display_data"
    },
    {
     "data": {
      "text/plain": [
       "<fastai.data.core.DataLoaders at 0x7f3989a03070>"
      ]
     },
     "execution_count": 10,
     "metadata": {},
     "output_type": "execute_result"
    }
   ],
   "source": [
    "dls_clas = get_oversampled_dls(data_path, seed=seed, text_vocab=dls_lm.vocab)"
   ]
  },
  {
   "cell_type": "code",
   "execution_count": null,
   "id": "11bf2c68",
   "metadata": {},
   "outputs": [],
   "source": [
    "## Create the TEST DF here, using FASTAIs tools"
   ]
  },
  {
   "cell_type": "code",
   "execution_count": 60,
   "id": "58ff7334",
   "metadata": {},
   "outputs": [
    {
     "data": {
      "text/html": [
       "\n",
       "<style>\n",
       "    /* Turns off some styling */\n",
       "    progress {\n",
       "        /* gets rid of default border in Firefox and Opera. */\n",
       "        border: none;\n",
       "        /* Needs to be in here for Safari polyfill so background images work as expected. */\n",
       "        background-size: auto;\n",
       "    }\n",
       "    progress:not([value]), progress:not([value])::-webkit-progress-bar {\n",
       "        background: repeating-linear-gradient(45deg, #7e7e7e, #7e7e7e 10px, #5c5c5c 10px, #5c5c5c 20px);\n",
       "    }\n",
       "    .progress-bar-interrupted, .progress-bar-interrupted::-webkit-progress-bar {\n",
       "        background: #F44336;\n",
       "    }\n",
       "</style>\n"
      ],
      "text/plain": [
       "<IPython.core.display.HTML object>"
      ]
     },
     "metadata": {},
     "output_type": "display_data"
    },
    {
     "data": {
      "text/html": [],
      "text/plain": [
       "<IPython.core.display.HTML object>"
      ]
     },
     "metadata": {},
     "output_type": "display_data"
    },
    {
     "data": {
      "text/plain": [
       "<fastai.text.data.SortedDL at 0x7f3910a3ddb0>"
      ]
     },
     "execution_count": 60,
     "metadata": {},
     "output_type": "execute_result"
    },
    {
     "data": {
      "image/png": "[encoded data removed]",
      "text/plain": [
       "<Figure size 640x480 with 1 Axes>"
      ]
     },
     "metadata": {},
     "output_type": "display_data"
    }
   ],
   "source": [
    "df_test = pd.read_csv(data_dir/'test21_shuffled.csv')\n",
    "df_test['speaker'].value_counts().plot(kind='bar')\n",
    "\n",
    "# we must tokenize first because test_dl is assuming text cols at col 'text'\n",
    "# thus, my tokenize_df moves tokenized inputs to 'text' in the df\n",
    "tokenized_df = tokenize_df(df_test, text_cols='line_text', tok_text_col='text')\n",
    "test_dl = dls_clas.test_dl(tokenized_df[0], with_labels='True', label_col='speaker')"
   ]
  },
  {
   "cell_type": "code",
   "execution_count": 64,
   "id": "70d50740",
   "metadata": {},
   "outputs": [
    {
     "data": {
      "text/plain": [
       "<Axes: title={'center': 'Train Distribution'}>"
      ]
     },
     "execution_count": 64,
     "metadata": {},
     "output_type": "execute_result"
    },
    {
     "data": {
      "image/png": "[encoded data removed]",
      "text/plain": [
       "<Figure size 640x480 with 1 Axes>"
      ]
     },
     "metadata": {},
     "output_type": "display_data"
    }
   ],
   "source": [
    "dls_clas.train.items['speaker'].value_counts().plot(kind='bar', title='Train Distribution')"
   ]
  },
  {
   "cell_type": "code",
   "execution_count": 65,
   "id": "dac8f014",
   "metadata": {},
   "outputs": [
    {
     "data": {
      "text/plain": [
       "<Axes: title={'center': 'Validation Distribution'}>"
      ]
     },
     "execution_count": 65,
     "metadata": {},
     "output_type": "execute_result"
    },
    {
     "data": {
      "image/png": "[encoded data removed]",
      "text/plain": [
       "<Figure size 640x480 with 1 Axes>"
      ]
     },
     "metadata": {},
     "output_type": "display_data"
    }
   ],
   "source": [
    "dls_clas.valid.items['speaker'].value_counts().plot(kind='bar', title='Validation Distribution')"
   ]
  },
  {
   "cell_type": "code",
   "execution_count": 66,
   "id": "5cee25ec",
   "metadata": {},
   "outputs": [
    {
     "data": {
      "text/html": [
       "<table border=\"1\" class=\"dataframe\">\n",
       "  <thead>\n",
       "    <tr style=\"text-align: right;\">\n",
       "      <th></th>\n",
       "      <th>text</th>\n",
       "      <th>category</th>\n",
       "    </tr>\n",
       "  </thead>\n",
       "  <tbody>\n",
       "    <tr>\n",
       "      <th>0</th>\n",
       "      <td>xxbos xxmaj i 've really learned from the xxunk . xxmaj the great xxunk , xxmaj drew xxmaj xxunk , xxmaj ryan xxmaj xxunk , uh , the xxmaj xxunk guy not so much . xxmaj he 's more the signing , xxmaj wayne xxmaj xxunk . xxmaj um , xxmaj robin xxmaj williams . xxmaj oh , man , would i love to go head - to - head with him . xxmaj oh ! xxmaj that would be exciting . [ as xxmaj robin xxmaj williams ] ' hi . xxmaj i 'm xxmaj xxunk from xxmaj xxunk . ' xxmaj well , xxmaj i 'm xxmaj xxunk from xxmaj xxunk . xxmaj nanoo , nanoo . xxmaj xxunk , xxunk . [ as xxmaj robin xxmaj williams ] ' that 's xxmaj good morning , xxmaj vietnam ! ' xxmaj well , hello to you . xxmaj</td>\n",
       "      <td>Michael</td>\n",
       "    </tr>\n",
       "    <tr>\n",
       "      <th>1</th>\n",
       "      <td>xxbos [ to the camera ] xxmaj can you get her ? xxmaj she 's right there . [ camera zooms in on xxmaj meredith at here desk ] xxmaj that is xxmaj meredith , the birthday girl . xxmaj and this … is xxmaj meredith 's card . xxmaj happy bird - day . [ laughs ] xxmaj um , let 's see . xxmaj jim , xxmaj jim wrote , ' meredith , i heard you 're turning xxunk , but , come on , you 're an accountant . xxmaj just fudge the numbers . ' xxmaj not bad , pretty funny , i do n't appreciate xxunk corporate fraud though . xxmaj uh , here 's the thing . xxmaj whatever i write here has to be really , really funny . xxmaj because people out there are expecting it . xxmaj i 've already set</td>\n",
       "      <td>Michael</td>\n",
       "    </tr>\n",
       "    <tr>\n",
       "      <th>2</th>\n",
       "      <td>xxbos xxmaj pam , would you stand up for a sec ? [ sits in xxmaj pam 's chair ] xxmaj hmm . xxmaj see how relaxed i am ? i like this chair . [ slowly sinking into the chair ] xxmaj offers good support , it is xxunk correct … it 's a good chair . i think we 're spoiled because we do n't appreciate the things that we have . xxmaj you think kids in xxmaj africa have chairs ? xxmaj no . xxmaj they sit in big piles of garbage . xxmaj you think they have xxunk ? [ the chair has slowly xxunk itself almost to where xxmaj michael is not visible over the desk ] xxmaj they do n't have xxunk . xxmaj they do n't xxunk [ struggles to get up from xxmaj pam 's chair ] xxmaj gah ! xxmaj they</td>\n",
       "      <td>Michael</td>\n",
       "    </tr>\n",
       "    <tr>\n",
       "      <th>3</th>\n",
       "      <td>xxbos xxmaj the pen delivery went amazing , and now xxmaj i 've got all these pens just waiting to be xxunk . xxmaj but xxmaj pam did not tell me to unpack the pens , and xxmaj i 'm not one of those people who 's just like , ' uh , sure . xxmaj i 'll accept the pens when they come in , and then as soon as your back 's turned , i unpack the pens and get all this credit as some great pen xxunk . xxmaj on the other hand ' they are just sitting here . xxmaj pam did n't tell me not to unpack them . xxmaj do n't want to be a busybody , but i do n't want to be a lazybones . xxmaj busybody , lazybones . xxmaj busybody , lazybones . xxmaj ahh ! xxmaj my brain is</td>\n",
       "      <td>Erin</td>\n",
       "    </tr>\n",
       "    <tr>\n",
       "      <th>4</th>\n",
       "      <td>xxbos xxmaj well , now xxup ok , i know that this is probably not appropriate , but i need help . xxmaj because i want to play ball with my kids before i get too old . xxmaj and before that happens i need to get laid . xxmaj and before that happens i need to be in love . xxmaj and i do n't wanna hear ' ah xxrep 3 n … i ca n't help xxunk la la . ' xxmaj no . xxmaj no . xxmaj i 'm a catch and i am not going to be the one who got away . xxmaj so , this is what we 're going to do . xxmaj dwight is going to hand out index cards and i want you all to write down the name of an xxunk woman for me to date by the end of</td>\n",
       "      <td>Michael</td>\n",
       "    </tr>\n",
       "    <tr>\n",
       "      <th>5</th>\n",
       "      <td>xxbos xxmaj my boss is coming in today , the lovely xxmaj jan levinson - gould will , well , no xxmaj gould . xxmaj the xxmaj gould has been [ makes xxunk neck hand motion ] xxunk , divorced . xxmaj um , the awkward part is that this will be the first time that we 'll be seeing each other since , well , uh , it was really nothing . xxmaj we just sort of got caught up in the moment . xxmaj the xxunk xxunk gives herself to the understanding , with xxunk good - looks , office manager . xxmaj just , uh , she did n't want it to continue for some reason . xxmaj it , we both , i did n't want it , we both did n't want it to continue . xxmaj was not professional . xxmaj um , when</td>\n",
       "      <td>Michael</td>\n",
       "    </tr>\n",
       "    <tr>\n",
       "      <th>6</th>\n",
       "      <td>xxbos xxmaj sales is about people , xxmaj ryan . xxmaj about understanding them and learning how to get along with them . xxmaj case study : me . xxmaj to understand me , you have to know that i work in the city , but i live here on this small , beautiful farm . xxmaj it 's a family farm . xxmaj many xxmaj schrutes were born here and many of us end up here . xxmaj my grandfather was a good man who did some very bad things . xxmaj what the … xxmaj damn it ! xxmaj those kids ! [ xxunk two teenagers naked , running ] xxmaj you ! xxmaj you , get out of here ! xxmaj this is not a cheap motel ! xxmaj this is a farm and cemetery ! xxmaj freaks ! xxmaj you 're lucky i do n't have</td>\n",
       "      <td>Dwight</td>\n",
       "    </tr>\n",
       "    <tr>\n",
       "      <th>7</th>\n",
       "      <td>xxbos [ on the phone ] xxmaj yes , xxmaj i 'd like to speak to your office manager , please . xxmaj yes , hello . xxmaj this is xxmaj michael xxmaj scott . i am the xxmaj regional xxmaj manager of xxmaj dunder xxmaj mifflin xxmaj paper xxmaj products . xxmaj just wanted to talk to you manager - a - manger . [ quick cut scene ] xxmaj all right . xxmaj done deal . xxmaj thank you very much , sir . xxmaj you 're a gentleman and a xxunk . xxmaj oh , xxmaj i 'm sorry . xxup ok . xxmaj i 'm sorry . xxmaj my mistake . [ hangs up ] xxmaj that was a woman i was talking to , so … xxmaj she had a very low voice . xxmaj probably a xxunk , so … [ clears throat ]</td>\n",
       "      <td>Michael</td>\n",
       "    </tr>\n",
       "    <tr>\n",
       "      <th>8</th>\n",
       "      <td>xxbos i do n't know , it could be any number of people . xxmaj it could be a xxunk . xxmaj it could be an old person . xxmaj it could be a xxunk - xxunk . xxmaj or , it could be … a xxmaj bruce xxmaj springsteen fan - what ? xxmaj who said that ? i did . xxmaj why did i say that ? xxmaj oh , i think you know why i said that . i think it is very xxunk . i think it goes without saying . xxmaj bear with me . xxmaj there 's a point there . xxmaj but what is the point ? i do n't understand what he 's saying . xxmaj it seems a little xxunk . xxmaj it seems a little xxunk . xxmaj well , it 's not a little xxunk there 's actually something</td>\n",
       "      <td>Michael</td>\n",
       "    </tr>\n",
       "  </tbody>\n",
       "</table>"
      ],
      "text/plain": [
       "<IPython.core.display.HTML object>"
      ]
     },
     "metadata": {},
     "output_type": "display_data"
    }
   ],
   "source": [
    "dls_clas.show_batch()"
   ]
  },
  {
   "cell_type": "code",
   "execution_count": 67,
   "id": "bb35f7bf",
   "metadata": {},
   "outputs": [
    {
     "data": {
      "text/plain": [
       "<fastai.text.learner.TextLearner at 0x7f391931fbe0>"
      ]
     },
     "execution_count": 67,
     "metadata": {},
     "output_type": "execute_result"
    }
   ],
   "source": [
    "learn = text_classifier_learner(dls_clas, AWD_LSTM, metrics=accuracy, drop_mult=0.5, path=data_dir)"
   ]
  },
  {
   "cell_type": "code",
   "execution_count": 68,
   "id": "88069061",
   "metadata": {},
   "outputs": [
    {
     "data": {
      "text/plain": [
       "<fastai.text.learner.TextLearner at 0x7f391931fbe0>"
      ]
     },
     "execution_count": 68,
     "metadata": {},
     "output_type": "execute_result"
    }
   ],
   "source": [
    "learn.load_encoder(encoder_fp)"
   ]
  },
  {
   "cell_type": "markdown",
   "id": "b20e00ee",
   "metadata": {},
   "source": [
    "Use discriminative learning and gradual unfreezing to benefit from the LM fine tuning"
   ]
  },
  {
   "cell_type": "code",
   "execution_count": 69,
   "id": "47941e7c",
   "metadata": {},
   "outputs": [
    {
     "data": {
      "text/html": [
       "\n",
       "<style>\n",
       "    /* Turns off some styling */\n",
       "    progress {\n",
       "        /* gets rid of default border in Firefox and Opera. */\n",
       "        border: none;\n",
       "        /* Needs to be in here for Safari polyfill so background images work as expected. */\n",
       "        background-size: auto;\n",
       "    }\n",
       "    progress:not([value]), progress:not([value])::-webkit-progress-bar {\n",
       "        background: repeating-linear-gradient(45deg, #7e7e7e, #7e7e7e 10px, #5c5c5c 10px, #5c5c5c 20px);\n",
       "    }\n",
       "    .progress-bar-interrupted, .progress-bar-interrupted::-webkit-progress-bar {\n",
       "        background: #F44336;\n",
       "    }\n",
       "</style>\n"
      ],
      "text/plain": [
       "<IPython.core.display.HTML object>"
      ]
     },
     "metadata": {},
     "output_type": "display_data"
    },
    {
     "data": {
      "text/html": [
       "<table border=\"1\" class=\"dataframe\">\n",
       "  <thead>\n",
       "    <tr style=\"text-align: left;\">\n",
       "      <th>epoch</th>\n",
       "      <th>train_loss</th>\n",
       "      <th>valid_loss</th>\n",
       "      <th>accuracy</th>\n",
       "      <th>time</th>\n",
       "    </tr>\n",
       "  </thead>\n",
       "  <tbody>\n",
       "    <tr>\n",
       "      <td>0</td>\n",
       "      <td>2.490053</td>\n",
       "      <td>2.495527</td>\n",
       "      <td>0.254451</td>\n",
       "      <td>00:09</td>\n",
       "    </tr>\n",
       "  </tbody>\n",
       "</table>"
      ],
      "text/plain": [
       "<IPython.core.display.HTML object>"
      ]
     },
     "metadata": {},
     "output_type": "display_data"
    }
   ],
   "source": [
    "learn.fit_one_cycle(1, 2e-2)"
   ]
  },
  {
   "cell_type": "code",
   "execution_count": 70,
   "id": "d3b7931e",
   "metadata": {},
   "outputs": [
    {
     "data": {
      "text/html": [
       "\n",
       "<style>\n",
       "    /* Turns off some styling */\n",
       "    progress {\n",
       "        /* gets rid of default border in Firefox and Opera. */\n",
       "        border: none;\n",
       "        /* Needs to be in here for Safari polyfill so background images work as expected. */\n",
       "        background-size: auto;\n",
       "    }\n",
       "    progress:not([value]), progress:not([value])::-webkit-progress-bar {\n",
       "        background: repeating-linear-gradient(45deg, #7e7e7e, #7e7e7e 10px, #5c5c5c 10px, #5c5c5c 20px);\n",
       "    }\n",
       "    .progress-bar-interrupted, .progress-bar-interrupted::-webkit-progress-bar {\n",
       "        background: #F44336;\n",
       "    }\n",
       "</style>\n"
      ],
      "text/plain": [
       "<IPython.core.display.HTML object>"
      ]
     },
     "metadata": {},
     "output_type": "display_data"
    },
    {
     "data": {
      "text/html": [
       "<table border=\"1\" class=\"dataframe\">\n",
       "  <thead>\n",
       "    <tr style=\"text-align: left;\">\n",
       "      <th>epoch</th>\n",
       "      <th>train_loss</th>\n",
       "      <th>valid_loss</th>\n",
       "      <th>accuracy</th>\n",
       "      <th>time</th>\n",
       "    </tr>\n",
       "  </thead>\n",
       "  <tbody>\n",
       "    <tr>\n",
       "      <td>0</td>\n",
       "      <td>2.429282</td>\n",
       "      <td>2.454875</td>\n",
       "      <td>0.256029</td>\n",
       "      <td>00:10</td>\n",
       "    </tr>\n",
       "  </tbody>\n",
       "</table>"
      ],
      "text/plain": [
       "<IPython.core.display.HTML object>"
      ]
     },
     "metadata": {},
     "output_type": "display_data"
    }
   ],
   "source": [
    "learn.freeze_to(-2)\n",
    "learn.fit_one_cycle(1, slice(1e-2/(2.6**4), 1e-2))"
   ]
  },
  {
   "cell_type": "code",
   "execution_count": 71,
   "id": "5320c4b3",
   "metadata": {},
   "outputs": [
    {
     "data": {
      "text/html": [
       "\n",
       "<style>\n",
       "    /* Turns off some styling */\n",
       "    progress {\n",
       "        /* gets rid of default border in Firefox and Opera. */\n",
       "        border: none;\n",
       "        /* Needs to be in here for Safari polyfill so background images work as expected. */\n",
       "        background-size: auto;\n",
       "    }\n",
       "    progress:not([value]), progress:not([value])::-webkit-progress-bar {\n",
       "        background: repeating-linear-gradient(45deg, #7e7e7e, #7e7e7e 10px, #5c5c5c 10px, #5c5c5c 20px);\n",
       "    }\n",
       "    .progress-bar-interrupted, .progress-bar-interrupted::-webkit-progress-bar {\n",
       "        background: #F44336;\n",
       "    }\n",
       "</style>\n"
      ],
      "text/plain": [
       "<IPython.core.display.HTML object>"
      ]
     },
     "metadata": {},
     "output_type": "display_data"
    },
    {
     "data": {
      "text/html": [
       "<table border=\"1\" class=\"dataframe\">\n",
       "  <thead>\n",
       "    <tr style=\"text-align: left;\">\n",
       "      <th>epoch</th>\n",
       "      <th>train_loss</th>\n",
       "      <th>valid_loss</th>\n",
       "      <th>accuracy</th>\n",
       "      <th>time</th>\n",
       "    </tr>\n",
       "  </thead>\n",
       "  <tbody>\n",
       "    <tr>\n",
       "      <td>0</td>\n",
       "      <td>2.436427</td>\n",
       "      <td>2.421344</td>\n",
       "      <td>0.267072</td>\n",
       "      <td>00:15</td>\n",
       "    </tr>\n",
       "  </tbody>\n",
       "</table>"
      ],
      "text/plain": [
       "<IPython.core.display.HTML object>"
      ]
     },
     "metadata": {},
     "output_type": "display_data"
    }
   ],
   "source": [
    "learn.freeze_to(-3)\n",
    "learn.fit_one_cycle(1, slice(5e-3/(2.6**4), 5e-3))"
   ]
  },
  {
   "cell_type": "code",
   "execution_count": 72,
   "id": "8c75e4b5",
   "metadata": {},
   "outputs": [
    {
     "data": {
      "text/html": [
       "\n",
       "<style>\n",
       "    /* Turns off some styling */\n",
       "    progress {\n",
       "        /* gets rid of default border in Firefox and Opera. */\n",
       "        border: none;\n",
       "        /* Needs to be in here for Safari polyfill so background images work as expected. */\n",
       "        background-size: auto;\n",
       "    }\n",
       "    progress:not([value]), progress:not([value])::-webkit-progress-bar {\n",
       "        background: repeating-linear-gradient(45deg, #7e7e7e, #7e7e7e 10px, #5c5c5c 10px, #5c5c5c 20px);\n",
       "    }\n",
       "    .progress-bar-interrupted, .progress-bar-interrupted::-webkit-progress-bar {\n",
       "        background: #F44336;\n",
       "    }\n",
       "</style>\n"
      ],
      "text/plain": [
       "<IPython.core.display.HTML object>"
      ]
     },
     "metadata": {},
     "output_type": "display_data"
    },
    {
     "data": {
      "text/html": [
       "<table border=\"1\" class=\"dataframe\">\n",
       "  <thead>\n",
       "    <tr style=\"text-align: left;\">\n",
       "      <th>epoch</th>\n",
       "      <th>train_loss</th>\n",
       "      <th>valid_loss</th>\n",
       "      <th>accuracy</th>\n",
       "      <th>time</th>\n",
       "    </tr>\n",
       "  </thead>\n",
       "  <tbody>\n",
       "    <tr>\n",
       "      <td>0</td>\n",
       "      <td>2.361897</td>\n",
       "      <td>2.406501</td>\n",
       "      <td>0.274735</td>\n",
       "      <td>00:19</td>\n",
       "    </tr>\n",
       "    <tr>\n",
       "      <td>1</td>\n",
       "      <td>2.357270</td>\n",
       "      <td>2.390748</td>\n",
       "      <td>0.285328</td>\n",
       "      <td>00:19</td>\n",
       "    </tr>\n",
       "  </tbody>\n",
       "</table>"
      ],
      "text/plain": [
       "<IPython.core.display.HTML object>"
      ]
     },
     "metadata": {},
     "output_type": "display_data"
    }
   ],
   "source": [
    "learn.unfreeze()\n",
    "learn.fit_one_cycle(2, slice(1e-3/(2.6**4),1e-3))"
   ]
  },
  {
   "cell_type": "code",
   "execution_count": 73,
   "id": "05cc62d2",
   "metadata": {},
   "outputs": [
    {
     "data": {
      "text/plain": [
       "Path('../data/models/ULMFit_test_model.pth')"
      ]
     },
     "execution_count": 73,
     "metadata": {},
     "output_type": "execute_result"
    }
   ],
   "source": [
    "learn.save('ULMFit_test_model')"
   ]
  },
  {
   "cell_type": "code",
   "execution_count": 74,
   "id": "d8ed0490",
   "metadata": {},
   "outputs": [
    {
     "data": {
      "text/html": [
       "\n",
       "<style>\n",
       "    /* Turns off some styling */\n",
       "    progress {\n",
       "        /* gets rid of default border in Firefox and Opera. */\n",
       "        border: none;\n",
       "        /* Needs to be in here for Safari polyfill so background images work as expected. */\n",
       "        background-size: auto;\n",
       "    }\n",
       "    progress:not([value]), progress:not([value])::-webkit-progress-bar {\n",
       "        background: repeating-linear-gradient(45deg, #7e7e7e, #7e7e7e 10px, #5c5c5c 10px, #5c5c5c 20px);\n",
       "    }\n",
       "    .progress-bar-interrupted, .progress-bar-interrupted::-webkit-progress-bar {\n",
       "        background: #F44336;\n",
       "    }\n",
       "</style>\n"
      ],
      "text/plain": [
       "<IPython.core.display.HTML object>"
      ]
     },
     "metadata": {},
     "output_type": "display_data"
    },
    {
     "data": {
      "text/html": [
       "<table border=\"1\" class=\"dataframe\">\n",
       "  <thead>\n",
       "    <tr style=\"text-align: left;\">\n",
       "      <th>epoch</th>\n",
       "      <th>train_loss</th>\n",
       "      <th>valid_loss</th>\n",
       "      <th>accuracy</th>\n",
       "      <th>time</th>\n",
       "    </tr>\n",
       "  </thead>\n",
       "  <tbody>\n",
       "    <tr>\n",
       "      <td>0</td>\n",
       "      <td>2.315152</td>\n",
       "      <td>2.395574</td>\n",
       "      <td>0.284652</td>\n",
       "      <td>00:11</td>\n",
       "    </tr>\n",
       "  </tbody>\n",
       "</table>"
      ],
      "text/plain": [
       "<IPython.core.display.HTML object>"
      ]
     },
     "metadata": {},
     "output_type": "display_data"
    },
    {
     "data": {
      "text/html": [
       "\n",
       "<style>\n",
       "    /* Turns off some styling */\n",
       "    progress {\n",
       "        /* gets rid of default border in Firefox and Opera. */\n",
       "        border: none;\n",
       "        /* Needs to be in here for Safari polyfill so background images work as expected. */\n",
       "        background-size: auto;\n",
       "    }\n",
       "    progress:not([value]), progress:not([value])::-webkit-progress-bar {\n",
       "        background: repeating-linear-gradient(45deg, #7e7e7e, #7e7e7e 10px, #5c5c5c 10px, #5c5c5c 20px);\n",
       "    }\n",
       "    .progress-bar-interrupted, .progress-bar-interrupted::-webkit-progress-bar {\n",
       "        background: #F44336;\n",
       "    }\n",
       "</style>\n"
      ],
      "text/plain": [
       "<IPython.core.display.HTML object>"
      ]
     },
     "metadata": {},
     "output_type": "display_data"
    },
    {
     "data": {
      "text/html": [
       "<table border=\"1\" class=\"dataframe\">\n",
       "  <thead>\n",
       "    <tr style=\"text-align: left;\">\n",
       "      <th>epoch</th>\n",
       "      <th>train_loss</th>\n",
       "      <th>valid_loss</th>\n",
       "      <th>accuracy</th>\n",
       "      <th>time</th>\n",
       "    </tr>\n",
       "  </thead>\n",
       "  <tbody>\n",
       "    <tr>\n",
       "      <td>0</td>\n",
       "      <td>2.299512</td>\n",
       "      <td>2.390839</td>\n",
       "      <td>0.286229</td>\n",
       "      <td>00:19</td>\n",
       "    </tr>\n",
       "    <tr>\n",
       "      <td>1</td>\n",
       "      <td>2.299854</td>\n",
       "      <td>2.384798</td>\n",
       "      <td>0.283976</td>\n",
       "      <td>00:19</td>\n",
       "    </tr>\n",
       "    <tr>\n",
       "      <td>2</td>\n",
       "      <td>2.341598</td>\n",
       "      <td>2.384251</td>\n",
       "      <td>0.282173</td>\n",
       "      <td>00:19</td>\n",
       "    </tr>\n",
       "    <tr>\n",
       "      <td>3</td>\n",
       "      <td>2.287613</td>\n",
       "      <td>2.391004</td>\n",
       "      <td>0.280370</td>\n",
       "      <td>00:19</td>\n",
       "    </tr>\n",
       "    <tr>\n",
       "      <td>4</td>\n",
       "      <td>2.236520</td>\n",
       "      <td>2.409586</td>\n",
       "      <td>0.274059</td>\n",
       "      <td>00:19</td>\n",
       "    </tr>\n",
       "  </tbody>\n",
       "</table>"
      ],
      "text/plain": [
       "<IPython.core.display.HTML object>"
      ]
     },
     "metadata": {},
     "output_type": "display_data"
    }
   ],
   "source": [
    "learn.fine_tune(5, 1e-3)"
   ]
  },
  {
   "cell_type": "code",
   "execution_count": 75,
   "id": "53a8e198",
   "metadata": {},
   "outputs": [],
   "source": [
    "learn.export('ULMFit_test_export')"
   ]
  },
  {
   "cell_type": "markdown",
   "id": "be5291ad",
   "metadata": {},
   "source": [
    "### Training beyond this point appears to overfit"
   ]
  },
  {
   "cell_type": "code",
   "execution_count": 89,
   "id": "ce163aa4",
   "metadata": {},
   "outputs": [
    {
     "data": {
      "text/html": [
       "\n",
       "<style>\n",
       "    /* Turns off some styling */\n",
       "    progress {\n",
       "        /* gets rid of default border in Firefox and Opera. */\n",
       "        border: none;\n",
       "        /* Needs to be in here for Safari polyfill so background images work as expected. */\n",
       "        background-size: auto;\n",
       "    }\n",
       "    progress:not([value]), progress:not([value])::-webkit-progress-bar {\n",
       "        background: repeating-linear-gradient(45deg, #7e7e7e, #7e7e7e 10px, #5c5c5c 10px, #5c5c5c 20px);\n",
       "    }\n",
       "    .progress-bar-interrupted, .progress-bar-interrupted::-webkit-progress-bar {\n",
       "        background: #F44336;\n",
       "    }\n",
       "</style>\n"
      ],
      "text/plain": [
       "<IPython.core.display.HTML object>"
      ]
     },
     "metadata": {},
     "output_type": "display_data"
    },
    {
     "data": {
      "text/html": [],
      "text/plain": [
       "<IPython.core.display.HTML object>"
      ]
     },
     "metadata": {},
     "output_type": "display_data"
    },
    {
     "data": {
      "text/plain": [
       "(#2) [2.4081814289093018,0.26634320616722107]"
      ]
     },
     "execution_count": 89,
     "metadata": {},
     "output_type": "execute_result"
    }
   ],
   "source": [
    "learn.validate(dl=test_dl)"
   ]
  },
  {
   "cell_type": "code",
   "execution_count": 76,
   "id": "f5410f29",
   "metadata": {},
   "outputs": [
    {
     "data": {
      "text/html": [
       "\n",
       "<style>\n",
       "    /* Turns off some styling */\n",
       "    progress {\n",
       "        /* gets rid of default border in Firefox and Opera. */\n",
       "        border: none;\n",
       "        /* Needs to be in here for Safari polyfill so background images work as expected. */\n",
       "        background-size: auto;\n",
       "    }\n",
       "    progress:not([value]), progress:not([value])::-webkit-progress-bar {\n",
       "        background: repeating-linear-gradient(45deg, #7e7e7e, #7e7e7e 10px, #5c5c5c 10px, #5c5c5c 20px);\n",
       "    }\n",
       "    .progress-bar-interrupted, .progress-bar-interrupted::-webkit-progress-bar {\n",
       "        background: #F44336;\n",
       "    }\n",
       "</style>\n"
      ],
      "text/plain": [
       "<IPython.core.display.HTML object>"
      ]
     },
     "metadata": {},
     "output_type": "display_data"
    },
    {
     "data": {
      "text/html": [],
      "text/plain": [
       "<IPython.core.display.HTML object>"
      ]
     },
     "metadata": {},
     "output_type": "display_data"
    },
    {
     "data": {
      "text/plain": [
       "<fastai.interpret.ClassificationInterpretation at 0x7f39106710c0>"
      ]
     },
     "execution_count": 76,
     "metadata": {},
     "output_type": "execute_result"
    }
   ],
   "source": [
    "interp = ClassificationInterpretation.from_learner(learn)"
   ]
  },
  {
   "cell_type": "code",
   "execution_count": 77,
   "id": "cefa1f54",
   "metadata": {},
   "outputs": [
    {
     "data": {
      "text/html": [
       "\n",
       "<style>\n",
       "    /* Turns off some styling */\n",
       "    progress {\n",
       "        /* gets rid of default border in Firefox and Opera. */\n",
       "        border: none;\n",
       "        /* Needs to be in here for Safari polyfill so background images work as expected. */\n",
       "        background-size: auto;\n",
       "    }\n",
       "    progress:not([value]), progress:not([value])::-webkit-progress-bar {\n",
       "        background: repeating-linear-gradient(45deg, #7e7e7e, #7e7e7e 10px, #5c5c5c 10px, #5c5c5c 20px);\n",
       "    }\n",
       "    .progress-bar-interrupted, .progress-bar-interrupted::-webkit-progress-bar {\n",
       "        background: #F44336;\n",
       "    }\n",
       "</style>\n"
      ],
      "text/plain": [
       "<IPython.core.display.HTML object>"
      ]
     },
     "metadata": {},
     "output_type": "display_data"
    },
    {
     "data": {
      "text/html": [],
      "text/plain": [
       "<IPython.core.display.HTML object>"
      ]
     },
     "metadata": {},
     "output_type": "display_data"
    },
    {
     "data": {
      "image/png": "[encoded data removed]",
      "text/plain": [
       "<Figure size 640x480 with 1 Axes>"
      ]
     },
     "metadata": {},
     "output_type": "display_data"
    }
   ],
   "source": [
    "interp.plot_confusion_matrix()"
   ]
  },
  {
   "cell_type": "code",
   "execution_count": 78,
   "id": "e9174704",
   "metadata": {},
   "outputs": [
    {
     "data": {
      "text/html": [
       "\n",
       "<style>\n",
       "    /* Turns off some styling */\n",
       "    progress {\n",
       "        /* gets rid of default border in Firefox and Opera. */\n",
       "        border: none;\n",
       "        /* Needs to be in here for Safari polyfill so background images work as expected. */\n",
       "        background-size: auto;\n",
       "    }\n",
       "    progress:not([value]), progress:not([value])::-webkit-progress-bar {\n",
       "        background: repeating-linear-gradient(45deg, #7e7e7e, #7e7e7e 10px, #5c5c5c 10px, #5c5c5c 20px);\n",
       "    }\n",
       "    .progress-bar-interrupted, .progress-bar-interrupted::-webkit-progress-bar {\n",
       "        background: #F44336;\n",
       "    }\n",
       "</style>\n"
      ],
      "text/plain": [
       "<IPython.core.display.HTML object>"
      ]
     },
     "metadata": {},
     "output_type": "display_data"
    },
    {
     "data": {
      "text/html": [],
      "text/plain": [
       "<IPython.core.display.HTML object>"
      ]
     },
     "metadata": {},
     "output_type": "display_data"
    },
    {
     "data": {
      "text/html": [
       "<table border=\"1\" class=\"dataframe\">\n",
       "  <thead>\n",
       "    <tr style=\"text-align: right;\">\n",
       "      <th></th>\n",
       "      <th>text</th>\n",
       "      <th>category</th>\n",
       "      <th>category_</th>\n",
       "    </tr>\n",
       "  </thead>\n",
       "  <tbody>\n",
       "    <tr>\n",
       "      <th>0</th>\n",
       "      <td>xxbos xxmaj toby actually gets xxunk from his ex - wife because she makes more , so that 's kind of embarrassing . xxmaj not that xxmaj i 'd mind , but it would never happen to me because i would make the marriage work . xxmaj people seem to like him because they think he 's one of us , but he 's not . xxmaj he 's this weird xxunk who just tells people , ' do n't do this , do n't do that . xxmaj hire this person for this reason . ' i would complain about him , but who would i go to , to complain about xxmaj toby ? xxmaj toby . xxmaj bias . xxmaj and what does he do about that ? xxmaj nothing . xxmaj because he 's xxmaj toby . xxmaj what kind of name is that ? xxmaj</td>\n",
       "      <td>Michael</td>\n",
       "      <td>Michael</td>\n",
       "    </tr>\n",
       "    <tr>\n",
       "      <th>1</th>\n",
       "      <td>xxbos g xxrep 5 o d morning , xxunk - nashua ! xxmaj sales . xxmaj sales is what xxunk us together , today . xxmaj how do we deal with clients who say , ' frankly , my dear , i do n't give a damn … about paper ' and get them to ' show us the money ! ' xxmaj well , we are going to find out today . xxmaj show of hands . xxmaj how many of you are salesmen ? xxmaj let 's see the salesmen . [ some raise their hands ] xxmaj oh , okay . xxmaj well i know what the rest of you are thinking . xxmaj wow , yuck . xxmaj salesmen are the worst ! xxmaj they are awful . xxmaj they are so arrogant . xxmaj they think the whole place xxunk around them . xxmaj handsome</td>\n",
       "      <td>Michael</td>\n",
       "      <td>Michael</td>\n",
       "    </tr>\n",
       "    <tr>\n",
       "      <th>2</th>\n",
       "      <td>xxbos i did n't watch the whole documentary . xxmaj after a few episodes , it was too painful . i kept wanting to scream at xxmaj pam . xxmaj it took me so long to do so many important things . xxmaj it 's just hard to accept that i spent so many years being less happy than i could have been . xxmaj jim was 5 feet from my desk and it took me four years to get to him . xxmaj it 'd be great if people saw this documentary and learned from my mistakes . xxmaj not that xxmaj i 'm a tragic person . xxmaj i 'm really happy now . xxmaj xxunk would xxunk make my heart xxunk if someone out there saw this and she said to herself ' be strong , trust yourself , love yourself . xxmaj xxunk your fears .</td>\n",
       "      <td>Pam</td>\n",
       "      <td>Dwight</td>\n",
       "    </tr>\n",
       "    <tr>\n",
       "      <th>3</th>\n",
       "      <td>xxbos i understand . xxmaj it 's in a blind spot because xxmaj i 'm trained in several martial arts and one of them , uh , includes , uh , an awareness that the xxunk bring , uh , of anything on all sides of you . xxmaj it could be behind you or whatever . xxmaj this is directly in a blind spot , so xxmaj i 'm trained to respond xxunk to something right above my head . [ new take ] xxmaj this now i have an eye on . xxmaj you see , it 's on my xxunk and if i needed to block it , attack it , stop it somehow . [ does a martial arts move with his hands ] i could come right out . i mean , i know you 're doing your job , but … xxmaj documentary xxmaj</td>\n",
       "      <td>Dwight</td>\n",
       "      <td>Dwight</td>\n",
       "    </tr>\n",
       "    <tr>\n",
       "      <th>4</th>\n",
       "      <td>xxbos xxmaj toby has been leaving radon xxunk everywhere , like he owns the place . xxmaj the first time i threw mine away , i thought it was an ant trap . [ finds radon kit in between his blinds in his office ] xxmaj but i figured xxmaj i 'd rather live with ants than with his creepy little disc . [ throws it away ] xxmaj the second time … i thought it was one of those , you know , those things you turn over and it xxunk . [ finds another radon kit on top of his cabinet ] xxmaj like a cow thing . xxmaj but upon closer xxunk , it was another ant trap , so i threw it away . xxmaj and the third time … i did it out of spite . [ takes radon kit from the top of the</td>\n",
       "      <td>Michael</td>\n",
       "      <td>Dwight</td>\n",
       "    </tr>\n",
       "    <tr>\n",
       "      <th>5</th>\n",
       "      <td>xxbos xxmaj all right . xxmaj wow . xxmaj um , i am never going to forget today . xxmaj not a chance . i do n't think i could ever give back to you what you have given me today . xxmaj who here has done something stupid in their lives ? xxmaj like xxunk out on study hall or mix up the difference between ' a ' gym and ' b ' gym , that sort of thing ? xxmaj show of hands , anybody , yes , a bunch of you , okay . xxmaj well , me too , xxmaj i 've done something stupid which i would like to share . u xxrep 3 m . [ period bell rings ] xxmaj should we go ?</td>\n",
       "      <td>Michael</td>\n",
       "      <td>Michael</td>\n",
       "    </tr>\n",
       "    <tr>\n",
       "      <th>6</th>\n",
       "      <td>xxbos xxmaj okay , this is it . [ runs up the stairs of cfo 's house , with xxmaj dwight ] xxmaj this is exactly what xxmaj michael xxmaj xxunk does , famous xxunk . xxmaj he goes up to people with a camera and he 's like ' why did you do this ? xxmaj why did you xxunk ? xxmaj you are bad . xxmaj you 're a bad person . ' xxmaj it 's very dramatic . xxmaj although , i ca n't say i was a big fan of ' bowling for xxmaj xxunk ' , because i thought it was going to be a bowling movie , like ' xxunk ' . xxmaj and it was n't . xxmaj it was something else .</td>\n",
       "      <td>Michael</td>\n",
       "      <td>Michael</td>\n",
       "    </tr>\n",
       "    <tr>\n",
       "      <th>7</th>\n",
       "      <td>xxbos xxmaj um , listen . xxmaj jan xxmaj levinson is coming in today , and she is in the xxunk stages of her pregnancy - the child of which i have a xxunk interest . xxmaj it 's all kind of weird . xxmaj anyway , she is incredibly … fat and enormous right now - extremely unattractive . xxmaj and you are , on the other hand , one of the more attractive people in the office . xxmaj so , while she 's here i am going to be acting kind of cold to you . xxmaj and i am doing this to pay respect to her xxunk feelings . xxmaj and xxmaj i 'm treating xxmaj ryan the same way .</td>\n",
       "      <td>Michael</td>\n",
       "      <td>Michael</td>\n",
       "    </tr>\n",
       "    <tr>\n",
       "      <th>8</th>\n",
       "      <td>xxbos [ on phone , leaving a message ] xxmaj hey , xxmaj ryan , it 's xxmaj jim . xxmaj look man , i do n't know what 's gotten into you lately , but you know what ? i really do n't care , because you 're trying to get rid of me . xxmaj and i bet you do n't think i care enough about this job to actually fight back , but you 're wrong , because i do , and i will . xxmaj so you can keep trying to push me out of this place , but guess what ? xxmaj i 'm not going anywhere . [ hangs up and exhales sharply ]</td>\n",
       "      <td>Jim</td>\n",
       "      <td>Michael</td>\n",
       "    </tr>\n",
       "  </tbody>\n",
       "</table>"
      ],
      "text/plain": [
       "<IPython.core.display.HTML object>"
      ]
     },
     "metadata": {},
     "output_type": "display_data"
    }
   ],
   "source": [
    "learn.show_results()"
   ]
  },
  {
   "cell_type": "code",
   "execution_count": 79,
   "id": "a770f7b7",
   "metadata": {},
   "outputs": [
    {
     "data": {
      "text/html": [
       "\n",
       "<style>\n",
       "    /* Turns off some styling */\n",
       "    progress {\n",
       "        /* gets rid of default border in Firefox and Opera. */\n",
       "        border: none;\n",
       "        /* Needs to be in here for Safari polyfill so background images work as expected. */\n",
       "        background-size: auto;\n",
       "    }\n",
       "    progress:not([value]), progress:not([value])::-webkit-progress-bar {\n",
       "        background: repeating-linear-gradient(45deg, #7e7e7e, #7e7e7e 10px, #5c5c5c 10px, #5c5c5c 20px);\n",
       "    }\n",
       "    .progress-bar-interrupted, .progress-bar-interrupted::-webkit-progress-bar {\n",
       "        background: #F44336;\n",
       "    }\n",
       "</style>\n"
      ],
      "text/plain": [
       "<IPython.core.display.HTML object>"
      ]
     },
     "metadata": {},
     "output_type": "display_data"
    },
    {
     "data": {
      "text/html": [],
      "text/plain": [
       "<IPython.core.display.HTML object>"
      ]
     },
     "metadata": {},
     "output_type": "display_data"
    },
    {
     "data": {
      "text/plain": [
       "('Kevin',\n",
       " tensor(11),\n",
       " tensor([0.0530, 0.0182, 0.0215, 0.0702, 0.0133, 0.0481, 0.0037, 0.0130, 0.0062,\n",
       "         0.0604, 0.0750, 0.1327, 0.0487, 0.0588, 0.0011, 0.0230, 0.1140, 0.1047,\n",
       "         0.0739, 0.0473, 0.0128]))"
      ]
     },
     "execution_count": 79,
     "metadata": {},
     "output_type": "execute_result"
    }
   ],
   "source": [
    "learn.predict('I wanna eat hot dogs on the beach')"
   ]
  },
  {
   "cell_type": "code",
   "execution_count": null,
   "id": "a425525d",
   "metadata": {},
   "outputs": [],
   "source": []
  }
 ],
 "metadata": {
  "kernelspec": {
   "display_name": "Python 3 (ipykernel)",
   "language": "python",
   "name": "python3"
  },
  "language_info": {
   "codemirror_mode": {
    "name": "ipython",
    "version": 3
   },
   "file_extension": ".py",
   "mimetype": "text/x-python",
   "name": "python",
   "nbconvert_exporter": "python",
   "pygments_lexer": "ipython3",
   "version": "3.10.9"
  }
 },
 "nbformat": 4,
 "nbformat_minor": 5
}
