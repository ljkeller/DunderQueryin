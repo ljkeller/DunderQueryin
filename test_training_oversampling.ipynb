{
 "cells": [
  {
   "cell_type": "code",
   "execution_count": 3,
   "id": "6352ed5d",
   "metadata": {},
   "outputs": [],
   "source": [
    "from fastai.text.all import *\n",
    "from pathlib import Path\n",
    "\n",
    "pd.options.display.max_rows = 20\n",
    "pd.options.display.max_columns = 8\n",
    "%config InteractiveShell.ast_node_interactivity='last_expr_or_assign'"
   ]
  },
  {
   "cell_type": "code",
   "execution_count": 4,
   "id": "b85ff437",
   "metadata": {},
   "outputs": [
    {
     "data": {
      "text/plain": [
       "'1.13.1+cu117'"
      ]
     },
     "execution_count": 4,
     "metadata": {},
     "output_type": "execute_result"
    }
   ],
   "source": [
    "torch.__version__"
   ]
  },
  {
   "cell_type": "code",
   "execution_count": 5,
   "id": "342a8145",
   "metadata": {},
   "outputs": [
    {
     "data": {
      "text/plain": [
       "True"
      ]
     },
     "execution_count": 5,
     "metadata": {},
     "output_type": "execute_result"
    }
   ],
   "source": [
    "torch.cuda.is_available()"
   ]
  },
  {
   "cell_type": "code",
   "execution_count": 6,
   "id": "3ad50a6e",
   "metadata": {},
   "outputs": [
    {
     "data": {
      "text/html": [
       "<div>\n",
       "<style scoped>\n",
       "    .dataframe tbody tr th:only-of-type {\n",
       "        vertical-align: middle;\n",
       "    }\n",
       "\n",
       "    .dataframe tbody tr th {\n",
       "        vertical-align: top;\n",
       "    }\n",
       "\n",
       "    .dataframe thead th {\n",
       "        text-align: right;\n",
       "    }\n",
       "</style>\n",
       "<table border=\"1\" class=\"dataframe\">\n",
       "  <thead>\n",
       "    <tr style=\"text-align: right;\">\n",
       "      <th></th>\n",
       "      <th>season</th>\n",
       "      <th>episode</th>\n",
       "      <th>scene</th>\n",
       "      <th>line_text</th>\n",
       "      <th>speaker</th>\n",
       "      <th>deleted</th>\n",
       "    </tr>\n",
       "  </thead>\n",
       "  <tbody>\n",
       "    <tr>\n",
       "      <th>0</th>\n",
       "      <td>7</td>\n",
       "      <td>24</td>\n",
       "      <td>8</td>\n",
       "      <td>[conducting interview] Your paper experience is very interesting. Do you think you could use that experience to inform decisions here?</td>\n",
       "      <td>Jim</td>\n",
       "      <td>False</td>\n",
       "    </tr>\n",
       "    <tr>\n",
       "      <th>1</th>\n",
       "      <td>9</td>\n",
       "      <td>10</td>\n",
       "      <td>27</td>\n",
       "      <td>I'm not gonna lie. Lye!</td>\n",
       "      <td>Dwight</td>\n",
       "      <td>False</td>\n",
       "    </tr>\n",
       "    <tr>\n",
       "      <th>2</th>\n",
       "      <td>9</td>\n",
       "      <td>9</td>\n",
       "      <td>27</td>\n",
       "      <td>Take a bowl and pass it down.</td>\n",
       "      <td>Dwight</td>\n",
       "      <td>False</td>\n",
       "    </tr>\n",
       "    <tr>\n",
       "      <th>3</th>\n",
       "      <td>3</td>\n",
       "      <td>15</td>\n",
       "      <td>25</td>\n",
       "      <td>It's a miracle.</td>\n",
       "      <td>Dwight</td>\n",
       "      <td>False</td>\n",
       "    </tr>\n",
       "    <tr>\n",
       "      <th>4</th>\n",
       "      <td>7</td>\n",
       "      <td>1</td>\n",
       "      <td>1</td>\n",
       "      <td>This is how you build a business. This is how you make it in this country.</td>\n",
       "      <td>Ryan</td>\n",
       "      <td>False</td>\n",
       "    </tr>\n",
       "    <tr>\n",
       "      <th>...</th>\n",
       "      <td>...</td>\n",
       "      <td>...</td>\n",
       "      <td>...</td>\n",
       "      <td>...</td>\n",
       "      <td>...</td>\n",
       "      <td>...</td>\n",
       "    </tr>\n",
       "    <tr>\n",
       "      <th>44370</th>\n",
       "      <td>3</td>\n",
       "      <td>5</td>\n",
       "      <td>41</td>\n",
       "      <td>I don't know. It felt far.</td>\n",
       "      <td>Pam</td>\n",
       "      <td>False</td>\n",
       "    </tr>\n",
       "    <tr>\n",
       "      <th>44371</th>\n",
       "      <td>3</td>\n",
       "      <td>10</td>\n",
       "      <td>43</td>\n",
       "      <td>Excuse me [tries to take away meat with chopsticks] Ah, un guard. [Fights with chopsticks and laughs] Family style.</td>\n",
       "      <td>Michael</td>\n",
       "      <td>False</td>\n",
       "    </tr>\n",
       "    <tr>\n",
       "      <th>44372</th>\n",
       "      <td>5</td>\n",
       "      <td>23</td>\n",
       "      <td>19</td>\n",
       "      <td>I never went to Thailand.</td>\n",
       "      <td>Ryan</td>\n",
       "      <td>False</td>\n",
       "    </tr>\n",
       "    <tr>\n",
       "      <th>44373</th>\n",
       "      <td>3</td>\n",
       "      <td>4</td>\n",
       "      <td>1</td>\n",
       "      <td>[breathless] All right.  Okay. [goes back down pretend stairs, crawls on belly to the kitchen for the coffee]</td>\n",
       "      <td>Michael</td>\n",
       "      <td>False</td>\n",
       "    </tr>\n",
       "    <tr>\n",
       "      <th>44374</th>\n",
       "      <td>8</td>\n",
       "      <td>4</td>\n",
       "      <td>47</td>\n",
       "      <td>Hey everybody, I'm gonna leave and I just wanted to say I'm really sorry.</td>\n",
       "      <td>Andy</td>\n",
       "      <td>False</td>\n",
       "    </tr>\n",
       "  </tbody>\n",
       "</table>\n",
       "<p>44375 rows × 6 columns</p>\n",
       "</div>"
      ],
      "text/plain": [
       "       season  episode  scene  \\\n",
       "0           7       24      8   \n",
       "1           9       10     27   \n",
       "2           9        9     27   \n",
       "3           3       15     25   \n",
       "4           7        1      1   \n",
       "...       ...      ...    ...   \n",
       "44370       3        5     41   \n",
       "44371       3       10     43   \n",
       "44372       5       23     19   \n",
       "44373       3        4      1   \n",
       "44374       8        4     47   \n",
       "\n",
       "                                                                                                                                    line_text  \\\n",
       "0      [conducting interview] Your paper experience is very interesting. Do you think you could use that experience to inform decisions here?   \n",
       "1                                                                                                                     I'm not gonna lie. Lye!   \n",
       "2                                                                                                               Take a bowl and pass it down.   \n",
       "3                                                                                                                             It's a miracle.   \n",
       "4                                                                  This is how you build a business. This is how you make it in this country.   \n",
       "...                                                                                                                                       ...   \n",
       "44370                                                                                                              I don't know. It felt far.   \n",
       "44371                     Excuse me [tries to take away meat with chopsticks] Ah, un guard. [Fights with chopsticks and laughs] Family style.   \n",
       "44372                                                                                                               I never went to Thailand.   \n",
       "44373                           [breathless] All right.  Okay. [goes back down pretend stairs, crawls on belly to the kitchen for the coffee]   \n",
       "44374                                                               Hey everybody, I'm gonna leave and I just wanted to say I'm really sorry.   \n",
       "\n",
       "       speaker  deleted  \n",
       "0          Jim    False  \n",
       "1       Dwight    False  \n",
       "2       Dwight    False  \n",
       "3       Dwight    False  \n",
       "4         Ryan    False  \n",
       "...        ...      ...  \n",
       "44370      Pam    False  \n",
       "44371  Michael    False  \n",
       "44372     Ryan    False  \n",
       "44373  Michael    False  \n",
       "44374     Andy    False  \n",
       "\n",
       "[44375 rows x 6 columns]"
      ]
     },
     "execution_count": 6,
     "metadata": {},
     "output_type": "execute_result"
    }
   ],
   "source": [
    "path_top21 =  Path('data/train21_shuffled.csv')\n",
    "df = pd.read_csv(path_top21)"
   ]
  },
  {
   "cell_type": "code",
   "execution_count": 53,
   "id": "0aea5b9b",
   "metadata": {},
   "outputs": [
    {
     "data": {
      "text/html": [
       "<div>\n",
       "<style scoped>\n",
       "    .dataframe tbody tr th:only-of-type {\n",
       "        vertical-align: middle;\n",
       "    }\n",
       "\n",
       "    .dataframe tbody tr th {\n",
       "        vertical-align: top;\n",
       "    }\n",
       "\n",
       "    .dataframe thead th {\n",
       "        text-align: right;\n",
       "    }\n",
       "</style>\n",
       "<table border=\"1\" class=\"dataframe\">\n",
       "  <thead>\n",
       "    <tr style=\"text-align: right;\">\n",
       "      <th></th>\n",
       "      <th>season</th>\n",
       "      <th>episode</th>\n",
       "      <th>scene</th>\n",
       "      <th>line_text</th>\n",
       "      <th>speaker</th>\n",
       "      <th>deleted</th>\n",
       "    </tr>\n",
       "  </thead>\n",
       "  <tbody>\n",
       "    <tr>\n",
       "      <th>0</th>\n",
       "      <td>7</td>\n",
       "      <td>24</td>\n",
       "      <td>8</td>\n",
       "      <td>[conducting interview] Your paper experience is very interesting. Do you think you could use that experience to inform decisions here?</td>\n",
       "      <td>Jim</td>\n",
       "      <td>False</td>\n",
       "    </tr>\n",
       "    <tr>\n",
       "      <th>1</th>\n",
       "      <td>9</td>\n",
       "      <td>10</td>\n",
       "      <td>27</td>\n",
       "      <td>I'm not gonna lie. Lye!</td>\n",
       "      <td>Dwight</td>\n",
       "      <td>False</td>\n",
       "    </tr>\n",
       "    <tr>\n",
       "      <th>2</th>\n",
       "      <td>9</td>\n",
       "      <td>9</td>\n",
       "      <td>27</td>\n",
       "      <td>Take a bowl and pass it down.</td>\n",
       "      <td>Dwight</td>\n",
       "      <td>False</td>\n",
       "    </tr>\n",
       "    <tr>\n",
       "      <th>3</th>\n",
       "      <td>3</td>\n",
       "      <td>15</td>\n",
       "      <td>25</td>\n",
       "      <td>It's a miracle.</td>\n",
       "      <td>Dwight</td>\n",
       "      <td>False</td>\n",
       "    </tr>\n",
       "    <tr>\n",
       "      <th>4</th>\n",
       "      <td>7</td>\n",
       "      <td>1</td>\n",
       "      <td>1</td>\n",
       "      <td>This is how you build a business. This is how you make it in this country.</td>\n",
       "      <td>Ryan</td>\n",
       "      <td>False</td>\n",
       "    </tr>\n",
       "    <tr>\n",
       "      <th>...</th>\n",
       "      <td>...</td>\n",
       "      <td>...</td>\n",
       "      <td>...</td>\n",
       "      <td>...</td>\n",
       "      <td>...</td>\n",
       "      <td>...</td>\n",
       "    </tr>\n",
       "    <tr>\n",
       "      <th>1495</th>\n",
       "      <td>5</td>\n",
       "      <td>16</td>\n",
       "      <td>4</td>\n",
       "      <td>Oh, look at that.  Cupids and hearts. Really shoving our faces in it this year.  You doin OK, bud?</td>\n",
       "      <td>Michael</td>\n",
       "      <td>False</td>\n",
       "    </tr>\n",
       "    <tr>\n",
       "      <th>1496</th>\n",
       "      <td>7</td>\n",
       "      <td>16</td>\n",
       "      <td>6</td>\n",
       "      <td>It's got you.</td>\n",
       "      <td>Holly</td>\n",
       "      <td>False</td>\n",
       "    </tr>\n",
       "    <tr>\n",
       "      <th>1497</th>\n",
       "      <td>6</td>\n",
       "      <td>19</td>\n",
       "      <td>40</td>\n",
       "      <td>It stopped.</td>\n",
       "      <td>Jim</td>\n",
       "      <td>False</td>\n",
       "    </tr>\n",
       "    <tr>\n",
       "      <th>1498</th>\n",
       "      <td>5</td>\n",
       "      <td>25</td>\n",
       "      <td>24</td>\n",
       "      <td>Cafe Disco? More like Crappe Disco.</td>\n",
       "      <td>Kelly</td>\n",
       "      <td>False</td>\n",
       "    </tr>\n",
       "    <tr>\n",
       "      <th>1499</th>\n",
       "      <td>3</td>\n",
       "      <td>18</td>\n",
       "      <td>23</td>\n",
       "      <td>Um, let's just do this in 15 minutes.</td>\n",
       "      <td>Michael</td>\n",
       "      <td>False</td>\n",
       "    </tr>\n",
       "  </tbody>\n",
       "</table>\n",
       "<p>1500 rows × 6 columns</p>\n",
       "</div>"
      ],
      "text/plain": [
       "      season  episode  scene  \\\n",
       "0          7       24      8   \n",
       "1          9       10     27   \n",
       "2          9        9     27   \n",
       "3          3       15     25   \n",
       "4          7        1      1   \n",
       "...      ...      ...    ...   \n",
       "1495       5       16      4   \n",
       "1496       7       16      6   \n",
       "1497       6       19     40   \n",
       "1498       5       25     24   \n",
       "1499       3       18     23   \n",
       "\n",
       "                                                                                                                                   line_text  \\\n",
       "0     [conducting interview] Your paper experience is very interesting. Do you think you could use that experience to inform decisions here?   \n",
       "1                                                                                                                    I'm not gonna lie. Lye!   \n",
       "2                                                                                                              Take a bowl and pass it down.   \n",
       "3                                                                                                                            It's a miracle.   \n",
       "4                                                                 This is how you build a business. This is how you make it in this country.   \n",
       "...                                                                                                                                      ...   \n",
       "1495                                      Oh, look at that.  Cupids and hearts. Really shoving our faces in it this year.  You doin OK, bud?   \n",
       "1496                                                                                                                           It's got you.   \n",
       "1497                                                                                                                             It stopped.   \n",
       "1498                                                                                                     Cafe Disco? More like Crappe Disco.   \n",
       "1499                                                                                                   Um, let's just do this in 15 minutes.   \n",
       "\n",
       "      speaker  deleted  \n",
       "0         Jim    False  \n",
       "1      Dwight    False  \n",
       "2      Dwight    False  \n",
       "3      Dwight    False  \n",
       "4        Ryan    False  \n",
       "...       ...      ...  \n",
       "1495  Michael    False  \n",
       "1496    Holly    False  \n",
       "1497      Jim    False  \n",
       "1498    Kelly    False  \n",
       "1499  Michael    False  \n",
       "\n",
       "[1500 rows x 6 columns]"
      ]
     },
     "execution_count": 53,
     "metadata": {},
     "output_type": "execute_result"
    }
   ],
   "source": [
    "df_reduced = df.iloc[:1500]"
   ]
  },
  {
   "cell_type": "code",
   "execution_count": 54,
   "id": "2920a0b3",
   "metadata": {},
   "outputs": [
    {
     "data": {
      "text/plain": [
       "<Axes: >"
      ]
     },
     "execution_count": 54,
     "metadata": {},
     "output_type": "execute_result"
    },
    {
     "data": {
      "image/png": "[encoded data removed]",
      "text/plain": [
       "<Figure size 640x480 with 1 Axes>"
      ]
     },
     "metadata": {},
     "output_type": "display_data"
    }
   ],
   "source": [
    "df_reduced['speaker'].value_counts().plot(kind='bar')"
   ]
  },
  {
   "cell_type": "code",
   "execution_count": 55,
   "id": "d4d85aa1",
   "metadata": {},
   "outputs": [
    {
     "data": {
      "text/plain": [
       "358"
      ]
     },
     "execution_count": 55,
     "metadata": {},
     "output_type": "execute_result"
    }
   ],
   "source": [
    "max_dialog = df_reduced['speaker'].value_counts().max()"
   ]
  },
  {
   "cell_type": "code",
   "execution_count": 56,
   "id": "8285051a",
   "metadata": {},
   "outputs": [
    {
     "data": {
      "text/html": [
       "<div>\n",
       "<style scoped>\n",
       "    .dataframe tbody tr th:only-of-type {\n",
       "        vertical-align: middle;\n",
       "    }\n",
       "\n",
       "    .dataframe tbody tr th {\n",
       "        vertical-align: top;\n",
       "    }\n",
       "\n",
       "    .dataframe thead th {\n",
       "        text-align: right;\n",
       "    }\n",
       "</style>\n",
       "<table border=\"1\" class=\"dataframe\">\n",
       "  <thead>\n",
       "    <tr style=\"text-align: right;\">\n",
       "      <th></th>\n",
       "      <th>season</th>\n",
       "      <th>episode</th>\n",
       "      <th>scene</th>\n",
       "      <th>line_text</th>\n",
       "      <th>speaker</th>\n",
       "      <th>deleted</th>\n",
       "    </tr>\n",
       "  </thead>\n",
       "  <tbody>\n",
       "    <tr>\n",
       "      <th>0</th>\n",
       "      <td>7</td>\n",
       "      <td>24</td>\n",
       "      <td>8</td>\n",
       "      <td>[conducting interview] Your paper experience is very interesting. Do you think you could use that experience to inform decisions here?</td>\n",
       "      <td>Jim</td>\n",
       "      <td>False</td>\n",
       "    </tr>\n",
       "    <tr>\n",
       "      <th>1</th>\n",
       "      <td>9</td>\n",
       "      <td>10</td>\n",
       "      <td>27</td>\n",
       "      <td>I'm not gonna lie. Lye!</td>\n",
       "      <td>Dwight</td>\n",
       "      <td>False</td>\n",
       "    </tr>\n",
       "    <tr>\n",
       "      <th>2</th>\n",
       "      <td>9</td>\n",
       "      <td>9</td>\n",
       "      <td>27</td>\n",
       "      <td>Take a bowl and pass it down.</td>\n",
       "      <td>Dwight</td>\n",
       "      <td>False</td>\n",
       "    </tr>\n",
       "    <tr>\n",
       "      <th>3</th>\n",
       "      <td>3</td>\n",
       "      <td>15</td>\n",
       "      <td>25</td>\n",
       "      <td>It's a miracle.</td>\n",
       "      <td>Dwight</td>\n",
       "      <td>False</td>\n",
       "    </tr>\n",
       "    <tr>\n",
       "      <th>4</th>\n",
       "      <td>7</td>\n",
       "      <td>1</td>\n",
       "      <td>1</td>\n",
       "      <td>This is how you build a business. This is how you make it in this country.</td>\n",
       "      <td>Ryan</td>\n",
       "      <td>False</td>\n",
       "    </tr>\n",
       "    <tr>\n",
       "      <th>...</th>\n",
       "      <td>...</td>\n",
       "      <td>...</td>\n",
       "      <td>...</td>\n",
       "      <td>...</td>\n",
       "      <td>...</td>\n",
       "      <td>...</td>\n",
       "    </tr>\n",
       "    <tr>\n",
       "      <th>1163</th>\n",
       "      <td>4</td>\n",
       "      <td>2</td>\n",
       "      <td>2</td>\n",
       "      <td>Yes, uh some people in the office have complained...</td>\n",
       "      <td>Toby</td>\n",
       "      <td>False</td>\n",
       "    </tr>\n",
       "    <tr>\n",
       "      <th>542</th>\n",
       "      <td>4</td>\n",
       "      <td>14</td>\n",
       "      <td>19</td>\n",
       "      <td>Hey Michael.</td>\n",
       "      <td>Toby</td>\n",
       "      <td>False</td>\n",
       "    </tr>\n",
       "    <tr>\n",
       "      <th>1452</th>\n",
       "      <td>3</td>\n",
       "      <td>8</td>\n",
       "      <td>30</td>\n",
       "      <td>Um... You might want these orientation materials.</td>\n",
       "      <td>Toby</td>\n",
       "      <td>False</td>\n",
       "    </tr>\n",
       "    <tr>\n",
       "      <th>978</th>\n",
       "      <td>8</td>\n",
       "      <td>18</td>\n",
       "      <td>16</td>\n",
       "      <td>No, you hit the road, jack.</td>\n",
       "      <td>Toby</td>\n",
       "      <td>False</td>\n",
       "    </tr>\n",
       "    <tr>\n",
       "      <th>762</th>\n",
       "      <td>4</td>\n",
       "      <td>7</td>\n",
       "      <td>6</td>\n",
       "      <td>Ryan invited me to go on his wilderness adventure retreat. It was this amazing, beautiful experience [Michael knocks on the window behind Toby from outside]</td>\n",
       "      <td>Toby</td>\n",
       "      <td>False</td>\n",
       "    </tr>\n",
       "  </tbody>\n",
       "</table>\n",
       "<p>7926 rows × 6 columns</p>\n",
       "</div>"
      ],
      "text/plain": [
       "      season  episode  scene  \\\n",
       "0          7       24      8   \n",
       "1          9       10     27   \n",
       "2          9        9     27   \n",
       "3          3       15     25   \n",
       "4          7        1      1   \n",
       "...      ...      ...    ...   \n",
       "1163       4        2      2   \n",
       "542        4       14     19   \n",
       "1452       3        8     30   \n",
       "978        8       18     16   \n",
       "762        4        7      6   \n",
       "\n",
       "                                                                                                                                                         line_text  \\\n",
       "0                           [conducting interview] Your paper experience is very interesting. Do you think you could use that experience to inform decisions here?   \n",
       "1                                                                                                                                          I'm not gonna lie. Lye!   \n",
       "2                                                                                                                                    Take a bowl and pass it down.   \n",
       "3                                                                                                                                                  It's a miracle.   \n",
       "4                                                                                       This is how you build a business. This is how you make it in this country.   \n",
       "...                                                                                                                                                            ...   \n",
       "1163                                                                                                          Yes, uh some people in the office have complained...   \n",
       "542                                                                                                                                                   Hey Michael.   \n",
       "1452                                                                                                             Um... You might want these orientation materials.   \n",
       "978                                                                                                                                    No, you hit the road, jack.   \n",
       "762   Ryan invited me to go on his wilderness adventure retreat. It was this amazing, beautiful experience [Michael knocks on the window behind Toby from outside]   \n",
       "\n",
       "     speaker  deleted  \n",
       "0        Jim    False  \n",
       "1     Dwight    False  \n",
       "2     Dwight    False  \n",
       "3     Dwight    False  \n",
       "4       Ryan    False  \n",
       "...      ...      ...  \n",
       "1163    Toby    False  \n",
       "542     Toby    False  \n",
       "1452    Toby    False  \n",
       "978     Toby    False  \n",
       "762     Toby    False  \n",
       "\n",
       "[7926 rows x 6 columns]"
      ]
     },
     "execution_count": 56,
     "metadata": {},
     "output_type": "execute_result"
    }
   ],
   "source": [
    "import random\n",
    "\n",
    "dfs_oversampled = [df_reduced]\n",
    "for _, group in df_reduced.groupby('speaker'):\n",
    "    rand_mult = random.uniform(0.75, 1.25)\n",
    "    sample_amt_to_max = max_dialog - len(group)\n",
    "    dfs_oversampled.append(group.sample(int(sample_amt_to_max * rand_mult), replace=True))\n",
    "df_reduced = pd.concat(dfs_oversampled)"
   ]
  },
  {
   "cell_type": "code",
   "execution_count": 57,
   "id": "b99de46c",
   "metadata": {},
   "outputs": [
    {
     "data": {
      "text/plain": [
       "1.232707534588477"
      ]
     },
     "execution_count": 57,
     "metadata": {},
     "output_type": "execute_result"
    }
   ],
   "source": [
    "random.uniform(0.5, 1.5)"
   ]
  },
  {
   "cell_type": "code",
   "execution_count": 58,
   "id": "c5430057",
   "metadata": {},
   "outputs": [
    {
     "data": {
      "text/plain": [
       "<Axes: >"
      ]
     },
     "execution_count": 58,
     "metadata": {},
     "output_type": "execute_result"
    },
    {
     "data": {
      "image/png": "[encoded data removed]",
      "text/plain": [
       "<Figure size 640x480 with 1 Axes>"
      ]
     },
     "metadata": {},
     "output_type": "display_data"
    }
   ],
   "source": [
    "df_reduced['speaker'].value_counts().plot(kind='bar')"
   ]
  },
  {
   "cell_type": "code",
   "execution_count": 63,
   "id": "cd9cba6f",
   "metadata": {},
   "outputs": [
    {
     "data": {
      "text/html": [
       "\n",
       "<style>\n",
       "    /* Turns off some styling */\n",
       "    progress {\n",
       "        /* gets rid of default border in Firefox and Opera. */\n",
       "        border: none;\n",
       "        /* Needs to be in here for Safari polyfill so background images work as expected. */\n",
       "        background-size: auto;\n",
       "    }\n",
       "    progress:not([value]), progress:not([value])::-webkit-progress-bar {\n",
       "        background: repeating-linear-gradient(45deg, #7e7e7e, #7e7e7e 10px, #5c5c5c 10px, #5c5c5c 20px);\n",
       "    }\n",
       "    .progress-bar-interrupted, .progress-bar-interrupted::-webkit-progress-bar {\n",
       "        background: #F44336;\n",
       "    }\n",
       "</style>\n"
      ],
      "text/plain": [
       "<IPython.core.display.HTML object>"
      ]
     },
     "metadata": {},
     "output_type": "display_data"
    },
    {
     "data": {
      "text/html": [],
      "text/plain": [
       "<IPython.core.display.HTML object>"
      ]
     },
     "metadata": {},
     "output_type": "display_data"
    },
    {
     "data": {
      "text/html": [
       "<table border=\"1\" class=\"dataframe\">\n",
       "  <thead>\n",
       "    <tr style=\"text-align: right;\">\n",
       "      <th></th>\n",
       "      <th>text</th>\n",
       "      <th>category</th>\n",
       "    </tr>\n",
       "  </thead>\n",
       "  <tbody>\n",
       "    <tr>\n",
       "      <th>0</th>\n",
       "      <td>xxbos xxmaj finally . xxmaj right ? xxmaj ok , xxmaj phyllis you must be xxunk from standing on those xxunk . xxmaj why do n't you have a xxunk ? [ phyllis sits ] xxmaj let 's all xxunk at xxmaj phyllis . [ everyone claps ] xxmaj ok ! [ in xxmaj michael xxmaj clump voice ] xxmaj when xxmaj michael xxmaj clump wants to xxunk you [ normal voice ] that corporate … their idea , yes , was to xxunk you to lose xxunk , but more xxunk what this whole thing is about , this contest is really about being xxunk . xxmaj and in order to be xxunk , you have to eat , xxmaj kelly . xxmaj kelly . [ xxunk down in front of xxmaj kelly , xxmaj dwight tries to help him down , xxmaj michael xxunk xxunk at him ]</td>\n",
       "      <td>Michael</td>\n",
       "    </tr>\n",
       "    <tr>\n",
       "      <th>1</th>\n",
       "      <td>xxbos xxmaj aw , thanks , xxmaj pete . xxmaj that was really nice . i just want to say how happy we are that all of you are here tonight . xxmaj and i want to especially thank those of you who xxunk from far away to be here with us tonight … especially the xxmaj xxunk xxunk who , obviously , ca n't take a xxunk . [ laughter ] xxmaj four years ago , i was just a guy who had a crush on a girl who had a xxunk . xxmaj and i had to do the xxunk thing that xxmaj i 've ever had to do … which was just to wait . xxmaj uh , do n't get me wrong . i xxunk with her . xxmaj pam , i can now admit in front of my friends and family that i do know</td>\n",
       "      <td>Jim</td>\n",
       "    </tr>\n",
       "    <tr>\n",
       "      <th>2</th>\n",
       "      <td>xxbos [ xxunk throat and stands ] xxmaj ladies and gentlemen of … the … table . i would just like to say what a xxunk it is for me to be here today , but xxunk , at my xxunk , it 's a xxunk to be xxunk [ no one laughs ] . xxmaj i 'm only forty - four , so xxmaj i 'm not old , and i guess that does n't really play . xxmaj but the point is , i have a sense of humor . xxmaj and i xxunk you all to have a sense of humor as well . xxmaj jan , xxmaj david , my xxunk xxunk [ xxunk xxmaj jan , then turns to xxmaj david xxmaj wallace ] , my xxunk company … xxmaj why do n't we all just take a big xxunk breath … and just xxunk</td>\n",
       "      <td>Michael</td>\n",
       "    </tr>\n",
       "    <tr>\n",
       "      <th>3</th>\n",
       "      <td>xxbos [ text message chime ] xxmaj you know what ? xxmaj let me just double check , that bird … xxmaj okay , good . xxmaj it 's off . i mean , silenced . i silenced it by killing it . xxmaj i 've killed it ! xxmaj i 'm a murderer ! xxmaj just like you , xxmaj sweeney xxmaj todd . xxmaj see , it all connects . xxmaj not that i know you 're a murderer . xxmaj my character does n't know that yet . xxmaj but xxmaj i 'm suspicious , because of all the razors that you have laying around . xxmaj and you spend time alone . xxmaj but you 're a barber , so that 's legit . xxmaj so there 's that . xxmaj but …</td>\n",
       "      <td>Andy</td>\n",
       "    </tr>\n",
       "    <tr>\n",
       "      <th>4</th>\n",
       "      <td>xxbos [ text message chime ] xxmaj you know what ? xxmaj let me just double check , that bird … xxmaj okay , good . xxmaj it 's off . i mean , silenced . i silenced it by killing it . xxmaj i 've killed it ! xxmaj i 'm a murderer ! xxmaj just like you , xxmaj sweeney xxmaj todd . xxmaj see , it all connects . xxmaj not that i know you 're a murderer . xxmaj my character does n't know that yet . xxmaj but xxmaj i 'm suspicious , because of all the razors that you have laying around . xxmaj and you spend time alone . xxmaj but you 're a barber , so that 's legit . xxmaj so there 's that . xxmaj but …</td>\n",
       "      <td>Andy</td>\n",
       "    </tr>\n",
       "    <tr>\n",
       "      <th>5</th>\n",
       "      <td>xxbos [ text message chime ] xxmaj you know what ? xxmaj let me just double check , that bird … xxmaj okay , good . xxmaj it 's off . i mean , silenced . i silenced it by killing it . xxmaj i 've killed it ! xxmaj i 'm a murderer ! xxmaj just like you , xxmaj sweeney xxmaj todd . xxmaj see , it all connects . xxmaj not that i know you 're a murderer . xxmaj my character does n't know that yet . xxmaj but xxmaj i 'm suspicious , because of all the razors that you have laying around . xxmaj and you spend time alone . xxmaj but you 're a barber , so that 's legit . xxmaj so there 's that . xxmaj but …</td>\n",
       "      <td>Andy</td>\n",
       "    </tr>\n",
       "    <tr>\n",
       "      <th>6</th>\n",
       "      <td>xxbos i am attracted to weird , wrong men . i dated a violent karate instructor and then an unemployed fireman . xxmaj life has been complicated . xxmaj i 've made some decisions that xxmaj i 'm not proud of ; my marriage , being overly litigious with my family . i orgasm fairly easily . xxmaj michael was kind of like my dirty secret , you know , having sex with him , oh i was just turned on by my own degradation . xxmaj um , why , anyway , i was told by somebody recently that i respect that xxmaj i 'm old enough to have a mature relationship , and that 's what this whole evening is about and i have high hopes .</td>\n",
       "      <td>Jan</td>\n",
       "    </tr>\n",
       "    <tr>\n",
       "      <th>7</th>\n",
       "      <td>xxbos i am attracted to weird , wrong men . i dated a violent karate instructor and then an unemployed fireman . xxmaj life has been complicated . xxmaj i 've made some decisions that xxmaj i 'm not proud of ; my marriage , being overly litigious with my family . i orgasm fairly easily . xxmaj michael was kind of like my dirty secret , you know , having sex with him , oh i was just turned on by my own degradation . xxmaj um , why , anyway , i was told by somebody recently that i respect that xxmaj i 'm old enough to have a mature relationship , and that 's what this whole evening is about and i have high hopes .</td>\n",
       "      <td>Jan</td>\n",
       "    </tr>\n",
       "    <tr>\n",
       "      <th>8</th>\n",
       "      <td>xxbos i am attracted to weird , wrong men . i dated a violent karate instructor and then an unemployed fireman . xxmaj life has been complicated . xxmaj i 've made some decisions that xxmaj i 'm not proud of ; my marriage , being overly litigious with my family . i orgasm fairly easily . xxmaj michael was kind of like my dirty secret , you know , having sex with him , oh i was just turned on by my own degradation . xxmaj um , why , anyway , i was told by somebody recently that i respect that xxmaj i 'm old enough to have a mature relationship , and that 's what this whole evening is about and i have high hopes .</td>\n",
       "      <td>Jan</td>\n",
       "    </tr>\n",
       "  </tbody>\n",
       "</table>"
      ],
      "text/plain": [
       "<IPython.core.display.HTML object>"
      ]
     },
     "metadata": {},
     "output_type": "display_data"
    }
   ],
   "source": [
    "dls = TextDataLoaders.from_df(df_reduced, text_col='line_text', label_col='speaker', shuffle_train=True)\n",
    "dls.show_batch()"
   ]
  },
  {
   "cell_type": "code",
   "execution_count": 64,
   "id": "536fb377",
   "metadata": {},
   "outputs": [
    {
     "data": {
      "text/html": [
       "\n",
       "<style>\n",
       "    /* Turns off some styling */\n",
       "    progress {\n",
       "        /* gets rid of default border in Firefox and Opera. */\n",
       "        border: none;\n",
       "        /* Needs to be in here for Safari polyfill so background images work as expected. */\n",
       "        background-size: auto;\n",
       "    }\n",
       "    progress:not([value]), progress:not([value])::-webkit-progress-bar {\n",
       "        background: repeating-linear-gradient(45deg, #7e7e7e, #7e7e7e 10px, #5c5c5c 10px, #5c5c5c 20px);\n",
       "    }\n",
       "    .progress-bar-interrupted, .progress-bar-interrupted::-webkit-progress-bar {\n",
       "        background: #F44336;\n",
       "    }\n",
       "</style>\n"
      ],
      "text/plain": [
       "<IPython.core.display.HTML object>"
      ]
     },
     "metadata": {},
     "output_type": "display_data"
    },
    {
     "data": {
      "text/html": [
       "<table border=\"1\" class=\"dataframe\">\n",
       "  <thead>\n",
       "    <tr style=\"text-align: left;\">\n",
       "      <th>epoch</th>\n",
       "      <th>train_loss</th>\n",
       "      <th>valid_loss</th>\n",
       "      <th>accuracy</th>\n",
       "      <th>time</th>\n",
       "    </tr>\n",
       "  </thead>\n",
       "  <tbody>\n",
       "    <tr>\n",
       "      <td>0</td>\n",
       "      <td>2.958372</td>\n",
       "      <td>2.615134</td>\n",
       "      <td>0.296530</td>\n",
       "      <td>00:03</td>\n",
       "    </tr>\n",
       "  </tbody>\n",
       "</table>"
      ],
      "text/plain": [
       "<IPython.core.display.HTML object>"
      ]
     },
     "metadata": {},
     "output_type": "display_data"
    },
    {
     "data": {
      "text/html": [
       "\n",
       "<style>\n",
       "    /* Turns off some styling */\n",
       "    progress {\n",
       "        /* gets rid of default border in Firefox and Opera. */\n",
       "        border: none;\n",
       "        /* Needs to be in here for Safari polyfill so background images work as expected. */\n",
       "        background-size: auto;\n",
       "    }\n",
       "    progress:not([value]), progress:not([value])::-webkit-progress-bar {\n",
       "        background: repeating-linear-gradient(45deg, #7e7e7e, #7e7e7e 10px, #5c5c5c 10px, #5c5c5c 20px);\n",
       "    }\n",
       "    .progress-bar-interrupted, .progress-bar-interrupted::-webkit-progress-bar {\n",
       "        background: #F44336;\n",
       "    }\n",
       "</style>\n"
      ],
      "text/plain": [
       "<IPython.core.display.HTML object>"
      ]
     },
     "metadata": {},
     "output_type": "display_data"
    },
    {
     "data": {
      "text/html": [
       "<table border=\"1\" class=\"dataframe\">\n",
       "  <thead>\n",
       "    <tr style=\"text-align: left;\">\n",
       "      <th>epoch</th>\n",
       "      <th>train_loss</th>\n",
       "      <th>valid_loss</th>\n",
       "      <th>accuracy</th>\n",
       "      <th>time</th>\n",
       "    </tr>\n",
       "  </thead>\n",
       "  <tbody>\n",
       "    <tr>\n",
       "      <td>0</td>\n",
       "      <td>2.579254</td>\n",
       "      <td>2.158993</td>\n",
       "      <td>0.430284</td>\n",
       "      <td>00:04</td>\n",
       "    </tr>\n",
       "    <tr>\n",
       "      <td>1</td>\n",
       "      <td>2.107592</td>\n",
       "      <td>1.497872</td>\n",
       "      <td>0.589274</td>\n",
       "      <td>00:04</td>\n",
       "    </tr>\n",
       "    <tr>\n",
       "      <td>2</td>\n",
       "      <td>1.605633</td>\n",
       "      <td>0.861731</td>\n",
       "      <td>0.750789</td>\n",
       "      <td>00:04</td>\n",
       "    </tr>\n",
       "    <tr>\n",
       "      <td>3</td>\n",
       "      <td>1.153742</td>\n",
       "      <td>0.606899</td>\n",
       "      <td>0.817666</td>\n",
       "      <td>00:04</td>\n",
       "    </tr>\n",
       "    <tr>\n",
       "      <td>4</td>\n",
       "      <td>0.808333</td>\n",
       "      <td>0.488794</td>\n",
       "      <td>0.839117</td>\n",
       "      <td>00:04</td>\n",
       "    </tr>\n",
       "    <tr>\n",
       "      <td>5</td>\n",
       "      <td>0.615552</td>\n",
       "      <td>0.437122</td>\n",
       "      <td>0.859937</td>\n",
       "      <td>00:04</td>\n",
       "    </tr>\n",
       "    <tr>\n",
       "      <td>6</td>\n",
       "      <td>0.485189</td>\n",
       "      <td>0.390357</td>\n",
       "      <td>0.876341</td>\n",
       "      <td>00:04</td>\n",
       "    </tr>\n",
       "    <tr>\n",
       "      <td>7</td>\n",
       "      <td>0.409589</td>\n",
       "      <td>0.376897</td>\n",
       "      <td>0.878864</td>\n",
       "      <td>00:04</td>\n",
       "    </tr>\n",
       "    <tr>\n",
       "      <td>8</td>\n",
       "      <td>0.377380</td>\n",
       "      <td>0.349012</td>\n",
       "      <td>0.883912</td>\n",
       "      <td>00:04</td>\n",
       "    </tr>\n",
       "    <tr>\n",
       "      <td>9</td>\n",
       "      <td>0.348163</td>\n",
       "      <td>0.352072</td>\n",
       "      <td>0.885173</td>\n",
       "      <td>00:04</td>\n",
       "    </tr>\n",
       "  </tbody>\n",
       "</table>"
      ],
      "text/plain": [
       "<IPython.core.display.HTML object>"
      ]
     },
     "metadata": {},
     "output_type": "display_data"
    }
   ],
   "source": [
    "learner = text_classifier_learner(dls, AWD_LSTM, drop_mult=0.75, metrics=accuracy)\n",
    "learner.fine_tune(10, 1e-2)"
   ]
  },
  {
   "cell_type": "code",
   "execution_count": 65,
   "id": "ca555d48",
   "metadata": {},
   "outputs": [
    {
     "data": {
      "text/html": [
       "\n",
       "<style>\n",
       "    /* Turns off some styling */\n",
       "    progress {\n",
       "        /* gets rid of default border in Firefox and Opera. */\n",
       "        border: none;\n",
       "        /* Needs to be in here for Safari polyfill so background images work as expected. */\n",
       "        background-size: auto;\n",
       "    }\n",
       "    progress:not([value]), progress:not([value])::-webkit-progress-bar {\n",
       "        background: repeating-linear-gradient(45deg, #7e7e7e, #7e7e7e 10px, #5c5c5c 10px, #5c5c5c 20px);\n",
       "    }\n",
       "    .progress-bar-interrupted, .progress-bar-interrupted::-webkit-progress-bar {\n",
       "        background: #F44336;\n",
       "    }\n",
       "</style>\n"
      ],
      "text/plain": [
       "<IPython.core.display.HTML object>"
      ]
     },
     "metadata": {},
     "output_type": "display_data"
    },
    {
     "data": {
      "text/html": [],
      "text/plain": [
       "<IPython.core.display.HTML object>"
      ]
     },
     "metadata": {},
     "output_type": "display_data"
    },
    {
     "data": {
      "text/html": [
       "\n",
       "<style>\n",
       "    /* Turns off some styling */\n",
       "    progress {\n",
       "        /* gets rid of default border in Firefox and Opera. */\n",
       "        border: none;\n",
       "        /* Needs to be in here for Safari polyfill so background images work as expected. */\n",
       "        background-size: auto;\n",
       "    }\n",
       "    progress:not([value]), progress:not([value])::-webkit-progress-bar {\n",
       "        background: repeating-linear-gradient(45deg, #7e7e7e, #7e7e7e 10px, #5c5c5c 10px, #5c5c5c 20px);\n",
       "    }\n",
       "    .progress-bar-interrupted, .progress-bar-interrupted::-webkit-progress-bar {\n",
       "        background: #F44336;\n",
       "    }\n",
       "</style>\n"
      ],
      "text/plain": [
       "<IPython.core.display.HTML object>"
      ]
     },
     "metadata": {},
     "output_type": "display_data"
    },
    {
     "data": {
      "text/html": [],
      "text/plain": [
       "<IPython.core.display.HTML object>"
      ]
     },
     "metadata": {},
     "output_type": "display_data"
    },
    {
     "data": {
      "image/png": "[encoded data removed]",
      "text/plain": [
       "<Figure size 640x480 with 1 Axes>"
      ]
     },
     "metadata": {},
     "output_type": "display_data"
    }
   ],
   "source": [
    "interp = ClassificationInterpretation.from_learner(learner)\n",
    "interp.plot_confusion_matrix()"
   ]
  },
  {
   "cell_type": "code",
   "execution_count": 66,
   "id": "dc5570a2",
   "metadata": {},
   "outputs": [
    {
     "data": {
      "text/html": [
       "\n",
       "<style>\n",
       "    /* Turns off some styling */\n",
       "    progress {\n",
       "        /* gets rid of default border in Firefox and Opera. */\n",
       "        border: none;\n",
       "        /* Needs to be in here for Safari polyfill so background images work as expected. */\n",
       "        background-size: auto;\n",
       "    }\n",
       "    progress:not([value]), progress:not([value])::-webkit-progress-bar {\n",
       "        background: repeating-linear-gradient(45deg, #7e7e7e, #7e7e7e 10px, #5c5c5c 10px, #5c5c5c 20px);\n",
       "    }\n",
       "    .progress-bar-interrupted, .progress-bar-interrupted::-webkit-progress-bar {\n",
       "        background: #F44336;\n",
       "    }\n",
       "</style>\n"
      ],
      "text/plain": [
       "<IPython.core.display.HTML object>"
      ]
     },
     "metadata": {},
     "output_type": "display_data"
    },
    {
     "data": {
      "text/html": [
       "<table border=\"1\" class=\"dataframe\">\n",
       "  <thead>\n",
       "    <tr style=\"text-align: left;\">\n",
       "      <th>epoch</th>\n",
       "      <th>train_loss</th>\n",
       "      <th>valid_loss</th>\n",
       "      <th>accuracy</th>\n",
       "      <th>time</th>\n",
       "    </tr>\n",
       "  </thead>\n",
       "  <tbody>\n",
       "    <tr>\n",
       "      <td>0</td>\n",
       "      <td>0.370182</td>\n",
       "      <td>0.576494</td>\n",
       "      <td>0.839748</td>\n",
       "      <td>00:03</td>\n",
       "    </tr>\n",
       "  </tbody>\n",
       "</table>"
      ],
      "text/plain": [
       "<IPython.core.display.HTML object>"
      ]
     },
     "metadata": {},
     "output_type": "display_data"
    },
    {
     "data": {
      "text/html": [
       "\n",
       "<style>\n",
       "    /* Turns off some styling */\n",
       "    progress {\n",
       "        /* gets rid of default border in Firefox and Opera. */\n",
       "        border: none;\n",
       "        /* Needs to be in here for Safari polyfill so background images work as expected. */\n",
       "        background-size: auto;\n",
       "    }\n",
       "    progress:not([value]), progress:not([value])::-webkit-progress-bar {\n",
       "        background: repeating-linear-gradient(45deg, #7e7e7e, #7e7e7e 10px, #5c5c5c 10px, #5c5c5c 20px);\n",
       "    }\n",
       "    .progress-bar-interrupted, .progress-bar-interrupted::-webkit-progress-bar {\n",
       "        background: #F44336;\n",
       "    }\n",
       "</style>\n"
      ],
      "text/plain": [
       "<IPython.core.display.HTML object>"
      ]
     },
     "metadata": {},
     "output_type": "display_data"
    },
    {
     "data": {
      "text/html": [
       "<table border=\"1\" class=\"dataframe\">\n",
       "  <thead>\n",
       "    <tr style=\"text-align: left;\">\n",
       "      <th>epoch</th>\n",
       "      <th>train_loss</th>\n",
       "      <th>valid_loss</th>\n",
       "      <th>accuracy</th>\n",
       "      <th>time</th>\n",
       "    </tr>\n",
       "  </thead>\n",
       "  <tbody>\n",
       "    <tr>\n",
       "      <td>0</td>\n",
       "      <td>0.406073</td>\n",
       "      <td>0.373873</td>\n",
       "      <td>0.880126</td>\n",
       "      <td>00:04</td>\n",
       "    </tr>\n",
       "    <tr>\n",
       "      <td>1</td>\n",
       "      <td>0.392029</td>\n",
       "      <td>0.357258</td>\n",
       "      <td>0.887697</td>\n",
       "      <td>00:04</td>\n",
       "    </tr>\n",
       "    <tr>\n",
       "      <td>2</td>\n",
       "      <td>0.436483</td>\n",
       "      <td>0.397096</td>\n",
       "      <td>0.871924</td>\n",
       "      <td>00:04</td>\n",
       "    </tr>\n",
       "    <tr>\n",
       "      <td>3</td>\n",
       "      <td>0.428856</td>\n",
       "      <td>0.358558</td>\n",
       "      <td>0.887066</td>\n",
       "      <td>00:04</td>\n",
       "    </tr>\n",
       "    <tr>\n",
       "      <td>4</td>\n",
       "      <td>0.359512</td>\n",
       "      <td>0.345511</td>\n",
       "      <td>0.894006</td>\n",
       "      <td>00:04</td>\n",
       "    </tr>\n",
       "    <tr>\n",
       "      <td>5</td>\n",
       "      <td>0.323878</td>\n",
       "      <td>0.344867</td>\n",
       "      <td>0.899054</td>\n",
       "      <td>00:04</td>\n",
       "    </tr>\n",
       "    <tr>\n",
       "      <td>6</td>\n",
       "      <td>0.291593</td>\n",
       "      <td>0.313581</td>\n",
       "      <td>0.907256</td>\n",
       "      <td>00:04</td>\n",
       "    </tr>\n",
       "    <tr>\n",
       "      <td>7</td>\n",
       "      <td>0.236531</td>\n",
       "      <td>0.323308</td>\n",
       "      <td>0.908517</td>\n",
       "      <td>00:04</td>\n",
       "    </tr>\n",
       "    <tr>\n",
       "      <td>8</td>\n",
       "      <td>0.225293</td>\n",
       "      <td>0.323455</td>\n",
       "      <td>0.902839</td>\n",
       "      <td>00:04</td>\n",
       "    </tr>\n",
       "    <tr>\n",
       "      <td>9</td>\n",
       "      <td>0.210618</td>\n",
       "      <td>0.310749</td>\n",
       "      <td>0.906625</td>\n",
       "      <td>00:04</td>\n",
       "    </tr>\n",
       "  </tbody>\n",
       "</table>"
      ],
      "text/plain": [
       "<IPython.core.display.HTML object>"
      ]
     },
     "metadata": {},
     "output_type": "display_data"
    }
   ],
   "source": [
    "learner.fine_tune(10, 1e-2)"
   ]
  },
  {
   "cell_type": "code",
   "execution_count": 67,
   "id": "4c38f41a",
   "metadata": {},
   "outputs": [
    {
     "data": {
      "text/html": [
       "\n",
       "<style>\n",
       "    /* Turns off some styling */\n",
       "    progress {\n",
       "        /* gets rid of default border in Firefox and Opera. */\n",
       "        border: none;\n",
       "        /* Needs to be in here for Safari polyfill so background images work as expected. */\n",
       "        background-size: auto;\n",
       "    }\n",
       "    progress:not([value]), progress:not([value])::-webkit-progress-bar {\n",
       "        background: repeating-linear-gradient(45deg, #7e7e7e, #7e7e7e 10px, #5c5c5c 10px, #5c5c5c 20px);\n",
       "    }\n",
       "    .progress-bar-interrupted, .progress-bar-interrupted::-webkit-progress-bar {\n",
       "        background: #F44336;\n",
       "    }\n",
       "</style>\n"
      ],
      "text/plain": [
       "<IPython.core.display.HTML object>"
      ]
     },
     "metadata": {},
     "output_type": "display_data"
    },
    {
     "data": {
      "text/html": [],
      "text/plain": [
       "<IPython.core.display.HTML object>"
      ]
     },
     "metadata": {},
     "output_type": "display_data"
    },
    {
     "data": {
      "image/png": "[encoded data removed]",
      "text/plain": [
       "<Figure size 640x480 with 1 Axes>"
      ]
     },
     "metadata": {},
     "output_type": "display_data"
    }
   ],
   "source": [
    "interp.plot_confusion_matrix()"
   ]
  },
  {
   "cell_type": "code",
   "execution_count": 68,
   "id": "4eb77107",
   "metadata": {},
   "outputs": [
    {
     "data": {
      "text/html": [
       "<table border=\"1\" class=\"dataframe\">\n",
       "  <thead>\n",
       "    <tr style=\"text-align: right;\">\n",
       "      <th></th>\n",
       "      <th>text</th>\n",
       "      <th>category</th>\n",
       "    </tr>\n",
       "  </thead>\n",
       "  <tbody>\n",
       "    <tr>\n",
       "      <th>0</th>\n",
       "      <td>xxbos xxmaj finally . xxmaj right ? xxmaj ok , xxmaj phyllis you must be xxunk from standing on those xxunk . xxmaj why do n't you have a xxunk ? [ phyllis sits ] xxmaj let 's all xxunk at xxmaj phyllis . [ everyone claps ] xxmaj ok ! [ in xxmaj michael xxmaj clump voice ] xxmaj when xxmaj michael xxmaj clump wants to xxunk you [ normal voice ] that corporate … their idea , yes , was to xxunk you to lose xxunk , but more xxunk what this whole thing is about , this contest is really about being xxunk . xxmaj and in order to be xxunk , you have to eat , xxmaj kelly . xxmaj kelly . [ xxunk down in front of xxmaj kelly , xxmaj dwight tries to help him down , xxmaj michael xxunk xxunk at him ]</td>\n",
       "      <td>Michael</td>\n",
       "    </tr>\n",
       "    <tr>\n",
       "      <th>1</th>\n",
       "      <td>xxbos xxmaj aw , thanks , xxmaj pete . xxmaj that was really nice . i just want to say how happy we are that all of you are here tonight . xxmaj and i want to especially thank those of you who xxunk from far away to be here with us tonight … especially the xxmaj xxunk xxunk who , obviously , ca n't take a xxunk . [ laughter ] xxmaj four years ago , i was just a guy who had a crush on a girl who had a xxunk . xxmaj and i had to do the xxunk thing that xxmaj i 've ever had to do … which was just to wait . xxmaj uh , do n't get me wrong . i xxunk with her . xxmaj pam , i can now admit in front of my friends and family that i do know</td>\n",
       "      <td>Jim</td>\n",
       "    </tr>\n",
       "    <tr>\n",
       "      <th>2</th>\n",
       "      <td>xxbos i understand . xxmaj it 's in a blind spot because xxmaj i 'm xxunk in several xxunk xxunk and one of them , uh , includes , uh , an awareness that the xxunk bring , uh , of anything on all sides of you . xxmaj it could be behind you or whatever . xxmaj this is directly in a blind spot , so xxmaj i 'm xxunk to xxunk xxunk to something right above my head . [ new take ] xxmaj this now i have an eye on . xxmaj you see , it 's on my xxunk and if i needed to xxunk it , attack it , stop it somehow . [ does a xxunk xxunk move with his hands ] i could come right out . i mean , i know you 're doing your job , but … xxmaj xxunk xxmaj</td>\n",
       "      <td>Dwight</td>\n",
       "    </tr>\n",
       "    <tr>\n",
       "      <th>3</th>\n",
       "      <td>xxbos [ text message chime ] xxmaj you know what ? xxmaj let me just double check , that bird … xxmaj okay , good . xxmaj it 's off . i mean , silenced . i silenced it by killing it . xxmaj i 've killed it ! xxmaj i 'm a murderer ! xxmaj just like you , xxmaj sweeney xxmaj todd . xxmaj see , it all connects . xxmaj not that i know you 're a murderer . xxmaj my character does n't know that yet . xxmaj but xxmaj i 'm suspicious , because of all the razors that you have laying around . xxmaj and you spend time alone . xxmaj but you 're a barber , so that 's legit . xxmaj so there 's that . xxmaj but …</td>\n",
       "      <td>Andy</td>\n",
       "    </tr>\n",
       "    <tr>\n",
       "      <th>4</th>\n",
       "      <td>xxbos [ text message chime ] xxmaj you know what ? xxmaj let me just double check , that bird … xxmaj okay , good . xxmaj it 's off . i mean , silenced . i silenced it by killing it . xxmaj i 've killed it ! xxmaj i 'm a murderer ! xxmaj just like you , xxmaj sweeney xxmaj todd . xxmaj see , it all connects . xxmaj not that i know you 're a murderer . xxmaj my character does n't know that yet . xxmaj but xxmaj i 'm suspicious , because of all the razors that you have laying around . xxmaj and you spend time alone . xxmaj but you 're a barber , so that 's legit . xxmaj so there 's that . xxmaj but …</td>\n",
       "      <td>Andy</td>\n",
       "    </tr>\n",
       "    <tr>\n",
       "      <th>5</th>\n",
       "      <td>xxbos [ text message chime ] xxmaj you know what ? xxmaj let me just double check , that bird … xxmaj okay , good . xxmaj it 's off . i mean , silenced . i silenced it by killing it . xxmaj i 've killed it ! xxmaj i 'm a murderer ! xxmaj just like you , xxmaj sweeney xxmaj todd . xxmaj see , it all connects . xxmaj not that i know you 're a murderer . xxmaj my character does n't know that yet . xxmaj but xxmaj i 'm suspicious , because of all the razors that you have laying around . xxmaj and you spend time alone . xxmaj but you 're a barber , so that 's legit . xxmaj so there 's that . xxmaj but …</td>\n",
       "      <td>Andy</td>\n",
       "    </tr>\n",
       "    <tr>\n",
       "      <th>6</th>\n",
       "      <td>xxbos i am attracted to weird , wrong men . i dated a violent karate instructor and then an unemployed fireman . xxmaj life has been complicated . xxmaj i 've made some decisions that xxmaj i 'm not proud of ; my marriage , being overly litigious with my family . i orgasm fairly easily . xxmaj michael was kind of like my dirty secret , you know , having sex with him , oh i was just turned on by my own degradation . xxmaj um , why , anyway , i was told by somebody recently that i respect that xxmaj i 'm old enough to have a mature relationship , and that 's what this whole evening is about and i have high hopes .</td>\n",
       "      <td>Jan</td>\n",
       "    </tr>\n",
       "    <tr>\n",
       "      <th>7</th>\n",
       "      <td>xxbos i am attracted to weird , wrong men . i dated a violent karate instructor and then an unemployed fireman . xxmaj life has been complicated . xxmaj i 've made some decisions that xxmaj i 'm not proud of ; my marriage , being overly litigious with my family . i orgasm fairly easily . xxmaj michael was kind of like my dirty secret , you know , having sex with him , oh i was just turned on by my own degradation . xxmaj um , why , anyway , i was told by somebody recently that i respect that xxmaj i 'm old enough to have a mature relationship , and that 's what this whole evening is about and i have high hopes .</td>\n",
       "      <td>Jan</td>\n",
       "    </tr>\n",
       "    <tr>\n",
       "      <th>8</th>\n",
       "      <td>xxbos i am attracted to weird , wrong men . i dated a violent karate instructor and then an unemployed fireman . xxmaj life has been complicated . xxmaj i 've made some decisions that xxmaj i 'm not proud of ; my marriage , being overly litigious with my family . i orgasm fairly easily . xxmaj michael was kind of like my dirty secret , you know , having sex with him , oh i was just turned on by my own degradation . xxmaj um , why , anyway , i was told by somebody recently that i respect that xxmaj i 'm old enough to have a mature relationship , and that 's what this whole evening is about and i have high hopes .</td>\n",
       "      <td>Jan</td>\n",
       "    </tr>\n",
       "  </tbody>\n",
       "</table>"
      ],
      "text/plain": [
       "<IPython.core.display.HTML object>"
      ]
     },
     "metadata": {},
     "output_type": "display_data"
    }
   ],
   "source": [
    "dls.show_batch()"
   ]
  },
  {
   "cell_type": "code",
   "execution_count": 80,
   "id": "5b3c407a",
   "metadata": {},
   "outputs": [
    {
     "data": {
      "text/html": [
       "\n",
       "<style>\n",
       "    /* Turns off some styling */\n",
       "    progress {\n",
       "        /* gets rid of default border in Firefox and Opera. */\n",
       "        border: none;\n",
       "        /* Needs to be in here for Safari polyfill so background images work as expected. */\n",
       "        background-size: auto;\n",
       "    }\n",
       "    progress:not([value]), progress:not([value])::-webkit-progress-bar {\n",
       "        background: repeating-linear-gradient(45deg, #7e7e7e, #7e7e7e 10px, #5c5c5c 10px, #5c5c5c 20px);\n",
       "    }\n",
       "    .progress-bar-interrupted, .progress-bar-interrupted::-webkit-progress-bar {\n",
       "        background: #F44336;\n",
       "    }\n",
       "</style>\n"
      ],
      "text/plain": [
       "<IPython.core.display.HTML object>"
      ]
     },
     "metadata": {},
     "output_type": "display_data"
    },
    {
     "data": {
      "text/html": [],
      "text/plain": [
       "<IPython.core.display.HTML object>"
      ]
     },
     "metadata": {},
     "output_type": "display_data"
    },
    {
     "data": {
      "text/plain": [
       "('Michael',\n",
       " tensor(13),\n",
       " tensor([6.8830e-03, 1.8570e-03, 6.0280e-04, 8.4419e-04, 1.4525e-01, 1.8000e-02,\n",
       "         1.1042e-03, 3.5248e-04, 7.9852e-05, 1.4444e-01, 2.2287e-05, 1.9817e-03,\n",
       "         2.9321e-05, 6.3747e-01, 3.0219e-03, 5.6921e-05, 2.6025e-03, 6.0319e-06,\n",
       "         1.0038e-04, 2.4003e-03, 3.2890e-02]))"
      ]
     },
     "execution_count": 80,
     "metadata": {},
     "output_type": "execute_result"
    }
   ],
   "source": [
    "learner.predict(\"dwight try to help him down\")"
   ]
  },
  {
   "cell_type": "code",
   "execution_count": 81,
   "id": "d37bd30b",
   "metadata": {},
   "outputs": [
    {
     "data": {
      "text/plain": [
       "Path('models/20_epoch_with_randomization.pth')"
      ]
     },
     "execution_count": 81,
     "metadata": {},
     "output_type": "execute_result"
    }
   ],
   "source": [
    "# learner.save('20_epoch_with_randomization')"
   ]
  },
  {
   "cell_type": "code",
   "execution_count": null,
   "id": "f7bdf1d2",
   "metadata": {},
   "outputs": [],
   "source": []
  }
 ],
 "metadata": {
  "kernelspec": {
   "display_name": "Python 3 (ipykernel)",
   "language": "python",
   "name": "python3"
  },
  "language_info": {
   "codemirror_mode": {
    "name": "ipython",
    "version": 3
   },
   "file_extension": ".py",
   "mimetype": "text/x-python",
   "name": "python",
   "nbconvert_exporter": "python",
   "pygments_lexer": "ipython3",
   "version": "3.10.9"
  }
 },
 "nbformat": 4,
 "nbformat_minor": 5
}
