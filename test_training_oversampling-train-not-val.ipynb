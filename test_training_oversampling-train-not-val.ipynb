{
 "cells": [
  {
   "cell_type": "code",
   "execution_count": 1,
   "id": "6352ed5d",
   "metadata": {},
   "outputs": [],
   "source": [
    "from fastai.text.all import *\n",
    "from pathlib import Path\n",
    "\n",
    "pd.options.display.max_rows = 20\n",
    "pd.options.display.max_columns = 8\n",
    "%config InteractiveShell.ast_node_interactivity='last_expr_or_assign'"
   ]
  },
  {
   "cell_type": "code",
   "execution_count": 2,
   "id": "b85ff437",
   "metadata": {},
   "outputs": [
    {
     "data": {
      "text/plain": [
       "'1.13.1+cu117'"
      ]
     },
     "execution_count": 2,
     "metadata": {},
     "output_type": "execute_result"
    }
   ],
   "source": [
    "torch.__version__"
   ]
  },
  {
   "cell_type": "code",
   "execution_count": 3,
   "id": "342a8145",
   "metadata": {},
   "outputs": [
    {
     "data": {
      "text/plain": [
       "True"
      ]
     },
     "execution_count": 3,
     "metadata": {},
     "output_type": "execute_result"
    }
   ],
   "source": [
    "torch.cuda.is_available()"
   ]
  },
  {
   "cell_type": "code",
   "execution_count": 4,
   "id": "3ad50a6e",
   "metadata": {},
   "outputs": [
    {
     "data": {
      "text/html": [
       "<div>\n",
       "<style scoped>\n",
       "    .dataframe tbody tr th:only-of-type {\n",
       "        vertical-align: middle;\n",
       "    }\n",
       "\n",
       "    .dataframe tbody tr th {\n",
       "        vertical-align: top;\n",
       "    }\n",
       "\n",
       "    .dataframe thead th {\n",
       "        text-align: right;\n",
       "    }\n",
       "</style>\n",
       "<table border=\"1\" class=\"dataframe\">\n",
       "  <thead>\n",
       "    <tr style=\"text-align: right;\">\n",
       "      <th></th>\n",
       "      <th>season</th>\n",
       "      <th>episode</th>\n",
       "      <th>scene</th>\n",
       "      <th>line_text</th>\n",
       "      <th>speaker</th>\n",
       "      <th>deleted</th>\n",
       "    </tr>\n",
       "  </thead>\n",
       "  <tbody>\n",
       "    <tr>\n",
       "      <th>0</th>\n",
       "      <td>7</td>\n",
       "      <td>24</td>\n",
       "      <td>8</td>\n",
       "      <td>[conducting interview] Your paper experience is very interesting. Do you think you could use that experience to inform decisions here?</td>\n",
       "      <td>Jim</td>\n",
       "      <td>False</td>\n",
       "    </tr>\n",
       "    <tr>\n",
       "      <th>1</th>\n",
       "      <td>9</td>\n",
       "      <td>10</td>\n",
       "      <td>27</td>\n",
       "      <td>I'm not gonna lie. Lye!</td>\n",
       "      <td>Dwight</td>\n",
       "      <td>False</td>\n",
       "    </tr>\n",
       "    <tr>\n",
       "      <th>2</th>\n",
       "      <td>9</td>\n",
       "      <td>9</td>\n",
       "      <td>27</td>\n",
       "      <td>Take a bowl and pass it down.</td>\n",
       "      <td>Dwight</td>\n",
       "      <td>False</td>\n",
       "    </tr>\n",
       "    <tr>\n",
       "      <th>3</th>\n",
       "      <td>3</td>\n",
       "      <td>15</td>\n",
       "      <td>25</td>\n",
       "      <td>It's a miracle.</td>\n",
       "      <td>Dwight</td>\n",
       "      <td>False</td>\n",
       "    </tr>\n",
       "    <tr>\n",
       "      <th>4</th>\n",
       "      <td>7</td>\n",
       "      <td>1</td>\n",
       "      <td>1</td>\n",
       "      <td>This is how you build a business. This is how you make it in this country.</td>\n",
       "      <td>Ryan</td>\n",
       "      <td>False</td>\n",
       "    </tr>\n",
       "    <tr>\n",
       "      <th>...</th>\n",
       "      <td>...</td>\n",
       "      <td>...</td>\n",
       "      <td>...</td>\n",
       "      <td>...</td>\n",
       "      <td>...</td>\n",
       "      <td>...</td>\n",
       "    </tr>\n",
       "    <tr>\n",
       "      <th>44370</th>\n",
       "      <td>3</td>\n",
       "      <td>5</td>\n",
       "      <td>41</td>\n",
       "      <td>I don't know. It felt far.</td>\n",
       "      <td>Pam</td>\n",
       "      <td>False</td>\n",
       "    </tr>\n",
       "    <tr>\n",
       "      <th>44371</th>\n",
       "      <td>3</td>\n",
       "      <td>10</td>\n",
       "      <td>43</td>\n",
       "      <td>Excuse me [tries to take away meat with chopsticks] Ah, un guard. [Fights with chopsticks and laughs] Family style.</td>\n",
       "      <td>Michael</td>\n",
       "      <td>False</td>\n",
       "    </tr>\n",
       "    <tr>\n",
       "      <th>44372</th>\n",
       "      <td>5</td>\n",
       "      <td>23</td>\n",
       "      <td>19</td>\n",
       "      <td>I never went to Thailand.</td>\n",
       "      <td>Ryan</td>\n",
       "      <td>False</td>\n",
       "    </tr>\n",
       "    <tr>\n",
       "      <th>44373</th>\n",
       "      <td>3</td>\n",
       "      <td>4</td>\n",
       "      <td>1</td>\n",
       "      <td>[breathless] All right.  Okay. [goes back down pretend stairs, crawls on belly to the kitchen for the coffee]</td>\n",
       "      <td>Michael</td>\n",
       "      <td>False</td>\n",
       "    </tr>\n",
       "    <tr>\n",
       "      <th>44374</th>\n",
       "      <td>8</td>\n",
       "      <td>4</td>\n",
       "      <td>47</td>\n",
       "      <td>Hey everybody, I'm gonna leave and I just wanted to say I'm really sorry.</td>\n",
       "      <td>Andy</td>\n",
       "      <td>False</td>\n",
       "    </tr>\n",
       "  </tbody>\n",
       "</table>\n",
       "<p>44375 rows × 6 columns</p>\n",
       "</div>"
      ],
      "text/plain": [
       "       season  episode  scene  \\\n",
       "0           7       24      8   \n",
       "1           9       10     27   \n",
       "2           9        9     27   \n",
       "3           3       15     25   \n",
       "4           7        1      1   \n",
       "...       ...      ...    ...   \n",
       "44370       3        5     41   \n",
       "44371       3       10     43   \n",
       "44372       5       23     19   \n",
       "44373       3        4      1   \n",
       "44374       8        4     47   \n",
       "\n",
       "                                                                                                                                    line_text  \\\n",
       "0      [conducting interview] Your paper experience is very interesting. Do you think you could use that experience to inform decisions here?   \n",
       "1                                                                                                                     I'm not gonna lie. Lye!   \n",
       "2                                                                                                               Take a bowl and pass it down.   \n",
       "3                                                                                                                             It's a miracle.   \n",
       "4                                                                  This is how you build a business. This is how you make it in this country.   \n",
       "...                                                                                                                                       ...   \n",
       "44370                                                                                                              I don't know. It felt far.   \n",
       "44371                     Excuse me [tries to take away meat with chopsticks] Ah, un guard. [Fights with chopsticks and laughs] Family style.   \n",
       "44372                                                                                                               I never went to Thailand.   \n",
       "44373                           [breathless] All right.  Okay. [goes back down pretend stairs, crawls on belly to the kitchen for the coffee]   \n",
       "44374                                                               Hey everybody, I'm gonna leave and I just wanted to say I'm really sorry.   \n",
       "\n",
       "       speaker  deleted  \n",
       "0          Jim    False  \n",
       "1       Dwight    False  \n",
       "2       Dwight    False  \n",
       "3       Dwight    False  \n",
       "4         Ryan    False  \n",
       "...        ...      ...  \n",
       "44370      Pam    False  \n",
       "44371  Michael    False  \n",
       "44372     Ryan    False  \n",
       "44373  Michael    False  \n",
       "44374     Andy    False  \n",
       "\n",
       "[44375 rows x 6 columns]"
      ]
     },
     "execution_count": 4,
     "metadata": {},
     "output_type": "execute_result"
    }
   ],
   "source": [
    "path_top21 =  Path('data/train21_shuffled.csv')\n",
    "df = pd.read_csv(path_top21)"
   ]
  },
  {
   "cell_type": "code",
   "execution_count": 30,
   "id": "0aea5b9b",
   "metadata": {},
   "outputs": [
    {
     "data": {
      "text/html": [
       "<div>\n",
       "<style scoped>\n",
       "    .dataframe tbody tr th:only-of-type {\n",
       "        vertical-align: middle;\n",
       "    }\n",
       "\n",
       "    .dataframe tbody tr th {\n",
       "        vertical-align: top;\n",
       "    }\n",
       "\n",
       "    .dataframe thead th {\n",
       "        text-align: right;\n",
       "    }\n",
       "</style>\n",
       "<table border=\"1\" class=\"dataframe\">\n",
       "  <thead>\n",
       "    <tr style=\"text-align: right;\">\n",
       "      <th></th>\n",
       "      <th>season</th>\n",
       "      <th>episode</th>\n",
       "      <th>scene</th>\n",
       "      <th>line_text</th>\n",
       "      <th>speaker</th>\n",
       "      <th>deleted</th>\n",
       "    </tr>\n",
       "  </thead>\n",
       "  <tbody>\n",
       "    <tr>\n",
       "      <th>0</th>\n",
       "      <td>7</td>\n",
       "      <td>24</td>\n",
       "      <td>8</td>\n",
       "      <td>[conducting interview] Your paper experience is very interesting. Do you think you could use that experience to inform decisions here?</td>\n",
       "      <td>Jim</td>\n",
       "      <td>False</td>\n",
       "    </tr>\n",
       "    <tr>\n",
       "      <th>1</th>\n",
       "      <td>9</td>\n",
       "      <td>10</td>\n",
       "      <td>27</td>\n",
       "      <td>I'm not gonna lie. Lye!</td>\n",
       "      <td>Dwight</td>\n",
       "      <td>False</td>\n",
       "    </tr>\n",
       "    <tr>\n",
       "      <th>2</th>\n",
       "      <td>9</td>\n",
       "      <td>9</td>\n",
       "      <td>27</td>\n",
       "      <td>Take a bowl and pass it down.</td>\n",
       "      <td>Dwight</td>\n",
       "      <td>False</td>\n",
       "    </tr>\n",
       "    <tr>\n",
       "      <th>3</th>\n",
       "      <td>3</td>\n",
       "      <td>15</td>\n",
       "      <td>25</td>\n",
       "      <td>It's a miracle.</td>\n",
       "      <td>Dwight</td>\n",
       "      <td>False</td>\n",
       "    </tr>\n",
       "    <tr>\n",
       "      <th>4</th>\n",
       "      <td>7</td>\n",
       "      <td>1</td>\n",
       "      <td>1</td>\n",
       "      <td>This is how you build a business. This is how you make it in this country.</td>\n",
       "      <td>Ryan</td>\n",
       "      <td>False</td>\n",
       "    </tr>\n",
       "    <tr>\n",
       "      <th>...</th>\n",
       "      <td>...</td>\n",
       "      <td>...</td>\n",
       "      <td>...</td>\n",
       "      <td>...</td>\n",
       "      <td>...</td>\n",
       "      <td>...</td>\n",
       "    </tr>\n",
       "    <tr>\n",
       "      <th>9995</th>\n",
       "      <td>6</td>\n",
       "      <td>23</td>\n",
       "      <td>11</td>\n",
       "      <td>[shouts] Michael Scott, are you still seeing Donna?</td>\n",
       "      <td>Pam</td>\n",
       "      <td>False</td>\n",
       "    </tr>\n",
       "    <tr>\n",
       "      <th>9996</th>\n",
       "      <td>7</td>\n",
       "      <td>13</td>\n",
       "      <td>10</td>\n",
       "      <td>I'm out too.</td>\n",
       "      <td>Phyllis</td>\n",
       "      <td>False</td>\n",
       "    </tr>\n",
       "    <tr>\n",
       "      <th>9997</th>\n",
       "      <td>1</td>\n",
       "      <td>5</td>\n",
       "      <td>3</td>\n",
       "      <td>I apologized for that.</td>\n",
       "      <td>Dwight</td>\n",
       "      <td>False</td>\n",
       "    </tr>\n",
       "    <tr>\n",
       "      <th>9998</th>\n",
       "      <td>5</td>\n",
       "      <td>12</td>\n",
       "      <td>20</td>\n",
       "      <td>Ok, goodbye Prince Family.</td>\n",
       "      <td>Michael</td>\n",
       "      <td>False</td>\n",
       "    </tr>\n",
       "    <tr>\n",
       "      <th>9999</th>\n",
       "      <td>5</td>\n",
       "      <td>24</td>\n",
       "      <td>13</td>\n",
       "      <td>I could loan you a pair of socks.</td>\n",
       "      <td>Toby</td>\n",
       "      <td>False</td>\n",
       "    </tr>\n",
       "  </tbody>\n",
       "</table>\n",
       "<p>10000 rows × 6 columns</p>\n",
       "</div>"
      ],
      "text/plain": [
       "      season  episode  scene  \\\n",
       "0          7       24      8   \n",
       "1          9       10     27   \n",
       "2          9        9     27   \n",
       "3          3       15     25   \n",
       "4          7        1      1   \n",
       "...      ...      ...    ...   \n",
       "9995       6       23     11   \n",
       "9996       7       13     10   \n",
       "9997       1        5      3   \n",
       "9998       5       12     20   \n",
       "9999       5       24     13   \n",
       "\n",
       "                                                                                                                                   line_text  \\\n",
       "0     [conducting interview] Your paper experience is very interesting. Do you think you could use that experience to inform decisions here?   \n",
       "1                                                                                                                    I'm not gonna lie. Lye!   \n",
       "2                                                                                                              Take a bowl and pass it down.   \n",
       "3                                                                                                                            It's a miracle.   \n",
       "4                                                                 This is how you build a business. This is how you make it in this country.   \n",
       "...                                                                                                                                      ...   \n",
       "9995                                                                                     [shouts] Michael Scott, are you still seeing Donna?   \n",
       "9996                                                                                                                            I'm out too.   \n",
       "9997                                                                                                                  I apologized for that.   \n",
       "9998                                                                                                              Ok, goodbye Prince Family.   \n",
       "9999                                                                                                       I could loan you a pair of socks.   \n",
       "\n",
       "      speaker  deleted  \n",
       "0         Jim    False  \n",
       "1      Dwight    False  \n",
       "2      Dwight    False  \n",
       "3      Dwight    False  \n",
       "4        Ryan    False  \n",
       "...       ...      ...  \n",
       "9995      Pam    False  \n",
       "9996  Phyllis    False  \n",
       "9997   Dwight    False  \n",
       "9998  Michael    False  \n",
       "9999     Toby    False  \n",
       "\n",
       "[10000 rows x 6 columns]"
      ]
     },
     "execution_count": 30,
     "metadata": {},
     "output_type": "execute_result"
    }
   ],
   "source": [
    "df_reduced = df.iloc[:10000]"
   ]
  },
  {
   "cell_type": "code",
   "execution_count": 31,
   "id": "2920a0b3",
   "metadata": {},
   "outputs": [
    {
     "data": {
      "text/plain": [
       "<Axes: >"
      ]
     },
     "execution_count": 31,
     "metadata": {},
     "output_type": "execute_result"
    },
    {
     "data": {
      "image/png": "[encoded data removed]",
      "text/plain": [
       "<Figure size 640x480 with 1 Axes>"
      ]
     },
     "metadata": {},
     "output_type": "display_data"
    }
   ],
   "source": [
    "df_reduced['speaker'].value_counts().plot(kind='bar')"
   ]
  },
  {
   "cell_type": "code",
   "execution_count": 32,
   "id": "e2b8113a",
   "metadata": {},
   "outputs": [
    {
     "data": {
      "text/plain": [
       "2245"
      ]
     },
     "execution_count": 32,
     "metadata": {},
     "output_type": "execute_result"
    }
   ],
   "source": [
    "max_dialog = df_reduced['speaker'].value_counts().max()"
   ]
  },
  {
   "cell_type": "code",
   "execution_count": 33,
   "id": "1c813089",
   "metadata": {},
   "outputs": [],
   "source": [
    "# import random\n",
    "\n",
    "# dfs_oversampled = [df_reduced]\n",
    "# for _, group in df_reduced.groupby('speaker'):\n",
    "#     rand_mult = random.uniform(0.85, 1.15)\n",
    "#     sample_amt_to_max = max_dialog - len(group)\n",
    "#     dfs_oversampled.append(group.sample(int(sample_amt_to_max * rand_mult), replace=True))\n",
    "# df_reduced = pd.concat(dfs_oversampled)"
   ]
  },
  {
   "cell_type": "code",
   "execution_count": 35,
   "id": "9e8b3d38",
   "metadata": {},
   "outputs": [
    {
     "data": {
      "text/plain": [
       "<Axes: >"
      ]
     },
     "execution_count": 35,
     "metadata": {},
     "output_type": "execute_result"
    },
    {
     "data": {
      "image/png": "[encoded data removed]",
      "text/plain": [
       "<Figure size 640x480 with 1 Axes>"
      ]
     },
     "metadata": {},
     "output_type": "display_data"
    }
   ],
   "source": [
    "df_reduced['speaker'].value_counts().plot(kind='bar')"
   ]
  },
  {
   "cell_type": "code",
   "execution_count": 36,
   "id": "cd9cba6f",
   "metadata": {},
   "outputs": [
    {
     "data": {
      "text/html": [
       "\n",
       "<style>\n",
       "    /* Turns off some styling */\n",
       "    progress {\n",
       "        /* gets rid of default border in Firefox and Opera. */\n",
       "        border: none;\n",
       "        /* Needs to be in here for Safari polyfill so background images work as expected. */\n",
       "        background-size: auto;\n",
       "    }\n",
       "    progress:not([value]), progress:not([value])::-webkit-progress-bar {\n",
       "        background: repeating-linear-gradient(45deg, #7e7e7e, #7e7e7e 10px, #5c5c5c 10px, #5c5c5c 20px);\n",
       "    }\n",
       "    .progress-bar-interrupted, .progress-bar-interrupted::-webkit-progress-bar {\n",
       "        background: #F44336;\n",
       "    }\n",
       "</style>\n"
      ],
      "text/plain": [
       "<IPython.core.display.HTML object>"
      ]
     },
     "metadata": {},
     "output_type": "display_data"
    },
    {
     "data": {
      "text/html": [],
      "text/plain": [
       "<IPython.core.display.HTML object>"
      ]
     },
     "metadata": {},
     "output_type": "display_data"
    },
    {
     "data": {
      "text/html": [
       "<div>\n",
       "<style scoped>\n",
       "    .dataframe tbody tr th:only-of-type {\n",
       "        vertical-align: middle;\n",
       "    }\n",
       "\n",
       "    .dataframe tbody tr th {\n",
       "        vertical-align: top;\n",
       "    }\n",
       "\n",
       "    .dataframe thead th {\n",
       "        text-align: right;\n",
       "    }\n",
       "</style>\n",
       "<table border=\"1\" class=\"dataframe\">\n",
       "  <thead>\n",
       "    <tr style=\"text-align: right;\">\n",
       "      <th></th>\n",
       "      <th>season</th>\n",
       "      <th>episode</th>\n",
       "      <th>scene</th>\n",
       "      <th>speaker</th>\n",
       "      <th>deleted</th>\n",
       "      <th>text</th>\n",
       "      <th>text_length</th>\n",
       "    </tr>\n",
       "  </thead>\n",
       "  <tbody>\n",
       "    <tr>\n",
       "      <th>9790</th>\n",
       "      <td>5</td>\n",
       "      <td>4</td>\n",
       "      <td>44</td>\n",
       "      <td>Pam</td>\n",
       "      <td>False</td>\n",
       "      <td>[xxbos, xxmaj, if, i, get, you, a, slice, of, pizza, ,, are, we, even, ?]</td>\n",
       "      <td>15</td>\n",
       "    </tr>\n",
       "    <tr>\n",
       "      <th>221</th>\n",
       "      <td>5</td>\n",
       "      <td>16</td>\n",
       "      <td>22</td>\n",
       "      <td>Dwight</td>\n",
       "      <td>False</td>\n",
       "      <td>[xxbos, xxmaj, dwight, xxup, k., xxmaj, schrute, ., xxmaj, why, do, n't, you, introduce, me, to, your, little, friend, ?, [, dwight, immediately, breaks, the, handshake, with, the, redhead, and, turns, to, the, blonde, ], xxmaj, hi, ,, xxmaj, dwight, .]</td>\n",
       "      <td>41</td>\n",
       "    </tr>\n",
       "    <tr>\n",
       "      <th>9515</th>\n",
       "      <td>6</td>\n",
       "      <td>5</td>\n",
       "      <td>29</td>\n",
       "      <td>Andy</td>\n",
       "      <td>False</td>\n",
       "      <td>[xxbos, xxmaj, whoa, ., xxmaj, okay, .]</td>\n",
       "      <td>7</td>\n",
       "    </tr>\n",
       "    <tr>\n",
       "      <th>6360</th>\n",
       "      <td>1</td>\n",
       "      <td>6</td>\n",
       "      <td>40</td>\n",
       "      <td>Toby</td>\n",
       "      <td>True</td>\n",
       "      <td>[xxbos, xxmaj, yeah, ,, me, too, .]</td>\n",
       "      <td>7</td>\n",
       "    </tr>\n",
       "    <tr>\n",
       "      <th>4386</th>\n",
       "      <td>9</td>\n",
       "      <td>10</td>\n",
       "      <td>29</td>\n",
       "      <td>Jim</td>\n",
       "      <td>False</td>\n",
       "      <td>[xxbos, xxmaj, are, you, kidding, me, ?, i, can, literally, scalp, tickets, to, this, .]</td>\n",
       "      <td>15</td>\n",
       "    </tr>\n",
       "    <tr>\n",
       "      <th>...</th>\n",
       "      <td>...</td>\n",
       "      <td>...</td>\n",
       "      <td>...</td>\n",
       "      <td>...</td>\n",
       "      <td>...</td>\n",
       "      <td>...</td>\n",
       "      <td>...</td>\n",
       "    </tr>\n",
       "    <tr>\n",
       "      <th>1269</th>\n",
       "      <td>2</td>\n",
       "      <td>7</td>\n",
       "      <td>47</td>\n",
       "      <td>Jan</td>\n",
       "      <td>True</td>\n",
       "      <td>[xxbos, xxmaj, what, ?]</td>\n",
       "      <td>4</td>\n",
       "    </tr>\n",
       "    <tr>\n",
       "      <th>9771</th>\n",
       "      <td>6</td>\n",
       "      <td>6</td>\n",
       "      <td>19</td>\n",
       "      <td>Jim</td>\n",
       "      <td>False</td>\n",
       "      <td>[xxbos, i, was, gon, na, go, with, this, one, .]</td>\n",
       "      <td>10</td>\n",
       "    </tr>\n",
       "    <tr>\n",
       "      <th>1029</th>\n",
       "      <td>7</td>\n",
       "      <td>21</td>\n",
       "      <td>41</td>\n",
       "      <td>Dwight</td>\n",
       "      <td>False</td>\n",
       "      <td>[xxbos, [, smiles, knowingly, ]]</td>\n",
       "      <td>5</td>\n",
       "    </tr>\n",
       "    <tr>\n",
       "      <th>4558</th>\n",
       "      <td>6</td>\n",
       "      <td>12</td>\n",
       "      <td>33</td>\n",
       "      <td>Jim</td>\n",
       "      <td>False</td>\n",
       "      <td>[xxbos, xxmaj, what, ?]</td>\n",
       "      <td>4</td>\n",
       "    </tr>\n",
       "    <tr>\n",
       "      <th>4040</th>\n",
       "      <td>5</td>\n",
       "      <td>10</td>\n",
       "      <td>45</td>\n",
       "      <td>Meredith</td>\n",
       "      <td>False</td>\n",
       "      <td>[xxbos, xxmaj, no, !, xxmaj, no, way, !, i, told, you, ., xxmaj, we, talked, about, this, ., xxmaj, there, is, absolutely, no, way, ., xxmaj, no, !, xxmaj, no, !, xxmaj, there, is, no, way, !, xxmaj, no, !, xxmaj, no, !, i, am, not, going, in, there, !, i, am, not, going, in, there, !]</td>\n",
       "      <td>57</td>\n",
       "    </tr>\n",
       "  </tbody>\n",
       "</table>\n",
       "<p>8000 rows × 7 columns</p>\n",
       "</div>"
      ],
      "text/plain": [
       "      season  episode  scene   speaker  deleted  \\\n",
       "9790       5        4     44       Pam    False   \n",
       "221        5       16     22    Dwight    False   \n",
       "9515       6        5     29      Andy    False   \n",
       "6360       1        6     40      Toby     True   \n",
       "4386       9       10     29       Jim    False   \n",
       "...      ...      ...    ...       ...      ...   \n",
       "1269       2        7     47       Jan     True   \n",
       "9771       6        6     19       Jim    False   \n",
       "1029       7       21     41    Dwight    False   \n",
       "4558       6       12     33       Jim    False   \n",
       "4040       5       10     45  Meredith    False   \n",
       "\n",
       "                                                                                                                                                                                                                                                                                                text  \\\n",
       "9790                                                                                                                                                                                                                       [xxbos, xxmaj, if, i, get, you, a, slice, of, pizza, ,, are, we, even, ?]   \n",
       "221                                    [xxbos, xxmaj, dwight, xxup, k., xxmaj, schrute, ., xxmaj, why, do, n't, you, introduce, me, to, your, little, friend, ?, [, dwight, immediately, breaks, the, handshake, with, the, redhead, and, turns, to, the, blonde, ], xxmaj, hi, ,, xxmaj, dwight, .]   \n",
       "9515                                                                                                                                                                                                                                                         [xxbos, xxmaj, whoa, ., xxmaj, okay, .]   \n",
       "6360                                                                                                                                                                                                                                                             [xxbos, xxmaj, yeah, ,, me, too, .]   \n",
       "4386                                                                                                                                                                                                        [xxbos, xxmaj, are, you, kidding, me, ?, i, can, literally, scalp, tickets, to, this, .]   \n",
       "...                                                                                                                                                                                                                                                                                              ...   \n",
       "1269                                                                                                                                                                                                                                                                         [xxbos, xxmaj, what, ?]   \n",
       "9771                                                                                                                                                                                                                                                [xxbos, i, was, gon, na, go, with, this, one, .]   \n",
       "1029                                                                                                                                                                                                                                                                [xxbos, [, smiles, knowingly, ]]   \n",
       "4558                                                                                                                                                                                                                                                                         [xxbos, xxmaj, what, ?]   \n",
       "4040  [xxbos, xxmaj, no, !, xxmaj, no, way, !, i, told, you, ., xxmaj, we, talked, about, this, ., xxmaj, there, is, absolutely, no, way, ., xxmaj, no, !, xxmaj, no, !, xxmaj, there, is, no, way, !, xxmaj, no, !, xxmaj, no, !, i, am, not, going, in, there, !, i, am, not, going, in, there, !]   \n",
       "\n",
       "      text_length  \n",
       "9790           15  \n",
       "221            41  \n",
       "9515            7  \n",
       "6360            7  \n",
       "4386           15  \n",
       "...           ...  \n",
       "1269            4  \n",
       "9771           10  \n",
       "1029            5  \n",
       "4558            4  \n",
       "4040           57  \n",
       "\n",
       "[8000 rows x 7 columns]"
      ]
     },
     "execution_count": 36,
     "metadata": {},
     "output_type": "execute_result"
    }
   ],
   "source": [
    "dls = TextDataLoaders.from_df(df_reduced, text_col='line_text', label_col='speaker', shuffle_train=True)\n",
    "df_train = dls.train.items"
   ]
  },
  {
   "cell_type": "code",
   "execution_count": 37,
   "id": "e96a70d7",
   "metadata": {},
   "outputs": [
    {
     "data": {
      "text/html": [
       "<div>\n",
       "<style scoped>\n",
       "    .dataframe tbody tr th:only-of-type {\n",
       "        vertical-align: middle;\n",
       "    }\n",
       "\n",
       "    .dataframe tbody tr th {\n",
       "        vertical-align: top;\n",
       "    }\n",
       "\n",
       "    .dataframe thead th {\n",
       "        text-align: right;\n",
       "    }\n",
       "</style>\n",
       "<table border=\"1\" class=\"dataframe\">\n",
       "  <thead>\n",
       "    <tr style=\"text-align: right;\">\n",
       "      <th></th>\n",
       "      <th>season</th>\n",
       "      <th>episode</th>\n",
       "      <th>scene</th>\n",
       "      <th>speaker</th>\n",
       "      <th>deleted</th>\n",
       "      <th>text</th>\n",
       "      <th>text_length</th>\n",
       "    </tr>\n",
       "  </thead>\n",
       "  <tbody>\n",
       "    <tr>\n",
       "      <th>9790</th>\n",
       "      <td>5</td>\n",
       "      <td>4</td>\n",
       "      <td>44</td>\n",
       "      <td>Pam</td>\n",
       "      <td>False</td>\n",
       "      <td>[xxbos, xxmaj, if, i, get, you, a, slice, of, pizza, ,, are, we, even, ?]</td>\n",
       "      <td>15</td>\n",
       "    </tr>\n",
       "    <tr>\n",
       "      <th>221</th>\n",
       "      <td>5</td>\n",
       "      <td>16</td>\n",
       "      <td>22</td>\n",
       "      <td>Dwight</td>\n",
       "      <td>False</td>\n",
       "      <td>[xxbos, xxmaj, dwight, xxup, k., xxmaj, schrute, ., xxmaj, why, do, n't, you, introduce, me, to, your, little, friend, ?, [, dwight, immediately, breaks, the, handshake, with, the, redhead, and, turns, to, the, blonde, ], xxmaj, hi, ,, xxmaj, dwight, .]</td>\n",
       "      <td>41</td>\n",
       "    </tr>\n",
       "    <tr>\n",
       "      <th>9515</th>\n",
       "      <td>6</td>\n",
       "      <td>5</td>\n",
       "      <td>29</td>\n",
       "      <td>Andy</td>\n",
       "      <td>False</td>\n",
       "      <td>[xxbos, xxmaj, whoa, ., xxmaj, okay, .]</td>\n",
       "      <td>7</td>\n",
       "    </tr>\n",
       "    <tr>\n",
       "      <th>6360</th>\n",
       "      <td>1</td>\n",
       "      <td>6</td>\n",
       "      <td>40</td>\n",
       "      <td>Toby</td>\n",
       "      <td>True</td>\n",
       "      <td>[xxbos, xxmaj, yeah, ,, me, too, .]</td>\n",
       "      <td>7</td>\n",
       "    </tr>\n",
       "    <tr>\n",
       "      <th>4386</th>\n",
       "      <td>9</td>\n",
       "      <td>10</td>\n",
       "      <td>29</td>\n",
       "      <td>Jim</td>\n",
       "      <td>False</td>\n",
       "      <td>[xxbos, xxmaj, are, you, kidding, me, ?, i, can, literally, scalp, tickets, to, this, .]</td>\n",
       "      <td>15</td>\n",
       "    </tr>\n",
       "    <tr>\n",
       "      <th>...</th>\n",
       "      <td>...</td>\n",
       "      <td>...</td>\n",
       "      <td>...</td>\n",
       "      <td>...</td>\n",
       "      <td>...</td>\n",
       "      <td>...</td>\n",
       "      <td>...</td>\n",
       "    </tr>\n",
       "    <tr>\n",
       "      <th>6152</th>\n",
       "      <td>8</td>\n",
       "      <td>13</td>\n",
       "      <td>16</td>\n",
       "      <td>Toby</td>\n",
       "      <td>False</td>\n",
       "      <td>[xxbos, xxmaj, ernesto, !]</td>\n",
       "      <td>4</td>\n",
       "    </tr>\n",
       "    <tr>\n",
       "      <th>9145</th>\n",
       "      <td>8</td>\n",
       "      <td>4</td>\n",
       "      <td>16</td>\n",
       "      <td>Toby</td>\n",
       "      <td>False</td>\n",
       "      <td>[xxbos, xxmaj, it, 's, a, finicky, car, …]</td>\n",
       "      <td>8</td>\n",
       "    </tr>\n",
       "    <tr>\n",
       "      <th>8069</th>\n",
       "      <td>1</td>\n",
       "      <td>6</td>\n",
       "      <td>12</td>\n",
       "      <td>Toby</td>\n",
       "      <td>False</td>\n",
       "      <td>[xxbos, xxmaj, hey, ,, um, did, you, go, to, uh, ,, xxmaj, bishop, o'hara, ?]</td>\n",
       "      <td>15</td>\n",
       "    </tr>\n",
       "    <tr>\n",
       "      <th>1136</th>\n",
       "      <td>1</td>\n",
       "      <td>2</td>\n",
       "      <td>16</td>\n",
       "      <td>Toby</td>\n",
       "      <td>False</td>\n",
       "      <td>[xxbos, xxmaj, hey, ,, we, 're, not, all, going, to, sit, in, a, circle, xxmaj, indian, style, are, we, ?, [, laughing, ]]</td>\n",
       "      <td>23</td>\n",
       "    </tr>\n",
       "    <tr>\n",
       "      <th>4568</th>\n",
       "      <td>8</td>\n",
       "      <td>23</td>\n",
       "      <td>14</td>\n",
       "      <td>Toby</td>\n",
       "      <td>False</td>\n",
       "      <td>[xxbos, i, like, to, think, xxmaj, lloyd, xxmaj, gross, is, a, no, -, nonsense, guy, who, does, n't, back, down, from, anybody, ., xxmaj, and, he, calls, people, ', kimosabe, ', .]</td>\n",
       "      <td>32</td>\n",
       "    </tr>\n",
       "  </tbody>\n",
       "</table>\n",
       "<p>38735 rows × 7 columns</p>\n",
       "</div>"
      ],
      "text/plain": [
       "      season  episode  scene speaker  deleted  \\\n",
       "9790       5        4     44     Pam    False   \n",
       "221        5       16     22  Dwight    False   \n",
       "9515       6        5     29    Andy    False   \n",
       "6360       1        6     40    Toby     True   \n",
       "4386       9       10     29     Jim    False   \n",
       "...      ...      ...    ...     ...      ...   \n",
       "6152       8       13     16    Toby    False   \n",
       "9145       8        4     16    Toby    False   \n",
       "8069       1        6     12    Toby    False   \n",
       "1136       1        2     16    Toby    False   \n",
       "4568       8       23     14    Toby    False   \n",
       "\n",
       "                                                                                                                                                                                                                                                               text  \\\n",
       "9790                                                                                                                                                                                      [xxbos, xxmaj, if, i, get, you, a, slice, of, pizza, ,, are, we, even, ?]   \n",
       "221   [xxbos, xxmaj, dwight, xxup, k., xxmaj, schrute, ., xxmaj, why, do, n't, you, introduce, me, to, your, little, friend, ?, [, dwight, immediately, breaks, the, handshake, with, the, redhead, and, turns, to, the, blonde, ], xxmaj, hi, ,, xxmaj, dwight, .]   \n",
       "9515                                                                                                                                                                                                                        [xxbos, xxmaj, whoa, ., xxmaj, okay, .]   \n",
       "6360                                                                                                                                                                                                                            [xxbos, xxmaj, yeah, ,, me, too, .]   \n",
       "4386                                                                                                                                                                       [xxbos, xxmaj, are, you, kidding, me, ?, i, can, literally, scalp, tickets, to, this, .]   \n",
       "...                                                                                                                                                                                                                                                             ...   \n",
       "6152                                                                                                                                                                                                                                     [xxbos, xxmaj, ernesto, !]   \n",
       "9145                                                                                                                                                                                                                     [xxbos, xxmaj, it, 's, a, finicky, car, …]   \n",
       "8069                                                                                                                                                                                  [xxbos, xxmaj, hey, ,, um, did, you, go, to, uh, ,, xxmaj, bishop, o'hara, ?]   \n",
       "1136                                                                                                                                     [xxbos, xxmaj, hey, ,, we, 're, not, all, going, to, sit, in, a, circle, xxmaj, indian, style, are, we, ?, [, laughing, ]]   \n",
       "4568                                                                           [xxbos, i, like, to, think, xxmaj, lloyd, xxmaj, gross, is, a, no, -, nonsense, guy, who, does, n't, back, down, from, anybody, ., xxmaj, and, he, calls, people, ', kimosabe, ', .]   \n",
       "\n",
       "      text_length  \n",
       "9790           15  \n",
       "221            41  \n",
       "9515            7  \n",
       "6360            7  \n",
       "4386           15  \n",
       "...           ...  \n",
       "6152            4  \n",
       "9145            8  \n",
       "8069           15  \n",
       "1136           23  \n",
       "4568           32  \n",
       "\n",
       "[38735 rows x 7 columns]"
      ]
     },
     "execution_count": 37,
     "metadata": {},
     "output_type": "execute_result"
    }
   ],
   "source": [
    "max_dialog = df_train['speaker'].value_counts().max()\n",
    "import random\n",
    "\n",
    "dfs_oversampled = [df_train]\n",
    "for _, group in df_train.groupby('speaker'):\n",
    "    rand_mult = random.uniform(0.85, 1.15)\n",
    "    sample_amt_to_max = max_dialog - len(group)\n",
    "    dfs_oversampled.append(group.sample(int(sample_amt_to_max * rand_mult), replace=True))\n",
    "df_train = pd.concat(dfs_oversampled)"
   ]
  },
  {
   "cell_type": "code",
   "execution_count": 38,
   "id": "e7c9be36",
   "metadata": {},
   "outputs": [],
   "source": [
    "dls.train.items = df_train"
   ]
  },
  {
   "cell_type": "code",
   "execution_count": 39,
   "id": "536fb377",
   "metadata": {},
   "outputs": [
    {
     "data": {
      "text/html": [
       "\n",
       "<style>\n",
       "    /* Turns off some styling */\n",
       "    progress {\n",
       "        /* gets rid of default border in Firefox and Opera. */\n",
       "        border: none;\n",
       "        /* Needs to be in here for Safari polyfill so background images work as expected. */\n",
       "        background-size: auto;\n",
       "    }\n",
       "    progress:not([value]), progress:not([value])::-webkit-progress-bar {\n",
       "        background: repeating-linear-gradient(45deg, #7e7e7e, #7e7e7e 10px, #5c5c5c 10px, #5c5c5c 20px);\n",
       "    }\n",
       "    .progress-bar-interrupted, .progress-bar-interrupted::-webkit-progress-bar {\n",
       "        background: #F44336;\n",
       "    }\n",
       "</style>\n"
      ],
      "text/plain": [
       "<IPython.core.display.HTML object>"
      ]
     },
     "metadata": {},
     "output_type": "display_data"
    },
    {
     "data": {
      "text/html": [],
      "text/plain": [
       "<IPython.core.display.HTML object>"
      ]
     },
     "metadata": {},
     "output_type": "display_data"
    },
    {
     "data": {
      "text/plain": [
       "SuggestedLRs(valley=0.015848932787775993)"
      ]
     },
     "execution_count": 39,
     "metadata": {},
     "output_type": "execute_result"
    },
    {
     "data": {
      "image/png": "[encoded data removed]",
      "text/plain": [
       "<Figure size 640x480 with 1 Axes>"
      ]
     },
     "metadata": {},
     "output_type": "display_data"
    }
   ],
   "source": [
    "learner = text_classifier_learner(dls, AWD_LSTM, drop_mult=0.5, metrics=accuracy)\n",
    "learner.lr_find()\n",
    "# learner.fine_tune(10, 1e-2)\n",
    "# suggestedLR = 0.00363"
   ]
  },
  {
   "cell_type": "code",
   "execution_count": 40,
   "id": "3996832d",
   "metadata": {},
   "outputs": [
    {
     "data": {
      "text/plain": [
       "0.0132"
      ]
     },
     "execution_count": 40,
     "metadata": {},
     "output_type": "execute_result"
    }
   ],
   "source": [
    "suggested_lr = 0.0132"
   ]
  },
  {
   "cell_type": "code",
   "execution_count": 41,
   "id": "f0c87dbb",
   "metadata": {},
   "outputs": [
    {
     "data": {
      "text/html": [
       "\n",
       "<style>\n",
       "    /* Turns off some styling */\n",
       "    progress {\n",
       "        /* gets rid of default border in Firefox and Opera. */\n",
       "        border: none;\n",
       "        /* Needs to be in here for Safari polyfill so background images work as expected. */\n",
       "        background-size: auto;\n",
       "    }\n",
       "    progress:not([value]), progress:not([value])::-webkit-progress-bar {\n",
       "        background: repeating-linear-gradient(45deg, #7e7e7e, #7e7e7e 10px, #5c5c5c 10px, #5c5c5c 20px);\n",
       "    }\n",
       "    .progress-bar-interrupted, .progress-bar-interrupted::-webkit-progress-bar {\n",
       "        background: #F44336;\n",
       "    }\n",
       "</style>\n"
      ],
      "text/plain": [
       "<IPython.core.display.HTML object>"
      ]
     },
     "metadata": {},
     "output_type": "display_data"
    },
    {
     "data": {
      "text/html": [
       "<table border=\"1\" class=\"dataframe\">\n",
       "  <thead>\n",
       "    <tr style=\"text-align: left;\">\n",
       "      <th>epoch</th>\n",
       "      <th>train_loss</th>\n",
       "      <th>valid_loss</th>\n",
       "      <th>accuracy</th>\n",
       "      <th>time</th>\n",
       "    </tr>\n",
       "  </thead>\n",
       "  <tbody>\n",
       "    <tr>\n",
       "      <td>0</td>\n",
       "      <td>2.762512</td>\n",
       "      <td>2.587914</td>\n",
       "      <td>0.152500</td>\n",
       "      <td>00:03</td>\n",
       "    </tr>\n",
       "  </tbody>\n",
       "</table>"
      ],
      "text/plain": [
       "<IPython.core.display.HTML object>"
      ]
     },
     "metadata": {},
     "output_type": "display_data"
    },
    {
     "data": {
      "text/html": [
       "\n",
       "<style>\n",
       "    /* Turns off some styling */\n",
       "    progress {\n",
       "        /* gets rid of default border in Firefox and Opera. */\n",
       "        border: none;\n",
       "        /* Needs to be in here for Safari polyfill so background images work as expected. */\n",
       "        background-size: auto;\n",
       "    }\n",
       "    progress:not([value]), progress:not([value])::-webkit-progress-bar {\n",
       "        background: repeating-linear-gradient(45deg, #7e7e7e, #7e7e7e 10px, #5c5c5c 10px, #5c5c5c 20px);\n",
       "    }\n",
       "    .progress-bar-interrupted, .progress-bar-interrupted::-webkit-progress-bar {\n",
       "        background: #F44336;\n",
       "    }\n",
       "</style>\n"
      ],
      "text/plain": [
       "<IPython.core.display.HTML object>"
      ]
     },
     "metadata": {},
     "output_type": "display_data"
    },
    {
     "data": {
      "text/html": [
       "<table border=\"1\" class=\"dataframe\">\n",
       "  <thead>\n",
       "    <tr style=\"text-align: left;\">\n",
       "      <th>epoch</th>\n",
       "      <th>train_loss</th>\n",
       "      <th>valid_loss</th>\n",
       "      <th>accuracy</th>\n",
       "      <th>time</th>\n",
       "    </tr>\n",
       "  </thead>\n",
       "  <tbody>\n",
       "    <tr>\n",
       "      <td>0</td>\n",
       "      <td>2.523221</td>\n",
       "      <td>2.516847</td>\n",
       "      <td>0.220000</td>\n",
       "      <td>00:05</td>\n",
       "    </tr>\n",
       "    <tr>\n",
       "      <td>1</td>\n",
       "      <td>2.489826</td>\n",
       "      <td>2.525592</td>\n",
       "      <td>0.214000</td>\n",
       "      <td>00:05</td>\n",
       "    </tr>\n",
       "    <tr>\n",
       "      <td>2</td>\n",
       "      <td>2.466979</td>\n",
       "      <td>2.524840</td>\n",
       "      <td>0.214500</td>\n",
       "      <td>00:05</td>\n",
       "    </tr>\n",
       "    <tr>\n",
       "      <td>3</td>\n",
       "      <td>2.429484</td>\n",
       "      <td>2.555749</td>\n",
       "      <td>0.188000</td>\n",
       "      <td>00:05</td>\n",
       "    </tr>\n",
       "    <tr>\n",
       "      <td>4</td>\n",
       "      <td>2.381419</td>\n",
       "      <td>2.565664</td>\n",
       "      <td>0.223500</td>\n",
       "      <td>00:05</td>\n",
       "    </tr>\n",
       "    <tr>\n",
       "      <td>5</td>\n",
       "      <td>2.287300</td>\n",
       "      <td>2.608196</td>\n",
       "      <td>0.219000</td>\n",
       "      <td>00:05</td>\n",
       "    </tr>\n",
       "    <tr>\n",
       "      <td>6</td>\n",
       "      <td>2.152138</td>\n",
       "      <td>2.665757</td>\n",
       "      <td>0.223500</td>\n",
       "      <td>00:05</td>\n",
       "    </tr>\n",
       "    <tr>\n",
       "      <td>7</td>\n",
       "      <td>1.943805</td>\n",
       "      <td>2.804038</td>\n",
       "      <td>0.204000</td>\n",
       "      <td>00:05</td>\n",
       "    </tr>\n",
       "    <tr>\n",
       "      <td>8</td>\n",
       "      <td>1.671553</td>\n",
       "      <td>2.978027</td>\n",
       "      <td>0.222500</td>\n",
       "      <td>00:05</td>\n",
       "    </tr>\n",
       "    <tr>\n",
       "      <td>9</td>\n",
       "      <td>1.534485</td>\n",
       "      <td>3.222391</td>\n",
       "      <td>0.213000</td>\n",
       "      <td>00:05</td>\n",
       "    </tr>\n",
       "    <tr>\n",
       "      <td>10</td>\n",
       "      <td>1.241373</td>\n",
       "      <td>3.308758</td>\n",
       "      <td>0.196000</td>\n",
       "      <td>00:05</td>\n",
       "    </tr>\n",
       "    <tr>\n",
       "      <td>11</td>\n",
       "      <td>1.097297</td>\n",
       "      <td>3.647417</td>\n",
       "      <td>0.201000</td>\n",
       "      <td>00:05</td>\n",
       "    </tr>\n",
       "    <tr>\n",
       "      <td>12</td>\n",
       "      <td>0.957888</td>\n",
       "      <td>3.798300</td>\n",
       "      <td>0.193000</td>\n",
       "      <td>00:05</td>\n",
       "    </tr>\n",
       "    <tr>\n",
       "      <td>13</td>\n",
       "      <td>0.778478</td>\n",
       "      <td>3.887990</td>\n",
       "      <td>0.191000</td>\n",
       "      <td>00:05</td>\n",
       "    </tr>\n",
       "    <tr>\n",
       "      <td>14</td>\n",
       "      <td>0.721582</td>\n",
       "      <td>4.049901</td>\n",
       "      <td>0.194500</td>\n",
       "      <td>00:05</td>\n",
       "    </tr>\n",
       "    <tr>\n",
       "      <td>15</td>\n",
       "      <td>0.656585</td>\n",
       "      <td>3.978611</td>\n",
       "      <td>0.198000</td>\n",
       "      <td>00:05</td>\n",
       "    </tr>\n",
       "    <tr>\n",
       "      <td>16</td>\n",
       "      <td>0.653757</td>\n",
       "      <td>4.128901</td>\n",
       "      <td>0.199500</td>\n",
       "      <td>00:05</td>\n",
       "    </tr>\n",
       "    <tr>\n",
       "      <td>17</td>\n",
       "      <td>0.626230</td>\n",
       "      <td>4.145483</td>\n",
       "      <td>0.202000</td>\n",
       "      <td>00:05</td>\n",
       "    </tr>\n",
       "    <tr>\n",
       "      <td>18</td>\n",
       "      <td>0.559272</td>\n",
       "      <td>4.073693</td>\n",
       "      <td>0.202500</td>\n",
       "      <td>00:05</td>\n",
       "    </tr>\n",
       "    <tr>\n",
       "      <td>19</td>\n",
       "      <td>0.560440</td>\n",
       "      <td>4.043748</td>\n",
       "      <td>0.203000</td>\n",
       "      <td>00:05</td>\n",
       "    </tr>\n",
       "  </tbody>\n",
       "</table>"
      ],
      "text/plain": [
       "<IPython.core.display.HTML object>"
      ]
     },
     "metadata": {},
     "output_type": "display_data"
    }
   ],
   "source": [
    "learner.fine_tune(20, suggested_lr)"
   ]
  },
  {
   "cell_type": "code",
   "execution_count": 42,
   "id": "ca555d48",
   "metadata": {},
   "outputs": [
    {
     "data": {
      "text/html": [
       "\n",
       "<style>\n",
       "    /* Turns off some styling */\n",
       "    progress {\n",
       "        /* gets rid of default border in Firefox and Opera. */\n",
       "        border: none;\n",
       "        /* Needs to be in here for Safari polyfill so background images work as expected. */\n",
       "        background-size: auto;\n",
       "    }\n",
       "    progress:not([value]), progress:not([value])::-webkit-progress-bar {\n",
       "        background: repeating-linear-gradient(45deg, #7e7e7e, #7e7e7e 10px, #5c5c5c 10px, #5c5c5c 20px);\n",
       "    }\n",
       "    .progress-bar-interrupted, .progress-bar-interrupted::-webkit-progress-bar {\n",
       "        background: #F44336;\n",
       "    }\n",
       "</style>\n"
      ],
      "text/plain": [
       "<IPython.core.display.HTML object>"
      ]
     },
     "metadata": {},
     "output_type": "display_data"
    },
    {
     "data": {
      "text/html": [],
      "text/plain": [
       "<IPython.core.display.HTML object>"
      ]
     },
     "metadata": {},
     "output_type": "display_data"
    },
    {
     "data": {
      "text/html": [
       "\n",
       "<style>\n",
       "    /* Turns off some styling */\n",
       "    progress {\n",
       "        /* gets rid of default border in Firefox and Opera. */\n",
       "        border: none;\n",
       "        /* Needs to be in here for Safari polyfill so background images work as expected. */\n",
       "        background-size: auto;\n",
       "    }\n",
       "    progress:not([value]), progress:not([value])::-webkit-progress-bar {\n",
       "        background: repeating-linear-gradient(45deg, #7e7e7e, #7e7e7e 10px, #5c5c5c 10px, #5c5c5c 20px);\n",
       "    }\n",
       "    .progress-bar-interrupted, .progress-bar-interrupted::-webkit-progress-bar {\n",
       "        background: #F44336;\n",
       "    }\n",
       "</style>\n"
      ],
      "text/plain": [
       "<IPython.core.display.HTML object>"
      ]
     },
     "metadata": {},
     "output_type": "display_data"
    },
    {
     "data": {
      "text/html": [],
      "text/plain": [
       "<IPython.core.display.HTML object>"
      ]
     },
     "metadata": {},
     "output_type": "display_data"
    },
    {
     "data": {
      "image/png": "[encoded data removed]",
      "text/plain": [
       "<Figure size 640x480 with 1 Axes>"
      ]
     },
     "metadata": {},
     "output_type": "display_data"
    }
   ],
   "source": [
    "interp = ClassificationInterpretation.from_learner(learner)\n",
    "interp.plot_confusion_matrix()"
   ]
  },
  {
   "cell_type": "code",
   "execution_count": 43,
   "id": "dc5570a2",
   "metadata": {},
   "outputs": [
    {
     "data": {
      "text/html": [
       "\n",
       "<style>\n",
       "    /* Turns off some styling */\n",
       "    progress {\n",
       "        /* gets rid of default border in Firefox and Opera. */\n",
       "        border: none;\n",
       "        /* Needs to be in here for Safari polyfill so background images work as expected. */\n",
       "        background-size: auto;\n",
       "    }\n",
       "    progress:not([value]), progress:not([value])::-webkit-progress-bar {\n",
       "        background: repeating-linear-gradient(45deg, #7e7e7e, #7e7e7e 10px, #5c5c5c 10px, #5c5c5c 20px);\n",
       "    }\n",
       "    .progress-bar-interrupted, .progress-bar-interrupted::-webkit-progress-bar {\n",
       "        background: #F44336;\n",
       "    }\n",
       "</style>\n"
      ],
      "text/plain": [
       "<IPython.core.display.HTML object>"
      ]
     },
     "metadata": {},
     "output_type": "display_data"
    },
    {
     "data": {
      "text/html": [
       "<table border=\"1\" class=\"dataframe\">\n",
       "  <thead>\n",
       "    <tr style=\"text-align: left;\">\n",
       "      <th>epoch</th>\n",
       "      <th>train_loss</th>\n",
       "      <th>valid_loss</th>\n",
       "      <th>accuracy</th>\n",
       "      <th>time</th>\n",
       "    </tr>\n",
       "  </thead>\n",
       "  <tbody>\n",
       "    <tr>\n",
       "      <td>0</td>\n",
       "      <td>0.622481</td>\n",
       "      <td>4.387259</td>\n",
       "      <td>0.203000</td>\n",
       "      <td>00:03</td>\n",
       "    </tr>\n",
       "  </tbody>\n",
       "</table>"
      ],
      "text/plain": [
       "<IPython.core.display.HTML object>"
      ]
     },
     "metadata": {},
     "output_type": "display_data"
    },
    {
     "data": {
      "text/html": [
       "\n",
       "<style>\n",
       "    /* Turns off some styling */\n",
       "    progress {\n",
       "        /* gets rid of default border in Firefox and Opera. */\n",
       "        border: none;\n",
       "        /* Needs to be in here for Safari polyfill so background images work as expected. */\n",
       "        background-size: auto;\n",
       "    }\n",
       "    progress:not([value]), progress:not([value])::-webkit-progress-bar {\n",
       "        background: repeating-linear-gradient(45deg, #7e7e7e, #7e7e7e 10px, #5c5c5c 10px, #5c5c5c 20px);\n",
       "    }\n",
       "    .progress-bar-interrupted, .progress-bar-interrupted::-webkit-progress-bar {\n",
       "        background: #F44336;\n",
       "    }\n",
       "</style>\n"
      ],
      "text/plain": [
       "<IPython.core.display.HTML object>"
      ]
     },
     "metadata": {},
     "output_type": "display_data"
    },
    {
     "data": {
      "text/html": [
       "<table border=\"1\" class=\"dataframe\">\n",
       "  <thead>\n",
       "    <tr style=\"text-align: left;\">\n",
       "      <th>epoch</th>\n",
       "      <th>train_loss</th>\n",
       "      <th>valid_loss</th>\n",
       "      <th>accuracy</th>\n",
       "      <th>time</th>\n",
       "    </tr>\n",
       "  </thead>\n",
       "  <tbody>\n",
       "    <tr>\n",
       "      <td>0</td>\n",
       "      <td>0.607368</td>\n",
       "      <td>4.383348</td>\n",
       "      <td>0.192500</td>\n",
       "      <td>00:05</td>\n",
       "    </tr>\n",
       "    <tr>\n",
       "      <td>1</td>\n",
       "      <td>0.637636</td>\n",
       "      <td>4.385289</td>\n",
       "      <td>0.208000</td>\n",
       "      <td>00:05</td>\n",
       "    </tr>\n",
       "    <tr>\n",
       "      <td>2</td>\n",
       "      <td>0.754783</td>\n",
       "      <td>4.177393</td>\n",
       "      <td>0.193000</td>\n",
       "      <td>00:05</td>\n",
       "    </tr>\n",
       "    <tr>\n",
       "      <td>3</td>\n",
       "      <td>0.899087</td>\n",
       "      <td>4.009594</td>\n",
       "      <td>0.199000</td>\n",
       "      <td>00:05</td>\n",
       "    </tr>\n",
       "    <tr>\n",
       "      <td>4</td>\n",
       "      <td>0.823260</td>\n",
       "      <td>4.118748</td>\n",
       "      <td>0.211000</td>\n",
       "      <td>00:05</td>\n",
       "    </tr>\n",
       "    <tr>\n",
       "      <td>5</td>\n",
       "      <td>0.634741</td>\n",
       "      <td>4.315139</td>\n",
       "      <td>0.199000</td>\n",
       "      <td>00:05</td>\n",
       "    </tr>\n",
       "    <tr>\n",
       "      <td>6</td>\n",
       "      <td>0.543141</td>\n",
       "      <td>4.227736</td>\n",
       "      <td>0.193500</td>\n",
       "      <td>00:05</td>\n",
       "    </tr>\n",
       "    <tr>\n",
       "      <td>7</td>\n",
       "      <td>0.543953</td>\n",
       "      <td>4.239326</td>\n",
       "      <td>0.201000</td>\n",
       "      <td>00:05</td>\n",
       "    </tr>\n",
       "    <tr>\n",
       "      <td>8</td>\n",
       "      <td>0.408880</td>\n",
       "      <td>4.266242</td>\n",
       "      <td>0.203500</td>\n",
       "      <td>00:05</td>\n",
       "    </tr>\n",
       "    <tr>\n",
       "      <td>9</td>\n",
       "      <td>0.437515</td>\n",
       "      <td>4.356253</td>\n",
       "      <td>0.200500</td>\n",
       "      <td>00:05</td>\n",
       "    </tr>\n",
       "  </tbody>\n",
       "</table>"
      ],
      "text/plain": [
       "<IPython.core.display.HTML object>"
      ]
     },
     "metadata": {},
     "output_type": "display_data"
    }
   ],
   "source": [
    "learner.fine_tune(10, suggested_lr)"
   ]
  },
  {
   "cell_type": "code",
   "execution_count": 44,
   "id": "4c38f41a",
   "metadata": {},
   "outputs": [
    {
     "data": {
      "text/html": [
       "\n",
       "<style>\n",
       "    /* Turns off some styling */\n",
       "    progress {\n",
       "        /* gets rid of default border in Firefox and Opera. */\n",
       "        border: none;\n",
       "        /* Needs to be in here for Safari polyfill so background images work as expected. */\n",
       "        background-size: auto;\n",
       "    }\n",
       "    progress:not([value]), progress:not([value])::-webkit-progress-bar {\n",
       "        background: repeating-linear-gradient(45deg, #7e7e7e, #7e7e7e 10px, #5c5c5c 10px, #5c5c5c 20px);\n",
       "    }\n",
       "    .progress-bar-interrupted, .progress-bar-interrupted::-webkit-progress-bar {\n",
       "        background: #F44336;\n",
       "    }\n",
       "</style>\n"
      ],
      "text/plain": [
       "<IPython.core.display.HTML object>"
      ]
     },
     "metadata": {},
     "output_type": "display_data"
    },
    {
     "data": {
      "text/html": [],
      "text/plain": [
       "<IPython.core.display.HTML object>"
      ]
     },
     "metadata": {},
     "output_type": "display_data"
    },
    {
     "data": {
      "image/png": "[encoded data removed]",
      "text/plain": [
       "<Figure size 640x480 with 1 Axes>"
      ]
     },
     "metadata": {},
     "output_type": "display_data"
    }
   ],
   "source": [
    "interp.plot_confusion_matrix()"
   ]
  },
  {
   "cell_type": "code",
   "execution_count": 45,
   "id": "4eb77107",
   "metadata": {},
   "outputs": [
    {
     "data": {
      "text/html": [
       "<table border=\"1\" class=\"dataframe\">\n",
       "  <thead>\n",
       "    <tr style=\"text-align: right;\">\n",
       "      <th></th>\n",
       "      <th>text</th>\n",
       "      <th>category</th>\n",
       "    </tr>\n",
       "  </thead>\n",
       "  <tbody>\n",
       "    <tr>\n",
       "      <th>0</th>\n",
       "      <td>xxbos xxmaj ah , look at me . xxmaj i 'm huge in xxunk - xxunk . xxmaj xxunk xxunk , xxmaj michael xxmaj scott . xxmaj not comedy xxunk here , which is fine because not having a sense of humor is just as fine as having one . xxmaj questions ? xxmaj comment ? xxmaj ca n't see you , but i know that you 're not breathing . i know you 're breathing . xxmaj is this on ? xxmaj hello ? ' well , is n't that … xxmaj well , is n't that special ? ' ' xxunk - o xxunk . ' xxmaj bill xxmaj cosby . i think xxmaj bill xxmaj cosby said it best when he talked about his brother and all of the fun he … xxmaj all the great things they did together as kids . xxmaj and there was</td>\n",
       "      <td>Michael</td>\n",
       "    </tr>\n",
       "    <tr>\n",
       "      <th>1</th>\n",
       "      <td>xxbos xxmaj look , i am not a xxunk . i ca n't … i ca n't dress like xxmaj donald xxmaj xxunk dresses . i have to stay within the xxunk of my budget . i ca n't shop at a fancy xxmaj xxunk xxunk . i buy my xxunk the old fashioned way . i buy them from discount stores … or on ebay . xxmaj and when i found out that xxmaj xxunk was having a midnight xxunk sale , i ran , not walked , as per the instructions on the xxunk . xxmaj and i got there , and when the doors opened , all of these women ran to this one xxunk . xxmaj and i did too . xxmaj and i grabbed this suit . xxmaj and a woman , sort of a , i do n't know , xxmaj xxunk xxmaj elliot</td>\n",
       "      <td>Michael</td>\n",
       "    </tr>\n",
       "    <tr>\n",
       "      <th>2</th>\n",
       "      <td>xxbos xxmaj oh ! xxmaj seven new comments . ' the guy at 0:19 is hawt ! ' [ typing ] ' hi xxmaj xxunk , it 's me , xxmaj andy . xxmaj the guy from 0:19 , xxmaj i 'm glad that you enjoyed my work in that xxunk . i really enjoyed your comment , going to read some more comments now . xxmaj have a great xxunk ] ' he 's not hawt , he 's gay . ' [ typing ] ' dear xxunk , it 's me , xxmaj andy . xxmaj nice name . xxmaj not ! xxmaj guess what ? xxmaj i 'm not gay ! xxmaj so you are an xxup idiot . xxmaj and i am hawt , according to people on this xxunk who have a brain . xxmaj never comment on this page ever again . ' [</td>\n",
       "      <td>Andy</td>\n",
       "    </tr>\n",
       "    <tr>\n",
       "      <th>3</th>\n",
       "      <td>xxbos [ clears throat and stands ] xxmaj ladies and gentlemen of … the … table . i would just like to say what a joy it is for me to be here today , but frankly , at my age , it 's a joy to be anywhere [ no one laughs ] . xxmaj i 'm only forty - four , so xxmaj i 'm not old , and i guess that does n't really play . xxmaj but the point is , i have a sense of humor . xxmaj and i xxunk you all to have a sense of humor as well . xxmaj jan , xxmaj david , my wonderful girlfriend [ xxunk xxmaj jan , then turns to xxmaj david xxmaj wallace ] , my gorgeous company … xxmaj why do n't we all just take a big deep breath … and just relax</td>\n",
       "      <td>Michael</td>\n",
       "    </tr>\n",
       "    <tr>\n",
       "      <th>4</th>\n",
       "      <td>xxbos xxmaj no , sit down . ' xxunk . ' xxmaj well , the xxmaj christmas shopping season is certainly a busy one , back - to - school is , as well , and in early summer it seems to slow down a bit , but shopping is also xxunk . xxmaj the xxunk cycle xxunk every choice a woman makes . xxmaj you see , during xxunk , a woman 's only goal is to get pregnant , and during xxunk , she is sad that she has failed . xxmaj and how does the woman xxunk herself ? xxmaj shopping . xxmaj shopping . xxmaj just- xxmaj jim , could you xxunk me some ice chips ? xxmaj thank you . xxmaj just gon na … take a … xxunk pause at this point . [ jim gives xxmaj dwight a bowl of ice chips ]</td>\n",
       "      <td>Dwight</td>\n",
       "    </tr>\n",
       "    <tr>\n",
       "      <th>5</th>\n",
       "      <td>xxbos i understand . xxmaj it 's in a blind spot because xxmaj i 'm trained in several martial arts and one of them , uh , xxunk , uh , an awareness that the xxunk bring , uh , of anything on all sides of you . xxmaj it could be behind you or whatever . xxmaj this is directly in a blind spot , so xxmaj i 'm trained to xxunk xxunk to something right above my head . [ new take ] xxmaj this now i have an eye on . xxmaj you see , it 's on my xxunk and if i needed to block it , attack it , stop it somehow . [ does a martial arts move with his hands ] i could come right out . i mean , i know you 're doing your job , but … xxmaj documentary xxmaj</td>\n",
       "      <td>Dwight</td>\n",
       "    </tr>\n",
       "    <tr>\n",
       "      <th>6</th>\n",
       "      <td>xxbos xxmaj this is a little character i like to do [ places a green turban with a yellow xxunk on his head ] , it is , uh , xxunk based on xxmaj xxunk , one of xxmaj xxunk 's classic xxunk . [ puts an xxunk to his head ] xxmaj here we go . xxmaj the xxup xxunk , the xxup ira , and the hot dog stand behind the warehouse . [ tears open xxunk and pulls out card ] ' name three businesses that have a better health care plans than xxmaj dunder xxmaj mifflin . ' xxmaj here 's the problem . xxmaj there 's no open bar because of xxmaj jan and it 's the reason why comedy xxunk have a two drink xxunk . xxmaj it 'll be fine , i just … wish people were going to be drunk .</td>\n",
       "      <td>Michael</td>\n",
       "    </tr>\n",
       "    <tr>\n",
       "      <th>7</th>\n",
       "      <td>xxbos xxup ok , who 's hungry [ kevin starts to put hot dog in mouth ] xxmaj no , no , no . xxmaj do not touch the food . xxmaj please . xxmaj not yet . xxmaj that is our next event . a hot dog eating contest . [ sighs at the table ] xxmaj for those of you who are xxunk , the world record is xxunk and one half hot dogs . xxmaj wow ! xxmaj and you know what ? i personally have cooked up enough so each and every one of you could break that record . xxmaj so shoot for the stars , xxup ok ? xxmaj alright , the team that eats the most hot dogs in ten minutes will be xxunk the winner . xxmaj on you mark . xxmaj get set .</td>\n",
       "      <td>Michael</td>\n",
       "    </tr>\n",
       "    <tr>\n",
       "      <th>8</th>\n",
       "      <td>xxbos xxup xxunk . xxmaj too much information . i used to say , ' do n't go there , ' but that is so lame now . xxmaj or , ' you go , girl . ' xxmaj or … xxmaj um , when did ' where 's the beef ? ' xxmaj that was , like , a long , long time ago . xxmaj it 's funny how the shelf life of these things , like how long they last , like , ' too much information ' probably came on the scene … i mean , i did n't hear it till , like , this month , so it 's pretty recently . xxmaj um , but you know , they 're xxunk good for , like , no more than five or six years .</td>\n",
       "      <td>Michael</td>\n",
       "    </tr>\n",
       "  </tbody>\n",
       "</table>"
      ],
      "text/plain": [
       "<IPython.core.display.HTML object>"
      ]
     },
     "metadata": {},
     "output_type": "display_data"
    }
   ],
   "source": [
    "dls.show_batch()"
   ]
  },
  {
   "cell_type": "code",
   "execution_count": 55,
   "id": "5b3c407a",
   "metadata": {},
   "outputs": [
    {
     "data": {
      "text/html": [
       "\n",
       "<style>\n",
       "    /* Turns off some styling */\n",
       "    progress {\n",
       "        /* gets rid of default border in Firefox and Opera. */\n",
       "        border: none;\n",
       "        /* Needs to be in here for Safari polyfill so background images work as expected. */\n",
       "        background-size: auto;\n",
       "    }\n",
       "    progress:not([value]), progress:not([value])::-webkit-progress-bar {\n",
       "        background: repeating-linear-gradient(45deg, #7e7e7e, #7e7e7e 10px, #5c5c5c 10px, #5c5c5c 20px);\n",
       "    }\n",
       "    .progress-bar-interrupted, .progress-bar-interrupted::-webkit-progress-bar {\n",
       "        background: #F44336;\n",
       "    }\n",
       "</style>\n"
      ],
      "text/plain": [
       "<IPython.core.display.HTML object>"
      ]
     },
     "metadata": {},
     "output_type": "display_data"
    },
    {
     "data": {
      "text/html": [],
      "text/plain": [
       "<IPython.core.display.HTML object>"
      ]
     },
     "metadata": {},
     "output_type": "display_data"
    },
    {
     "data": {
      "text/plain": [
       "('Holly',\n",
       " tensor(7),\n",
       " tensor([0.0660, 0.0673, 0.0031, 0.0272, 0.0275, 0.0315, 0.0087, 0.3273, 0.0501,\n",
       "         0.0072, 0.0369, 0.0404, 0.0013, 0.0812, 0.0382, 0.1285, 0.0121, 0.0006,\n",
       "         0.0063, 0.0259, 0.0128]))"
      ]
     },
     "execution_count": 55,
     "metadata": {},
     "output_type": "execute_result"
    }
   ],
   "source": [
    "learner.predict(\"on the beet farm\")"
   ]
  },
  {
   "cell_type": "code",
   "execution_count": 47,
   "id": "d37bd30b",
   "metadata": {},
   "outputs": [
    {
     "data": {
      "text/html": [
       "\n",
       "<style>\n",
       "    /* Turns off some styling */\n",
       "    progress {\n",
       "        /* gets rid of default border in Firefox and Opera. */\n",
       "        border: none;\n",
       "        /* Needs to be in here for Safari polyfill so background images work as expected. */\n",
       "        background-size: auto;\n",
       "    }\n",
       "    progress:not([value]), progress:not([value])::-webkit-progress-bar {\n",
       "        background: repeating-linear-gradient(45deg, #7e7e7e, #7e7e7e 10px, #5c5c5c 10px, #5c5c5c 20px);\n",
       "    }\n",
       "    .progress-bar-interrupted, .progress-bar-interrupted::-webkit-progress-bar {\n",
       "        background: #F44336;\n",
       "    }\n",
       "</style>\n"
      ],
      "text/plain": [
       "<IPython.core.display.HTML object>"
      ]
     },
     "metadata": {},
     "output_type": "display_data"
    },
    {
     "data": {
      "text/html": [],
      "text/plain": [
       "<IPython.core.display.HTML object>"
      ]
     },
     "metadata": {},
     "output_type": "display_data"
    },
    {
     "data": {
      "text/html": [
       "<table border=\"1\" class=\"dataframe\">\n",
       "  <thead>\n",
       "    <tr style=\"text-align: right;\">\n",
       "      <th></th>\n",
       "      <th>text</th>\n",
       "      <th>category</th>\n",
       "      <th>category_</th>\n",
       "    </tr>\n",
       "  </thead>\n",
       "  <tbody>\n",
       "    <tr>\n",
       "      <th>0</th>\n",
       "      <td>xxbos xxmaj aw , thanks , xxmaj pete . xxmaj that was really nice . i just want to say how happy we are that all of you are here tonight . xxmaj and i want to especially thank those of you who xxunk from far away to be here with us tonight … especially the xxmaj xxunk xxunk who , obviously , ca n't take a hint . [ laughter ] xxmaj four years ago , i was just a guy who had a crush on a girl who had a boyfriend . xxmaj and i had to do the hardest thing that xxmaj i 've ever had to do … which was just to wait . xxmaj uh , do n't get me wrong . i xxunk with her . xxmaj pam , i can now admit in front of my friends and family that i do know</td>\n",
       "      <td>Jim</td>\n",
       "      <td>Michael</td>\n",
       "    </tr>\n",
       "    <tr>\n",
       "      <th>1</th>\n",
       "      <td>xxbos [ andy plus two xxunk on the phone singing ] xxmaj if you change your mind , xxmaj i 'll be first in line . xxmaj honey , xxmaj i 'm still free , take a chance on me . xxmaj if you need me let me know , gon na be around . xxmaj if you got no place to go , if you 're feeling down . xxmaj if your all alone when the pretty xxunk have xxunk , honey xxmaj i 'm still free , take a chance on me . xxmaj gon na do my very best , and that ai n't no lie , if you put me to the test , if you let me try . xxmaj take a chance on me , that 's all i ask of you xxmaj angela . xxmaj take a chance on me .</td>\n",
       "      <td>Andy</td>\n",
       "      <td>Andy</td>\n",
       "    </tr>\n",
       "    <tr>\n",
       "      <th>2</th>\n",
       "      <td>xxbos [ video xxunk ] xxmaj and finally , xxmaj pam xxmaj beesly . xxmaj look at her . xxmaj look how cute . xxmaj not bad at all . xxmaj as the receptionist , xxmaj pam is truly the xxunk to our world . xxmaj well , i hope this gave you a little taste of what life is like here at xxmaj dunder xxmaj mifflin , xxmaj scranton . xxmaj what it 's like to walk a xxunk in xxmaj oscar 's shoes . xxmaj or try on xxmaj phyllis ' pants . xxmaj maybe even one of xxmaj angela 's famous xxunk . xxmaj and you 'll know , that you 're home . [ video says , ' great xxmaj scott ! ' ]</td>\n",
       "      <td>Michael</td>\n",
       "      <td>Michael</td>\n",
       "    </tr>\n",
       "    <tr>\n",
       "      <th>3</th>\n",
       "      <td>xxbos xxup ok , xxup ok , xxmaj fine . xxmaj yeah , actually , perfect . xxmaj perfect . xxmaj you know what ? xxmaj there 's another side to this place , gentleman . xxmaj and i know we all love our xxunk jobs and our fun , exciting office . xxmaj but do you realize that xxunk us , there 's another world . xxmaj the warehouse world . a world that is xxunk with xxunk and dirt and life . xxmaj life . xxmaj the xxunk of the office . xxmaj these guys are down there , they are real men doing real man 's work . xxmaj we are going to learn how a warehouse works .</td>\n",
       "      <td>Michael</td>\n",
       "      <td>Michael</td>\n",
       "    </tr>\n",
       "    <tr>\n",
       "      <th>4</th>\n",
       "      <td>xxbos [ leaving a message ] xxmaj hey , xxmaj jan . xxmaj it 's me , xxmaj michael . xxmaj i 'm just calling to say that i think we need a little break , xxunk . xxmaj and , uh , i know everybody says this , but xxup i - i wanna remain friends . xxmaj or at least business xxunk who get along . xxmaj oh , just so you know , it 's not me , it 's you . [ jan walks in ] xxup ok , buddy . xxmaj somebody just walked in . i have to go . xxmaj um , so xxmaj i 'll talk to you later .</td>\n",
       "      <td>Michael</td>\n",
       "      <td>Michael</td>\n",
       "    </tr>\n",
       "    <tr>\n",
       "      <th>5</th>\n",
       "      <td>xxbos xxmaj hey , hey , hey , hey , hey , hey , hey , hey xxup it guy . xxmaj here 's the story , xxunk . xxmaj none of us have spent a lot of time getting to know you , okay ? xxmaj we liked the last guy , xxmaj xxunk , because he kept to himself , and we also thought he might have been a xxunk . xxmaj you know what , xxmaj i 'm going to leave you with one other thought . xxmaj xxunk city kids use computers for two things , games and porn . xxmaj so good luck wasting your life , xxunk .</td>\n",
       "      <td>Dwight</td>\n",
       "      <td>Michael</td>\n",
       "    </tr>\n",
       "    <tr>\n",
       "      <th>6</th>\n",
       "      <td>xxbos i do n't xxunk justice often . xxmaj i 'm not like xxmaj angela , who calls a lawyer every time someone watches a xxunk video of animals doing it . xxmaj but , someone should get fired over this , right ? xxmaj val 's no help . xxmaj andy 's gone . xxmaj jim 's out . i just feel like xxmaj i 'm on my own here . [ boom microphone bumps her head , she smiles ] i mean , xxup ok , not completely on my own . xxmaj but , in terms of people who can do something . xxmaj thank you , xxmaj brian .</td>\n",
       "      <td>Pam</td>\n",
       "      <td>Dwight</td>\n",
       "    </tr>\n",
       "    <tr>\n",
       "      <th>7</th>\n",
       "      <td>xxbos xxmaj it 's true . xxmaj i 'm having a party . xxmaj i 've got three xxunk of xxunk beer , a karaoke machine , and i did n't invite xxmaj michael . xxmaj so three xxunk for a great party . xxmaj and it 's nothing personal , i just think that if he were there , people would n't be able to relax , and you know , have fun , and my xxunk wants to meet everybody . xxmaj because xxmaj i 'm pretty sure he thinks that xxmaj i 'm making xxmaj dwight up . [ sighs ] xxmaj he is very real .</td>\n",
       "      <td>Jim</td>\n",
       "      <td>Oscar</td>\n",
       "    </tr>\n",
       "    <tr>\n",
       "      <th>8</th>\n",
       "      <td>xxbos xxmaj could i count myself down please , xxmaj dwight . xxmaj three , two , one . xxmaj hi . xxmaj i 'm xxmaj michael xxmaj scott . xxmaj i 'm in charge of xxmaj dunder xxmaj mifflin xxmaj paper xxmaj products here in xxmaj scranton , xxmaj pennsylvania but xxmaj i 'm also the founder of xxmaj diversity xxmaj tomorrow , because today is almost over . xxmaj xxunk xxmaj xxunk once said that , ' if you 're a xxunk , i will attack you with the xxmaj xxunk . ' xxmaj and those are the xxunk that i carry with me in the workplace .</td>\n",
       "      <td>Michael</td>\n",
       "      <td>Michael</td>\n",
       "    </tr>\n",
       "  </tbody>\n",
       "</table>"
      ],
      "text/plain": [
       "<IPython.core.display.HTML object>"
      ]
     },
     "metadata": {},
     "output_type": "display_data"
    }
   ],
   "source": [
    "learner.show_results()"
   ]
  },
  {
   "cell_type": "code",
   "execution_count": 48,
   "id": "f7bdf1d2",
   "metadata": {},
   "outputs": [
    {
     "data": {
      "text/html": [
       "\n",
       "<style>\n",
       "    /* Turns off some styling */\n",
       "    progress {\n",
       "        /* gets rid of default border in Firefox and Opera. */\n",
       "        border: none;\n",
       "        /* Needs to be in here for Safari polyfill so background images work as expected. */\n",
       "        background-size: auto;\n",
       "    }\n",
       "    progress:not([value]), progress:not([value])::-webkit-progress-bar {\n",
       "        background: repeating-linear-gradient(45deg, #7e7e7e, #7e7e7e 10px, #5c5c5c 10px, #5c5c5c 20px);\n",
       "    }\n",
       "    .progress-bar-interrupted, .progress-bar-interrupted::-webkit-progress-bar {\n",
       "        background: #F44336;\n",
       "    }\n",
       "</style>\n"
      ],
      "text/plain": [
       "<IPython.core.display.HTML object>"
      ]
     },
     "metadata": {},
     "output_type": "display_data"
    },
    {
     "data": {
      "text/html": [],
      "text/plain": [
       "<IPython.core.display.HTML object>"
      ]
     },
     "metadata": {},
     "output_type": "display_data"
    },
    {
     "data": {
      "text/plain": [
       "('Michael',\n",
       " tensor(13),\n",
       " tensor([1.9945e-05, 4.9462e-06, 5.3716e-04, 4.3246e-05, 2.1276e-04, 1.3596e-05,\n",
       "         6.4641e-05, 1.4724e-05, 2.2408e-04, 1.9690e-03, 2.2156e-04, 7.1812e-06,\n",
       "         2.0497e-05, 9.8770e-01, 8.5815e-03, 1.9998e-05, 3.7338e-05, 1.7086e-04,\n",
       "         1.0249e-04, 7.6711e-06, 3.0421e-05]))"
      ]
     },
     "execution_count": 48,
     "metadata": {},
     "output_type": "execute_result"
    }
   ],
   "source": [
    "learner.predict(\"hes totally qualified, and smart, everyone loves him\")"
   ]
  },
  {
   "cell_type": "code",
   "execution_count": 36,
   "id": "f493a348",
   "metadata": {},
   "outputs": [
    {
     "data": {
      "text/plain": [
       "Path('models/30epoch_15000_lines.pth')"
      ]
     },
     "execution_count": 36,
     "metadata": {},
     "output_type": "execute_result"
    }
   ],
   "source": [
    "# learner.save('30epoch_15000_lines')"
   ]
  },
  {
   "cell_type": "code",
   "execution_count": null,
   "id": "c8c581d9",
   "metadata": {},
   "outputs": [],
   "source": []
  }
 ],
 "metadata": {
  "kernelspec": {
   "display_name": "Python 3 (ipykernel)",
   "language": "python",
   "name": "python3"
  },
  "language_info": {
   "codemirror_mode": {
    "name": "ipython",
    "version": 3
   },
   "file_extension": ".py",
   "mimetype": "text/x-python",
   "name": "python",
   "nbconvert_exporter": "python",
   "pygments_lexer": "ipython3",
   "version": "3.10.9"
  }
 },
 "nbformat": 4,
 "nbformat_minor": 5
}
